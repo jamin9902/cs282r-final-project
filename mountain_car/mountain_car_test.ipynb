{
 "cells": [
  {
   "cell_type": "code",
   "execution_count": 1,
   "id": "9d391360",
   "metadata": {},
   "outputs": [
    {
     "name": "stderr",
     "output_type": "stream",
     "text": [
      "2023-11-28 01:13:47.152415: I tensorflow/core/platform/cpu_feature_guard.cc:182] This TensorFlow binary is optimized to use available CPU instructions in performance-critical operations.\n",
      "To enable the following instructions: AVX2 AVX512F AVX512_VNNI FMA, in other operations, rebuild TensorFlow with the appropriate compiler flags.\n"
     ]
    }
   ],
   "source": [
    "import gymnasium as gym\n",
    "import numpy as np\n",
    "import tensorflow as tf\n",
    "\n",
    "import bc as BC\n",
    "import trajectories as T\n",
    "import suboptimality as S\n",
    "import evaluation as E"
   ]
  },
  {
   "cell_type": "markdown",
   "id": "de615cdb",
   "metadata": {},
   "source": [
    "### Load and Augment Trajectories"
   ]
  },
  {
   "cell_type": "code",
   "execution_count": 2,
   "id": "39e0c2be",
   "metadata": {},
   "outputs": [],
   "source": [
    "trajectories = T.discretize_trajectories(T.trajectories)"
   ]
  },
  {
   "cell_type": "code",
   "execution_count": 3,
   "id": "d5776fab",
   "metadata": {},
   "outputs": [],
   "source": [
    "env = gym.make('MountainCar-v0')"
   ]
  },
  {
   "cell_type": "code",
   "execution_count": 4,
   "id": "5d1433e4",
   "metadata": {},
   "outputs": [],
   "source": [
    "observational_ambiguity_trajectories = []\n",
    "for traj in trajectories:\n",
    "    observational_ambiguity_trajectories.append(S.observation_ambiguity(traj, env, 0.2))"
   ]
  },
  {
   "cell_type": "code",
   "execution_count": 5,
   "id": "5a205ce4",
   "metadata": {},
   "outputs": [],
   "source": [
    "action_ambiguity_trajectories = []\n",
    "for traj in trajectories:\n",
    "    action_ambiguity_trajectories.append(S.action_ambiguity(traj, env, 0.2))"
   ]
  },
  {
   "cell_type": "code",
   "execution_count": 6,
   "id": "408950a6",
   "metadata": {},
   "outputs": [],
   "source": [
    "target_states = [(3, 5), (7, 7), (8, 8), (12, 11), (15, 10)]\n",
    "\n",
    "static_occlusion_trajectories = []\n",
    "for traj in trajectories:\n",
    "    static_occlusion_trajectories.append(S.static_occlusion(traj, target_states))"
   ]
  },
  {
   "cell_type": "code",
   "execution_count": 7,
   "id": "709ea5d3",
   "metadata": {},
   "outputs": [],
   "source": [
    "dynamic_occlusion_trajectories = []\n",
    "for traj in trajectories:\n",
    "    dynamic_occlusion_trajectories.append(S.dynamic_occlusion(traj, 0.2))"
   ]
  },
  {
   "cell_type": "code",
   "execution_count": 8,
   "id": "6be446c2",
   "metadata": {},
   "outputs": [],
   "source": [
    "suboptimal_trajectories = [observational_ambiguity_trajectories,\n",
    "                           action_ambiguity_trajectories,\n",
    "                           static_occlusion_trajectories,\n",
    "                           dynamic_occlusion_trajectories]\n",
    "\n",
    "converted_trajectories = []\n",
    "for i in suboptimal_trajectories:\n",
    "    converted_trajectories.append(BC.convert_trajectories(i))"
   ]
  },
  {
   "cell_type": "markdown",
   "id": "cbdbc2f4",
   "metadata": {},
   "source": [
    "### Train Policies"
   ]
  },
  {
   "cell_type": "code",
   "execution_count": 9,
   "id": "64364997",
   "metadata": {},
   "outputs": [
    {
     "name": "stdout",
     "output_type": "stream",
     "text": [
      "Epoch 1/5\n",
      "76/76 [==============================] - 1s 2ms/step - loss: 0.7815 - accuracy: 0.7179\n",
      "Epoch 2/5\n",
      "76/76 [==============================] - 0s 2ms/step - loss: 0.5699 - accuracy: 0.8224\n",
      "Epoch 3/5\n",
      "76/76 [==============================] - 0s 2ms/step - loss: 0.5610 - accuracy: 0.8234\n",
      "Epoch 4/5\n",
      "76/76 [==============================] - 0s 2ms/step - loss: 0.5581 - accuracy: 0.8235\n",
      "Epoch 5/5\n",
      "76/76 [==============================] - 0s 2ms/step - loss: 0.5573 - accuracy: 0.8239\n",
      "302/302 [==============================] - 1s 1ms/step - loss: 0.5541 - accuracy: 0.8239\n",
      "Test Loss: [0.5540763735771179, 0.823913037776947]\n",
      "9/9 [==============================] - 0s 2ms/step\n",
      "Epoch 1/5\n",
      "76/76 [==============================] - 1s 2ms/step - loss: 0.7447 - accuracy: 0.7374\n",
      "Epoch 2/5\n",
      "76/76 [==============================] - 0s 2ms/step - loss: 0.5699 - accuracy: 0.8212\n",
      "Epoch 3/5\n",
      "76/76 [==============================] - 0s 2ms/step - loss: 0.5591 - accuracy: 0.8237\n",
      "Epoch 4/5\n",
      "76/76 [==============================] - 0s 2ms/step - loss: 0.5582 - accuracy: 0.8235\n",
      "Epoch 5/5\n",
      "76/76 [==============================] - 0s 2ms/step - loss: 0.5577 - accuracy: 0.8238\n",
      "302/302 [==============================] - 1s 1ms/step - loss: 0.5535 - accuracy: 0.8239\n",
      "Test Loss: [0.5534578561782837, 0.823913037776947]\n",
      "9/9 [==============================] - 0s 2ms/step\n",
      "Epoch 1/5\n",
      "76/76 [==============================] - 1s 2ms/step - loss: 0.7748 - accuracy: 0.7201\n",
      "Epoch 2/5\n",
      "76/76 [==============================] - 0s 2ms/step - loss: 0.5748 - accuracy: 0.8212\n",
      "Epoch 3/5\n",
      "76/76 [==============================] - 0s 2ms/step - loss: 0.5609 - accuracy: 0.8236\n",
      "Epoch 4/5\n",
      "76/76 [==============================] - 0s 2ms/step - loss: 0.5582 - accuracy: 0.8239\n",
      "Epoch 5/5\n",
      "76/76 [==============================] - 0s 2ms/step - loss: 0.5589 - accuracy: 0.8251\n",
      "302/302 [==============================] - 1s 2ms/step - loss: 0.5518 - accuracy: 0.8239\n",
      "Test Loss: [0.5518237948417664, 0.823913037776947]\n",
      "9/9 [==============================] - 0s 2ms/step\n",
      "Epoch 1/5\n",
      "76/76 [==============================] - 1s 2ms/step - loss: 0.7847 - accuracy: 0.7061\n",
      "Epoch 2/5\n",
      "76/76 [==============================] - 0s 2ms/step - loss: 0.5813 - accuracy: 0.8196\n",
      "Epoch 3/5\n",
      "76/76 [==============================] - 0s 2ms/step - loss: 0.5598 - accuracy: 0.8236\n",
      "Epoch 4/5\n",
      "76/76 [==============================] - 0s 2ms/step - loss: 0.5575 - accuracy: 0.8237\n",
      "Epoch 5/5\n",
      "76/76 [==============================] - 0s 2ms/step - loss: 0.5566 - accuracy: 0.8253\n",
      "302/302 [==============================] - 1s 1ms/step - loss: 0.5520 - accuracy: 0.8261\n",
      "Test Loss: [0.5520044565200806, 0.8260869383811951]\n",
      "9/9 [==============================] - 0s 2ms/step\n"
     ]
    }
   ],
   "source": [
    "policies = []\n",
    "for s, a in converted_trajectories:\n",
    "    bc_model = BC.model((s,a))\n",
    "    bc_policy = BC.policy(bc_model)\n",
    "    policies.append(bc_policy)"
   ]
  },
  {
   "cell_type": "markdown",
   "id": "a500aacc",
   "metadata": {},
   "source": [
    "### Evaluate Polices"
   ]
  },
  {
   "cell_type": "code",
   "execution_count": 11,
   "id": "7bcddd53",
   "metadata": {},
   "outputs": [],
   "source": [
    "rewards = []\n",
    "for i in policies:\n",
    "    rewards.append(E.average_reward(env, i, 5))"
   ]
  },
  {
   "cell_type": "code",
   "execution_count": 12,
   "id": "0b76f90a",
   "metadata": {},
   "outputs": [
    {
     "data": {
      "text/plain": [
       "[-9.0, 1.0, -434.8, -15.8]"
      ]
     },
     "execution_count": 12,
     "metadata": {},
     "output_type": "execute_result"
    }
   ],
   "source": [
    "rewards"
   ]
  }
 ],
 "metadata": {
  "kernelspec": {
   "display_name": "Python 3 (ipykernel)",
   "language": "python",
   "name": "python3"
  },
  "language_info": {
   "codemirror_mode": {
    "name": "ipython",
    "version": 3
   },
   "file_extension": ".py",
   "mimetype": "text/x-python",
   "name": "python",
   "nbconvert_exporter": "python",
   "pygments_lexer": "ipython3",
   "version": "3.9.7"
  }
 },
 "nbformat": 4,
 "nbformat_minor": 5
}
