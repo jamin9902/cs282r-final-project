{
 "cells": [
  {
   "cell_type": "code",
   "execution_count": 35,
   "id": "9d391360",
   "metadata": {},
   "outputs": [],
   "source": [
    "import gymnasium as gym\n",
    "import numpy as np\n",
    "import tensorflow as tf\n",
    "\n",
    "import bc as BC\n",
    "import trajectories as T\n",
    "import suboptimality as S"
   ]
  },
  {
   "cell_type": "code",
   "execution_count": 36,
   "id": "39e0c2be",
   "metadata": {},
   "outputs": [],
   "source": [
    "trajectories = T.discretize_trajectories(T.trajectories)"
   ]
  },
  {
   "cell_type": "code",
   "execution_count": 37,
   "id": "76dd4ee8",
   "metadata": {},
   "outputs": [],
   "source": [
    "converted_trajectories = BC.convert_trajectories(trajectories)"
   ]
  },
  {
   "cell_type": "code",
   "execution_count": 39,
   "id": "64364997",
   "metadata": {},
   "outputs": [
    {
     "name": "stdout",
     "output_type": "stream",
     "text": [
      "Epoch 1/5\n",
      "100/100 [==============================] - 2s 2ms/step - loss: 0.4387 - accuracy: 0.8614\n",
      "Epoch 2/5\n",
      "100/100 [==============================] - 0s 2ms/step - loss: 0.0688 - accuracy: 0.9705\n",
      "Epoch 3/5\n",
      "100/100 [==============================] - 0s 2ms/step - loss: 0.0638 - accuracy: 0.9688\n",
      "Epoch 4/5\n",
      "100/100 [==============================] - 0s 3ms/step - loss: 0.0574 - accuracy: 0.9730\n",
      "Epoch 5/5\n",
      "100/100 [==============================] - 0s 3ms/step - loss: 0.0555 - accuracy: 0.9749\n",
      "400/400 [==============================] - 1s 2ms/step - loss: 0.0527 - accuracy: 0.9762\n",
      "Test Loss: [0.05269990488886833, 0.9762499928474426]\n"
     ]
    }
   ],
   "source": [
    "bc_model = BC.model(converted_trajectories)"
   ]
  },
  {
   "cell_type": "code",
   "execution_count": null,
   "id": "67293604",
   "metadata": {},
   "outputs": [],
   "source": []
  }
 ],
 "metadata": {
  "kernelspec": {
   "display_name": "Python 3 (ipykernel)",
   "language": "python",
   "name": "python3"
  },
  "language_info": {
   "codemirror_mode": {
    "name": "ipython",
    "version": 3
   },
   "file_extension": ".py",
   "mimetype": "text/x-python",
   "name": "python",
   "nbconvert_exporter": "python",
   "pygments_lexer": "ipython3",
   "version": "3.9.7"
  }
 },
 "nbformat": 4,
 "nbformat_minor": 5
}
