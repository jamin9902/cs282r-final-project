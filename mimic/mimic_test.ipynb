{
 "cells": [
  {
   "cell_type": "code",
   "execution_count": 1,
   "metadata": {
    "colab": {
     "base_uri": "https://localhost:8080/"
    },
    "id": "cBmuqzqHfqT-",
    "outputId": "a20694af-495b-471a-9a6a-a5214274aeab"
   },
   "outputs": [
    {
     "name": "stderr",
     "output_type": "stream",
     "text": [
      "2023-11-28 19:54:18.636804: I tensorflow/core/platform/cpu_feature_guard.cc:182] This TensorFlow binary is optimized to use available CPU instructions in performance-critical operations.\n",
      "To enable the following instructions: AVX2 AVX512F AVX512_VNNI FMA, in other operations, rebuild TensorFlow with the appropriate compiler flags.\n"
     ]
    },
    {
     "name": "stdout",
     "output_type": "stream",
     "text": [
      "[0.4 0.6 1. ]\n"
     ]
    }
   ],
   "source": [
    "import pandas as pd\n",
    "import numpy as np\n",
    "from numpy.lib.stride_tricks import sliding_window_view\n",
    "import os, pickle\n",
    "import matplotlib.pyplot as plt\n",
    "import tensorflow as tf\n",
    "\n",
    "from sklearn.cluster import KMeans\n",
    "\n",
    "from sklearn.preprocessing import OneHotEncoder\n",
    "\n",
    "from itertools import product\n",
    "\n",
    "import sys, os\n",
    "\n",
    "import trajectory as T                      # trajectory generation\n",
    "import optimizer as O                       # stochastic gradient descent optimizer\n",
    "import solver as S                          # MDP solver (value-iteration)\n",
    "import plot as P\n",
    "\n",
    "\n",
    "num_data = 355504\n",
    "\n",
    "\n",
    "np.random.seed(66)\n",
    "\n",
    "def to_interval(istr):\n",
    "    c_left = istr[0]=='['\n",
    "    c_right = istr[-1]==']'\n",
    "    closed = {(True, False): 'left',\n",
    "              (False, True): 'right',\n",
    "              (True, True): 'both',\n",
    "              (False, False): 'neither'\n",
    "              }[c_left, c_right]\n",
    "    left, right = map(pd.to_datetime, istr[1:-1].split(','))\n",
    "    return pd.Interval(left, right, closed)\n",
    "\n",
    "re_split = False\n",
    "frac = [0.4,0.2,0.4]\n",
    "assert np.sum(frac) == 1\n",
    "frac = np.cumsum(frac)\n",
    "print (frac)\n",
    "data_save_path= 'data/'\n",
    "\n",
    "def sliding(gs, window_size = 6):\n",
    "    npr_l = []\n",
    "    for g in gs:\n",
    "        npr = np.concatenate([np.zeros([window_size-1, g.shape[1]]),g])\n",
    "        npr_l.append(sliding_window_view(npr, (window_size, g.shape[1])).squeeze(1))\n",
    "    return np.vstack(npr_l)"
   ]
  },
  {
   "cell_type": "markdown",
   "metadata": {
    "id": "hxJYvR8zr1MV"
   },
   "source": [
    "# LOADING THE DATA"
   ]
  },
  {
   "cell_type": "code",
   "execution_count": 2,
   "metadata": {
    "id": "zSoMb1qcfsQn"
   },
   "outputs": [],
   "source": [
    "# if re_split:\n",
    "\n",
    "\n",
    "aggr_df = pd.read_csv('mimic_iv_hypotensive_cut2.csv',sep = ',', header = 0,converters={1:to_interval}).set_index(['stay_id','time']).sort_index()\n",
    "# create action bins (four actions in total)\n",
    "aggr_df['action'] = aggr_df['bolus(binary)']*2 + aggr_df['vaso(binary)']\n",
    "all_idx = np.random.permutation(aggr_df.index.get_level_values(0).unique())\n",
    "train_df = aggr_df.loc[all_idx[:int(len(all_idx)*frac[0])]].sort_index()\n",
    "test_df = aggr_df.loc[all_idx[int(len(all_idx)*frac[0]):int(len(all_idx)*frac[1])]].sort_index()\n",
    "valid_df = aggr_df.loc[all_idx[int(len(all_idx)*frac[1]):]].sort_index()\n",
    "# print (np.unique(train_df['action'],return_counts=True)[1]*1./len(train_df))\n",
    "# pickle.dump([train_df, test_df, valid_df], open(data_save_path+'processed_mimic_hyp_2.pkl','wb'))\n",
    "drop_columns = ['vaso(amount)','bolus(amount)',\\\n",
    "            'any_treatment(binary)','vaso(binary)','bolus(binary)']\n",
    "\n",
    "\n"
   ]
  },
  {
   "cell_type": "markdown",
   "metadata": {
    "id": "YRc9IHC10f8N"
   },
   "source": [
    "# LOOKING AT THE DATA"
   ]
  },
  {
   "cell_type": "code",
   "execution_count": 3,
   "metadata": {
    "colab": {
     "base_uri": "https://localhost:8080/",
     "height": 697
    },
    "id": "OsBQJGZfltoR",
    "outputId": "8782d7c4-4177-4e07-c559-6c785d288e0b"
   },
   "outputs": [
    {
     "data": {
      "text/html": [
       "<div>\n",
       "<style scoped>\n",
       "    .dataframe tbody tr th:only-of-type {\n",
       "        vertical-align: middle;\n",
       "    }\n",
       "\n",
       "    .dataframe tbody tr th {\n",
       "        vertical-align: top;\n",
       "    }\n",
       "\n",
       "    .dataframe thead th {\n",
       "        text-align: right;\n",
       "    }\n",
       "</style>\n",
       "<table border=\"1\" class=\"dataframe\">\n",
       "  <thead>\n",
       "    <tr style=\"text-align: right;\">\n",
       "      <th></th>\n",
       "      <th></th>\n",
       "      <th>creatinine</th>\n",
       "      <th>fraction_inspired_oxygen</th>\n",
       "      <th>lactate</th>\n",
       "      <th>urine_output</th>\n",
       "      <th>alanine_aminotransferase</th>\n",
       "      <th>asparate_aminotransferase</th>\n",
       "      <th>mean_blood_pressure</th>\n",
       "      <th>diastolic_blood_pressure</th>\n",
       "      <th>systolic_blood_pressure</th>\n",
       "      <th>gcs</th>\n",
       "      <th>partial_pressure_of_oxygen</th>\n",
       "      <th>heart_rate</th>\n",
       "      <th>temperature</th>\n",
       "      <th>respiratory_rate</th>\n",
       "      <th>vaso(binary)</th>\n",
       "      <th>vaso(amount)</th>\n",
       "      <th>bolus(binary)</th>\n",
       "      <th>bolus(amount)</th>\n",
       "      <th>any_treatment(binary)</th>\n",
       "      <th>action</th>\n",
       "    </tr>\n",
       "    <tr>\n",
       "      <th>stay_id</th>\n",
       "      <th>time</th>\n",
       "      <th></th>\n",
       "      <th></th>\n",
       "      <th></th>\n",
       "      <th></th>\n",
       "      <th></th>\n",
       "      <th></th>\n",
       "      <th></th>\n",
       "      <th></th>\n",
       "      <th></th>\n",
       "      <th></th>\n",
       "      <th></th>\n",
       "      <th></th>\n",
       "      <th></th>\n",
       "      <th></th>\n",
       "      <th></th>\n",
       "      <th></th>\n",
       "      <th></th>\n",
       "      <th></th>\n",
       "      <th></th>\n",
       "      <th></th>\n",
       "    </tr>\n",
       "  </thead>\n",
       "  <tbody>\n",
       "    <tr>\n",
       "      <th rowspan=\"5\" valign=\"top\">30001446</th>\n",
       "      <th>[2186-04-12 03:49:00, 2186-04-12 04:49:00)</th>\n",
       "      <td>NaN</td>\n",
       "      <td>NaN</td>\n",
       "      <td>NaN</td>\n",
       "      <td>NaN</td>\n",
       "      <td>NaN</td>\n",
       "      <td>NaN</td>\n",
       "      <td>61.0</td>\n",
       "      <td>56.0</td>\n",
       "      <td>75.0</td>\n",
       "      <td>NaN</td>\n",
       "      <td>NaN</td>\n",
       "      <td>82.0</td>\n",
       "      <td>36.722222</td>\n",
       "      <td>22.0</td>\n",
       "      <td>0.0</td>\n",
       "      <td>0.000000</td>\n",
       "      <td>1.0</td>\n",
       "      <td>1000.0</td>\n",
       "      <td>1.0</td>\n",
       "      <td>2.0</td>\n",
       "    </tr>\n",
       "    <tr>\n",
       "      <th>[2186-04-12 04:49:00, 2186-04-12 05:49:00)</th>\n",
       "      <td>2.7</td>\n",
       "      <td>NaN</td>\n",
       "      <td>NaN</td>\n",
       "      <td>40.0</td>\n",
       "      <td>38.0</td>\n",
       "      <td>114.0</td>\n",
       "      <td>63.0</td>\n",
       "      <td>46.0</td>\n",
       "      <td>96.0</td>\n",
       "      <td>15.0</td>\n",
       "      <td>NaN</td>\n",
       "      <td>80.0</td>\n",
       "      <td>NaN</td>\n",
       "      <td>22.0</td>\n",
       "      <td>1.0</td>\n",
       "      <td>0.077612</td>\n",
       "      <td>0.0</td>\n",
       "      <td>0.0</td>\n",
       "      <td>1.0</td>\n",
       "      <td>1.0</td>\n",
       "    </tr>\n",
       "    <tr>\n",
       "      <th>[2186-04-12 05:49:00, 2186-04-12 06:49:00)</th>\n",
       "      <td>NaN</td>\n",
       "      <td>NaN</td>\n",
       "      <td>NaN</td>\n",
       "      <td>100.0</td>\n",
       "      <td>NaN</td>\n",
       "      <td>NaN</td>\n",
       "      <td>99.0</td>\n",
       "      <td>75.0</td>\n",
       "      <td>152.0</td>\n",
       "      <td>NaN</td>\n",
       "      <td>NaN</td>\n",
       "      <td>79.0</td>\n",
       "      <td>NaN</td>\n",
       "      <td>19.0</td>\n",
       "      <td>1.0</td>\n",
       "      <td>0.238806</td>\n",
       "      <td>0.0</td>\n",
       "      <td>0.0</td>\n",
       "      <td>1.0</td>\n",
       "      <td>1.0</td>\n",
       "    </tr>\n",
       "    <tr>\n",
       "      <th>[2186-04-12 06:49:00, 2186-04-12 07:49:00)</th>\n",
       "      <td>NaN</td>\n",
       "      <td>NaN</td>\n",
       "      <td>1.7</td>\n",
       "      <td>NaN</td>\n",
       "      <td>NaN</td>\n",
       "      <td>NaN</td>\n",
       "      <td>72.0</td>\n",
       "      <td>55.5</td>\n",
       "      <td>107.0</td>\n",
       "      <td>NaN</td>\n",
       "      <td>98.0</td>\n",
       "      <td>83.0</td>\n",
       "      <td>NaN</td>\n",
       "      <td>18.0</td>\n",
       "      <td>1.0</td>\n",
       "      <td>0.166559</td>\n",
       "      <td>0.0</td>\n",
       "      <td>0.0</td>\n",
       "      <td>1.0</td>\n",
       "      <td>1.0</td>\n",
       "    </tr>\n",
       "    <tr>\n",
       "      <th>[2186-04-12 07:49:00, 2186-04-12 08:49:00)</th>\n",
       "      <td>NaN</td>\n",
       "      <td>NaN</td>\n",
       "      <td>NaN</td>\n",
       "      <td>40.0</td>\n",
       "      <td>NaN</td>\n",
       "      <td>NaN</td>\n",
       "      <td>70.0</td>\n",
       "      <td>53.0</td>\n",
       "      <td>105.0</td>\n",
       "      <td>NaN</td>\n",
       "      <td>NaN</td>\n",
       "      <td>77.0</td>\n",
       "      <td>35.944444</td>\n",
       "      <td>21.0</td>\n",
       "      <td>1.0</td>\n",
       "      <td>0.172458</td>\n",
       "      <td>0.0</td>\n",
       "      <td>0.0</td>\n",
       "      <td>1.0</td>\n",
       "      <td>1.0</td>\n",
       "    </tr>\n",
       "  </tbody>\n",
       "</table>\n",
       "</div>"
      ],
      "text/plain": [
       "                                                     creatinine  \\\n",
       "stay_id  time                                                     \n",
       "30001446 [2186-04-12 03:49:00, 2186-04-12 04:49:00)         NaN   \n",
       "         [2186-04-12 04:49:00, 2186-04-12 05:49:00)         2.7   \n",
       "         [2186-04-12 05:49:00, 2186-04-12 06:49:00)         NaN   \n",
       "         [2186-04-12 06:49:00, 2186-04-12 07:49:00)         NaN   \n",
       "         [2186-04-12 07:49:00, 2186-04-12 08:49:00)         NaN   \n",
       "\n",
       "                                                     fraction_inspired_oxygen  \\\n",
       "stay_id  time                                                                   \n",
       "30001446 [2186-04-12 03:49:00, 2186-04-12 04:49:00)                       NaN   \n",
       "         [2186-04-12 04:49:00, 2186-04-12 05:49:00)                       NaN   \n",
       "         [2186-04-12 05:49:00, 2186-04-12 06:49:00)                       NaN   \n",
       "         [2186-04-12 06:49:00, 2186-04-12 07:49:00)                       NaN   \n",
       "         [2186-04-12 07:49:00, 2186-04-12 08:49:00)                       NaN   \n",
       "\n",
       "                                                     lactate  urine_output  \\\n",
       "stay_id  time                                                                \n",
       "30001446 [2186-04-12 03:49:00, 2186-04-12 04:49:00)      NaN           NaN   \n",
       "         [2186-04-12 04:49:00, 2186-04-12 05:49:00)      NaN          40.0   \n",
       "         [2186-04-12 05:49:00, 2186-04-12 06:49:00)      NaN         100.0   \n",
       "         [2186-04-12 06:49:00, 2186-04-12 07:49:00)      1.7           NaN   \n",
       "         [2186-04-12 07:49:00, 2186-04-12 08:49:00)      NaN          40.0   \n",
       "\n",
       "                                                     alanine_aminotransferase  \\\n",
       "stay_id  time                                                                   \n",
       "30001446 [2186-04-12 03:49:00, 2186-04-12 04:49:00)                       NaN   \n",
       "         [2186-04-12 04:49:00, 2186-04-12 05:49:00)                      38.0   \n",
       "         [2186-04-12 05:49:00, 2186-04-12 06:49:00)                       NaN   \n",
       "         [2186-04-12 06:49:00, 2186-04-12 07:49:00)                       NaN   \n",
       "         [2186-04-12 07:49:00, 2186-04-12 08:49:00)                       NaN   \n",
       "\n",
       "                                                     asparate_aminotransferase  \\\n",
       "stay_id  time                                                                    \n",
       "30001446 [2186-04-12 03:49:00, 2186-04-12 04:49:00)                        NaN   \n",
       "         [2186-04-12 04:49:00, 2186-04-12 05:49:00)                      114.0   \n",
       "         [2186-04-12 05:49:00, 2186-04-12 06:49:00)                        NaN   \n",
       "         [2186-04-12 06:49:00, 2186-04-12 07:49:00)                        NaN   \n",
       "         [2186-04-12 07:49:00, 2186-04-12 08:49:00)                        NaN   \n",
       "\n",
       "                                                     mean_blood_pressure  \\\n",
       "stay_id  time                                                              \n",
       "30001446 [2186-04-12 03:49:00, 2186-04-12 04:49:00)                 61.0   \n",
       "         [2186-04-12 04:49:00, 2186-04-12 05:49:00)                 63.0   \n",
       "         [2186-04-12 05:49:00, 2186-04-12 06:49:00)                 99.0   \n",
       "         [2186-04-12 06:49:00, 2186-04-12 07:49:00)                 72.0   \n",
       "         [2186-04-12 07:49:00, 2186-04-12 08:49:00)                 70.0   \n",
       "\n",
       "                                                     diastolic_blood_pressure  \\\n",
       "stay_id  time                                                                   \n",
       "30001446 [2186-04-12 03:49:00, 2186-04-12 04:49:00)                      56.0   \n",
       "         [2186-04-12 04:49:00, 2186-04-12 05:49:00)                      46.0   \n",
       "         [2186-04-12 05:49:00, 2186-04-12 06:49:00)                      75.0   \n",
       "         [2186-04-12 06:49:00, 2186-04-12 07:49:00)                      55.5   \n",
       "         [2186-04-12 07:49:00, 2186-04-12 08:49:00)                      53.0   \n",
       "\n",
       "                                                     systolic_blood_pressure  \\\n",
       "stay_id  time                                                                  \n",
       "30001446 [2186-04-12 03:49:00, 2186-04-12 04:49:00)                     75.0   \n",
       "         [2186-04-12 04:49:00, 2186-04-12 05:49:00)                     96.0   \n",
       "         [2186-04-12 05:49:00, 2186-04-12 06:49:00)                    152.0   \n",
       "         [2186-04-12 06:49:00, 2186-04-12 07:49:00)                    107.0   \n",
       "         [2186-04-12 07:49:00, 2186-04-12 08:49:00)                    105.0   \n",
       "\n",
       "                                                      gcs  \\\n",
       "stay_id  time                                               \n",
       "30001446 [2186-04-12 03:49:00, 2186-04-12 04:49:00)   NaN   \n",
       "         [2186-04-12 04:49:00, 2186-04-12 05:49:00)  15.0   \n",
       "         [2186-04-12 05:49:00, 2186-04-12 06:49:00)   NaN   \n",
       "         [2186-04-12 06:49:00, 2186-04-12 07:49:00)   NaN   \n",
       "         [2186-04-12 07:49:00, 2186-04-12 08:49:00)   NaN   \n",
       "\n",
       "                                                     partial_pressure_of_oxygen  \\\n",
       "stay_id  time                                                                     \n",
       "30001446 [2186-04-12 03:49:00, 2186-04-12 04:49:00)                         NaN   \n",
       "         [2186-04-12 04:49:00, 2186-04-12 05:49:00)                         NaN   \n",
       "         [2186-04-12 05:49:00, 2186-04-12 06:49:00)                         NaN   \n",
       "         [2186-04-12 06:49:00, 2186-04-12 07:49:00)                        98.0   \n",
       "         [2186-04-12 07:49:00, 2186-04-12 08:49:00)                         NaN   \n",
       "\n",
       "                                                     heart_rate  temperature  \\\n",
       "stay_id  time                                                                  \n",
       "30001446 [2186-04-12 03:49:00, 2186-04-12 04:49:00)        82.0    36.722222   \n",
       "         [2186-04-12 04:49:00, 2186-04-12 05:49:00)        80.0          NaN   \n",
       "         [2186-04-12 05:49:00, 2186-04-12 06:49:00)        79.0          NaN   \n",
       "         [2186-04-12 06:49:00, 2186-04-12 07:49:00)        83.0          NaN   \n",
       "         [2186-04-12 07:49:00, 2186-04-12 08:49:00)        77.0    35.944444   \n",
       "\n",
       "                                                     respiratory_rate  \\\n",
       "stay_id  time                                                           \n",
       "30001446 [2186-04-12 03:49:00, 2186-04-12 04:49:00)              22.0   \n",
       "         [2186-04-12 04:49:00, 2186-04-12 05:49:00)              22.0   \n",
       "         [2186-04-12 05:49:00, 2186-04-12 06:49:00)              19.0   \n",
       "         [2186-04-12 06:49:00, 2186-04-12 07:49:00)              18.0   \n",
       "         [2186-04-12 07:49:00, 2186-04-12 08:49:00)              21.0   \n",
       "\n",
       "                                                     vaso(binary)  \\\n",
       "stay_id  time                                                       \n",
       "30001446 [2186-04-12 03:49:00, 2186-04-12 04:49:00)           0.0   \n",
       "         [2186-04-12 04:49:00, 2186-04-12 05:49:00)           1.0   \n",
       "         [2186-04-12 05:49:00, 2186-04-12 06:49:00)           1.0   \n",
       "         [2186-04-12 06:49:00, 2186-04-12 07:49:00)           1.0   \n",
       "         [2186-04-12 07:49:00, 2186-04-12 08:49:00)           1.0   \n",
       "\n",
       "                                                     vaso(amount)  \\\n",
       "stay_id  time                                                       \n",
       "30001446 [2186-04-12 03:49:00, 2186-04-12 04:49:00)      0.000000   \n",
       "         [2186-04-12 04:49:00, 2186-04-12 05:49:00)      0.077612   \n",
       "         [2186-04-12 05:49:00, 2186-04-12 06:49:00)      0.238806   \n",
       "         [2186-04-12 06:49:00, 2186-04-12 07:49:00)      0.166559   \n",
       "         [2186-04-12 07:49:00, 2186-04-12 08:49:00)      0.172458   \n",
       "\n",
       "                                                     bolus(binary)  \\\n",
       "stay_id  time                                                        \n",
       "30001446 [2186-04-12 03:49:00, 2186-04-12 04:49:00)            1.0   \n",
       "         [2186-04-12 04:49:00, 2186-04-12 05:49:00)            0.0   \n",
       "         [2186-04-12 05:49:00, 2186-04-12 06:49:00)            0.0   \n",
       "         [2186-04-12 06:49:00, 2186-04-12 07:49:00)            0.0   \n",
       "         [2186-04-12 07:49:00, 2186-04-12 08:49:00)            0.0   \n",
       "\n",
       "                                                     bolus(amount)  \\\n",
       "stay_id  time                                                        \n",
       "30001446 [2186-04-12 03:49:00, 2186-04-12 04:49:00)         1000.0   \n",
       "         [2186-04-12 04:49:00, 2186-04-12 05:49:00)            0.0   \n",
       "         [2186-04-12 05:49:00, 2186-04-12 06:49:00)            0.0   \n",
       "         [2186-04-12 06:49:00, 2186-04-12 07:49:00)            0.0   \n",
       "         [2186-04-12 07:49:00, 2186-04-12 08:49:00)            0.0   \n",
       "\n",
       "                                                     any_treatment(binary)  \\\n",
       "stay_id  time                                                                \n",
       "30001446 [2186-04-12 03:49:00, 2186-04-12 04:49:00)                    1.0   \n",
       "         [2186-04-12 04:49:00, 2186-04-12 05:49:00)                    1.0   \n",
       "         [2186-04-12 05:49:00, 2186-04-12 06:49:00)                    1.0   \n",
       "         [2186-04-12 06:49:00, 2186-04-12 07:49:00)                    1.0   \n",
       "         [2186-04-12 07:49:00, 2186-04-12 08:49:00)                    1.0   \n",
       "\n",
       "                                                     action  \n",
       "stay_id  time                                                \n",
       "30001446 [2186-04-12 03:49:00, 2186-04-12 04:49:00)     2.0  \n",
       "         [2186-04-12 04:49:00, 2186-04-12 05:49:00)     1.0  \n",
       "         [2186-04-12 05:49:00, 2186-04-12 06:49:00)     1.0  \n",
       "         [2186-04-12 06:49:00, 2186-04-12 07:49:00)     1.0  \n",
       "         [2186-04-12 07:49:00, 2186-04-12 08:49:00)     1.0  "
      ]
     },
     "execution_count": 3,
     "metadata": {},
     "output_type": "execute_result"
    }
   ],
   "source": [
    "## print(len(aggr_df))\n",
    "aggr_df.head()"
   ]
  },
  {
   "cell_type": "markdown",
   "metadata": {
    "id": "yp1hmcRNmA2t"
   },
   "source": [
    "# Data for patient with hypotension, two treatment vasopressors and a bolus dose of epinephrine depending on certain features of the patient. In order to do IRL we need to discretize the action space:\n",
    "* Action 0 = No treatment\n",
    "* Action 1 = Vaso\n",
    "* Action 2 = Bolus\n",
    "* Action 3 = Vaso + Bolus\n",
    "\n"
   ]
  },
  {
   "cell_type": "markdown",
   "metadata": {
    "id": "2QRz2-UrbHH2"
   },
   "source": [
    "# Data cleaning for taking care of missing values"
   ]
  },
  {
   "cell_type": "code",
   "execution_count": 4,
   "metadata": {
    "colab": {
     "base_uri": "https://localhost:8080/",
     "height": 385
    },
    "id": "KgC11LtffsOB",
    "outputId": "4cd54f28-d9df-4ee4-e7d6-fc564417e258"
   },
   "outputs": [],
   "source": [
    "# for now drop indicators about bolus and vaso\n",
    "train_df = train_df.drop(columns=drop_columns)\n",
    "test_df = test_df.drop(columns=drop_columns)\n",
    "valid_df = valid_df.drop(columns=drop_columns)\n",
    "\n",
    "#### imputation\n",
    "impute_table = pd.read_csv('mimic_iv_hypotensive_cut2_impute_table.csv',sep=',',header=0).set_index(['feature'])\n",
    "train_df = train_df.fillna(method='ffill')\n",
    "test_df = test_df.fillna(method='ffill')\n",
    "valid_df = valid_df.fillna(method='ffill')\n",
    "\n",
    "\n",
    "\n",
    "\n",
    "for f in impute_table.index:\n",
    "    train_df[f] = train_df[f].fillna(value = impute_table.loc[f].values[0])\n",
    "    test_df[f] = test_df[f].fillna(value = impute_table.loc[f].values[0])\n",
    "    valid_df[f] = valid_df[f].fillna(value = impute_table.loc[f].values[0])"
   ]
  },
  {
   "cell_type": "markdown",
   "metadata": {},
   "source": [
    "# Add observational and action ambiguity"
   ]
  },
  {
   "cell_type": "code",
   "execution_count": 5,
   "metadata": {},
   "outputs": [
    {
     "data": {
      "text/html": [
       "<div>\n",
       "<style scoped>\n",
       "    .dataframe tbody tr th:only-of-type {\n",
       "        vertical-align: middle;\n",
       "    }\n",
       "\n",
       "    .dataframe tbody tr th {\n",
       "        vertical-align: top;\n",
       "    }\n",
       "\n",
       "    .dataframe thead th {\n",
       "        text-align: right;\n",
       "    }\n",
       "</style>\n",
       "<table border=\"1\" class=\"dataframe\">\n",
       "  <thead>\n",
       "    <tr style=\"text-align: right;\">\n",
       "      <th></th>\n",
       "      <th></th>\n",
       "      <th>creatinine</th>\n",
       "      <th>fraction_inspired_oxygen</th>\n",
       "      <th>lactate</th>\n",
       "      <th>urine_output</th>\n",
       "      <th>alanine_aminotransferase</th>\n",
       "      <th>asparate_aminotransferase</th>\n",
       "      <th>mean_blood_pressure</th>\n",
       "      <th>diastolic_blood_pressure</th>\n",
       "      <th>systolic_blood_pressure</th>\n",
       "      <th>gcs</th>\n",
       "      <th>partial_pressure_of_oxygen</th>\n",
       "      <th>heart_rate</th>\n",
       "      <th>temperature</th>\n",
       "      <th>respiratory_rate</th>\n",
       "      <th>action</th>\n",
       "    </tr>\n",
       "    <tr>\n",
       "      <th>stay_id</th>\n",
       "      <th>time</th>\n",
       "      <th></th>\n",
       "      <th></th>\n",
       "      <th></th>\n",
       "      <th></th>\n",
       "      <th></th>\n",
       "      <th></th>\n",
       "      <th></th>\n",
       "      <th></th>\n",
       "      <th></th>\n",
       "      <th></th>\n",
       "      <th></th>\n",
       "      <th></th>\n",
       "      <th></th>\n",
       "      <th></th>\n",
       "      <th></th>\n",
       "    </tr>\n",
       "  </thead>\n",
       "  <tbody>\n",
       "    <tr>\n",
       "      <th rowspan=\"5\" valign=\"top\">30004811</th>\n",
       "      <th>[2139-10-06 10:40:29, 2139-10-06 11:40:29)</th>\n",
       "      <td>1.0</td>\n",
       "      <td>0.21</td>\n",
       "      <td>1.8</td>\n",
       "      <td>80.0</td>\n",
       "      <td>34.0</td>\n",
       "      <td>40.0</td>\n",
       "      <td>77.0</td>\n",
       "      <td>59.0</td>\n",
       "      <td>118.0</td>\n",
       "      <td>11.0</td>\n",
       "      <td>112.0</td>\n",
       "      <td>86.0</td>\n",
       "      <td>37.0</td>\n",
       "      <td>19.0</td>\n",
       "      <td>0.0</td>\n",
       "    </tr>\n",
       "    <tr>\n",
       "      <th>[2139-10-06 11:40:29, 2139-10-06 12:40:29)</th>\n",
       "      <td>1.0</td>\n",
       "      <td>0.21</td>\n",
       "      <td>1.8</td>\n",
       "      <td>80.0</td>\n",
       "      <td>34.0</td>\n",
       "      <td>40.0</td>\n",
       "      <td>77.0</td>\n",
       "      <td>59.0</td>\n",
       "      <td>118.0</td>\n",
       "      <td>11.0</td>\n",
       "      <td>112.0</td>\n",
       "      <td>86.0</td>\n",
       "      <td>37.0</td>\n",
       "      <td>19.0</td>\n",
       "      <td>0.0</td>\n",
       "    </tr>\n",
       "    <tr>\n",
       "      <th>[2139-10-06 12:40:29, 2139-10-06 13:40:29)</th>\n",
       "      <td>1.0</td>\n",
       "      <td>0.21</td>\n",
       "      <td>3.0</td>\n",
       "      <td>80.0</td>\n",
       "      <td>34.0</td>\n",
       "      <td>40.0</td>\n",
       "      <td>77.0</td>\n",
       "      <td>59.0</td>\n",
       "      <td>118.0</td>\n",
       "      <td>11.0</td>\n",
       "      <td>272.0</td>\n",
       "      <td>86.0</td>\n",
       "      <td>37.0</td>\n",
       "      <td>19.0</td>\n",
       "      <td>0.0</td>\n",
       "    </tr>\n",
       "    <tr>\n",
       "      <th>[2139-10-06 13:40:29, 2139-10-06 14:40:29)</th>\n",
       "      <td>1.0</td>\n",
       "      <td>0.21</td>\n",
       "      <td>3.0</td>\n",
       "      <td>80.0</td>\n",
       "      <td>34.0</td>\n",
       "      <td>40.0</td>\n",
       "      <td>77.0</td>\n",
       "      <td>59.0</td>\n",
       "      <td>118.0</td>\n",
       "      <td>11.0</td>\n",
       "      <td>272.0</td>\n",
       "      <td>86.0</td>\n",
       "      <td>37.0</td>\n",
       "      <td>19.0</td>\n",
       "      <td>0.0</td>\n",
       "    </tr>\n",
       "    <tr>\n",
       "      <th>[2139-10-06 14:40:29, 2139-10-06 15:40:29)</th>\n",
       "      <td>1.0</td>\n",
       "      <td>0.21</td>\n",
       "      <td>3.0</td>\n",
       "      <td>80.0</td>\n",
       "      <td>34.0</td>\n",
       "      <td>40.0</td>\n",
       "      <td>77.0</td>\n",
       "      <td>59.0</td>\n",
       "      <td>118.0</td>\n",
       "      <td>11.0</td>\n",
       "      <td>272.0</td>\n",
       "      <td>86.0</td>\n",
       "      <td>37.0</td>\n",
       "      <td>19.0</td>\n",
       "      <td>0.0</td>\n",
       "    </tr>\n",
       "  </tbody>\n",
       "</table>\n",
       "</div>"
      ],
      "text/plain": [
       "                                                     creatinine  \\\n",
       "stay_id  time                                                     \n",
       "30004811 [2139-10-06 10:40:29, 2139-10-06 11:40:29)         1.0   \n",
       "         [2139-10-06 11:40:29, 2139-10-06 12:40:29)         1.0   \n",
       "         [2139-10-06 12:40:29, 2139-10-06 13:40:29)         1.0   \n",
       "         [2139-10-06 13:40:29, 2139-10-06 14:40:29)         1.0   \n",
       "         [2139-10-06 14:40:29, 2139-10-06 15:40:29)         1.0   \n",
       "\n",
       "                                                     fraction_inspired_oxygen  \\\n",
       "stay_id  time                                                                   \n",
       "30004811 [2139-10-06 10:40:29, 2139-10-06 11:40:29)                      0.21   \n",
       "         [2139-10-06 11:40:29, 2139-10-06 12:40:29)                      0.21   \n",
       "         [2139-10-06 12:40:29, 2139-10-06 13:40:29)                      0.21   \n",
       "         [2139-10-06 13:40:29, 2139-10-06 14:40:29)                      0.21   \n",
       "         [2139-10-06 14:40:29, 2139-10-06 15:40:29)                      0.21   \n",
       "\n",
       "                                                     lactate  urine_output  \\\n",
       "stay_id  time                                                                \n",
       "30004811 [2139-10-06 10:40:29, 2139-10-06 11:40:29)      1.8          80.0   \n",
       "         [2139-10-06 11:40:29, 2139-10-06 12:40:29)      1.8          80.0   \n",
       "         [2139-10-06 12:40:29, 2139-10-06 13:40:29)      3.0          80.0   \n",
       "         [2139-10-06 13:40:29, 2139-10-06 14:40:29)      3.0          80.0   \n",
       "         [2139-10-06 14:40:29, 2139-10-06 15:40:29)      3.0          80.0   \n",
       "\n",
       "                                                     alanine_aminotransferase  \\\n",
       "stay_id  time                                                                   \n",
       "30004811 [2139-10-06 10:40:29, 2139-10-06 11:40:29)                      34.0   \n",
       "         [2139-10-06 11:40:29, 2139-10-06 12:40:29)                      34.0   \n",
       "         [2139-10-06 12:40:29, 2139-10-06 13:40:29)                      34.0   \n",
       "         [2139-10-06 13:40:29, 2139-10-06 14:40:29)                      34.0   \n",
       "         [2139-10-06 14:40:29, 2139-10-06 15:40:29)                      34.0   \n",
       "\n",
       "                                                     asparate_aminotransferase  \\\n",
       "stay_id  time                                                                    \n",
       "30004811 [2139-10-06 10:40:29, 2139-10-06 11:40:29)                       40.0   \n",
       "         [2139-10-06 11:40:29, 2139-10-06 12:40:29)                       40.0   \n",
       "         [2139-10-06 12:40:29, 2139-10-06 13:40:29)                       40.0   \n",
       "         [2139-10-06 13:40:29, 2139-10-06 14:40:29)                       40.0   \n",
       "         [2139-10-06 14:40:29, 2139-10-06 15:40:29)                       40.0   \n",
       "\n",
       "                                                     mean_blood_pressure  \\\n",
       "stay_id  time                                                              \n",
       "30004811 [2139-10-06 10:40:29, 2139-10-06 11:40:29)                 77.0   \n",
       "         [2139-10-06 11:40:29, 2139-10-06 12:40:29)                 77.0   \n",
       "         [2139-10-06 12:40:29, 2139-10-06 13:40:29)                 77.0   \n",
       "         [2139-10-06 13:40:29, 2139-10-06 14:40:29)                 77.0   \n",
       "         [2139-10-06 14:40:29, 2139-10-06 15:40:29)                 77.0   \n",
       "\n",
       "                                                     diastolic_blood_pressure  \\\n",
       "stay_id  time                                                                   \n",
       "30004811 [2139-10-06 10:40:29, 2139-10-06 11:40:29)                      59.0   \n",
       "         [2139-10-06 11:40:29, 2139-10-06 12:40:29)                      59.0   \n",
       "         [2139-10-06 12:40:29, 2139-10-06 13:40:29)                      59.0   \n",
       "         [2139-10-06 13:40:29, 2139-10-06 14:40:29)                      59.0   \n",
       "         [2139-10-06 14:40:29, 2139-10-06 15:40:29)                      59.0   \n",
       "\n",
       "                                                     systolic_blood_pressure  \\\n",
       "stay_id  time                                                                  \n",
       "30004811 [2139-10-06 10:40:29, 2139-10-06 11:40:29)                    118.0   \n",
       "         [2139-10-06 11:40:29, 2139-10-06 12:40:29)                    118.0   \n",
       "         [2139-10-06 12:40:29, 2139-10-06 13:40:29)                    118.0   \n",
       "         [2139-10-06 13:40:29, 2139-10-06 14:40:29)                    118.0   \n",
       "         [2139-10-06 14:40:29, 2139-10-06 15:40:29)                    118.0   \n",
       "\n",
       "                                                      gcs  \\\n",
       "stay_id  time                                               \n",
       "30004811 [2139-10-06 10:40:29, 2139-10-06 11:40:29)  11.0   \n",
       "         [2139-10-06 11:40:29, 2139-10-06 12:40:29)  11.0   \n",
       "         [2139-10-06 12:40:29, 2139-10-06 13:40:29)  11.0   \n",
       "         [2139-10-06 13:40:29, 2139-10-06 14:40:29)  11.0   \n",
       "         [2139-10-06 14:40:29, 2139-10-06 15:40:29)  11.0   \n",
       "\n",
       "                                                     partial_pressure_of_oxygen  \\\n",
       "stay_id  time                                                                     \n",
       "30004811 [2139-10-06 10:40:29, 2139-10-06 11:40:29)                       112.0   \n",
       "         [2139-10-06 11:40:29, 2139-10-06 12:40:29)                       112.0   \n",
       "         [2139-10-06 12:40:29, 2139-10-06 13:40:29)                       272.0   \n",
       "         [2139-10-06 13:40:29, 2139-10-06 14:40:29)                       272.0   \n",
       "         [2139-10-06 14:40:29, 2139-10-06 15:40:29)                       272.0   \n",
       "\n",
       "                                                     heart_rate  temperature  \\\n",
       "stay_id  time                                                                  \n",
       "30004811 [2139-10-06 10:40:29, 2139-10-06 11:40:29)        86.0         37.0   \n",
       "         [2139-10-06 11:40:29, 2139-10-06 12:40:29)        86.0         37.0   \n",
       "         [2139-10-06 12:40:29, 2139-10-06 13:40:29)        86.0         37.0   \n",
       "         [2139-10-06 13:40:29, 2139-10-06 14:40:29)        86.0         37.0   \n",
       "         [2139-10-06 14:40:29, 2139-10-06 15:40:29)        86.0         37.0   \n",
       "\n",
       "                                                     respiratory_rate  action  \n",
       "stay_id  time                                                                  \n",
       "30004811 [2139-10-06 10:40:29, 2139-10-06 11:40:29)              19.0     0.0  \n",
       "         [2139-10-06 11:40:29, 2139-10-06 12:40:29)              19.0     0.0  \n",
       "         [2139-10-06 12:40:29, 2139-10-06 13:40:29)              19.0     0.0  \n",
       "         [2139-10-06 13:40:29, 2139-10-06 14:40:29)              19.0     0.0  \n",
       "         [2139-10-06 14:40:29, 2139-10-06 15:40:29)              19.0     0.0  "
      ]
     },
     "execution_count": 5,
     "metadata": {},
     "output_type": "execute_result"
    }
   ],
   "source": [
    "train_df.head()"
   ]
  },
  {
   "cell_type": "code",
   "execution_count": 6,
   "metadata": {},
   "outputs": [
    {
     "data": {
      "text/html": [
       "<div>\n",
       "<style scoped>\n",
       "    .dataframe tbody tr th:only-of-type {\n",
       "        vertical-align: middle;\n",
       "    }\n",
       "\n",
       "    .dataframe tbody tr th {\n",
       "        vertical-align: top;\n",
       "    }\n",
       "\n",
       "    .dataframe thead th {\n",
       "        text-align: right;\n",
       "    }\n",
       "</style>\n",
       "<table border=\"1\" class=\"dataframe\">\n",
       "  <thead>\n",
       "    <tr style=\"text-align: right;\">\n",
       "      <th></th>\n",
       "      <th></th>\n",
       "      <th>creatinine</th>\n",
       "      <th>fraction_inspired_oxygen</th>\n",
       "      <th>lactate</th>\n",
       "      <th>urine_output</th>\n",
       "      <th>alanine_aminotransferase</th>\n",
       "      <th>asparate_aminotransferase</th>\n",
       "      <th>mean_blood_pressure</th>\n",
       "      <th>diastolic_blood_pressure</th>\n",
       "      <th>systolic_blood_pressure</th>\n",
       "      <th>gcs</th>\n",
       "      <th>partial_pressure_of_oxygen</th>\n",
       "      <th>heart_rate</th>\n",
       "      <th>temperature</th>\n",
       "      <th>respiratory_rate</th>\n",
       "      <th>action</th>\n",
       "    </tr>\n",
       "    <tr>\n",
       "      <th>stay_id</th>\n",
       "      <th>time</th>\n",
       "      <th></th>\n",
       "      <th></th>\n",
       "      <th></th>\n",
       "      <th></th>\n",
       "      <th></th>\n",
       "      <th></th>\n",
       "      <th></th>\n",
       "      <th></th>\n",
       "      <th></th>\n",
       "      <th></th>\n",
       "      <th></th>\n",
       "      <th></th>\n",
       "      <th></th>\n",
       "      <th></th>\n",
       "      <th></th>\n",
       "    </tr>\n",
       "  </thead>\n",
       "  <tbody>\n",
       "    <tr>\n",
       "      <th rowspan=\"5\" valign=\"top\">30009339</th>\n",
       "      <th>[2145-05-09 23:35:00, 2145-05-10 00:35:00)</th>\n",
       "      <td>1.0</td>\n",
       "      <td>0.21</td>\n",
       "      <td>3.4</td>\n",
       "      <td>80.0</td>\n",
       "      <td>34.0</td>\n",
       "      <td>40.0</td>\n",
       "      <td>77.0</td>\n",
       "      <td>59.0</td>\n",
       "      <td>118.0</td>\n",
       "      <td>11.0</td>\n",
       "      <td>340.0</td>\n",
       "      <td>86.0</td>\n",
       "      <td>37.0</td>\n",
       "      <td>19.0</td>\n",
       "      <td>0.0</td>\n",
       "    </tr>\n",
       "    <tr>\n",
       "      <th>[2145-05-10 00:35:00, 2145-05-10 01:35:00)</th>\n",
       "      <td>1.0</td>\n",
       "      <td>0.21</td>\n",
       "      <td>3.4</td>\n",
       "      <td>80.0</td>\n",
       "      <td>34.0</td>\n",
       "      <td>40.0</td>\n",
       "      <td>77.0</td>\n",
       "      <td>59.0</td>\n",
       "      <td>118.0</td>\n",
       "      <td>11.0</td>\n",
       "      <td>372.0</td>\n",
       "      <td>86.0</td>\n",
       "      <td>37.0</td>\n",
       "      <td>19.0</td>\n",
       "      <td>0.0</td>\n",
       "    </tr>\n",
       "    <tr>\n",
       "      <th>[2145-05-10 01:35:00, 2145-05-10 02:35:00)</th>\n",
       "      <td>1.0</td>\n",
       "      <td>0.21</td>\n",
       "      <td>3.4</td>\n",
       "      <td>80.0</td>\n",
       "      <td>34.0</td>\n",
       "      <td>40.0</td>\n",
       "      <td>77.0</td>\n",
       "      <td>59.0</td>\n",
       "      <td>118.0</td>\n",
       "      <td>11.0</td>\n",
       "      <td>360.0</td>\n",
       "      <td>86.0</td>\n",
       "      <td>37.0</td>\n",
       "      <td>19.0</td>\n",
       "      <td>0.0</td>\n",
       "    </tr>\n",
       "    <tr>\n",
       "      <th>[2145-05-10 02:35:00, 2145-05-10 03:35:00)</th>\n",
       "      <td>1.0</td>\n",
       "      <td>0.21</td>\n",
       "      <td>3.4</td>\n",
       "      <td>80.0</td>\n",
       "      <td>34.0</td>\n",
       "      <td>40.0</td>\n",
       "      <td>77.0</td>\n",
       "      <td>59.0</td>\n",
       "      <td>118.0</td>\n",
       "      <td>11.0</td>\n",
       "      <td>449.0</td>\n",
       "      <td>86.0</td>\n",
       "      <td>37.0</td>\n",
       "      <td>19.0</td>\n",
       "      <td>0.0</td>\n",
       "    </tr>\n",
       "    <tr>\n",
       "      <th>[2145-05-10 03:35:00, 2145-05-10 04:35:00)</th>\n",
       "      <td>1.0</td>\n",
       "      <td>0.21</td>\n",
       "      <td>4.6</td>\n",
       "      <td>80.0</td>\n",
       "      <td>34.0</td>\n",
       "      <td>40.0</td>\n",
       "      <td>77.0</td>\n",
       "      <td>59.0</td>\n",
       "      <td>118.0</td>\n",
       "      <td>11.0</td>\n",
       "      <td>345.0</td>\n",
       "      <td>86.0</td>\n",
       "      <td>37.0</td>\n",
       "      <td>19.0</td>\n",
       "      <td>0.0</td>\n",
       "    </tr>\n",
       "  </tbody>\n",
       "</table>\n",
       "</div>"
      ],
      "text/plain": [
       "                                                     creatinine  \\\n",
       "stay_id  time                                                     \n",
       "30009339 [2145-05-09 23:35:00, 2145-05-10 00:35:00)         1.0   \n",
       "         [2145-05-10 00:35:00, 2145-05-10 01:35:00)         1.0   \n",
       "         [2145-05-10 01:35:00, 2145-05-10 02:35:00)         1.0   \n",
       "         [2145-05-10 02:35:00, 2145-05-10 03:35:00)         1.0   \n",
       "         [2145-05-10 03:35:00, 2145-05-10 04:35:00)         1.0   \n",
       "\n",
       "                                                     fraction_inspired_oxygen  \\\n",
       "stay_id  time                                                                   \n",
       "30009339 [2145-05-09 23:35:00, 2145-05-10 00:35:00)                      0.21   \n",
       "         [2145-05-10 00:35:00, 2145-05-10 01:35:00)                      0.21   \n",
       "         [2145-05-10 01:35:00, 2145-05-10 02:35:00)                      0.21   \n",
       "         [2145-05-10 02:35:00, 2145-05-10 03:35:00)                      0.21   \n",
       "         [2145-05-10 03:35:00, 2145-05-10 04:35:00)                      0.21   \n",
       "\n",
       "                                                     lactate  urine_output  \\\n",
       "stay_id  time                                                                \n",
       "30009339 [2145-05-09 23:35:00, 2145-05-10 00:35:00)      3.4          80.0   \n",
       "         [2145-05-10 00:35:00, 2145-05-10 01:35:00)      3.4          80.0   \n",
       "         [2145-05-10 01:35:00, 2145-05-10 02:35:00)      3.4          80.0   \n",
       "         [2145-05-10 02:35:00, 2145-05-10 03:35:00)      3.4          80.0   \n",
       "         [2145-05-10 03:35:00, 2145-05-10 04:35:00)      4.6          80.0   \n",
       "\n",
       "                                                     alanine_aminotransferase  \\\n",
       "stay_id  time                                                                   \n",
       "30009339 [2145-05-09 23:35:00, 2145-05-10 00:35:00)                      34.0   \n",
       "         [2145-05-10 00:35:00, 2145-05-10 01:35:00)                      34.0   \n",
       "         [2145-05-10 01:35:00, 2145-05-10 02:35:00)                      34.0   \n",
       "         [2145-05-10 02:35:00, 2145-05-10 03:35:00)                      34.0   \n",
       "         [2145-05-10 03:35:00, 2145-05-10 04:35:00)                      34.0   \n",
       "\n",
       "                                                     asparate_aminotransferase  \\\n",
       "stay_id  time                                                                    \n",
       "30009339 [2145-05-09 23:35:00, 2145-05-10 00:35:00)                       40.0   \n",
       "         [2145-05-10 00:35:00, 2145-05-10 01:35:00)                       40.0   \n",
       "         [2145-05-10 01:35:00, 2145-05-10 02:35:00)                       40.0   \n",
       "         [2145-05-10 02:35:00, 2145-05-10 03:35:00)                       40.0   \n",
       "         [2145-05-10 03:35:00, 2145-05-10 04:35:00)                       40.0   \n",
       "\n",
       "                                                     mean_blood_pressure  \\\n",
       "stay_id  time                                                              \n",
       "30009339 [2145-05-09 23:35:00, 2145-05-10 00:35:00)                 77.0   \n",
       "         [2145-05-10 00:35:00, 2145-05-10 01:35:00)                 77.0   \n",
       "         [2145-05-10 01:35:00, 2145-05-10 02:35:00)                 77.0   \n",
       "         [2145-05-10 02:35:00, 2145-05-10 03:35:00)                 77.0   \n",
       "         [2145-05-10 03:35:00, 2145-05-10 04:35:00)                 77.0   \n",
       "\n",
       "                                                     diastolic_blood_pressure  \\\n",
       "stay_id  time                                                                   \n",
       "30009339 [2145-05-09 23:35:00, 2145-05-10 00:35:00)                      59.0   \n",
       "         [2145-05-10 00:35:00, 2145-05-10 01:35:00)                      59.0   \n",
       "         [2145-05-10 01:35:00, 2145-05-10 02:35:00)                      59.0   \n",
       "         [2145-05-10 02:35:00, 2145-05-10 03:35:00)                      59.0   \n",
       "         [2145-05-10 03:35:00, 2145-05-10 04:35:00)                      59.0   \n",
       "\n",
       "                                                     systolic_blood_pressure  \\\n",
       "stay_id  time                                                                  \n",
       "30009339 [2145-05-09 23:35:00, 2145-05-10 00:35:00)                    118.0   \n",
       "         [2145-05-10 00:35:00, 2145-05-10 01:35:00)                    118.0   \n",
       "         [2145-05-10 01:35:00, 2145-05-10 02:35:00)                    118.0   \n",
       "         [2145-05-10 02:35:00, 2145-05-10 03:35:00)                    118.0   \n",
       "         [2145-05-10 03:35:00, 2145-05-10 04:35:00)                    118.0   \n",
       "\n",
       "                                                      gcs  \\\n",
       "stay_id  time                                               \n",
       "30009339 [2145-05-09 23:35:00, 2145-05-10 00:35:00)  11.0   \n",
       "         [2145-05-10 00:35:00, 2145-05-10 01:35:00)  11.0   \n",
       "         [2145-05-10 01:35:00, 2145-05-10 02:35:00)  11.0   \n",
       "         [2145-05-10 02:35:00, 2145-05-10 03:35:00)  11.0   \n",
       "         [2145-05-10 03:35:00, 2145-05-10 04:35:00)  11.0   \n",
       "\n",
       "                                                     partial_pressure_of_oxygen  \\\n",
       "stay_id  time                                                                     \n",
       "30009339 [2145-05-09 23:35:00, 2145-05-10 00:35:00)                       340.0   \n",
       "         [2145-05-10 00:35:00, 2145-05-10 01:35:00)                       372.0   \n",
       "         [2145-05-10 01:35:00, 2145-05-10 02:35:00)                       360.0   \n",
       "         [2145-05-10 02:35:00, 2145-05-10 03:35:00)                       449.0   \n",
       "         [2145-05-10 03:35:00, 2145-05-10 04:35:00)                       345.0   \n",
       "\n",
       "                                                     heart_rate  temperature  \\\n",
       "stay_id  time                                                                  \n",
       "30009339 [2145-05-09 23:35:00, 2145-05-10 00:35:00)        86.0         37.0   \n",
       "         [2145-05-10 00:35:00, 2145-05-10 01:35:00)        86.0         37.0   \n",
       "         [2145-05-10 01:35:00, 2145-05-10 02:35:00)        86.0         37.0   \n",
       "         [2145-05-10 02:35:00, 2145-05-10 03:35:00)        86.0         37.0   \n",
       "         [2145-05-10 03:35:00, 2145-05-10 04:35:00)        86.0         37.0   \n",
       "\n",
       "                                                     respiratory_rate  action  \n",
       "stay_id  time                                                                  \n",
       "30009339 [2145-05-09 23:35:00, 2145-05-10 00:35:00)              19.0     0.0  \n",
       "         [2145-05-10 00:35:00, 2145-05-10 01:35:00)              19.0     0.0  \n",
       "         [2145-05-10 01:35:00, 2145-05-10 02:35:00)              19.0     0.0  \n",
       "         [2145-05-10 02:35:00, 2145-05-10 03:35:00)              19.0     0.0  \n",
       "         [2145-05-10 03:35:00, 2145-05-10 04:35:00)              19.0     0.0  "
      ]
     },
     "execution_count": 6,
     "metadata": {},
     "output_type": "execute_result"
    }
   ],
   "source": [
    "test_df.head()"
   ]
  },
  {
   "cell_type": "code",
   "execution_count": 7,
   "metadata": {},
   "outputs": [
    {
     "data": {
      "text/html": [
       "<div>\n",
       "<style scoped>\n",
       "    .dataframe tbody tr th:only-of-type {\n",
       "        vertical-align: middle;\n",
       "    }\n",
       "\n",
       "    .dataframe tbody tr th {\n",
       "        vertical-align: top;\n",
       "    }\n",
       "\n",
       "    .dataframe thead th {\n",
       "        text-align: right;\n",
       "    }\n",
       "</style>\n",
       "<table border=\"1\" class=\"dataframe\">\n",
       "  <thead>\n",
       "    <tr style=\"text-align: right;\">\n",
       "      <th></th>\n",
       "      <th></th>\n",
       "      <th>creatinine</th>\n",
       "      <th>fraction_inspired_oxygen</th>\n",
       "      <th>lactate</th>\n",
       "      <th>urine_output</th>\n",
       "      <th>alanine_aminotransferase</th>\n",
       "      <th>asparate_aminotransferase</th>\n",
       "      <th>mean_blood_pressure</th>\n",
       "      <th>diastolic_blood_pressure</th>\n",
       "      <th>systolic_blood_pressure</th>\n",
       "      <th>gcs</th>\n",
       "      <th>partial_pressure_of_oxygen</th>\n",
       "      <th>heart_rate</th>\n",
       "      <th>temperature</th>\n",
       "      <th>respiratory_rate</th>\n",
       "      <th>action</th>\n",
       "    </tr>\n",
       "    <tr>\n",
       "      <th>stay_id</th>\n",
       "      <th>time</th>\n",
       "      <th></th>\n",
       "      <th></th>\n",
       "      <th></th>\n",
       "      <th></th>\n",
       "      <th></th>\n",
       "      <th></th>\n",
       "      <th></th>\n",
       "      <th></th>\n",
       "      <th></th>\n",
       "      <th></th>\n",
       "      <th></th>\n",
       "      <th></th>\n",
       "      <th></th>\n",
       "      <th></th>\n",
       "      <th></th>\n",
       "    </tr>\n",
       "  </thead>\n",
       "  <tbody>\n",
       "    <tr>\n",
       "      <th rowspan=\"5\" valign=\"top\">30001446</th>\n",
       "      <th>[2186-04-12 03:49:00, 2186-04-12 04:49:00)</th>\n",
       "      <td>1.0</td>\n",
       "      <td>0.21</td>\n",
       "      <td>1.8</td>\n",
       "      <td>80.0</td>\n",
       "      <td>34.0</td>\n",
       "      <td>40.0</td>\n",
       "      <td>61.0</td>\n",
       "      <td>56.0</td>\n",
       "      <td>75.0</td>\n",
       "      <td>11.0</td>\n",
       "      <td>112.0</td>\n",
       "      <td>82.0</td>\n",
       "      <td>36.722222</td>\n",
       "      <td>22.0</td>\n",
       "      <td>2.0</td>\n",
       "    </tr>\n",
       "    <tr>\n",
       "      <th>[2186-04-12 04:49:00, 2186-04-12 05:49:00)</th>\n",
       "      <td>2.7</td>\n",
       "      <td>0.21</td>\n",
       "      <td>1.8</td>\n",
       "      <td>40.0</td>\n",
       "      <td>38.0</td>\n",
       "      <td>114.0</td>\n",
       "      <td>63.0</td>\n",
       "      <td>46.0</td>\n",
       "      <td>96.0</td>\n",
       "      <td>15.0</td>\n",
       "      <td>112.0</td>\n",
       "      <td>80.0</td>\n",
       "      <td>36.722222</td>\n",
       "      <td>22.0</td>\n",
       "      <td>1.0</td>\n",
       "    </tr>\n",
       "    <tr>\n",
       "      <th>[2186-04-12 05:49:00, 2186-04-12 06:49:00)</th>\n",
       "      <td>2.7</td>\n",
       "      <td>0.21</td>\n",
       "      <td>1.8</td>\n",
       "      <td>100.0</td>\n",
       "      <td>38.0</td>\n",
       "      <td>114.0</td>\n",
       "      <td>99.0</td>\n",
       "      <td>75.0</td>\n",
       "      <td>152.0</td>\n",
       "      <td>15.0</td>\n",
       "      <td>112.0</td>\n",
       "      <td>79.0</td>\n",
       "      <td>36.722222</td>\n",
       "      <td>19.0</td>\n",
       "      <td>1.0</td>\n",
       "    </tr>\n",
       "    <tr>\n",
       "      <th>[2186-04-12 06:49:00, 2186-04-12 07:49:00)</th>\n",
       "      <td>2.7</td>\n",
       "      <td>0.21</td>\n",
       "      <td>1.7</td>\n",
       "      <td>100.0</td>\n",
       "      <td>38.0</td>\n",
       "      <td>114.0</td>\n",
       "      <td>72.0</td>\n",
       "      <td>55.5</td>\n",
       "      <td>107.0</td>\n",
       "      <td>15.0</td>\n",
       "      <td>98.0</td>\n",
       "      <td>83.0</td>\n",
       "      <td>36.722222</td>\n",
       "      <td>18.0</td>\n",
       "      <td>1.0</td>\n",
       "    </tr>\n",
       "    <tr>\n",
       "      <th>[2186-04-12 07:49:00, 2186-04-12 08:49:00)</th>\n",
       "      <td>2.7</td>\n",
       "      <td>0.21</td>\n",
       "      <td>1.7</td>\n",
       "      <td>40.0</td>\n",
       "      <td>38.0</td>\n",
       "      <td>114.0</td>\n",
       "      <td>70.0</td>\n",
       "      <td>53.0</td>\n",
       "      <td>105.0</td>\n",
       "      <td>15.0</td>\n",
       "      <td>98.0</td>\n",
       "      <td>77.0</td>\n",
       "      <td>35.944444</td>\n",
       "      <td>21.0</td>\n",
       "      <td>1.0</td>\n",
       "    </tr>\n",
       "  </tbody>\n",
       "</table>\n",
       "</div>"
      ],
      "text/plain": [
       "                                                     creatinine  \\\n",
       "stay_id  time                                                     \n",
       "30001446 [2186-04-12 03:49:00, 2186-04-12 04:49:00)         1.0   \n",
       "         [2186-04-12 04:49:00, 2186-04-12 05:49:00)         2.7   \n",
       "         [2186-04-12 05:49:00, 2186-04-12 06:49:00)         2.7   \n",
       "         [2186-04-12 06:49:00, 2186-04-12 07:49:00)         2.7   \n",
       "         [2186-04-12 07:49:00, 2186-04-12 08:49:00)         2.7   \n",
       "\n",
       "                                                     fraction_inspired_oxygen  \\\n",
       "stay_id  time                                                                   \n",
       "30001446 [2186-04-12 03:49:00, 2186-04-12 04:49:00)                      0.21   \n",
       "         [2186-04-12 04:49:00, 2186-04-12 05:49:00)                      0.21   \n",
       "         [2186-04-12 05:49:00, 2186-04-12 06:49:00)                      0.21   \n",
       "         [2186-04-12 06:49:00, 2186-04-12 07:49:00)                      0.21   \n",
       "         [2186-04-12 07:49:00, 2186-04-12 08:49:00)                      0.21   \n",
       "\n",
       "                                                     lactate  urine_output  \\\n",
       "stay_id  time                                                                \n",
       "30001446 [2186-04-12 03:49:00, 2186-04-12 04:49:00)      1.8          80.0   \n",
       "         [2186-04-12 04:49:00, 2186-04-12 05:49:00)      1.8          40.0   \n",
       "         [2186-04-12 05:49:00, 2186-04-12 06:49:00)      1.8         100.0   \n",
       "         [2186-04-12 06:49:00, 2186-04-12 07:49:00)      1.7         100.0   \n",
       "         [2186-04-12 07:49:00, 2186-04-12 08:49:00)      1.7          40.0   \n",
       "\n",
       "                                                     alanine_aminotransferase  \\\n",
       "stay_id  time                                                                   \n",
       "30001446 [2186-04-12 03:49:00, 2186-04-12 04:49:00)                      34.0   \n",
       "         [2186-04-12 04:49:00, 2186-04-12 05:49:00)                      38.0   \n",
       "         [2186-04-12 05:49:00, 2186-04-12 06:49:00)                      38.0   \n",
       "         [2186-04-12 06:49:00, 2186-04-12 07:49:00)                      38.0   \n",
       "         [2186-04-12 07:49:00, 2186-04-12 08:49:00)                      38.0   \n",
       "\n",
       "                                                     asparate_aminotransferase  \\\n",
       "stay_id  time                                                                    \n",
       "30001446 [2186-04-12 03:49:00, 2186-04-12 04:49:00)                       40.0   \n",
       "         [2186-04-12 04:49:00, 2186-04-12 05:49:00)                      114.0   \n",
       "         [2186-04-12 05:49:00, 2186-04-12 06:49:00)                      114.0   \n",
       "         [2186-04-12 06:49:00, 2186-04-12 07:49:00)                      114.0   \n",
       "         [2186-04-12 07:49:00, 2186-04-12 08:49:00)                      114.0   \n",
       "\n",
       "                                                     mean_blood_pressure  \\\n",
       "stay_id  time                                                              \n",
       "30001446 [2186-04-12 03:49:00, 2186-04-12 04:49:00)                 61.0   \n",
       "         [2186-04-12 04:49:00, 2186-04-12 05:49:00)                 63.0   \n",
       "         [2186-04-12 05:49:00, 2186-04-12 06:49:00)                 99.0   \n",
       "         [2186-04-12 06:49:00, 2186-04-12 07:49:00)                 72.0   \n",
       "         [2186-04-12 07:49:00, 2186-04-12 08:49:00)                 70.0   \n",
       "\n",
       "                                                     diastolic_blood_pressure  \\\n",
       "stay_id  time                                                                   \n",
       "30001446 [2186-04-12 03:49:00, 2186-04-12 04:49:00)                      56.0   \n",
       "         [2186-04-12 04:49:00, 2186-04-12 05:49:00)                      46.0   \n",
       "         [2186-04-12 05:49:00, 2186-04-12 06:49:00)                      75.0   \n",
       "         [2186-04-12 06:49:00, 2186-04-12 07:49:00)                      55.5   \n",
       "         [2186-04-12 07:49:00, 2186-04-12 08:49:00)                      53.0   \n",
       "\n",
       "                                                     systolic_blood_pressure  \\\n",
       "stay_id  time                                                                  \n",
       "30001446 [2186-04-12 03:49:00, 2186-04-12 04:49:00)                     75.0   \n",
       "         [2186-04-12 04:49:00, 2186-04-12 05:49:00)                     96.0   \n",
       "         [2186-04-12 05:49:00, 2186-04-12 06:49:00)                    152.0   \n",
       "         [2186-04-12 06:49:00, 2186-04-12 07:49:00)                    107.0   \n",
       "         [2186-04-12 07:49:00, 2186-04-12 08:49:00)                    105.0   \n",
       "\n",
       "                                                      gcs  \\\n",
       "stay_id  time                                               \n",
       "30001446 [2186-04-12 03:49:00, 2186-04-12 04:49:00)  11.0   \n",
       "         [2186-04-12 04:49:00, 2186-04-12 05:49:00)  15.0   \n",
       "         [2186-04-12 05:49:00, 2186-04-12 06:49:00)  15.0   \n",
       "         [2186-04-12 06:49:00, 2186-04-12 07:49:00)  15.0   \n",
       "         [2186-04-12 07:49:00, 2186-04-12 08:49:00)  15.0   \n",
       "\n",
       "                                                     partial_pressure_of_oxygen  \\\n",
       "stay_id  time                                                                     \n",
       "30001446 [2186-04-12 03:49:00, 2186-04-12 04:49:00)                       112.0   \n",
       "         [2186-04-12 04:49:00, 2186-04-12 05:49:00)                       112.0   \n",
       "         [2186-04-12 05:49:00, 2186-04-12 06:49:00)                       112.0   \n",
       "         [2186-04-12 06:49:00, 2186-04-12 07:49:00)                        98.0   \n",
       "         [2186-04-12 07:49:00, 2186-04-12 08:49:00)                        98.0   \n",
       "\n",
       "                                                     heart_rate  temperature  \\\n",
       "stay_id  time                                                                  \n",
       "30001446 [2186-04-12 03:49:00, 2186-04-12 04:49:00)        82.0    36.722222   \n",
       "         [2186-04-12 04:49:00, 2186-04-12 05:49:00)        80.0    36.722222   \n",
       "         [2186-04-12 05:49:00, 2186-04-12 06:49:00)        79.0    36.722222   \n",
       "         [2186-04-12 06:49:00, 2186-04-12 07:49:00)        83.0    36.722222   \n",
       "         [2186-04-12 07:49:00, 2186-04-12 08:49:00)        77.0    35.944444   \n",
       "\n",
       "                                                     respiratory_rate  action  \n",
       "stay_id  time                                                                  \n",
       "30001446 [2186-04-12 03:49:00, 2186-04-12 04:49:00)              22.0     2.0  \n",
       "         [2186-04-12 04:49:00, 2186-04-12 05:49:00)              22.0     1.0  \n",
       "         [2186-04-12 05:49:00, 2186-04-12 06:49:00)              19.0     1.0  \n",
       "         [2186-04-12 06:49:00, 2186-04-12 07:49:00)              18.0     1.0  \n",
       "         [2186-04-12 07:49:00, 2186-04-12 08:49:00)              21.0     1.0  "
      ]
     },
     "execution_count": 7,
     "metadata": {},
     "output_type": "execute_result"
    }
   ],
   "source": [
    "valid_df.head()"
   ]
  },
  {
   "cell_type": "code",
   "execution_count": 8,
   "metadata": {},
   "outputs": [],
   "source": [
    "import suboptimality as SO"
   ]
  },
  {
   "cell_type": "markdown",
   "metadata": {},
   "source": [
    "## UNCOMMENT TO ADD OBSERVATIONAL AMBIGUITY"
   ]
  },
  {
   "cell_type": "code",
   "execution_count": 9,
   "metadata": {},
   "outputs": [],
   "source": [
    "# suboptimal_features = ['creatinine', 'fraction_inspired_oxygen', 'lactate', 'urine_output',\n",
    "#                   'alanine_aminotransferase', 'asparate_aminotransferase',\n",
    "#                   'mean_blood_pressure', 'diastolic_blood_pressure',\n",
    "#                   'systolic_blood_pressure', 'gcs', 'partial_pressure_of_oxygen', \n",
    "#                   'heart_rate', 'temperature', 'respiratory_rate']\n",
    "\n",
    "# train_df = SO.observation_ambiguity(train_df, suboptimal_features, 0.1, 0.3)\n",
    "# test_df = SO.observation_ambiguity(test_df, suboptimal_features, 0.1, 0.3)\n",
    "# valid_df = SO.observation_ambiguity(valid_df, suboptimal_features, 0.1, 0.3)"
   ]
  },
  {
   "cell_type": "markdown",
   "metadata": {},
   "source": [
    "## UNCOMMENT TO ADD ACTION AMBIGUITY"
   ]
  },
  {
   "cell_type": "code",
   "execution_count": null,
   "metadata": {},
   "outputs": [],
   "source": [
    "train_df = SO.action_ambiguity(train_df, 0.3)\n",
    "test_df = SO.action_ambiguity(test_df, 0.3)\n",
    "valid_df = SO.action_ambiguity(valid_df, 0.3)"
   ]
  },
  {
   "cell_type": "code",
   "execution_count": null,
   "metadata": {},
   "outputs": [],
   "source": [
    "train_df.head()"
   ]
  },
  {
   "cell_type": "code",
   "execution_count": null,
   "metadata": {},
   "outputs": [],
   "source": [
    "test_df.head()"
   ]
  },
  {
   "cell_type": "code",
   "execution_count": null,
   "metadata": {},
   "outputs": [],
   "source": [
    "valid_df.head()"
   ]
  },
  {
   "cell_type": "markdown",
   "metadata": {},
   "source": [
    "# Normalize data"
   ]
  },
  {
   "cell_type": "code",
   "execution_count": null,
   "metadata": {},
   "outputs": [],
   "source": [
    "data_non_normalized_df = pd.concat([train_df, valid_df, test_df], axis=0, ignore_index=False).head(num_data).copy()\n",
    "\n",
    "\n",
    "#### standard normalization ####\n",
    "normalize_features = ['creatinine', 'fraction_inspired_oxygen', 'lactate', 'urine_output',\n",
    "                  'alanine_aminotransferase', 'asparate_aminotransferase',\n",
    "                  'mean_blood_pressure', 'diastolic_blood_pressure',\n",
    "                  'systolic_blood_pressure', 'gcs', 'partial_pressure_of_oxygen']\n",
    "mu, std = (train_df[normalize_features]).mean().values,(train_df[normalize_features]).std().values\n",
    "train_df[normalize_features] = (train_df[normalize_features] - mu)/std\n",
    "test_df[normalize_features] = (test_df[normalize_features] - mu)/std\n",
    "valid_df[normalize_features] = (valid_df[normalize_features] - mu)/std\n",
    "\n",
    "\n",
    "\n",
    "\n",
    "### create data matrix ####\n",
    "X_train = train_df.loc[:,train_df.columns!='action']\n",
    "y_train = train_df['action']\n",
    "\n",
    "X_test = test_df.loc[:,test_df.columns!='action']\n",
    "y_test = test_df['action']\n",
    "\n",
    "X_valid = valid_df.loc[:, valid_df.columns!='action']\n",
    "y_valid = valid_df['action']"
   ]
  },
  {
   "cell_type": "code",
   "execution_count": null,
   "metadata": {
    "id": "3ymWlYhEfsLb"
   },
   "outputs": [],
   "source": [
    "X_df = pd.concat([X_train, X_valid, X_test], axis=0, ignore_index=True).copy()\n",
    "y_df = pd.concat([y_train, y_valid, y_test], axis=0, ignore_index=True).copy()\n"
   ]
  },
  {
   "cell_type": "code",
   "execution_count": null,
   "metadata": {
    "id": "dFvAPob9fD5V"
   },
   "outputs": [],
   "source": [
    "data_df = pd.concat([train_df, valid_df, test_df], axis=0, ignore_index=False).copy()\n",
    "# data_df = data_df.head(num_data).copy()\n",
    "# X_df = X_df.head(num_data).copy()\n",
    "# y_df = y_df.head(num_data).copy()\n"
   ]
  },
  {
   "cell_type": "code",
   "execution_count": null,
   "metadata": {
    "colab": {
     "base_uri": "https://localhost:8080/"
    },
    "id": "j58_Sw7pwjBN",
    "outputId": "beddbdb8-fe6a-4bb0-8d5d-76ea20a11a82"
   },
   "outputs": [],
   "source": [
    "print(len(data_df))\n",
    "print(len(X_df))\n",
    "print(len(y_df))\n",
    "print(len(data_non_normalized_df))"
   ]
  },
  {
   "cell_type": "markdown",
   "metadata": {
    "id": "Paxeonaiu3rB"
   },
   "source": [
    "# Normalized version of the data"
   ]
  },
  {
   "cell_type": "code",
   "execution_count": null,
   "metadata": {
    "colab": {
     "base_uri": "https://localhost:8080/",
     "height": 680
    },
    "id": "xY_zub8TlRVm",
    "outputId": "894609fd-b98a-4274-932c-f0635d576eb3"
   },
   "outputs": [],
   "source": [
    "data_df.head()"
   ]
  },
  {
   "cell_type": "markdown",
   "metadata": {
    "id": "9iCHh7KLu_Al"
   },
   "source": [
    "# Unormalized version of the data"
   ]
  },
  {
   "cell_type": "code",
   "execution_count": null,
   "metadata": {
    "colab": {
     "base_uri": "https://localhost:8080/",
     "height": 680
    },
    "id": "34Vff---u-Er",
    "outputId": "218f9ba5-c5ec-4eda-adec-c610f15acc75"
   },
   "outputs": [],
   "source": [
    "data_non_normalized_df.head()"
   ]
  },
  {
   "cell_type": "markdown",
   "metadata": {
    "id": "DTriDVvYm2in"
   },
   "source": [
    "# Matrix form of the data (Normalized and features only)"
   ]
  },
  {
   "cell_type": "code",
   "execution_count": null,
   "metadata": {
    "colab": {
     "base_uri": "https://localhost:8080/",
     "height": 224
    },
    "id": "vY1Vz0YZm1Pj",
    "outputId": "8f772a9d-08b0-4e69-ac53-d00dc1772225"
   },
   "outputs": [],
   "source": [
    "X_df.head()"
   ]
  },
  {
   "cell_type": "markdown",
   "metadata": {
    "id": "ty_UG34Um94a"
   },
   "source": [
    "# Corresponding output data for training BC (corresponding treatments for each data point in X_df)"
   ]
  },
  {
   "cell_type": "code",
   "execution_count": null,
   "metadata": {
    "colab": {
     "base_uri": "https://localhost:8080/"
    },
    "id": "Gjw_qsM9m08j",
    "outputId": "ec463ca2-211b-4aee-bce9-8e81270fe984"
   },
   "outputs": [],
   "source": [
    "y_df.head()"
   ]
  },
  {
   "cell_type": "markdown",
   "metadata": {
    "id": "QrHtsSjsbdfX"
   },
   "source": [
    "# Clustering the feature space to extract a discrete state space form the clusters"
   ]
  },
  {
   "cell_type": "code",
   "execution_count": null,
   "metadata": {
    "colab": {
     "base_uri": "https://localhost:8080/",
     "height": 128
    },
    "id": "tZvwIakA2XyB",
    "outputId": "29462c95-f6e0-4d68-f9af-75650d58286c"
   },
   "outputs": [],
   "source": [
    "num_clusters = 100\n",
    "kmeans = KMeans(n_clusters= num_clusters , random_state=0)\n",
    "kmeans.fit(X_df)"
   ]
  },
  {
   "cell_type": "code",
   "execution_count": null,
   "metadata": {
    "colab": {
     "base_uri": "https://localhost:8080/"
    },
    "id": "2M06PxkEyHyE",
    "outputId": "1f51a026-60ae-419a-f265-51fc0c34b5eb"
   },
   "outputs": [],
   "source": [
    "# Looking at the values counts for each cluster\n",
    "\n",
    "np.unique(kmeans.labels_, return_counts = True)[1]"
   ]
  },
  {
   "cell_type": "code",
   "execution_count": null,
   "metadata": {
    "id": "THctDvfNfDzO"
   },
   "outputs": [],
   "source": [
    "# Assigning each data point to a cluster\n",
    "\n",
    "X_df['cluster'] = kmeans.labels_.copy()\n",
    "data_df['cluster'] = kmeans.labels_.copy()\n",
    "data_non_normalized_df['cluster'] = kmeans.labels_.copy()"
   ]
  },
  {
   "cell_type": "code",
   "execution_count": null,
   "metadata": {},
   "outputs": [],
   "source": [
    "print(X_df['cluster'].unique())"
   ]
  },
  {
   "cell_type": "code",
   "execution_count": null,
   "metadata": {
    "colab": {
     "base_uri": "https://localhost:8080/",
     "height": 680
    },
    "id": "fyLrxt0PfDwy",
    "outputId": "8b428504-8d84-40a8-fe4d-c8e581dc42e9"
   },
   "outputs": [],
   "source": [
    "data_df.head()"
   ]
  },
  {
   "cell_type": "code",
   "execution_count": null,
   "metadata": {
    "colab": {
     "base_uri": "https://localhost:8080/",
     "height": 224
    },
    "id": "Wldxy5LkYd3V",
    "outputId": "8d195544-19c5-4b43-aaea-2fea9216e2cb",
    "scrolled": true
   },
   "outputs": [],
   "source": [
    "X_df.head()"
   ]
  },
  {
   "cell_type": "code",
   "execution_count": null,
   "metadata": {
    "colab": {
     "base_uri": "https://localhost:8080/",
     "height": 680
    },
    "id": "2dlixxBjSk5D",
    "outputId": "f5b87d4f-a314-4673-ece1-0ec8b10e3311"
   },
   "outputs": [],
   "source": [
    "data_non_normalized_df.head()"
   ]
  },
  {
   "cell_type": "markdown",
   "metadata": {},
   "source": [
    "## Add Static and Dynamic Occlusion"
   ]
  },
  {
   "cell_type": "markdown",
   "metadata": {},
   "source": [
    "## UNCOMMENT TO ADD STATIC OCCLUSION"
   ]
  },
  {
   "cell_type": "code",
   "execution_count": null,
   "metadata": {},
   "outputs": [],
   "source": [
    "data_df = SO.static_occlusion(data_df, [0, 10, 20, 30, 40, 50, 60, 70, 80, 90])"
   ]
  },
  {
   "cell_type": "markdown",
   "metadata": {},
   "source": [
    "## UNCOMMENT TO ADD DYNAMIC OCCLUSION"
   ]
  },
  {
   "cell_type": "code",
   "execution_count": null,
   "metadata": {},
   "outputs": [],
   "source": [
    "data_df = SO.dynamic_occlusion(data_df, 0.3)"
   ]
  },
  {
   "cell_type": "markdown",
   "metadata": {
    "id": "Rhol7shFy4uA"
   },
   "source": [
    "# Converting the data into trajectories to input to an IRL algorithm Note this is the same format of trajectories we used for HW1 and HW2."
   ]
  },
  {
   "cell_type": "code",
   "execution_count": null,
   "metadata": {
    "id": "_orzJHTGmyur"
   },
   "outputs": [],
   "source": [
    "unique_stay_ids = data_df.index.get_level_values('stay_id').unique()\n",
    "\n",
    "trajectories = []\n",
    "\n",
    "\n",
    "for stay_id in unique_stay_ids:\n",
    "\n",
    "\n",
    "  states, actions = data_df.loc[stay_id]['cluster'], data_df.loc[stay_id]['action']\n",
    "\n",
    "  trajectory = []\n",
    "  for i in range(len(states) - 1):\n",
    "    trajectory.append((states[i], int(actions[i]), states[i+1] ))\n",
    "\n",
    "  trajectories.append(T.Trajectory(trajectory))"
   ]
  },
  {
   "cell_type": "markdown",
   "metadata": {
    "id": "cSrWgKqX1eLl"
   },
   "source": [
    "We need to store all possible terminal states from the trajectories list. (Needed to calculate the normalizing constant in MaxEnt)"
   ]
  },
  {
   "cell_type": "code",
   "execution_count": null,
   "metadata": {
    "id": "9CsdWcAlEiYH"
   },
   "outputs": [],
   "source": [
    "terminal_states = []\n",
    "\n",
    "for traj in trajectories:\n",
    "  terminal_states.append(traj._t[-1][-1])\n",
    "\n",
    "terminal_states = list(set(terminal_states))"
   ]
  },
  {
   "cell_type": "markdown",
   "metadata": {
    "id": "aKkw5PAlBeo9"
   },
   "source": [
    "# Distribution of the treatments given in our data. (Most of the time no treatment is given, might vary on depending on how you cluster the data)"
   ]
  },
  {
   "cell_type": "code",
   "execution_count": null,
   "metadata": {
    "colab": {
     "base_uri": "https://localhost:8080/"
    },
    "id": "1AYFFwuT-hsP",
    "outputId": "185b10e5-68fa-4f63-873e-f7c4091240db"
   },
   "outputs": [],
   "source": [
    "y_df.value_counts()"
   ]
  },
  {
   "cell_type": "markdown",
   "metadata": {
    "id": "VLji3EUoB8fn"
   },
   "source": [
    "# BC Policy example"
   ]
  },
  {
   "cell_type": "code",
   "execution_count": null,
   "metadata": {
    "colab": {
     "base_uri": "https://localhost:8080/"
    },
    "id": "kUHEt5uZmyoq",
    "outputId": "56f9d47d-feaf-4e27-ad05-f173b8e80f2e"
   },
   "outputs": [],
   "source": [
    "# Convert states and actions to one-hot encoding\n",
    "state_encoder = OneHotEncoder(sparse=False, categories= [np.arange(num_clusters)])\n",
    "action_encoder = OneHotEncoder(sparse=False, categories= [np.arange(4)])\n",
    "\n",
    "\n",
    "states_onehot = state_encoder.fit_transform(X_df['cluster'].to_numpy().reshape(-1, 1))\n",
    "actions_onehot = action_encoder.fit_transform(y_df.to_numpy().reshape(-1, 1))\n",
    "\n",
    "\n",
    "# # Define neural network architecture\n",
    "model = tf.keras.Sequential([\n",
    "    tf.keras.layers.Dense(32, activation='relu', input_shape=(states_onehot.shape[1],)),\n",
    "    tf.keras.layers.Dense(64, activation='relu'),\n",
    "    tf.keras.layers.Dense(128, activation='relu'),\n",
    "    tf.keras.layers.Dense(64, activation='relu'),\n",
    "    tf.keras.layers.Dense(32, activation='relu'),\n",
    "    tf.keras.layers.Dense(actions_onehot.shape[1], activation='softmax')  # Output layer with softmax for discrete actions\n",
    "])\n",
    "\n",
    "# # Compile the model\n",
    "model.compile(optimizer='adam', loss='categorical_crossentropy', metrics= ['accuracy'])\n",
    "\n",
    "# # Train the model\n",
    "model.fit(states_onehot, actions_onehot,  epochs=5, batch_size=128)\n",
    "\n",
    "# # Evaluate the model\n",
    "test_loss = model.evaluate(states_onehot, actions_onehot)\n",
    "print(\"Test Loss:\", test_loss)\n"
   ]
  },
  {
   "cell_type": "code",
   "execution_count": null,
   "metadata": {
    "colab": {
     "base_uri": "https://localhost:8080/"
    },
    "id": "iWv5yk6y-Htt",
    "outputId": "9c8fc1da-95d0-4ada-ab72-8d198b0718bd"
   },
   "outputs": [],
   "source": [
    "bc_policy = np.argmax(model.predict(state_encoder.transform(np.arange(num_clusters).reshape(-1, 1))), axis =1)\n",
    "bc_policy"
   ]
  },
  {
   "cell_type": "code",
   "execution_count": null,
   "metadata": {
    "colab": {
     "base_uri": "https://localhost:8080/",
     "height": 1000
    },
    "id": "zY03ukQ05T8_",
    "outputId": "7ff4ccc8-e3a7-4c34-e65d-c0d880ece76c"
   },
   "outputs": [],
   "source": [
    "# Default plot code\n",
    "\n",
    "# fig, axes = plt.subplots(nrows=2, ncols=5, figsize=(32, 16))\n",
    "\n",
    "# for i, ax in enumerate(axes.flatten()):\n",
    "#     data_df[data_df['cluster'] == i]['action'].value_counts().plot(kind = 'bar', ax = ax, title = 'Cluster: ' + str(i+ 1))\n",
    "#     ax.set_ylabel('Counts')\n",
    "    \n",
    "fig, axes = plt.subplots(nrows=2, ncols=5, figsize=(32, 16))\n",
    "\n",
    "labels = ['No action', 'Vaso', 'Bolus', 'Vaso + Bolus']\n",
    "\n",
    "for i, ax in enumerate(axes.flatten()):\n",
    "    print(data_df[data_df['cluster'] == i]['action'].value_counts().tolist())\n",
    "\n",
    "for i, ax in enumerate(axes.flatten()):\n",
    "    policy = data_df[data_df['cluster'] == i]['action'].value_counts().tolist()\n",
    "    while len(policy) < 4:\n",
    "        policy.append(0)\n",
    "    ax.pie(policy, labels=labels, autopct='%1.1f%%', textprops={'fontsize': 17})\n",
    "    ax.set_title('Cluster ' + str(i+ 1), fontsize=25)\n",
    "\n",
    "fig.suptitle(\"BC Policy\", fontsize=50)"
   ]
  },
  {
   "cell_type": "markdown",
   "metadata": {
    "id": "QOKcfQRcJPRA"
   },
   "source": [
    "# Estimating the Transition Dynamics using the MLE (feel free to play around with the smoothing_value)"
   ]
  },
  {
   "cell_type": "code",
   "execution_count": null,
   "metadata": {
    "id": "-IV4o95nRlJz"
   },
   "outputs": [],
   "source": [
    "smoothing_value = 1\n",
    "\n",
    "p_transition = np.zeros((num_clusters, num_clusters, 4)) + smoothing_value\n",
    "\n",
    "\n",
    "for traj in trajectories:\n",
    "\n",
    "  for tran in traj._t:\n",
    "\n",
    "    p_transition[tran[0], tran[2], tran[1]] +=1\n",
    "\n",
    "p_transition = p_transition/ p_transition.sum(axis = 1)[:, np.newaxis, :]"
   ]
  },
  {
   "cell_type": "code",
   "execution_count": null,
   "metadata": {
    "colab": {
     "base_uri": "https://localhost:8080/"
    },
    "id": "MhzuEkc8RlFG",
    "outputId": "b5e0de03-a9b3-49a9-9a3c-2bf9880248d8"
   },
   "outputs": [],
   "source": [
    "p_transition"
   ]
  },
  {
   "cell_type": "markdown",
   "metadata": {
    "id": "n6WOgG24KKQr"
   },
   "source": [
    "# Max Causal Entropy"
   ]
  },
  {
   "cell_type": "markdown",
   "metadata": {
    "id": "VFrongPAiw2K"
   },
   "source": [
    "# Feel free to play with the discount factor"
   ]
  },
  {
   "cell_type": "code",
   "execution_count": null,
   "metadata": {
    "id": "hGTy7XNmi0dl"
   },
   "outputs": [],
   "source": [
    "discount = 0.9"
   ]
  },
  {
   "cell_type": "code",
   "execution_count": null,
   "metadata": {
    "id": "uqqQ4cpQFsG_"
   },
   "outputs": [],
   "source": [
    "from maxent import irl, irl_causal"
   ]
  },
  {
   "cell_type": "code",
   "execution_count": null,
   "metadata": {
    "id": "5fJeGRYbPKRv"
   },
   "outputs": [],
   "source": [
    "# set up features: we use one feature vector per state (1 hot encoding for each cluster/state)\n",
    "features = state_encoder.transform(np.arange(num_clusters).reshape(-1, 1))\n",
    "\n",
    "# choose our parameter initialization strategy:\n",
    "#   initialize parameters with constant\n",
    "init = O.Constant(1.0)\n",
    "\n",
    "# choose our optimization strategy:\n",
    "#   we select exponentiated stochastic gradient descent with linear learning-rate decay\n",
    "optim = O.ExpSga(lr=O.linear_decay(lr0=0.2))\n",
    "\n",
    "# actually do some inverse reinforcement learning\n",
    "# reward_maxent = maxent_irl(p_transition, features, terminal_states, trajectories, optim, init, eps= 1e-3)\n",
    "\n",
    "reward_maxent_causal = irl_causal(p_transition, features, terminal_states, trajectories, optim, init, discount,\n",
    "               eps=1e-3, eps_svf=1e-4, eps_lap=1e-4)"
   ]
  },
  {
   "cell_type": "code",
   "execution_count": null,
   "metadata": {
    "colab": {
     "base_uri": "https://localhost:8080/"
    },
    "id": "RyZxOX9HGiTc",
    "outputId": "ad9b7357-adca-4b0d-fc08-39935534c6ae"
   },
   "outputs": [],
   "source": [
    "reward_maxent_causal"
   ]
  },
  {
   "cell_type": "code",
   "execution_count": null,
   "metadata": {},
   "outputs": [],
   "source": [
    "v = reward_maxent_causal\n",
    "normalized_reward_maxent_causal = (v - v.min()) / (v.max() - v.min())\n",
    "print(normalized_reward_maxent_causal)"
   ]
  },
  {
   "cell_type": "code",
   "execution_count": null,
   "metadata": {},
   "outputs": [],
   "source": [
    "reshaped_rewards = normalized_reward_maxent_causal.reshape((10, 10))\n",
    "\n",
    "fig, ax = plt.subplots(figsize=(8,8))\n",
    "im = ax.imshow(reshaped_rewards, cmap='inferno')\n",
    "ax.set_title(\"MaxEnt Causal Reward Heatmap\", fontsize = 20)\n",
    "colorbar = fig.colorbar(im, fraction=0.046, pad=0.04)\n",
    "colorbar.set_label(label = \"Normalized Values\", fontsize = 15)"
   ]
  },
  {
   "cell_type": "code",
   "execution_count": null,
   "metadata": {},
   "outputs": [],
   "source": [
    "cluster_sizes = np.zeros(100)\n",
    "\n",
    "for i in range(num_clusters):\n",
    "    cluster_sizes[i] = (len(X_df.loc[X_df['cluster'] == i]))"
   ]
  },
  {
   "cell_type": "code",
   "execution_count": null,
   "metadata": {},
   "outputs": [],
   "source": [
    "fig, ax = plt.subplots(figsize=(10, 10))\n",
    "ax.scatter(cluster_sizes, normalized_reward_maxent_causal)\n",
    "ax.set_title(\"Reward Value vs. Number of Data Points per Cluster\", fontsize=18)\n",
    "ax.set_xlabel(\"Number of Data Points\", fontsize = 15)\n",
    "ax.set_ylabel(\"Normalized Reward Values\", fontsize = 15)\n",
    "\n",
    "\n",
    "current_values = plt.gca().get_xticks()\n",
    "plt.gca().set_xticklabels(['{:,.0f}'.format(x) for x in current_values])"
   ]
  },
  {
   "cell_type": "markdown",
   "metadata": {},
   "source": [
    "# GAIL CODE\n",
    "\n",
    "-need to add mimic.py and transition_mat to gymnasium local installation to run this env\n",
    "\n",
    "-assumes that trajectories are saved in variable 'trajectories' (I used the same format as above)"
   ]
  },
  {
   "cell_type": "code",
   "execution_count": null,
   "metadata": {},
   "outputs": [],
   "source": [
    "from imitation.policies.serialize import load_policy\n",
    "from imitation.util.util import make_vec_env\n",
    "from imitation.data.wrappers import RolloutInfoWrapper\n",
    "\n",
    "#SEED = 42\n",
    "\n",
    "#need to add mimic.py and transition_mat to gymnasium local installation to use this env!!!\n",
    "env = make_vec_env(\n",
    "    \"mimic-v0\",\n",
    "    rng=np.random.default_rng(SEED),\n",
    "    n_envs=8,\n",
    "    post_wrappers=[\n",
    "        lambda env, _: RolloutInfoWrapper(env)\n",
    "    ],\n",
    ")\n",
    "\n",
    "from imitation.data.types import Trajectory\n",
    "import pickle\n",
    "\n",
    "#with open(\"mimic-trajectories\",\"rb\") as f:\n",
    "#    trajectories = pickle.load(f)\n",
    "\n",
    "rollouts = []\n",
    "#turn trajectories into (state,action) pairs\n",
    "for gail_trajectory in trajectories:\n",
    "    obs = np.array(list(gail_trajectory.states()))\n",
    "    acts = np.array([i for (_,i,_) in gail_trajectory.transitions()])\n",
    "    rollouts.append(Trajectory(obs=obs, acts=acts, infos=None, terminal=True))\n",
    "\n",
    "from imitation.algorithms.adversarial.gail import GAIL\n",
    "from imitation.rewards.reward_nets import BasicRewardNet\n",
    "from imitation.util.networks import RunningNorm\n",
    "from stable_baselines3 import PPO\n",
    "from stable_baselines3.ppo import MlpPolicy\n",
    "from stable_baselines3.common.evaluation import evaluate_policy\n",
    "\n",
    "# This is a learner that uses the proximal policy optimization algorithm and we will it use to compute the policy update steps of the GAIL algorithm\n",
    "learner = PPO(\n",
    "    env=env,\n",
    "    policy=MlpPolicy,\n",
    "    batch_size=64,\n",
    "    ent_coef=0.0,\n",
    "    learning_rate=0.0004,\n",
    "    gamma=0.95,\n",
    "    n_epochs=5,\n",
    "    seed=SEED,\n",
    ")\n",
    "\n",
    "# This is a neural network that takes a batch of (state, action, next_state) triples and calculates the associated rewards and we will use it to compute the discriminator update steps of the GAIL algorithm\n",
    "reward_net = BasicRewardNet(\n",
    "    observation_space=env.observation_space,\n",
    "    action_space=env.action_space,\n",
    "    normalize_input_layer=RunningNorm,\n",
    ")\n",
    "\n",
    "# imitation implementation of GAIL \n",
    "gail_trainer = GAIL(\n",
    "    demonstrations=rollouts,\n",
    "    demo_batch_size=1024,\n",
    "    gen_replay_buffer_capacity=512,\n",
    "    n_disc_updates_per_round=8,\n",
    "    venv=env,\n",
    "    gen_algo=learner,\n",
    "    reward_net=reward_net,\n",
    ")\n",
    "\n",
    "#this takes a while, can run it for fewer iterations\n",
    "gail_trainer.train(800_000)\n",
    "\n",
    "#extract policy\n",
    "GAIL_policy = [learner.predict(i,deterministic=True)[0].item() for i in range(100)]"
   ]
  },
  {
   "cell_type": "markdown",
   "metadata": {
    "id": "vctnXPxKXIXz"
   },
   "source": [
    "# Computing the policy induced by your learnt reward"
   ]
  },
  {
   "cell_type": "code",
   "execution_count": null,
   "metadata": {
    "id": "vq42uJp-PKIX"
   },
   "outputs": [],
   "source": [
    "V, Q = S.value_iteration(p_transition, reward_maxent_causal, discount)"
   ]
  },
  {
   "cell_type": "code",
   "execution_count": null,
   "metadata": {
    "id": "nmnoI9RqZcF6"
   },
   "outputs": [],
   "source": [
    "Q = Q.reshape((4, num_clusters))"
   ]
  },
  {
   "cell_type": "code",
   "execution_count": null,
   "metadata": {
    "id": "Of8MwWRxZWrl"
   },
   "outputs": [],
   "source": [
    "soft_pi_mce = (np.exp(Q)/ np.sum(np.exp(Q), axis = 0)).T"
   ]
  },
  {
   "cell_type": "code",
   "execution_count": null,
   "metadata": {
    "colab": {
     "base_uri": "https://localhost:8080/"
    },
    "id": "_XfRDCpzaC3e",
    "outputId": "a12c8e30-81f4-4788-d746-7cc2359931b4"
   },
   "outputs": [],
   "source": [
    "soft_pi_mce"
   ]
  },
  {
   "cell_type": "code",
   "execution_count": null,
   "metadata": {},
   "outputs": [],
   "source": [
    "fig, axes = plt.subplots(nrows=2, ncols=5, figsize=(32, 16))\n",
    "\n",
    "labels = ['No action', 'Vaso', 'Bolus', 'Vaso + Bolus']\n",
    "\n",
    "for i, ax in enumerate(axes.flatten()):\n",
    "    ax.pie(soft_pi_mce[i], labels=labels, autopct='%1.1f%%', textprops={'fontsize': 17})\n",
    "    ax.set_title('Cluster ' + str(i+ 1), fontsize=25)\n",
    "\n",
    "fig.suptitle(\"MCE Policy\", fontsize=50)"
   ]
  },
  {
   "cell_type": "code",
   "execution_count": null,
   "metadata": {
    "id": "qAPqpvDlPKFk"
   },
   "outputs": [],
   "source": [
    "policy_mce = np.argmax(Q, axis = 0).reshape(-1, )"
   ]
  },
  {
   "cell_type": "code",
   "execution_count": null,
   "metadata": {
    "colab": {
     "base_uri": "https://localhost:8080/"
    },
    "id": "2kEhFD2VW_0n",
    "outputId": "33418b19-fe59-4961-829b-3ea0e5e1833b"
   },
   "outputs": [],
   "source": [
    "policy_mce"
   ]
  },
  {
   "cell_type": "markdown",
   "metadata": {},
   "source": [
    "# Identify top and bottom 5 reward clusters"
   ]
  },
  {
   "cell_type": "code",
   "execution_count": null,
   "metadata": {},
   "outputs": [],
   "source": [
    "k = 5\n",
    "\n",
    "min_sorted = np.sort(reward_maxent_causal)\n",
    "min_five = min_sorted[:k]\n",
    "min_five_indices = []\n",
    "\n",
    "for j in range(len(min_five)):\n",
    "    for i in range(len(reward_maxent_causal)):\n",
    "        if min_five[j] == reward_maxent_causal[i]:\n",
    "            min_five_indices.append(i)\n",
    "\n",
    "print(min_five)\n",
    "print(min_five_indices)"
   ]
  },
  {
   "cell_type": "code",
   "execution_count": null,
   "metadata": {},
   "outputs": [],
   "source": [
    "max_sorted = np.sort(reward_maxent_causal)\n",
    "max_five = max_sorted[-k:]\n",
    "max_five_indices = []\n",
    "\n",
    "for j in range(len(max_five)):\n",
    "    for i in range(len(reward_maxent_causal)):\n",
    "        if max_five[j] == reward_maxent_causal[i]:\n",
    "            max_five_indices.append(i)\n",
    "\n",
    "print(max_five)\n",
    "print(max_five_indices)"
   ]
  },
  {
   "cell_type": "code",
   "execution_count": null,
   "metadata": {},
   "outputs": [],
   "source": [
    "min_five_indices = np.flip(min_five_indices)\n",
    "max_five_indices = np.flip(max_five_indices)\n",
    "print(max_five_indices)\n",
    "print(min_five_indices)"
   ]
  },
  {
   "cell_type": "markdown",
   "metadata": {},
   "source": [
    "# Average values for heat map"
   ]
  },
  {
   "cell_type": "code",
   "execution_count": null,
   "metadata": {},
   "outputs": [],
   "source": [
    "viz_df = data_non_normalized_df\n",
    "viz_df = viz_df.drop(['action'], axis=1)\n",
    "\n",
    "color_matrix_y_labels = viz_df.drop(['cluster'], axis=1).columns.tolist()\n",
    "color_matrix_x_labels = max_five_indices.tolist()\n",
    "for i in min_five_indices :\n",
    "    color_matrix_x_labels.append(i)\n",
    "print(color_matrix_y_labels)\n",
    "print(color_matrix_x_labels)\n",
    "\n",
    "\n",
    "color_matrix = []\n",
    "\n",
    "for i in max_five_indices:\n",
    "    df = viz_df[viz_df['cluster'] == i].mean()\n",
    "    lst = df.drop(['cluster']).tolist()\n",
    "    color_matrix.append(lst)    \n",
    "    \n",
    "for i in min_five_indices:\n",
    "    df = viz_df[viz_df['cluster'] == i].mean()\n",
    "    lst = df.drop(['cluster']).tolist()\n",
    "    color_matrix.append(lst)\n",
    "    \n",
    "color_matrix = np.transpose(color_matrix)\n",
    "\n",
    "color_matrix"
   ]
  },
  {
   "cell_type": "markdown",
   "metadata": {},
   "source": [
    "# Adding policy actions to heat map"
   ]
  },
  {
   "cell_type": "code",
   "execution_count": null,
   "metadata": {},
   "outputs": [],
   "source": [
    "bc_action = []\n",
    "for i in color_matrix_x_labels:\n",
    "    bc_action.append(bc_policy[i])\n",
    "\n",
    "print(bc_action)\n",
    "\n",
    "mce_action = []\n",
    "for i in color_matrix_x_labels:\n",
    "    mce_action.append(policy_mce[i])\n",
    "\n",
    "print(mce_action)"
   ]
  },
  {
   "cell_type": "code",
   "execution_count": null,
   "metadata": {},
   "outputs": [],
   "source": [
    "color_matrix = color_matrix.tolist()"
   ]
  },
  {
   "cell_type": "code",
   "execution_count": null,
   "metadata": {},
   "outputs": [],
   "source": [
    "color_matrix.append(bc_action)\n",
    "color_matrix.append(mce_action)"
   ]
  },
  {
   "cell_type": "code",
   "execution_count": null,
   "metadata": {},
   "outputs": [],
   "source": [
    "len(color_matrix)"
   ]
  },
  {
   "cell_type": "code",
   "execution_count": null,
   "metadata": {},
   "outputs": [],
   "source": [
    "color_matrix_y_labels.append('bc_action')\n",
    "color_matrix_y_labels.append('mce_action')"
   ]
  },
  {
   "cell_type": "code",
   "execution_count": null,
   "metadata": {},
   "outputs": [],
   "source": [
    "color_matrix_y_labels"
   ]
  },
  {
   "cell_type": "code",
   "execution_count": null,
   "metadata": {},
   "outputs": [],
   "source": [
    "len(color_matrix_y_labels)\n",
    "print(color_matrix_y_labels)"
   ]
  },
  {
   "cell_type": "code",
   "execution_count": null,
   "metadata": {},
   "outputs": [],
   "source": []
  },
  {
   "cell_type": "code",
   "execution_count": null,
   "metadata": {},
   "outputs": [],
   "source": [
    "normalized_color_matrix = color_matrix\n",
    "\n",
    "for i in range(len(normalized_color_matrix)):\n",
    "    lst = normalized_color_matrix[i]\n",
    "    max_val = max(lst)\n",
    "    min_val = min(lst)\n",
    "    if color_matrix_y_labels[i] == 'bc_action' or color_matrix_y_labels[i] == 'mce_action':\n",
    "        max_val = 3\n",
    "        min_val = 0\n",
    "    dif = max_val - min_val\n",
    "    for j in range(len(lst)):\n",
    "        normalized_color_matrix[i][j] = normalized_color_matrix[i][j]-min_val\n",
    "        normalized_color_matrix[i][j] = normalized_color_matrix[i][j]/dif        "
   ]
  },
  {
   "cell_type": "code",
   "execution_count": null,
   "metadata": {},
   "outputs": [],
   "source": [
    "normalized_color_matrix"
   ]
  },
  {
   "cell_type": "code",
   "execution_count": null,
   "metadata": {
    "id": "CVJDuv8RIMqh"
   },
   "outputs": [],
   "source": [
    "fig, ax = plt.subplots(figsize=(32,20))\n",
    "im = ax.imshow(color_matrix, cmap='inferno')\n",
    "ax.set_title(\"Top and Bottom 5 States\", fontsize = 28)\n",
    "ax.set_yticks(np.arange(0, 16, 1))\n",
    "ax.set_yticklabels(color_matrix_y_labels, fontsize = 15)\n",
    "ax.set_xticks(np.arange(0, 10, 1))\n",
    "ax.set_xticklabels(color_matrix_x_labels, fontsize = 15)\n",
    "ax.set_ylabel('Features', fontsize = 20)\n",
    "ax.set_xlabel('Clusters', fontsize = 20)\n",
    "colorbar = fig.colorbar(im, fraction=0.046, pad=0.04)\n",
    "colorbar.set_label(label = \"Normalized Values\", fontsize = 15)"
   ]
  },
  {
   "cell_type": "code",
   "execution_count": null,
   "metadata": {},
   "outputs": [],
   "source": []
  }
 ],
 "metadata": {
  "colab": {
   "provenance": []
  },
  "kernelspec": {
   "display_name": "Python 3 (ipykernel)",
   "language": "python",
   "name": "python3"
  },
  "language_info": {
   "codemirror_mode": {
    "name": "ipython",
    "version": 3
   },
   "file_extension": ".py",
   "mimetype": "text/x-python",
   "name": "python",
   "nbconvert_exporter": "python",
   "pygments_lexer": "ipython3",
   "version": "3.9.7"
  }
 },
 "nbformat": 4,
 "nbformat_minor": 4
}
