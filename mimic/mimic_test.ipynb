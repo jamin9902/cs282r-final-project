{
 "cells": [
  {
   "cell_type": "code",
   "execution_count": 1,
   "metadata": {
    "colab": {
     "base_uri": "https://localhost:8080/"
    },
    "id": "cBmuqzqHfqT-",
    "outputId": "a20694af-495b-471a-9a6a-a5214274aeab"
   },
   "outputs": [
    {
     "name": "stderr",
     "output_type": "stream",
     "text": [
      "2023-11-29 07:21:47.167748: I tensorflow/core/platform/cpu_feature_guard.cc:182] This TensorFlow binary is optimized to use available CPU instructions in performance-critical operations.\n",
      "To enable the following instructions: AVX2 AVX512F AVX512_VNNI FMA, in other operations, rebuild TensorFlow with the appropriate compiler flags.\n"
     ]
    },
    {
     "name": "stdout",
     "output_type": "stream",
     "text": [
      "[0.4 0.6 1. ]\n"
     ]
    }
   ],
   "source": [
    "import pandas as pd\n",
    "import numpy as np\n",
    "from numpy.lib.stride_tricks import sliding_window_view\n",
    "import os, pickle\n",
    "import matplotlib.pyplot as plt\n",
    "import tensorflow as tf\n",
    "\n",
    "from sklearn.cluster import KMeans\n",
    "\n",
    "from sklearn.preprocessing import OneHotEncoder\n",
    "\n",
    "from itertools import product\n",
    "\n",
    "import sys, os\n",
    "\n",
    "import trajectory as T                      # trajectory generation\n",
    "import optimizer as O                       # stochastic gradient descent optimizer\n",
    "import solver as S                          # MDP solver (value-iteration)\n",
    "import plot as P\n",
    "\n",
    "\n",
    "num_data = 355504\n",
    "\n",
    "\n",
    "np.random.seed(66)\n",
    "\n",
    "def to_interval(istr):\n",
    "    c_left = istr[0]=='['\n",
    "    c_right = istr[-1]==']'\n",
    "    closed = {(True, False): 'left',\n",
    "              (False, True): 'right',\n",
    "              (True, True): 'both',\n",
    "              (False, False): 'neither'\n",
    "              }[c_left, c_right]\n",
    "    left, right = map(pd.to_datetime, istr[1:-1].split(','))\n",
    "    return pd.Interval(left, right, closed)\n",
    "\n",
    "re_split = False\n",
    "frac = [0.4,0.2,0.4]\n",
    "assert np.sum(frac) == 1\n",
    "frac = np.cumsum(frac)\n",
    "print (frac)\n",
    "data_save_path= 'data/'\n",
    "\n",
    "def sliding(gs, window_size = 6):\n",
    "    npr_l = []\n",
    "    for g in gs:\n",
    "        npr = np.concatenate([np.zeros([window_size-1, g.shape[1]]),g])\n",
    "        npr_l.append(sliding_window_view(npr, (window_size, g.shape[1])).squeeze(1))\n",
    "    return np.vstack(npr_l)"
   ]
  },
  {
   "cell_type": "markdown",
   "metadata": {
    "id": "hxJYvR8zr1MV"
   },
   "source": [
    "# LOADING THE DATA"
   ]
  },
  {
   "cell_type": "code",
   "execution_count": 2,
   "metadata": {
    "id": "zSoMb1qcfsQn"
   },
   "outputs": [],
   "source": [
    "# if re_split:\n",
    "\n",
    "\n",
    "aggr_df = pd.read_csv('mimic_iv_hypotensive_cut2.csv',sep = ',', header = 0,converters={1:to_interval}).set_index(['stay_id','time']).sort_index()\n",
    "# create action bins (four actions in total)\n",
    "aggr_df['action'] = aggr_df['bolus(binary)']*2 + aggr_df['vaso(binary)']\n",
    "all_idx = np.random.permutation(aggr_df.index.get_level_values(0).unique())\n",
    "train_df = aggr_df.loc[all_idx[:int(len(all_idx)*frac[0])]].sort_index()\n",
    "test_df = aggr_df.loc[all_idx[int(len(all_idx)*frac[0]):int(len(all_idx)*frac[1])]].sort_index()\n",
    "valid_df = aggr_df.loc[all_idx[int(len(all_idx)*frac[1]):]].sort_index()\n",
    "# print (np.unique(train_df['action'],return_counts=True)[1]*1./len(train_df))\n",
    "# pickle.dump([train_df, test_df, valid_df], open(data_save_path+'processed_mimic_hyp_2.pkl','wb'))\n",
    "drop_columns = ['vaso(amount)','bolus(amount)',\\\n",
    "            'any_treatment(binary)','vaso(binary)','bolus(binary)']\n",
    "\n",
    "\n"
   ]
  },
  {
   "cell_type": "markdown",
   "metadata": {
    "id": "YRc9IHC10f8N"
   },
   "source": [
    "# LOOKING AT THE DATA"
   ]
  },
  {
   "cell_type": "code",
   "execution_count": 3,
   "metadata": {
    "colab": {
     "base_uri": "https://localhost:8080/",
     "height": 697
    },
    "id": "OsBQJGZfltoR",
    "outputId": "8782d7c4-4177-4e07-c559-6c785d288e0b"
   },
   "outputs": [
    {
     "data": {
      "text/html": [
       "<div>\n",
       "<style scoped>\n",
       "    .dataframe tbody tr th:only-of-type {\n",
       "        vertical-align: middle;\n",
       "    }\n",
       "\n",
       "    .dataframe tbody tr th {\n",
       "        vertical-align: top;\n",
       "    }\n",
       "\n",
       "    .dataframe thead th {\n",
       "        text-align: right;\n",
       "    }\n",
       "</style>\n",
       "<table border=\"1\" class=\"dataframe\">\n",
       "  <thead>\n",
       "    <tr style=\"text-align: right;\">\n",
       "      <th></th>\n",
       "      <th></th>\n",
       "      <th>creatinine</th>\n",
       "      <th>fraction_inspired_oxygen</th>\n",
       "      <th>lactate</th>\n",
       "      <th>urine_output</th>\n",
       "      <th>alanine_aminotransferase</th>\n",
       "      <th>asparate_aminotransferase</th>\n",
       "      <th>mean_blood_pressure</th>\n",
       "      <th>diastolic_blood_pressure</th>\n",
       "      <th>systolic_blood_pressure</th>\n",
       "      <th>gcs</th>\n",
       "      <th>partial_pressure_of_oxygen</th>\n",
       "      <th>heart_rate</th>\n",
       "      <th>temperature</th>\n",
       "      <th>respiratory_rate</th>\n",
       "      <th>vaso(binary)</th>\n",
       "      <th>vaso(amount)</th>\n",
       "      <th>bolus(binary)</th>\n",
       "      <th>bolus(amount)</th>\n",
       "      <th>any_treatment(binary)</th>\n",
       "      <th>action</th>\n",
       "    </tr>\n",
       "    <tr>\n",
       "      <th>stay_id</th>\n",
       "      <th>time</th>\n",
       "      <th></th>\n",
       "      <th></th>\n",
       "      <th></th>\n",
       "      <th></th>\n",
       "      <th></th>\n",
       "      <th></th>\n",
       "      <th></th>\n",
       "      <th></th>\n",
       "      <th></th>\n",
       "      <th></th>\n",
       "      <th></th>\n",
       "      <th></th>\n",
       "      <th></th>\n",
       "      <th></th>\n",
       "      <th></th>\n",
       "      <th></th>\n",
       "      <th></th>\n",
       "      <th></th>\n",
       "      <th></th>\n",
       "      <th></th>\n",
       "    </tr>\n",
       "  </thead>\n",
       "  <tbody>\n",
       "    <tr>\n",
       "      <th rowspan=\"5\" valign=\"top\">30001446</th>\n",
       "      <th>[2186-04-12 03:49:00, 2186-04-12 04:49:00)</th>\n",
       "      <td>NaN</td>\n",
       "      <td>NaN</td>\n",
       "      <td>NaN</td>\n",
       "      <td>NaN</td>\n",
       "      <td>NaN</td>\n",
       "      <td>NaN</td>\n",
       "      <td>61.0</td>\n",
       "      <td>56.0</td>\n",
       "      <td>75.0</td>\n",
       "      <td>NaN</td>\n",
       "      <td>NaN</td>\n",
       "      <td>82.0</td>\n",
       "      <td>36.722222</td>\n",
       "      <td>22.0</td>\n",
       "      <td>0.0</td>\n",
       "      <td>0.000000</td>\n",
       "      <td>1.0</td>\n",
       "      <td>1000.0</td>\n",
       "      <td>1.0</td>\n",
       "      <td>2.0</td>\n",
       "    </tr>\n",
       "    <tr>\n",
       "      <th>[2186-04-12 04:49:00, 2186-04-12 05:49:00)</th>\n",
       "      <td>2.7</td>\n",
       "      <td>NaN</td>\n",
       "      <td>NaN</td>\n",
       "      <td>40.0</td>\n",
       "      <td>38.0</td>\n",
       "      <td>114.0</td>\n",
       "      <td>63.0</td>\n",
       "      <td>46.0</td>\n",
       "      <td>96.0</td>\n",
       "      <td>15.0</td>\n",
       "      <td>NaN</td>\n",
       "      <td>80.0</td>\n",
       "      <td>NaN</td>\n",
       "      <td>22.0</td>\n",
       "      <td>1.0</td>\n",
       "      <td>0.077612</td>\n",
       "      <td>0.0</td>\n",
       "      <td>0.0</td>\n",
       "      <td>1.0</td>\n",
       "      <td>1.0</td>\n",
       "    </tr>\n",
       "    <tr>\n",
       "      <th>[2186-04-12 05:49:00, 2186-04-12 06:49:00)</th>\n",
       "      <td>NaN</td>\n",
       "      <td>NaN</td>\n",
       "      <td>NaN</td>\n",
       "      <td>100.0</td>\n",
       "      <td>NaN</td>\n",
       "      <td>NaN</td>\n",
       "      <td>99.0</td>\n",
       "      <td>75.0</td>\n",
       "      <td>152.0</td>\n",
       "      <td>NaN</td>\n",
       "      <td>NaN</td>\n",
       "      <td>79.0</td>\n",
       "      <td>NaN</td>\n",
       "      <td>19.0</td>\n",
       "      <td>1.0</td>\n",
       "      <td>0.238806</td>\n",
       "      <td>0.0</td>\n",
       "      <td>0.0</td>\n",
       "      <td>1.0</td>\n",
       "      <td>1.0</td>\n",
       "    </tr>\n",
       "    <tr>\n",
       "      <th>[2186-04-12 06:49:00, 2186-04-12 07:49:00)</th>\n",
       "      <td>NaN</td>\n",
       "      <td>NaN</td>\n",
       "      <td>1.7</td>\n",
       "      <td>NaN</td>\n",
       "      <td>NaN</td>\n",
       "      <td>NaN</td>\n",
       "      <td>72.0</td>\n",
       "      <td>55.5</td>\n",
       "      <td>107.0</td>\n",
       "      <td>NaN</td>\n",
       "      <td>98.0</td>\n",
       "      <td>83.0</td>\n",
       "      <td>NaN</td>\n",
       "      <td>18.0</td>\n",
       "      <td>1.0</td>\n",
       "      <td>0.166559</td>\n",
       "      <td>0.0</td>\n",
       "      <td>0.0</td>\n",
       "      <td>1.0</td>\n",
       "      <td>1.0</td>\n",
       "    </tr>\n",
       "    <tr>\n",
       "      <th>[2186-04-12 07:49:00, 2186-04-12 08:49:00)</th>\n",
       "      <td>NaN</td>\n",
       "      <td>NaN</td>\n",
       "      <td>NaN</td>\n",
       "      <td>40.0</td>\n",
       "      <td>NaN</td>\n",
       "      <td>NaN</td>\n",
       "      <td>70.0</td>\n",
       "      <td>53.0</td>\n",
       "      <td>105.0</td>\n",
       "      <td>NaN</td>\n",
       "      <td>NaN</td>\n",
       "      <td>77.0</td>\n",
       "      <td>35.944444</td>\n",
       "      <td>21.0</td>\n",
       "      <td>1.0</td>\n",
       "      <td>0.172458</td>\n",
       "      <td>0.0</td>\n",
       "      <td>0.0</td>\n",
       "      <td>1.0</td>\n",
       "      <td>1.0</td>\n",
       "    </tr>\n",
       "  </tbody>\n",
       "</table>\n",
       "</div>"
      ],
      "text/plain": [
       "                                                     creatinine  \\\n",
       "stay_id  time                                                     \n",
       "30001446 [2186-04-12 03:49:00, 2186-04-12 04:49:00)         NaN   \n",
       "         [2186-04-12 04:49:00, 2186-04-12 05:49:00)         2.7   \n",
       "         [2186-04-12 05:49:00, 2186-04-12 06:49:00)         NaN   \n",
       "         [2186-04-12 06:49:00, 2186-04-12 07:49:00)         NaN   \n",
       "         [2186-04-12 07:49:00, 2186-04-12 08:49:00)         NaN   \n",
       "\n",
       "                                                     fraction_inspired_oxygen  \\\n",
       "stay_id  time                                                                   \n",
       "30001446 [2186-04-12 03:49:00, 2186-04-12 04:49:00)                       NaN   \n",
       "         [2186-04-12 04:49:00, 2186-04-12 05:49:00)                       NaN   \n",
       "         [2186-04-12 05:49:00, 2186-04-12 06:49:00)                       NaN   \n",
       "         [2186-04-12 06:49:00, 2186-04-12 07:49:00)                       NaN   \n",
       "         [2186-04-12 07:49:00, 2186-04-12 08:49:00)                       NaN   \n",
       "\n",
       "                                                     lactate  urine_output  \\\n",
       "stay_id  time                                                                \n",
       "30001446 [2186-04-12 03:49:00, 2186-04-12 04:49:00)      NaN           NaN   \n",
       "         [2186-04-12 04:49:00, 2186-04-12 05:49:00)      NaN          40.0   \n",
       "         [2186-04-12 05:49:00, 2186-04-12 06:49:00)      NaN         100.0   \n",
       "         [2186-04-12 06:49:00, 2186-04-12 07:49:00)      1.7           NaN   \n",
       "         [2186-04-12 07:49:00, 2186-04-12 08:49:00)      NaN          40.0   \n",
       "\n",
       "                                                     alanine_aminotransferase  \\\n",
       "stay_id  time                                                                   \n",
       "30001446 [2186-04-12 03:49:00, 2186-04-12 04:49:00)                       NaN   \n",
       "         [2186-04-12 04:49:00, 2186-04-12 05:49:00)                      38.0   \n",
       "         [2186-04-12 05:49:00, 2186-04-12 06:49:00)                       NaN   \n",
       "         [2186-04-12 06:49:00, 2186-04-12 07:49:00)                       NaN   \n",
       "         [2186-04-12 07:49:00, 2186-04-12 08:49:00)                       NaN   \n",
       "\n",
       "                                                     asparate_aminotransferase  \\\n",
       "stay_id  time                                                                    \n",
       "30001446 [2186-04-12 03:49:00, 2186-04-12 04:49:00)                        NaN   \n",
       "         [2186-04-12 04:49:00, 2186-04-12 05:49:00)                      114.0   \n",
       "         [2186-04-12 05:49:00, 2186-04-12 06:49:00)                        NaN   \n",
       "         [2186-04-12 06:49:00, 2186-04-12 07:49:00)                        NaN   \n",
       "         [2186-04-12 07:49:00, 2186-04-12 08:49:00)                        NaN   \n",
       "\n",
       "                                                     mean_blood_pressure  \\\n",
       "stay_id  time                                                              \n",
       "30001446 [2186-04-12 03:49:00, 2186-04-12 04:49:00)                 61.0   \n",
       "         [2186-04-12 04:49:00, 2186-04-12 05:49:00)                 63.0   \n",
       "         [2186-04-12 05:49:00, 2186-04-12 06:49:00)                 99.0   \n",
       "         [2186-04-12 06:49:00, 2186-04-12 07:49:00)                 72.0   \n",
       "         [2186-04-12 07:49:00, 2186-04-12 08:49:00)                 70.0   \n",
       "\n",
       "                                                     diastolic_blood_pressure  \\\n",
       "stay_id  time                                                                   \n",
       "30001446 [2186-04-12 03:49:00, 2186-04-12 04:49:00)                      56.0   \n",
       "         [2186-04-12 04:49:00, 2186-04-12 05:49:00)                      46.0   \n",
       "         [2186-04-12 05:49:00, 2186-04-12 06:49:00)                      75.0   \n",
       "         [2186-04-12 06:49:00, 2186-04-12 07:49:00)                      55.5   \n",
       "         [2186-04-12 07:49:00, 2186-04-12 08:49:00)                      53.0   \n",
       "\n",
       "                                                     systolic_blood_pressure  \\\n",
       "stay_id  time                                                                  \n",
       "30001446 [2186-04-12 03:49:00, 2186-04-12 04:49:00)                     75.0   \n",
       "         [2186-04-12 04:49:00, 2186-04-12 05:49:00)                     96.0   \n",
       "         [2186-04-12 05:49:00, 2186-04-12 06:49:00)                    152.0   \n",
       "         [2186-04-12 06:49:00, 2186-04-12 07:49:00)                    107.0   \n",
       "         [2186-04-12 07:49:00, 2186-04-12 08:49:00)                    105.0   \n",
       "\n",
       "                                                      gcs  \\\n",
       "stay_id  time                                               \n",
       "30001446 [2186-04-12 03:49:00, 2186-04-12 04:49:00)   NaN   \n",
       "         [2186-04-12 04:49:00, 2186-04-12 05:49:00)  15.0   \n",
       "         [2186-04-12 05:49:00, 2186-04-12 06:49:00)   NaN   \n",
       "         [2186-04-12 06:49:00, 2186-04-12 07:49:00)   NaN   \n",
       "         [2186-04-12 07:49:00, 2186-04-12 08:49:00)   NaN   \n",
       "\n",
       "                                                     partial_pressure_of_oxygen  \\\n",
       "stay_id  time                                                                     \n",
       "30001446 [2186-04-12 03:49:00, 2186-04-12 04:49:00)                         NaN   \n",
       "         [2186-04-12 04:49:00, 2186-04-12 05:49:00)                         NaN   \n",
       "         [2186-04-12 05:49:00, 2186-04-12 06:49:00)                         NaN   \n",
       "         [2186-04-12 06:49:00, 2186-04-12 07:49:00)                        98.0   \n",
       "         [2186-04-12 07:49:00, 2186-04-12 08:49:00)                         NaN   \n",
       "\n",
       "                                                     heart_rate  temperature  \\\n",
       "stay_id  time                                                                  \n",
       "30001446 [2186-04-12 03:49:00, 2186-04-12 04:49:00)        82.0    36.722222   \n",
       "         [2186-04-12 04:49:00, 2186-04-12 05:49:00)        80.0          NaN   \n",
       "         [2186-04-12 05:49:00, 2186-04-12 06:49:00)        79.0          NaN   \n",
       "         [2186-04-12 06:49:00, 2186-04-12 07:49:00)        83.0          NaN   \n",
       "         [2186-04-12 07:49:00, 2186-04-12 08:49:00)        77.0    35.944444   \n",
       "\n",
       "                                                     respiratory_rate  \\\n",
       "stay_id  time                                                           \n",
       "30001446 [2186-04-12 03:49:00, 2186-04-12 04:49:00)              22.0   \n",
       "         [2186-04-12 04:49:00, 2186-04-12 05:49:00)              22.0   \n",
       "         [2186-04-12 05:49:00, 2186-04-12 06:49:00)              19.0   \n",
       "         [2186-04-12 06:49:00, 2186-04-12 07:49:00)              18.0   \n",
       "         [2186-04-12 07:49:00, 2186-04-12 08:49:00)              21.0   \n",
       "\n",
       "                                                     vaso(binary)  \\\n",
       "stay_id  time                                                       \n",
       "30001446 [2186-04-12 03:49:00, 2186-04-12 04:49:00)           0.0   \n",
       "         [2186-04-12 04:49:00, 2186-04-12 05:49:00)           1.0   \n",
       "         [2186-04-12 05:49:00, 2186-04-12 06:49:00)           1.0   \n",
       "         [2186-04-12 06:49:00, 2186-04-12 07:49:00)           1.0   \n",
       "         [2186-04-12 07:49:00, 2186-04-12 08:49:00)           1.0   \n",
       "\n",
       "                                                     vaso(amount)  \\\n",
       "stay_id  time                                                       \n",
       "30001446 [2186-04-12 03:49:00, 2186-04-12 04:49:00)      0.000000   \n",
       "         [2186-04-12 04:49:00, 2186-04-12 05:49:00)      0.077612   \n",
       "         [2186-04-12 05:49:00, 2186-04-12 06:49:00)      0.238806   \n",
       "         [2186-04-12 06:49:00, 2186-04-12 07:49:00)      0.166559   \n",
       "         [2186-04-12 07:49:00, 2186-04-12 08:49:00)      0.172458   \n",
       "\n",
       "                                                     bolus(binary)  \\\n",
       "stay_id  time                                                        \n",
       "30001446 [2186-04-12 03:49:00, 2186-04-12 04:49:00)            1.0   \n",
       "         [2186-04-12 04:49:00, 2186-04-12 05:49:00)            0.0   \n",
       "         [2186-04-12 05:49:00, 2186-04-12 06:49:00)            0.0   \n",
       "         [2186-04-12 06:49:00, 2186-04-12 07:49:00)            0.0   \n",
       "         [2186-04-12 07:49:00, 2186-04-12 08:49:00)            0.0   \n",
       "\n",
       "                                                     bolus(amount)  \\\n",
       "stay_id  time                                                        \n",
       "30001446 [2186-04-12 03:49:00, 2186-04-12 04:49:00)         1000.0   \n",
       "         [2186-04-12 04:49:00, 2186-04-12 05:49:00)            0.0   \n",
       "         [2186-04-12 05:49:00, 2186-04-12 06:49:00)            0.0   \n",
       "         [2186-04-12 06:49:00, 2186-04-12 07:49:00)            0.0   \n",
       "         [2186-04-12 07:49:00, 2186-04-12 08:49:00)            0.0   \n",
       "\n",
       "                                                     any_treatment(binary)  \\\n",
       "stay_id  time                                                                \n",
       "30001446 [2186-04-12 03:49:00, 2186-04-12 04:49:00)                    1.0   \n",
       "         [2186-04-12 04:49:00, 2186-04-12 05:49:00)                    1.0   \n",
       "         [2186-04-12 05:49:00, 2186-04-12 06:49:00)                    1.0   \n",
       "         [2186-04-12 06:49:00, 2186-04-12 07:49:00)                    1.0   \n",
       "         [2186-04-12 07:49:00, 2186-04-12 08:49:00)                    1.0   \n",
       "\n",
       "                                                     action  \n",
       "stay_id  time                                                \n",
       "30001446 [2186-04-12 03:49:00, 2186-04-12 04:49:00)     2.0  \n",
       "         [2186-04-12 04:49:00, 2186-04-12 05:49:00)     1.0  \n",
       "         [2186-04-12 05:49:00, 2186-04-12 06:49:00)     1.0  \n",
       "         [2186-04-12 06:49:00, 2186-04-12 07:49:00)     1.0  \n",
       "         [2186-04-12 07:49:00, 2186-04-12 08:49:00)     1.0  "
      ]
     },
     "execution_count": 3,
     "metadata": {},
     "output_type": "execute_result"
    }
   ],
   "source": [
    "## print(len(aggr_df))\n",
    "aggr_df.head()"
   ]
  },
  {
   "cell_type": "markdown",
   "metadata": {
    "id": "yp1hmcRNmA2t"
   },
   "source": [
    "# Data for patient with hypotension, two treatment vasopressors and a bolus dose of epinephrine depending on certain features of the patient. In order to do IRL we need to discretize the action space:\n",
    "* Action 0 = No treatment\n",
    "* Action 1 = Vaso\n",
    "* Action 2 = Bolus\n",
    "* Action 3 = Vaso + Bolus\n",
    "\n"
   ]
  },
  {
   "cell_type": "markdown",
   "metadata": {
    "id": "2QRz2-UrbHH2"
   },
   "source": [
    "# Data cleaning for taking care of missing values"
   ]
  },
  {
   "cell_type": "code",
   "execution_count": 4,
   "metadata": {
    "colab": {
     "base_uri": "https://localhost:8080/",
     "height": 385
    },
    "id": "KgC11LtffsOB",
    "outputId": "4cd54f28-d9df-4ee4-e7d6-fc564417e258"
   },
   "outputs": [],
   "source": [
    "# for now drop indicators about bolus and vaso\n",
    "train_df = train_df.drop(columns=drop_columns)\n",
    "test_df = test_df.drop(columns=drop_columns)\n",
    "valid_df = valid_df.drop(columns=drop_columns)\n",
    "\n",
    "#### imputation\n",
    "impute_table = pd.read_csv('mimic_iv_hypotensive_cut2_impute_table.csv',sep=',',header=0).set_index(['feature'])\n",
    "train_df = train_df.fillna(method='ffill')\n",
    "test_df = test_df.fillna(method='ffill')\n",
    "valid_df = valid_df.fillna(method='ffill')\n",
    "\n",
    "\n",
    "\n",
    "\n",
    "for f in impute_table.index:\n",
    "    train_df[f] = train_df[f].fillna(value = impute_table.loc[f].values[0])\n",
    "    test_df[f] = test_df[f].fillna(value = impute_table.loc[f].values[0])\n",
    "    valid_df[f] = valid_df[f].fillna(value = impute_table.loc[f].values[0])"
   ]
  },
  {
   "cell_type": "markdown",
   "metadata": {},
   "source": [
    "# Add observational and action ambiguity"
   ]
  },
  {
   "cell_type": "code",
   "execution_count": 5,
   "metadata": {},
   "outputs": [],
   "source": [
    "import suboptimality as SO"
   ]
  },
  {
   "cell_type": "markdown",
   "metadata": {},
   "source": [
    "## UNCOMMENT TO ADD OBSERVATIONAL AMBIGUITY"
   ]
  },
  {
   "cell_type": "code",
   "execution_count": 6,
   "metadata": {},
   "outputs": [],
   "source": [
    "suboptimal_features = ['creatinine', 'fraction_inspired_oxygen', 'lactate', 'urine_output',\n",
    "                  'alanine_aminotransferase', 'asparate_aminotransferase',\n",
    "                  'mean_blood_pressure', 'diastolic_blood_pressure',\n",
    "                  'systolic_blood_pressure', 'gcs', 'partial_pressure_of_oxygen', \n",
    "                  'heart_rate', 'temperature', 'respiratory_rate']\n",
    "\n",
    "train_df = SO.observation_ambiguity(train_df, suboptimal_features, 0.1, 0.3)\n",
    "test_df = SO.observation_ambiguity(test_df, suboptimal_features, 0.1, 0.3)\n",
    "valid_df = SO.observation_ambiguity(valid_df, suboptimal_features, 0.1, 0.3)"
   ]
  },
  {
   "cell_type": "markdown",
   "metadata": {},
   "source": [
    "## UNCOMMENT TO ADD ACTION AMBIGUITY"
   ]
  },
  {
   "cell_type": "code",
   "execution_count": 7,
   "metadata": {},
   "outputs": [],
   "source": [
    "# train_df = SO.action_ambiguity(train_df, 0.3)\n",
    "# test_df = SO.action_ambiguity(test_df, 0.3)\n",
    "# valid_df = SO.action_ambiguity(valid_df, 0.3)"
   ]
  },
  {
   "cell_type": "markdown",
   "metadata": {},
   "source": [
    "# Normalize data"
   ]
  },
  {
   "cell_type": "code",
   "execution_count": 8,
   "metadata": {},
   "outputs": [],
   "source": [
    "data_non_normalized_df = pd.concat([train_df, valid_df, test_df], axis=0, ignore_index=False).head(num_data).copy()\n",
    "\n",
    "\n",
    "#### standard normalization ####\n",
    "normalize_features = ['creatinine', 'fraction_inspired_oxygen', 'lactate', 'urine_output',\n",
    "                  'alanine_aminotransferase', 'asparate_aminotransferase',\n",
    "                  'mean_blood_pressure', 'diastolic_blood_pressure',\n",
    "                  'systolic_blood_pressure', 'gcs', 'partial_pressure_of_oxygen']\n",
    "mu, std = (train_df[normalize_features]).mean().values,(train_df[normalize_features]).std().values\n",
    "train_df[normalize_features] = (train_df[normalize_features] - mu)/std\n",
    "test_df[normalize_features] = (test_df[normalize_features] - mu)/std\n",
    "valid_df[normalize_features] = (valid_df[normalize_features] - mu)/std\n",
    "\n",
    "\n",
    "\n",
    "\n",
    "### create data matrix ####\n",
    "X_train = train_df.loc[:,train_df.columns!='action']\n",
    "y_train = train_df['action']\n",
    "\n",
    "X_test = test_df.loc[:,test_df.columns!='action']\n",
    "y_test = test_df['action']\n",
    "\n",
    "X_valid = valid_df.loc[:, valid_df.columns!='action']\n",
    "y_valid = valid_df['action']"
   ]
  },
  {
   "cell_type": "code",
   "execution_count": 9,
   "metadata": {
    "id": "3ymWlYhEfsLb"
   },
   "outputs": [],
   "source": [
    "X_df = pd.concat([X_train, X_valid, X_test], axis=0, ignore_index=True).copy()\n",
    "y_df = pd.concat([y_train, y_valid, y_test], axis=0, ignore_index=True).copy()\n"
   ]
  },
  {
   "cell_type": "code",
   "execution_count": 10,
   "metadata": {
    "id": "dFvAPob9fD5V"
   },
   "outputs": [],
   "source": [
    "data_df = pd.concat([train_df, valid_df, test_df], axis=0, ignore_index=False).copy()\n",
    "# data_df = data_df.head(num_data).copy()\n",
    "# X_df = X_df.head(num_data).copy()\n",
    "# y_df = y_df.head(num_data).copy()\n"
   ]
  },
  {
   "cell_type": "code",
   "execution_count": 11,
   "metadata": {
    "colab": {
     "base_uri": "https://localhost:8080/"
    },
    "id": "j58_Sw7pwjBN",
    "outputId": "beddbdb8-fe6a-4bb0-8d5d-76ea20a11a82"
   },
   "outputs": [
    {
     "name": "stdout",
     "output_type": "stream",
     "text": [
      "355504\n",
      "355504\n",
      "355504\n",
      "355504\n"
     ]
    }
   ],
   "source": [
    "print(len(data_df))\n",
    "print(len(X_df))\n",
    "print(len(y_df))\n",
    "print(len(data_non_normalized_df))"
   ]
  },
  {
   "cell_type": "markdown",
   "metadata": {
    "id": "Paxeonaiu3rB"
   },
   "source": [
    "# Normalized version of the data"
   ]
  },
  {
   "cell_type": "code",
   "execution_count": 12,
   "metadata": {
    "colab": {
     "base_uri": "https://localhost:8080/",
     "height": 680
    },
    "id": "xY_zub8TlRVm",
    "outputId": "894609fd-b98a-4274-932c-f0635d576eb3"
   },
   "outputs": [
    {
     "data": {
      "text/html": [
       "<div>\n",
       "<style scoped>\n",
       "    .dataframe tbody tr th:only-of-type {\n",
       "        vertical-align: middle;\n",
       "    }\n",
       "\n",
       "    .dataframe tbody tr th {\n",
       "        vertical-align: top;\n",
       "    }\n",
       "\n",
       "    .dataframe thead th {\n",
       "        text-align: right;\n",
       "    }\n",
       "</style>\n",
       "<table border=\"1\" class=\"dataframe\">\n",
       "  <thead>\n",
       "    <tr style=\"text-align: right;\">\n",
       "      <th></th>\n",
       "      <th></th>\n",
       "      <th>creatinine</th>\n",
       "      <th>fraction_inspired_oxygen</th>\n",
       "      <th>lactate</th>\n",
       "      <th>urine_output</th>\n",
       "      <th>alanine_aminotransferase</th>\n",
       "      <th>asparate_aminotransferase</th>\n",
       "      <th>mean_blood_pressure</th>\n",
       "      <th>diastolic_blood_pressure</th>\n",
       "      <th>systolic_blood_pressure</th>\n",
       "      <th>gcs</th>\n",
       "      <th>partial_pressure_of_oxygen</th>\n",
       "      <th>heart_rate</th>\n",
       "      <th>temperature</th>\n",
       "      <th>respiratory_rate</th>\n",
       "      <th>action</th>\n",
       "    </tr>\n",
       "    <tr>\n",
       "      <th>stay_id</th>\n",
       "      <th>time</th>\n",
       "      <th></th>\n",
       "      <th></th>\n",
       "      <th></th>\n",
       "      <th></th>\n",
       "      <th></th>\n",
       "      <th></th>\n",
       "      <th></th>\n",
       "      <th></th>\n",
       "      <th></th>\n",
       "      <th></th>\n",
       "      <th></th>\n",
       "      <th></th>\n",
       "      <th></th>\n",
       "      <th></th>\n",
       "      <th></th>\n",
       "    </tr>\n",
       "  </thead>\n",
       "  <tbody>\n",
       "    <tr>\n",
       "      <th rowspan=\"5\" valign=\"top\">30004811</th>\n",
       "      <th>[2139-10-06 10:40:29, 2139-10-06 11:40:29)</th>\n",
       "      <td>-0.421475</td>\n",
       "      <td>-1.75829</td>\n",
       "      <td>-0.182337</td>\n",
       "      <td>-0.225739</td>\n",
       "      <td>-0.278455</td>\n",
       "      <td>-0.265147</td>\n",
       "      <td>0.404399</td>\n",
       "      <td>0.390936</td>\n",
       "      <td>0.368307</td>\n",
       "      <td>-2.475837</td>\n",
       "      <td>-0.186180</td>\n",
       "      <td>86.000000</td>\n",
       "      <td>36.959364</td>\n",
       "      <td>19.0</td>\n",
       "      <td>0.0</td>\n",
       "    </tr>\n",
       "    <tr>\n",
       "      <th>[2139-10-06 11:40:29, 2139-10-06 12:40:29)</th>\n",
       "      <td>-0.421475</td>\n",
       "      <td>-1.75829</td>\n",
       "      <td>-0.182337</td>\n",
       "      <td>-0.225739</td>\n",
       "      <td>-0.288263</td>\n",
       "      <td>-0.265147</td>\n",
       "      <td>0.404399</td>\n",
       "      <td>0.390936</td>\n",
       "      <td>0.368307</td>\n",
       "      <td>-2.671418</td>\n",
       "      <td>-0.186180</td>\n",
       "      <td>84.927928</td>\n",
       "      <td>36.998415</td>\n",
       "      <td>19.0</td>\n",
       "      <td>0.0</td>\n",
       "    </tr>\n",
       "    <tr>\n",
       "      <th>[2139-10-06 12:40:29, 2139-10-06 13:40:29)</th>\n",
       "      <td>-0.289503</td>\n",
       "      <td>-1.75829</td>\n",
       "      <td>0.359987</td>\n",
       "      <td>-0.225739</td>\n",
       "      <td>-0.294100</td>\n",
       "      <td>-0.265147</td>\n",
       "      <td>0.404399</td>\n",
       "      <td>0.390936</td>\n",
       "      <td>0.385663</td>\n",
       "      <td>-2.475837</td>\n",
       "      <td>2.326179</td>\n",
       "      <td>86.000000</td>\n",
       "      <td>37.000000</td>\n",
       "      <td>19.0</td>\n",
       "      <td>0.0</td>\n",
       "    </tr>\n",
       "    <tr>\n",
       "      <th>[2139-10-06 13:40:29, 2139-10-06 14:40:29)</th>\n",
       "      <td>-0.421475</td>\n",
       "      <td>-1.75829</td>\n",
       "      <td>0.359987</td>\n",
       "      <td>-0.225739</td>\n",
       "      <td>-0.288263</td>\n",
       "      <td>-0.265147</td>\n",
       "      <td>0.404399</td>\n",
       "      <td>0.390936</td>\n",
       "      <td>0.448947</td>\n",
       "      <td>-2.475837</td>\n",
       "      <td>2.353612</td>\n",
       "      <td>86.000000</td>\n",
       "      <td>36.978516</td>\n",
       "      <td>19.0</td>\n",
       "      <td>0.0</td>\n",
       "    </tr>\n",
       "    <tr>\n",
       "      <th>[2139-10-06 14:40:29, 2139-10-06 15:40:29)</th>\n",
       "      <td>-0.421475</td>\n",
       "      <td>-1.75829</td>\n",
       "      <td>0.359987</td>\n",
       "      <td>-0.342061</td>\n",
       "      <td>-0.288263</td>\n",
       "      <td>-0.265147</td>\n",
       "      <td>0.404399</td>\n",
       "      <td>0.305794</td>\n",
       "      <td>0.275283</td>\n",
       "      <td>-2.475837</td>\n",
       "      <td>2.353612</td>\n",
       "      <td>80.811907</td>\n",
       "      <td>37.053451</td>\n",
       "      <td>19.0</td>\n",
       "      <td>0.0</td>\n",
       "    </tr>\n",
       "  </tbody>\n",
       "</table>\n",
       "</div>"
      ],
      "text/plain": [
       "                                                     creatinine  \\\n",
       "stay_id  time                                                     \n",
       "30004811 [2139-10-06 10:40:29, 2139-10-06 11:40:29)   -0.421475   \n",
       "         [2139-10-06 11:40:29, 2139-10-06 12:40:29)   -0.421475   \n",
       "         [2139-10-06 12:40:29, 2139-10-06 13:40:29)   -0.289503   \n",
       "         [2139-10-06 13:40:29, 2139-10-06 14:40:29)   -0.421475   \n",
       "         [2139-10-06 14:40:29, 2139-10-06 15:40:29)   -0.421475   \n",
       "\n",
       "                                                     fraction_inspired_oxygen  \\\n",
       "stay_id  time                                                                   \n",
       "30004811 [2139-10-06 10:40:29, 2139-10-06 11:40:29)                  -1.75829   \n",
       "         [2139-10-06 11:40:29, 2139-10-06 12:40:29)                  -1.75829   \n",
       "         [2139-10-06 12:40:29, 2139-10-06 13:40:29)                  -1.75829   \n",
       "         [2139-10-06 13:40:29, 2139-10-06 14:40:29)                  -1.75829   \n",
       "         [2139-10-06 14:40:29, 2139-10-06 15:40:29)                  -1.75829   \n",
       "\n",
       "                                                      lactate  urine_output  \\\n",
       "stay_id  time                                                                 \n",
       "30004811 [2139-10-06 10:40:29, 2139-10-06 11:40:29) -0.182337     -0.225739   \n",
       "         [2139-10-06 11:40:29, 2139-10-06 12:40:29) -0.182337     -0.225739   \n",
       "         [2139-10-06 12:40:29, 2139-10-06 13:40:29)  0.359987     -0.225739   \n",
       "         [2139-10-06 13:40:29, 2139-10-06 14:40:29)  0.359987     -0.225739   \n",
       "         [2139-10-06 14:40:29, 2139-10-06 15:40:29)  0.359987     -0.342061   \n",
       "\n",
       "                                                     alanine_aminotransferase  \\\n",
       "stay_id  time                                                                   \n",
       "30004811 [2139-10-06 10:40:29, 2139-10-06 11:40:29)                 -0.278455   \n",
       "         [2139-10-06 11:40:29, 2139-10-06 12:40:29)                 -0.288263   \n",
       "         [2139-10-06 12:40:29, 2139-10-06 13:40:29)                 -0.294100   \n",
       "         [2139-10-06 13:40:29, 2139-10-06 14:40:29)                 -0.288263   \n",
       "         [2139-10-06 14:40:29, 2139-10-06 15:40:29)                 -0.288263   \n",
       "\n",
       "                                                     asparate_aminotransferase  \\\n",
       "stay_id  time                                                                    \n",
       "30004811 [2139-10-06 10:40:29, 2139-10-06 11:40:29)                  -0.265147   \n",
       "         [2139-10-06 11:40:29, 2139-10-06 12:40:29)                  -0.265147   \n",
       "         [2139-10-06 12:40:29, 2139-10-06 13:40:29)                  -0.265147   \n",
       "         [2139-10-06 13:40:29, 2139-10-06 14:40:29)                  -0.265147   \n",
       "         [2139-10-06 14:40:29, 2139-10-06 15:40:29)                  -0.265147   \n",
       "\n",
       "                                                     mean_blood_pressure  \\\n",
       "stay_id  time                                                              \n",
       "30004811 [2139-10-06 10:40:29, 2139-10-06 11:40:29)             0.404399   \n",
       "         [2139-10-06 11:40:29, 2139-10-06 12:40:29)             0.404399   \n",
       "         [2139-10-06 12:40:29, 2139-10-06 13:40:29)             0.404399   \n",
       "         [2139-10-06 13:40:29, 2139-10-06 14:40:29)             0.404399   \n",
       "         [2139-10-06 14:40:29, 2139-10-06 15:40:29)             0.404399   \n",
       "\n",
       "                                                     diastolic_blood_pressure  \\\n",
       "stay_id  time                                                                   \n",
       "30004811 [2139-10-06 10:40:29, 2139-10-06 11:40:29)                  0.390936   \n",
       "         [2139-10-06 11:40:29, 2139-10-06 12:40:29)                  0.390936   \n",
       "         [2139-10-06 12:40:29, 2139-10-06 13:40:29)                  0.390936   \n",
       "         [2139-10-06 13:40:29, 2139-10-06 14:40:29)                  0.390936   \n",
       "         [2139-10-06 14:40:29, 2139-10-06 15:40:29)                  0.305794   \n",
       "\n",
       "                                                     systolic_blood_pressure  \\\n",
       "stay_id  time                                                                  \n",
       "30004811 [2139-10-06 10:40:29, 2139-10-06 11:40:29)                 0.368307   \n",
       "         [2139-10-06 11:40:29, 2139-10-06 12:40:29)                 0.368307   \n",
       "         [2139-10-06 12:40:29, 2139-10-06 13:40:29)                 0.385663   \n",
       "         [2139-10-06 13:40:29, 2139-10-06 14:40:29)                 0.448947   \n",
       "         [2139-10-06 14:40:29, 2139-10-06 15:40:29)                 0.275283   \n",
       "\n",
       "                                                          gcs  \\\n",
       "stay_id  time                                                   \n",
       "30004811 [2139-10-06 10:40:29, 2139-10-06 11:40:29) -2.475837   \n",
       "         [2139-10-06 11:40:29, 2139-10-06 12:40:29) -2.671418   \n",
       "         [2139-10-06 12:40:29, 2139-10-06 13:40:29) -2.475837   \n",
       "         [2139-10-06 13:40:29, 2139-10-06 14:40:29) -2.475837   \n",
       "         [2139-10-06 14:40:29, 2139-10-06 15:40:29) -2.475837   \n",
       "\n",
       "                                                     partial_pressure_of_oxygen  \\\n",
       "stay_id  time                                                                     \n",
       "30004811 [2139-10-06 10:40:29, 2139-10-06 11:40:29)                   -0.186180   \n",
       "         [2139-10-06 11:40:29, 2139-10-06 12:40:29)                   -0.186180   \n",
       "         [2139-10-06 12:40:29, 2139-10-06 13:40:29)                    2.326179   \n",
       "         [2139-10-06 13:40:29, 2139-10-06 14:40:29)                    2.353612   \n",
       "         [2139-10-06 14:40:29, 2139-10-06 15:40:29)                    2.353612   \n",
       "\n",
       "                                                     heart_rate  temperature  \\\n",
       "stay_id  time                                                                  \n",
       "30004811 [2139-10-06 10:40:29, 2139-10-06 11:40:29)   86.000000    36.959364   \n",
       "         [2139-10-06 11:40:29, 2139-10-06 12:40:29)   84.927928    36.998415   \n",
       "         [2139-10-06 12:40:29, 2139-10-06 13:40:29)   86.000000    37.000000   \n",
       "         [2139-10-06 13:40:29, 2139-10-06 14:40:29)   86.000000    36.978516   \n",
       "         [2139-10-06 14:40:29, 2139-10-06 15:40:29)   80.811907    37.053451   \n",
       "\n",
       "                                                     respiratory_rate  action  \n",
       "stay_id  time                                                                  \n",
       "30004811 [2139-10-06 10:40:29, 2139-10-06 11:40:29)              19.0     0.0  \n",
       "         [2139-10-06 11:40:29, 2139-10-06 12:40:29)              19.0     0.0  \n",
       "         [2139-10-06 12:40:29, 2139-10-06 13:40:29)              19.0     0.0  \n",
       "         [2139-10-06 13:40:29, 2139-10-06 14:40:29)              19.0     0.0  \n",
       "         [2139-10-06 14:40:29, 2139-10-06 15:40:29)              19.0     0.0  "
      ]
     },
     "execution_count": 12,
     "metadata": {},
     "output_type": "execute_result"
    }
   ],
   "source": [
    "data_df.head()"
   ]
  },
  {
   "cell_type": "markdown",
   "metadata": {
    "id": "9iCHh7KLu_Al"
   },
   "source": [
    "# Unormalized version of the data"
   ]
  },
  {
   "cell_type": "code",
   "execution_count": 13,
   "metadata": {
    "colab": {
     "base_uri": "https://localhost:8080/",
     "height": 680
    },
    "id": "34Vff---u-Er",
    "outputId": "218f9ba5-c5ec-4eda-adec-c610f15acc75"
   },
   "outputs": [
    {
     "data": {
      "text/html": [
       "<div>\n",
       "<style scoped>\n",
       "    .dataframe tbody tr th:only-of-type {\n",
       "        vertical-align: middle;\n",
       "    }\n",
       "\n",
       "    .dataframe tbody tr th {\n",
       "        vertical-align: top;\n",
       "    }\n",
       "\n",
       "    .dataframe thead th {\n",
       "        text-align: right;\n",
       "    }\n",
       "</style>\n",
       "<table border=\"1\" class=\"dataframe\">\n",
       "  <thead>\n",
       "    <tr style=\"text-align: right;\">\n",
       "      <th></th>\n",
       "      <th></th>\n",
       "      <th>creatinine</th>\n",
       "      <th>fraction_inspired_oxygen</th>\n",
       "      <th>lactate</th>\n",
       "      <th>urine_output</th>\n",
       "      <th>alanine_aminotransferase</th>\n",
       "      <th>asparate_aminotransferase</th>\n",
       "      <th>mean_blood_pressure</th>\n",
       "      <th>diastolic_blood_pressure</th>\n",
       "      <th>systolic_blood_pressure</th>\n",
       "      <th>gcs</th>\n",
       "      <th>partial_pressure_of_oxygen</th>\n",
       "      <th>heart_rate</th>\n",
       "      <th>temperature</th>\n",
       "      <th>respiratory_rate</th>\n",
       "      <th>action</th>\n",
       "    </tr>\n",
       "    <tr>\n",
       "      <th>stay_id</th>\n",
       "      <th>time</th>\n",
       "      <th></th>\n",
       "      <th></th>\n",
       "      <th></th>\n",
       "      <th></th>\n",
       "      <th></th>\n",
       "      <th></th>\n",
       "      <th></th>\n",
       "      <th></th>\n",
       "      <th></th>\n",
       "      <th></th>\n",
       "      <th></th>\n",
       "      <th></th>\n",
       "      <th></th>\n",
       "      <th></th>\n",
       "      <th></th>\n",
       "    </tr>\n",
       "  </thead>\n",
       "  <tbody>\n",
       "    <tr>\n",
       "      <th rowspan=\"5\" valign=\"top\">30004811</th>\n",
       "      <th>[2139-10-06 10:40:29, 2139-10-06 11:40:29)</th>\n",
       "      <td>1.000000</td>\n",
       "      <td>0.21</td>\n",
       "      <td>1.8</td>\n",
       "      <td>80.000000</td>\n",
       "      <td>40.145887</td>\n",
       "      <td>40.0</td>\n",
       "      <td>77.0</td>\n",
       "      <td>59.000000</td>\n",
       "      <td>118.000000</td>\n",
       "      <td>11.000000</td>\n",
       "      <td>112.000000</td>\n",
       "      <td>86.000000</td>\n",
       "      <td>36.959364</td>\n",
       "      <td>19.0</td>\n",
       "      <td>0.0</td>\n",
       "    </tr>\n",
       "    <tr>\n",
       "      <th>[2139-10-06 11:40:29, 2139-10-06 12:40:29)</th>\n",
       "      <td>1.000000</td>\n",
       "      <td>0.21</td>\n",
       "      <td>1.8</td>\n",
       "      <td>80.000000</td>\n",
       "      <td>34.000000</td>\n",
       "      <td>40.0</td>\n",
       "      <td>77.0</td>\n",
       "      <td>59.000000</td>\n",
       "      <td>118.000000</td>\n",
       "      <td>10.710809</td>\n",
       "      <td>112.000000</td>\n",
       "      <td>84.927928</td>\n",
       "      <td>36.998415</td>\n",
       "      <td>19.0</td>\n",
       "      <td>0.0</td>\n",
       "    </tr>\n",
       "    <tr>\n",
       "      <th>[2139-10-06 12:40:29, 2139-10-06 13:40:29)</th>\n",
       "      <td>1.193439</td>\n",
       "      <td>0.21</td>\n",
       "      <td>3.0</td>\n",
       "      <td>80.000000</td>\n",
       "      <td>30.342561</td>\n",
       "      <td>40.0</td>\n",
       "      <td>77.0</td>\n",
       "      <td>59.000000</td>\n",
       "      <td>118.323949</td>\n",
       "      <td>11.000000</td>\n",
       "      <td>270.271757</td>\n",
       "      <td>86.000000</td>\n",
       "      <td>37.000000</td>\n",
       "      <td>19.0</td>\n",
       "      <td>0.0</td>\n",
       "    </tr>\n",
       "    <tr>\n",
       "      <th>[2139-10-06 13:40:29, 2139-10-06 14:40:29)</th>\n",
       "      <td>1.000000</td>\n",
       "      <td>0.21</td>\n",
       "      <td>3.0</td>\n",
       "      <td>80.000000</td>\n",
       "      <td>34.000000</td>\n",
       "      <td>40.0</td>\n",
       "      <td>77.0</td>\n",
       "      <td>59.000000</td>\n",
       "      <td>119.505200</td>\n",
       "      <td>11.000000</td>\n",
       "      <td>272.000000</td>\n",
       "      <td>86.000000</td>\n",
       "      <td>36.978516</td>\n",
       "      <td>19.0</td>\n",
       "      <td>0.0</td>\n",
       "    </tr>\n",
       "    <tr>\n",
       "      <th>[2139-10-06 14:40:29, 2139-10-06 15:40:29)</th>\n",
       "      <td>1.000000</td>\n",
       "      <td>0.21</td>\n",
       "      <td>3.0</td>\n",
       "      <td>65.627978</td>\n",
       "      <td>34.000000</td>\n",
       "      <td>40.0</td>\n",
       "      <td>77.0</td>\n",
       "      <td>58.057545</td>\n",
       "      <td>116.263640</td>\n",
       "      <td>11.000000</td>\n",
       "      <td>272.000000</td>\n",
       "      <td>80.811907</td>\n",
       "      <td>37.053451</td>\n",
       "      <td>19.0</td>\n",
       "      <td>0.0</td>\n",
       "    </tr>\n",
       "  </tbody>\n",
       "</table>\n",
       "</div>"
      ],
      "text/plain": [
       "                                                     creatinine  \\\n",
       "stay_id  time                                                     \n",
       "30004811 [2139-10-06 10:40:29, 2139-10-06 11:40:29)    1.000000   \n",
       "         [2139-10-06 11:40:29, 2139-10-06 12:40:29)    1.000000   \n",
       "         [2139-10-06 12:40:29, 2139-10-06 13:40:29)    1.193439   \n",
       "         [2139-10-06 13:40:29, 2139-10-06 14:40:29)    1.000000   \n",
       "         [2139-10-06 14:40:29, 2139-10-06 15:40:29)    1.000000   \n",
       "\n",
       "                                                     fraction_inspired_oxygen  \\\n",
       "stay_id  time                                                                   \n",
       "30004811 [2139-10-06 10:40:29, 2139-10-06 11:40:29)                      0.21   \n",
       "         [2139-10-06 11:40:29, 2139-10-06 12:40:29)                      0.21   \n",
       "         [2139-10-06 12:40:29, 2139-10-06 13:40:29)                      0.21   \n",
       "         [2139-10-06 13:40:29, 2139-10-06 14:40:29)                      0.21   \n",
       "         [2139-10-06 14:40:29, 2139-10-06 15:40:29)                      0.21   \n",
       "\n",
       "                                                     lactate  urine_output  \\\n",
       "stay_id  time                                                                \n",
       "30004811 [2139-10-06 10:40:29, 2139-10-06 11:40:29)      1.8     80.000000   \n",
       "         [2139-10-06 11:40:29, 2139-10-06 12:40:29)      1.8     80.000000   \n",
       "         [2139-10-06 12:40:29, 2139-10-06 13:40:29)      3.0     80.000000   \n",
       "         [2139-10-06 13:40:29, 2139-10-06 14:40:29)      3.0     80.000000   \n",
       "         [2139-10-06 14:40:29, 2139-10-06 15:40:29)      3.0     65.627978   \n",
       "\n",
       "                                                     alanine_aminotransferase  \\\n",
       "stay_id  time                                                                   \n",
       "30004811 [2139-10-06 10:40:29, 2139-10-06 11:40:29)                 40.145887   \n",
       "         [2139-10-06 11:40:29, 2139-10-06 12:40:29)                 34.000000   \n",
       "         [2139-10-06 12:40:29, 2139-10-06 13:40:29)                 30.342561   \n",
       "         [2139-10-06 13:40:29, 2139-10-06 14:40:29)                 34.000000   \n",
       "         [2139-10-06 14:40:29, 2139-10-06 15:40:29)                 34.000000   \n",
       "\n",
       "                                                     asparate_aminotransferase  \\\n",
       "stay_id  time                                                                    \n",
       "30004811 [2139-10-06 10:40:29, 2139-10-06 11:40:29)                       40.0   \n",
       "         [2139-10-06 11:40:29, 2139-10-06 12:40:29)                       40.0   \n",
       "         [2139-10-06 12:40:29, 2139-10-06 13:40:29)                       40.0   \n",
       "         [2139-10-06 13:40:29, 2139-10-06 14:40:29)                       40.0   \n",
       "         [2139-10-06 14:40:29, 2139-10-06 15:40:29)                       40.0   \n",
       "\n",
       "                                                     mean_blood_pressure  \\\n",
       "stay_id  time                                                              \n",
       "30004811 [2139-10-06 10:40:29, 2139-10-06 11:40:29)                 77.0   \n",
       "         [2139-10-06 11:40:29, 2139-10-06 12:40:29)                 77.0   \n",
       "         [2139-10-06 12:40:29, 2139-10-06 13:40:29)                 77.0   \n",
       "         [2139-10-06 13:40:29, 2139-10-06 14:40:29)                 77.0   \n",
       "         [2139-10-06 14:40:29, 2139-10-06 15:40:29)                 77.0   \n",
       "\n",
       "                                                     diastolic_blood_pressure  \\\n",
       "stay_id  time                                                                   \n",
       "30004811 [2139-10-06 10:40:29, 2139-10-06 11:40:29)                 59.000000   \n",
       "         [2139-10-06 11:40:29, 2139-10-06 12:40:29)                 59.000000   \n",
       "         [2139-10-06 12:40:29, 2139-10-06 13:40:29)                 59.000000   \n",
       "         [2139-10-06 13:40:29, 2139-10-06 14:40:29)                 59.000000   \n",
       "         [2139-10-06 14:40:29, 2139-10-06 15:40:29)                 58.057545   \n",
       "\n",
       "                                                     systolic_blood_pressure  \\\n",
       "stay_id  time                                                                  \n",
       "30004811 [2139-10-06 10:40:29, 2139-10-06 11:40:29)               118.000000   \n",
       "         [2139-10-06 11:40:29, 2139-10-06 12:40:29)               118.000000   \n",
       "         [2139-10-06 12:40:29, 2139-10-06 13:40:29)               118.323949   \n",
       "         [2139-10-06 13:40:29, 2139-10-06 14:40:29)               119.505200   \n",
       "         [2139-10-06 14:40:29, 2139-10-06 15:40:29)               116.263640   \n",
       "\n",
       "                                                           gcs  \\\n",
       "stay_id  time                                                    \n",
       "30004811 [2139-10-06 10:40:29, 2139-10-06 11:40:29)  11.000000   \n",
       "         [2139-10-06 11:40:29, 2139-10-06 12:40:29)  10.710809   \n",
       "         [2139-10-06 12:40:29, 2139-10-06 13:40:29)  11.000000   \n",
       "         [2139-10-06 13:40:29, 2139-10-06 14:40:29)  11.000000   \n",
       "         [2139-10-06 14:40:29, 2139-10-06 15:40:29)  11.000000   \n",
       "\n",
       "                                                     partial_pressure_of_oxygen  \\\n",
       "stay_id  time                                                                     \n",
       "30004811 [2139-10-06 10:40:29, 2139-10-06 11:40:29)                  112.000000   \n",
       "         [2139-10-06 11:40:29, 2139-10-06 12:40:29)                  112.000000   \n",
       "         [2139-10-06 12:40:29, 2139-10-06 13:40:29)                  270.271757   \n",
       "         [2139-10-06 13:40:29, 2139-10-06 14:40:29)                  272.000000   \n",
       "         [2139-10-06 14:40:29, 2139-10-06 15:40:29)                  272.000000   \n",
       "\n",
       "                                                     heart_rate  temperature  \\\n",
       "stay_id  time                                                                  \n",
       "30004811 [2139-10-06 10:40:29, 2139-10-06 11:40:29)   86.000000    36.959364   \n",
       "         [2139-10-06 11:40:29, 2139-10-06 12:40:29)   84.927928    36.998415   \n",
       "         [2139-10-06 12:40:29, 2139-10-06 13:40:29)   86.000000    37.000000   \n",
       "         [2139-10-06 13:40:29, 2139-10-06 14:40:29)   86.000000    36.978516   \n",
       "         [2139-10-06 14:40:29, 2139-10-06 15:40:29)   80.811907    37.053451   \n",
       "\n",
       "                                                     respiratory_rate  action  \n",
       "stay_id  time                                                                  \n",
       "30004811 [2139-10-06 10:40:29, 2139-10-06 11:40:29)              19.0     0.0  \n",
       "         [2139-10-06 11:40:29, 2139-10-06 12:40:29)              19.0     0.0  \n",
       "         [2139-10-06 12:40:29, 2139-10-06 13:40:29)              19.0     0.0  \n",
       "         [2139-10-06 13:40:29, 2139-10-06 14:40:29)              19.0     0.0  \n",
       "         [2139-10-06 14:40:29, 2139-10-06 15:40:29)              19.0     0.0  "
      ]
     },
     "execution_count": 13,
     "metadata": {},
     "output_type": "execute_result"
    }
   ],
   "source": [
    "data_non_normalized_df.head()"
   ]
  },
  {
   "cell_type": "markdown",
   "metadata": {
    "id": "DTriDVvYm2in"
   },
   "source": [
    "# Matrix form of the data (Normalized and features only)"
   ]
  },
  {
   "cell_type": "code",
   "execution_count": 14,
   "metadata": {
    "colab": {
     "base_uri": "https://localhost:8080/",
     "height": 224
    },
    "id": "vY1Vz0YZm1Pj",
    "outputId": "8f772a9d-08b0-4e69-ac53-d00dc1772225"
   },
   "outputs": [
    {
     "data": {
      "text/html": [
       "<div>\n",
       "<style scoped>\n",
       "    .dataframe tbody tr th:only-of-type {\n",
       "        vertical-align: middle;\n",
       "    }\n",
       "\n",
       "    .dataframe tbody tr th {\n",
       "        vertical-align: top;\n",
       "    }\n",
       "\n",
       "    .dataframe thead th {\n",
       "        text-align: right;\n",
       "    }\n",
       "</style>\n",
       "<table border=\"1\" class=\"dataframe\">\n",
       "  <thead>\n",
       "    <tr style=\"text-align: right;\">\n",
       "      <th></th>\n",
       "      <th>creatinine</th>\n",
       "      <th>fraction_inspired_oxygen</th>\n",
       "      <th>lactate</th>\n",
       "      <th>urine_output</th>\n",
       "      <th>alanine_aminotransferase</th>\n",
       "      <th>asparate_aminotransferase</th>\n",
       "      <th>mean_blood_pressure</th>\n",
       "      <th>diastolic_blood_pressure</th>\n",
       "      <th>systolic_blood_pressure</th>\n",
       "      <th>gcs</th>\n",
       "      <th>partial_pressure_of_oxygen</th>\n",
       "      <th>heart_rate</th>\n",
       "      <th>temperature</th>\n",
       "      <th>respiratory_rate</th>\n",
       "    </tr>\n",
       "  </thead>\n",
       "  <tbody>\n",
       "    <tr>\n",
       "      <th>0</th>\n",
       "      <td>-0.421475</td>\n",
       "      <td>-1.75829</td>\n",
       "      <td>-0.182337</td>\n",
       "      <td>-0.225739</td>\n",
       "      <td>-0.278455</td>\n",
       "      <td>-0.265147</td>\n",
       "      <td>0.404399</td>\n",
       "      <td>0.390936</td>\n",
       "      <td>0.368307</td>\n",
       "      <td>-2.475837</td>\n",
       "      <td>-0.186180</td>\n",
       "      <td>86.000000</td>\n",
       "      <td>36.959364</td>\n",
       "      <td>19.0</td>\n",
       "    </tr>\n",
       "    <tr>\n",
       "      <th>1</th>\n",
       "      <td>-0.421475</td>\n",
       "      <td>-1.75829</td>\n",
       "      <td>-0.182337</td>\n",
       "      <td>-0.225739</td>\n",
       "      <td>-0.288263</td>\n",
       "      <td>-0.265147</td>\n",
       "      <td>0.404399</td>\n",
       "      <td>0.390936</td>\n",
       "      <td>0.368307</td>\n",
       "      <td>-2.671418</td>\n",
       "      <td>-0.186180</td>\n",
       "      <td>84.927928</td>\n",
       "      <td>36.998415</td>\n",
       "      <td>19.0</td>\n",
       "    </tr>\n",
       "    <tr>\n",
       "      <th>2</th>\n",
       "      <td>-0.289503</td>\n",
       "      <td>-1.75829</td>\n",
       "      <td>0.359987</td>\n",
       "      <td>-0.225739</td>\n",
       "      <td>-0.294100</td>\n",
       "      <td>-0.265147</td>\n",
       "      <td>0.404399</td>\n",
       "      <td>0.390936</td>\n",
       "      <td>0.385663</td>\n",
       "      <td>-2.475837</td>\n",
       "      <td>2.326179</td>\n",
       "      <td>86.000000</td>\n",
       "      <td>37.000000</td>\n",
       "      <td>19.0</td>\n",
       "    </tr>\n",
       "    <tr>\n",
       "      <th>3</th>\n",
       "      <td>-0.421475</td>\n",
       "      <td>-1.75829</td>\n",
       "      <td>0.359987</td>\n",
       "      <td>-0.225739</td>\n",
       "      <td>-0.288263</td>\n",
       "      <td>-0.265147</td>\n",
       "      <td>0.404399</td>\n",
       "      <td>0.390936</td>\n",
       "      <td>0.448947</td>\n",
       "      <td>-2.475837</td>\n",
       "      <td>2.353612</td>\n",
       "      <td>86.000000</td>\n",
       "      <td>36.978516</td>\n",
       "      <td>19.0</td>\n",
       "    </tr>\n",
       "    <tr>\n",
       "      <th>4</th>\n",
       "      <td>-0.421475</td>\n",
       "      <td>-1.75829</td>\n",
       "      <td>0.359987</td>\n",
       "      <td>-0.342061</td>\n",
       "      <td>-0.288263</td>\n",
       "      <td>-0.265147</td>\n",
       "      <td>0.404399</td>\n",
       "      <td>0.305794</td>\n",
       "      <td>0.275283</td>\n",
       "      <td>-2.475837</td>\n",
       "      <td>2.353612</td>\n",
       "      <td>80.811907</td>\n",
       "      <td>37.053451</td>\n",
       "      <td>19.0</td>\n",
       "    </tr>\n",
       "  </tbody>\n",
       "</table>\n",
       "</div>"
      ],
      "text/plain": [
       "   creatinine  fraction_inspired_oxygen   lactate  urine_output  \\\n",
       "0   -0.421475                  -1.75829 -0.182337     -0.225739   \n",
       "1   -0.421475                  -1.75829 -0.182337     -0.225739   \n",
       "2   -0.289503                  -1.75829  0.359987     -0.225739   \n",
       "3   -0.421475                  -1.75829  0.359987     -0.225739   \n",
       "4   -0.421475                  -1.75829  0.359987     -0.342061   \n",
       "\n",
       "   alanine_aminotransferase  asparate_aminotransferase  mean_blood_pressure  \\\n",
       "0                 -0.278455                  -0.265147             0.404399   \n",
       "1                 -0.288263                  -0.265147             0.404399   \n",
       "2                 -0.294100                  -0.265147             0.404399   \n",
       "3                 -0.288263                  -0.265147             0.404399   \n",
       "4                 -0.288263                  -0.265147             0.404399   \n",
       "\n",
       "   diastolic_blood_pressure  systolic_blood_pressure       gcs  \\\n",
       "0                  0.390936                 0.368307 -2.475837   \n",
       "1                  0.390936                 0.368307 -2.671418   \n",
       "2                  0.390936                 0.385663 -2.475837   \n",
       "3                  0.390936                 0.448947 -2.475837   \n",
       "4                  0.305794                 0.275283 -2.475837   \n",
       "\n",
       "   partial_pressure_of_oxygen  heart_rate  temperature  respiratory_rate  \n",
       "0                   -0.186180   86.000000    36.959364              19.0  \n",
       "1                   -0.186180   84.927928    36.998415              19.0  \n",
       "2                    2.326179   86.000000    37.000000              19.0  \n",
       "3                    2.353612   86.000000    36.978516              19.0  \n",
       "4                    2.353612   80.811907    37.053451              19.0  "
      ]
     },
     "execution_count": 14,
     "metadata": {},
     "output_type": "execute_result"
    }
   ],
   "source": [
    "X_df.head()"
   ]
  },
  {
   "cell_type": "markdown",
   "metadata": {
    "id": "ty_UG34Um94a"
   },
   "source": [
    "# Corresponding output data for training BC (corresponding treatments for each data point in X_df)"
   ]
  },
  {
   "cell_type": "code",
   "execution_count": 15,
   "metadata": {
    "colab": {
     "base_uri": "https://localhost:8080/"
    },
    "id": "Gjw_qsM9m08j",
    "outputId": "ec463ca2-211b-4aee-bce9-8e81270fe984"
   },
   "outputs": [
    {
     "data": {
      "text/plain": [
       "0    0.0\n",
       "1    0.0\n",
       "2    0.0\n",
       "3    0.0\n",
       "4    0.0\n",
       "Name: action, dtype: float64"
      ]
     },
     "execution_count": 15,
     "metadata": {},
     "output_type": "execute_result"
    }
   ],
   "source": [
    "y_df.head()"
   ]
  },
  {
   "cell_type": "markdown",
   "metadata": {
    "id": "QrHtsSjsbdfX"
   },
   "source": [
    "# Clustering the feature space to extract a discrete state space form the clusters"
   ]
  },
  {
   "cell_type": "code",
   "execution_count": 16,
   "metadata": {
    "colab": {
     "base_uri": "https://localhost:8080/",
     "height": 128
    },
    "id": "tZvwIakA2XyB",
    "outputId": "29462c95-f6e0-4d68-f9af-75650d58286c"
   },
   "outputs": [
    {
     "data": {
      "text/plain": [
       "KMeans(n_clusters=100, random_state=0)"
      ]
     },
     "execution_count": 16,
     "metadata": {},
     "output_type": "execute_result"
    }
   ],
   "source": [
    "num_clusters = 100\n",
    "kmeans = KMeans(n_clusters= num_clusters , random_state=0)\n",
    "kmeans.fit(X_df)"
   ]
  },
  {
   "cell_type": "code",
   "execution_count": 17,
   "metadata": {
    "colab": {
     "base_uri": "https://localhost:8080/"
    },
    "id": "2M06PxkEyHyE",
    "outputId": "1f51a026-60ae-419a-f265-51fc0c34b5eb"
   },
   "outputs": [
    {
     "data": {
      "text/plain": [
       "array([9534, 5111, 7301, 3010,  861, 7047, 8068, 2736, 2668,  197,  314,\n",
       "       5932, 3795,  651, 3541, 7894, 1123, 3329, 1003, 8237, 5265, 1909,\n",
       "       2149, 1358, 5873, 8459, 1289, 4298, 3608, 4917, 1560, 6730,  199,\n",
       "       4571, 6163,  787,  676, 4910, 2363,  391, 6625,  120, 3850, 1215,\n",
       "       7341, 2960, 3228, 2567,  165, 5659,  480, 4910,  624,  544, 5914,\n",
       "         16, 6697, 2236,  440, 5650, 2885, 2391, 2280, 8070, 4857, 8751,\n",
       "       4707,  571, 1421, 8719, 5633, 5539, 2711, 2453, 6678,  551, 1879,\n",
       "       5912,  518, 8579,    2,    6, 1100, 8366, 1791, 3822,  206, 3785,\n",
       "       3704, 5815, 1496, 9247, 4433,  686, 1105, 2328,  471, 3925, 5477,\n",
       "       1566])"
      ]
     },
     "execution_count": 17,
     "metadata": {},
     "output_type": "execute_result"
    }
   ],
   "source": [
    "# Looking at the values counts for each cluster\n",
    "\n",
    "np.unique(kmeans.labels_, return_counts = True)[1]"
   ]
  },
  {
   "cell_type": "code",
   "execution_count": 18,
   "metadata": {
    "id": "THctDvfNfDzO"
   },
   "outputs": [],
   "source": [
    "# Assigning each data point to a cluster\n",
    "\n",
    "X_df['cluster'] = kmeans.labels_.copy()\n",
    "data_df['cluster'] = kmeans.labels_.copy()\n",
    "data_non_normalized_df['cluster'] = kmeans.labels_.copy()"
   ]
  },
  {
   "cell_type": "code",
   "execution_count": 19,
   "metadata": {},
   "outputs": [
    {
     "name": "stdout",
     "output_type": "stream",
     "text": [
      "[83 15 91 44 92 19 79 31  0 13 66 37 25 74 56 71 54 34  2 11 40 98 87 49\n",
      " 47 21 88 23 64  5 48 27 60  1 17 51 97 38 24 42 45 39 57 12  8 62 99 10\n",
      "  4 76 72 65 69  6 63 59 14 78 68 35 46 22 89 73 29 95 33 20 28 52 67 43\n",
      " 84 61 36  7 77 30 70  3 26 58 18 16 85 86 53 41 50 93 94 32 90 75 96  9\n",
      " 55 82 81 80]\n"
     ]
    }
   ],
   "source": [
    "print(X_df['cluster'].unique())"
   ]
  },
  {
   "cell_type": "code",
   "execution_count": 20,
   "metadata": {
    "colab": {
     "base_uri": "https://localhost:8080/",
     "height": 680
    },
    "id": "fyLrxt0PfDwy",
    "outputId": "8b428504-8d84-40a8-fe4d-c8e581dc42e9"
   },
   "outputs": [
    {
     "data": {
      "text/html": [
       "<div>\n",
       "<style scoped>\n",
       "    .dataframe tbody tr th:only-of-type {\n",
       "        vertical-align: middle;\n",
       "    }\n",
       "\n",
       "    .dataframe tbody tr th {\n",
       "        vertical-align: top;\n",
       "    }\n",
       "\n",
       "    .dataframe thead th {\n",
       "        text-align: right;\n",
       "    }\n",
       "</style>\n",
       "<table border=\"1\" class=\"dataframe\">\n",
       "  <thead>\n",
       "    <tr style=\"text-align: right;\">\n",
       "      <th></th>\n",
       "      <th></th>\n",
       "      <th>creatinine</th>\n",
       "      <th>fraction_inspired_oxygen</th>\n",
       "      <th>lactate</th>\n",
       "      <th>urine_output</th>\n",
       "      <th>alanine_aminotransferase</th>\n",
       "      <th>asparate_aminotransferase</th>\n",
       "      <th>mean_blood_pressure</th>\n",
       "      <th>diastolic_blood_pressure</th>\n",
       "      <th>systolic_blood_pressure</th>\n",
       "      <th>gcs</th>\n",
       "      <th>partial_pressure_of_oxygen</th>\n",
       "      <th>heart_rate</th>\n",
       "      <th>temperature</th>\n",
       "      <th>respiratory_rate</th>\n",
       "      <th>action</th>\n",
       "      <th>cluster</th>\n",
       "    </tr>\n",
       "    <tr>\n",
       "      <th>stay_id</th>\n",
       "      <th>time</th>\n",
       "      <th></th>\n",
       "      <th></th>\n",
       "      <th></th>\n",
       "      <th></th>\n",
       "      <th></th>\n",
       "      <th></th>\n",
       "      <th></th>\n",
       "      <th></th>\n",
       "      <th></th>\n",
       "      <th></th>\n",
       "      <th></th>\n",
       "      <th></th>\n",
       "      <th></th>\n",
       "      <th></th>\n",
       "      <th></th>\n",
       "      <th></th>\n",
       "    </tr>\n",
       "  </thead>\n",
       "  <tbody>\n",
       "    <tr>\n",
       "      <th rowspan=\"5\" valign=\"top\">30004811</th>\n",
       "      <th>[2139-10-06 10:40:29, 2139-10-06 11:40:29)</th>\n",
       "      <td>-0.421475</td>\n",
       "      <td>-1.75829</td>\n",
       "      <td>-0.182337</td>\n",
       "      <td>-0.225739</td>\n",
       "      <td>-0.278455</td>\n",
       "      <td>-0.265147</td>\n",
       "      <td>0.404399</td>\n",
       "      <td>0.390936</td>\n",
       "      <td>0.368307</td>\n",
       "      <td>-2.475837</td>\n",
       "      <td>-0.186180</td>\n",
       "      <td>86.000000</td>\n",
       "      <td>36.959364</td>\n",
       "      <td>19.0</td>\n",
       "      <td>0.0</td>\n",
       "      <td>83</td>\n",
       "    </tr>\n",
       "    <tr>\n",
       "      <th>[2139-10-06 11:40:29, 2139-10-06 12:40:29)</th>\n",
       "      <td>-0.421475</td>\n",
       "      <td>-1.75829</td>\n",
       "      <td>-0.182337</td>\n",
       "      <td>-0.225739</td>\n",
       "      <td>-0.288263</td>\n",
       "      <td>-0.265147</td>\n",
       "      <td>0.404399</td>\n",
       "      <td>0.390936</td>\n",
       "      <td>0.368307</td>\n",
       "      <td>-2.671418</td>\n",
       "      <td>-0.186180</td>\n",
       "      <td>84.927928</td>\n",
       "      <td>36.998415</td>\n",
       "      <td>19.0</td>\n",
       "      <td>0.0</td>\n",
       "      <td>15</td>\n",
       "    </tr>\n",
       "    <tr>\n",
       "      <th>[2139-10-06 12:40:29, 2139-10-06 13:40:29)</th>\n",
       "      <td>-0.289503</td>\n",
       "      <td>-1.75829</td>\n",
       "      <td>0.359987</td>\n",
       "      <td>-0.225739</td>\n",
       "      <td>-0.294100</td>\n",
       "      <td>-0.265147</td>\n",
       "      <td>0.404399</td>\n",
       "      <td>0.390936</td>\n",
       "      <td>0.385663</td>\n",
       "      <td>-2.475837</td>\n",
       "      <td>2.326179</td>\n",
       "      <td>86.000000</td>\n",
       "      <td>37.000000</td>\n",
       "      <td>19.0</td>\n",
       "      <td>0.0</td>\n",
       "      <td>83</td>\n",
       "    </tr>\n",
       "    <tr>\n",
       "      <th>[2139-10-06 13:40:29, 2139-10-06 14:40:29)</th>\n",
       "      <td>-0.421475</td>\n",
       "      <td>-1.75829</td>\n",
       "      <td>0.359987</td>\n",
       "      <td>-0.225739</td>\n",
       "      <td>-0.288263</td>\n",
       "      <td>-0.265147</td>\n",
       "      <td>0.404399</td>\n",
       "      <td>0.390936</td>\n",
       "      <td>0.448947</td>\n",
       "      <td>-2.475837</td>\n",
       "      <td>2.353612</td>\n",
       "      <td>86.000000</td>\n",
       "      <td>36.978516</td>\n",
       "      <td>19.0</td>\n",
       "      <td>0.0</td>\n",
       "      <td>83</td>\n",
       "    </tr>\n",
       "    <tr>\n",
       "      <th>[2139-10-06 14:40:29, 2139-10-06 15:40:29)</th>\n",
       "      <td>-0.421475</td>\n",
       "      <td>-1.75829</td>\n",
       "      <td>0.359987</td>\n",
       "      <td>-0.342061</td>\n",
       "      <td>-0.288263</td>\n",
       "      <td>-0.265147</td>\n",
       "      <td>0.404399</td>\n",
       "      <td>0.305794</td>\n",
       "      <td>0.275283</td>\n",
       "      <td>-2.475837</td>\n",
       "      <td>2.353612</td>\n",
       "      <td>80.811907</td>\n",
       "      <td>37.053451</td>\n",
       "      <td>19.0</td>\n",
       "      <td>0.0</td>\n",
       "      <td>91</td>\n",
       "    </tr>\n",
       "  </tbody>\n",
       "</table>\n",
       "</div>"
      ],
      "text/plain": [
       "                                                     creatinine  \\\n",
       "stay_id  time                                                     \n",
       "30004811 [2139-10-06 10:40:29, 2139-10-06 11:40:29)   -0.421475   \n",
       "         [2139-10-06 11:40:29, 2139-10-06 12:40:29)   -0.421475   \n",
       "         [2139-10-06 12:40:29, 2139-10-06 13:40:29)   -0.289503   \n",
       "         [2139-10-06 13:40:29, 2139-10-06 14:40:29)   -0.421475   \n",
       "         [2139-10-06 14:40:29, 2139-10-06 15:40:29)   -0.421475   \n",
       "\n",
       "                                                     fraction_inspired_oxygen  \\\n",
       "stay_id  time                                                                   \n",
       "30004811 [2139-10-06 10:40:29, 2139-10-06 11:40:29)                  -1.75829   \n",
       "         [2139-10-06 11:40:29, 2139-10-06 12:40:29)                  -1.75829   \n",
       "         [2139-10-06 12:40:29, 2139-10-06 13:40:29)                  -1.75829   \n",
       "         [2139-10-06 13:40:29, 2139-10-06 14:40:29)                  -1.75829   \n",
       "         [2139-10-06 14:40:29, 2139-10-06 15:40:29)                  -1.75829   \n",
       "\n",
       "                                                      lactate  urine_output  \\\n",
       "stay_id  time                                                                 \n",
       "30004811 [2139-10-06 10:40:29, 2139-10-06 11:40:29) -0.182337     -0.225739   \n",
       "         [2139-10-06 11:40:29, 2139-10-06 12:40:29) -0.182337     -0.225739   \n",
       "         [2139-10-06 12:40:29, 2139-10-06 13:40:29)  0.359987     -0.225739   \n",
       "         [2139-10-06 13:40:29, 2139-10-06 14:40:29)  0.359987     -0.225739   \n",
       "         [2139-10-06 14:40:29, 2139-10-06 15:40:29)  0.359987     -0.342061   \n",
       "\n",
       "                                                     alanine_aminotransferase  \\\n",
       "stay_id  time                                                                   \n",
       "30004811 [2139-10-06 10:40:29, 2139-10-06 11:40:29)                 -0.278455   \n",
       "         [2139-10-06 11:40:29, 2139-10-06 12:40:29)                 -0.288263   \n",
       "         [2139-10-06 12:40:29, 2139-10-06 13:40:29)                 -0.294100   \n",
       "         [2139-10-06 13:40:29, 2139-10-06 14:40:29)                 -0.288263   \n",
       "         [2139-10-06 14:40:29, 2139-10-06 15:40:29)                 -0.288263   \n",
       "\n",
       "                                                     asparate_aminotransferase  \\\n",
       "stay_id  time                                                                    \n",
       "30004811 [2139-10-06 10:40:29, 2139-10-06 11:40:29)                  -0.265147   \n",
       "         [2139-10-06 11:40:29, 2139-10-06 12:40:29)                  -0.265147   \n",
       "         [2139-10-06 12:40:29, 2139-10-06 13:40:29)                  -0.265147   \n",
       "         [2139-10-06 13:40:29, 2139-10-06 14:40:29)                  -0.265147   \n",
       "         [2139-10-06 14:40:29, 2139-10-06 15:40:29)                  -0.265147   \n",
       "\n",
       "                                                     mean_blood_pressure  \\\n",
       "stay_id  time                                                              \n",
       "30004811 [2139-10-06 10:40:29, 2139-10-06 11:40:29)             0.404399   \n",
       "         [2139-10-06 11:40:29, 2139-10-06 12:40:29)             0.404399   \n",
       "         [2139-10-06 12:40:29, 2139-10-06 13:40:29)             0.404399   \n",
       "         [2139-10-06 13:40:29, 2139-10-06 14:40:29)             0.404399   \n",
       "         [2139-10-06 14:40:29, 2139-10-06 15:40:29)             0.404399   \n",
       "\n",
       "                                                     diastolic_blood_pressure  \\\n",
       "stay_id  time                                                                   \n",
       "30004811 [2139-10-06 10:40:29, 2139-10-06 11:40:29)                  0.390936   \n",
       "         [2139-10-06 11:40:29, 2139-10-06 12:40:29)                  0.390936   \n",
       "         [2139-10-06 12:40:29, 2139-10-06 13:40:29)                  0.390936   \n",
       "         [2139-10-06 13:40:29, 2139-10-06 14:40:29)                  0.390936   \n",
       "         [2139-10-06 14:40:29, 2139-10-06 15:40:29)                  0.305794   \n",
       "\n",
       "                                                     systolic_blood_pressure  \\\n",
       "stay_id  time                                                                  \n",
       "30004811 [2139-10-06 10:40:29, 2139-10-06 11:40:29)                 0.368307   \n",
       "         [2139-10-06 11:40:29, 2139-10-06 12:40:29)                 0.368307   \n",
       "         [2139-10-06 12:40:29, 2139-10-06 13:40:29)                 0.385663   \n",
       "         [2139-10-06 13:40:29, 2139-10-06 14:40:29)                 0.448947   \n",
       "         [2139-10-06 14:40:29, 2139-10-06 15:40:29)                 0.275283   \n",
       "\n",
       "                                                          gcs  \\\n",
       "stay_id  time                                                   \n",
       "30004811 [2139-10-06 10:40:29, 2139-10-06 11:40:29) -2.475837   \n",
       "         [2139-10-06 11:40:29, 2139-10-06 12:40:29) -2.671418   \n",
       "         [2139-10-06 12:40:29, 2139-10-06 13:40:29) -2.475837   \n",
       "         [2139-10-06 13:40:29, 2139-10-06 14:40:29) -2.475837   \n",
       "         [2139-10-06 14:40:29, 2139-10-06 15:40:29) -2.475837   \n",
       "\n",
       "                                                     partial_pressure_of_oxygen  \\\n",
       "stay_id  time                                                                     \n",
       "30004811 [2139-10-06 10:40:29, 2139-10-06 11:40:29)                   -0.186180   \n",
       "         [2139-10-06 11:40:29, 2139-10-06 12:40:29)                   -0.186180   \n",
       "         [2139-10-06 12:40:29, 2139-10-06 13:40:29)                    2.326179   \n",
       "         [2139-10-06 13:40:29, 2139-10-06 14:40:29)                    2.353612   \n",
       "         [2139-10-06 14:40:29, 2139-10-06 15:40:29)                    2.353612   \n",
       "\n",
       "                                                     heart_rate  temperature  \\\n",
       "stay_id  time                                                                  \n",
       "30004811 [2139-10-06 10:40:29, 2139-10-06 11:40:29)   86.000000    36.959364   \n",
       "         [2139-10-06 11:40:29, 2139-10-06 12:40:29)   84.927928    36.998415   \n",
       "         [2139-10-06 12:40:29, 2139-10-06 13:40:29)   86.000000    37.000000   \n",
       "         [2139-10-06 13:40:29, 2139-10-06 14:40:29)   86.000000    36.978516   \n",
       "         [2139-10-06 14:40:29, 2139-10-06 15:40:29)   80.811907    37.053451   \n",
       "\n",
       "                                                     respiratory_rate  action  \\\n",
       "stay_id  time                                                                   \n",
       "30004811 [2139-10-06 10:40:29, 2139-10-06 11:40:29)              19.0     0.0   \n",
       "         [2139-10-06 11:40:29, 2139-10-06 12:40:29)              19.0     0.0   \n",
       "         [2139-10-06 12:40:29, 2139-10-06 13:40:29)              19.0     0.0   \n",
       "         [2139-10-06 13:40:29, 2139-10-06 14:40:29)              19.0     0.0   \n",
       "         [2139-10-06 14:40:29, 2139-10-06 15:40:29)              19.0     0.0   \n",
       "\n",
       "                                                     cluster  \n",
       "stay_id  time                                                 \n",
       "30004811 [2139-10-06 10:40:29, 2139-10-06 11:40:29)       83  \n",
       "         [2139-10-06 11:40:29, 2139-10-06 12:40:29)       15  \n",
       "         [2139-10-06 12:40:29, 2139-10-06 13:40:29)       83  \n",
       "         [2139-10-06 13:40:29, 2139-10-06 14:40:29)       83  \n",
       "         [2139-10-06 14:40:29, 2139-10-06 15:40:29)       91  "
      ]
     },
     "execution_count": 20,
     "metadata": {},
     "output_type": "execute_result"
    }
   ],
   "source": [
    "data_df.head()"
   ]
  },
  {
   "cell_type": "code",
   "execution_count": 21,
   "metadata": {
    "colab": {
     "base_uri": "https://localhost:8080/",
     "height": 224
    },
    "id": "Wldxy5LkYd3V",
    "outputId": "8d195544-19c5-4b43-aaea-2fea9216e2cb",
    "scrolled": true
   },
   "outputs": [
    {
     "data": {
      "text/html": [
       "<div>\n",
       "<style scoped>\n",
       "    .dataframe tbody tr th:only-of-type {\n",
       "        vertical-align: middle;\n",
       "    }\n",
       "\n",
       "    .dataframe tbody tr th {\n",
       "        vertical-align: top;\n",
       "    }\n",
       "\n",
       "    .dataframe thead th {\n",
       "        text-align: right;\n",
       "    }\n",
       "</style>\n",
       "<table border=\"1\" class=\"dataframe\">\n",
       "  <thead>\n",
       "    <tr style=\"text-align: right;\">\n",
       "      <th></th>\n",
       "      <th>creatinine</th>\n",
       "      <th>fraction_inspired_oxygen</th>\n",
       "      <th>lactate</th>\n",
       "      <th>urine_output</th>\n",
       "      <th>alanine_aminotransferase</th>\n",
       "      <th>asparate_aminotransferase</th>\n",
       "      <th>mean_blood_pressure</th>\n",
       "      <th>diastolic_blood_pressure</th>\n",
       "      <th>systolic_blood_pressure</th>\n",
       "      <th>gcs</th>\n",
       "      <th>partial_pressure_of_oxygen</th>\n",
       "      <th>heart_rate</th>\n",
       "      <th>temperature</th>\n",
       "      <th>respiratory_rate</th>\n",
       "      <th>cluster</th>\n",
       "    </tr>\n",
       "  </thead>\n",
       "  <tbody>\n",
       "    <tr>\n",
       "      <th>0</th>\n",
       "      <td>-0.421475</td>\n",
       "      <td>-1.75829</td>\n",
       "      <td>-0.182337</td>\n",
       "      <td>-0.225739</td>\n",
       "      <td>-0.278455</td>\n",
       "      <td>-0.265147</td>\n",
       "      <td>0.404399</td>\n",
       "      <td>0.390936</td>\n",
       "      <td>0.368307</td>\n",
       "      <td>-2.475837</td>\n",
       "      <td>-0.186180</td>\n",
       "      <td>86.000000</td>\n",
       "      <td>36.959364</td>\n",
       "      <td>19.0</td>\n",
       "      <td>83</td>\n",
       "    </tr>\n",
       "    <tr>\n",
       "      <th>1</th>\n",
       "      <td>-0.421475</td>\n",
       "      <td>-1.75829</td>\n",
       "      <td>-0.182337</td>\n",
       "      <td>-0.225739</td>\n",
       "      <td>-0.288263</td>\n",
       "      <td>-0.265147</td>\n",
       "      <td>0.404399</td>\n",
       "      <td>0.390936</td>\n",
       "      <td>0.368307</td>\n",
       "      <td>-2.671418</td>\n",
       "      <td>-0.186180</td>\n",
       "      <td>84.927928</td>\n",
       "      <td>36.998415</td>\n",
       "      <td>19.0</td>\n",
       "      <td>15</td>\n",
       "    </tr>\n",
       "    <tr>\n",
       "      <th>2</th>\n",
       "      <td>-0.289503</td>\n",
       "      <td>-1.75829</td>\n",
       "      <td>0.359987</td>\n",
       "      <td>-0.225739</td>\n",
       "      <td>-0.294100</td>\n",
       "      <td>-0.265147</td>\n",
       "      <td>0.404399</td>\n",
       "      <td>0.390936</td>\n",
       "      <td>0.385663</td>\n",
       "      <td>-2.475837</td>\n",
       "      <td>2.326179</td>\n",
       "      <td>86.000000</td>\n",
       "      <td>37.000000</td>\n",
       "      <td>19.0</td>\n",
       "      <td>83</td>\n",
       "    </tr>\n",
       "    <tr>\n",
       "      <th>3</th>\n",
       "      <td>-0.421475</td>\n",
       "      <td>-1.75829</td>\n",
       "      <td>0.359987</td>\n",
       "      <td>-0.225739</td>\n",
       "      <td>-0.288263</td>\n",
       "      <td>-0.265147</td>\n",
       "      <td>0.404399</td>\n",
       "      <td>0.390936</td>\n",
       "      <td>0.448947</td>\n",
       "      <td>-2.475837</td>\n",
       "      <td>2.353612</td>\n",
       "      <td>86.000000</td>\n",
       "      <td>36.978516</td>\n",
       "      <td>19.0</td>\n",
       "      <td>83</td>\n",
       "    </tr>\n",
       "    <tr>\n",
       "      <th>4</th>\n",
       "      <td>-0.421475</td>\n",
       "      <td>-1.75829</td>\n",
       "      <td>0.359987</td>\n",
       "      <td>-0.342061</td>\n",
       "      <td>-0.288263</td>\n",
       "      <td>-0.265147</td>\n",
       "      <td>0.404399</td>\n",
       "      <td>0.305794</td>\n",
       "      <td>0.275283</td>\n",
       "      <td>-2.475837</td>\n",
       "      <td>2.353612</td>\n",
       "      <td>80.811907</td>\n",
       "      <td>37.053451</td>\n",
       "      <td>19.0</td>\n",
       "      <td>91</td>\n",
       "    </tr>\n",
       "  </tbody>\n",
       "</table>\n",
       "</div>"
      ],
      "text/plain": [
       "   creatinine  fraction_inspired_oxygen   lactate  urine_output  \\\n",
       "0   -0.421475                  -1.75829 -0.182337     -0.225739   \n",
       "1   -0.421475                  -1.75829 -0.182337     -0.225739   \n",
       "2   -0.289503                  -1.75829  0.359987     -0.225739   \n",
       "3   -0.421475                  -1.75829  0.359987     -0.225739   \n",
       "4   -0.421475                  -1.75829  0.359987     -0.342061   \n",
       "\n",
       "   alanine_aminotransferase  asparate_aminotransferase  mean_blood_pressure  \\\n",
       "0                 -0.278455                  -0.265147             0.404399   \n",
       "1                 -0.288263                  -0.265147             0.404399   \n",
       "2                 -0.294100                  -0.265147             0.404399   \n",
       "3                 -0.288263                  -0.265147             0.404399   \n",
       "4                 -0.288263                  -0.265147             0.404399   \n",
       "\n",
       "   diastolic_blood_pressure  systolic_blood_pressure       gcs  \\\n",
       "0                  0.390936                 0.368307 -2.475837   \n",
       "1                  0.390936                 0.368307 -2.671418   \n",
       "2                  0.390936                 0.385663 -2.475837   \n",
       "3                  0.390936                 0.448947 -2.475837   \n",
       "4                  0.305794                 0.275283 -2.475837   \n",
       "\n",
       "   partial_pressure_of_oxygen  heart_rate  temperature  respiratory_rate  \\\n",
       "0                   -0.186180   86.000000    36.959364              19.0   \n",
       "1                   -0.186180   84.927928    36.998415              19.0   \n",
       "2                    2.326179   86.000000    37.000000              19.0   \n",
       "3                    2.353612   86.000000    36.978516              19.0   \n",
       "4                    2.353612   80.811907    37.053451              19.0   \n",
       "\n",
       "   cluster  \n",
       "0       83  \n",
       "1       15  \n",
       "2       83  \n",
       "3       83  \n",
       "4       91  "
      ]
     },
     "execution_count": 21,
     "metadata": {},
     "output_type": "execute_result"
    }
   ],
   "source": [
    "X_df.head()"
   ]
  },
  {
   "cell_type": "code",
   "execution_count": 22,
   "metadata": {
    "colab": {
     "base_uri": "https://localhost:8080/",
     "height": 680
    },
    "id": "2dlixxBjSk5D",
    "outputId": "f5b87d4f-a314-4673-ece1-0ec8b10e3311"
   },
   "outputs": [
    {
     "data": {
      "text/html": [
       "<div>\n",
       "<style scoped>\n",
       "    .dataframe tbody tr th:only-of-type {\n",
       "        vertical-align: middle;\n",
       "    }\n",
       "\n",
       "    .dataframe tbody tr th {\n",
       "        vertical-align: top;\n",
       "    }\n",
       "\n",
       "    .dataframe thead th {\n",
       "        text-align: right;\n",
       "    }\n",
       "</style>\n",
       "<table border=\"1\" class=\"dataframe\">\n",
       "  <thead>\n",
       "    <tr style=\"text-align: right;\">\n",
       "      <th></th>\n",
       "      <th></th>\n",
       "      <th>creatinine</th>\n",
       "      <th>fraction_inspired_oxygen</th>\n",
       "      <th>lactate</th>\n",
       "      <th>urine_output</th>\n",
       "      <th>alanine_aminotransferase</th>\n",
       "      <th>asparate_aminotransferase</th>\n",
       "      <th>mean_blood_pressure</th>\n",
       "      <th>diastolic_blood_pressure</th>\n",
       "      <th>systolic_blood_pressure</th>\n",
       "      <th>gcs</th>\n",
       "      <th>partial_pressure_of_oxygen</th>\n",
       "      <th>heart_rate</th>\n",
       "      <th>temperature</th>\n",
       "      <th>respiratory_rate</th>\n",
       "      <th>action</th>\n",
       "      <th>cluster</th>\n",
       "    </tr>\n",
       "    <tr>\n",
       "      <th>stay_id</th>\n",
       "      <th>time</th>\n",
       "      <th></th>\n",
       "      <th></th>\n",
       "      <th></th>\n",
       "      <th></th>\n",
       "      <th></th>\n",
       "      <th></th>\n",
       "      <th></th>\n",
       "      <th></th>\n",
       "      <th></th>\n",
       "      <th></th>\n",
       "      <th></th>\n",
       "      <th></th>\n",
       "      <th></th>\n",
       "      <th></th>\n",
       "      <th></th>\n",
       "      <th></th>\n",
       "    </tr>\n",
       "  </thead>\n",
       "  <tbody>\n",
       "    <tr>\n",
       "      <th rowspan=\"5\" valign=\"top\">30004811</th>\n",
       "      <th>[2139-10-06 10:40:29, 2139-10-06 11:40:29)</th>\n",
       "      <td>1.000000</td>\n",
       "      <td>0.21</td>\n",
       "      <td>1.8</td>\n",
       "      <td>80.000000</td>\n",
       "      <td>40.145887</td>\n",
       "      <td>40.0</td>\n",
       "      <td>77.0</td>\n",
       "      <td>59.000000</td>\n",
       "      <td>118.000000</td>\n",
       "      <td>11.000000</td>\n",
       "      <td>112.000000</td>\n",
       "      <td>86.000000</td>\n",
       "      <td>36.959364</td>\n",
       "      <td>19.0</td>\n",
       "      <td>0.0</td>\n",
       "      <td>83</td>\n",
       "    </tr>\n",
       "    <tr>\n",
       "      <th>[2139-10-06 11:40:29, 2139-10-06 12:40:29)</th>\n",
       "      <td>1.000000</td>\n",
       "      <td>0.21</td>\n",
       "      <td>1.8</td>\n",
       "      <td>80.000000</td>\n",
       "      <td>34.000000</td>\n",
       "      <td>40.0</td>\n",
       "      <td>77.0</td>\n",
       "      <td>59.000000</td>\n",
       "      <td>118.000000</td>\n",
       "      <td>10.710809</td>\n",
       "      <td>112.000000</td>\n",
       "      <td>84.927928</td>\n",
       "      <td>36.998415</td>\n",
       "      <td>19.0</td>\n",
       "      <td>0.0</td>\n",
       "      <td>15</td>\n",
       "    </tr>\n",
       "    <tr>\n",
       "      <th>[2139-10-06 12:40:29, 2139-10-06 13:40:29)</th>\n",
       "      <td>1.193439</td>\n",
       "      <td>0.21</td>\n",
       "      <td>3.0</td>\n",
       "      <td>80.000000</td>\n",
       "      <td>30.342561</td>\n",
       "      <td>40.0</td>\n",
       "      <td>77.0</td>\n",
       "      <td>59.000000</td>\n",
       "      <td>118.323949</td>\n",
       "      <td>11.000000</td>\n",
       "      <td>270.271757</td>\n",
       "      <td>86.000000</td>\n",
       "      <td>37.000000</td>\n",
       "      <td>19.0</td>\n",
       "      <td>0.0</td>\n",
       "      <td>83</td>\n",
       "    </tr>\n",
       "    <tr>\n",
       "      <th>[2139-10-06 13:40:29, 2139-10-06 14:40:29)</th>\n",
       "      <td>1.000000</td>\n",
       "      <td>0.21</td>\n",
       "      <td>3.0</td>\n",
       "      <td>80.000000</td>\n",
       "      <td>34.000000</td>\n",
       "      <td>40.0</td>\n",
       "      <td>77.0</td>\n",
       "      <td>59.000000</td>\n",
       "      <td>119.505200</td>\n",
       "      <td>11.000000</td>\n",
       "      <td>272.000000</td>\n",
       "      <td>86.000000</td>\n",
       "      <td>36.978516</td>\n",
       "      <td>19.0</td>\n",
       "      <td>0.0</td>\n",
       "      <td>83</td>\n",
       "    </tr>\n",
       "    <tr>\n",
       "      <th>[2139-10-06 14:40:29, 2139-10-06 15:40:29)</th>\n",
       "      <td>1.000000</td>\n",
       "      <td>0.21</td>\n",
       "      <td>3.0</td>\n",
       "      <td>65.627978</td>\n",
       "      <td>34.000000</td>\n",
       "      <td>40.0</td>\n",
       "      <td>77.0</td>\n",
       "      <td>58.057545</td>\n",
       "      <td>116.263640</td>\n",
       "      <td>11.000000</td>\n",
       "      <td>272.000000</td>\n",
       "      <td>80.811907</td>\n",
       "      <td>37.053451</td>\n",
       "      <td>19.0</td>\n",
       "      <td>0.0</td>\n",
       "      <td>91</td>\n",
       "    </tr>\n",
       "  </tbody>\n",
       "</table>\n",
       "</div>"
      ],
      "text/plain": [
       "                                                     creatinine  \\\n",
       "stay_id  time                                                     \n",
       "30004811 [2139-10-06 10:40:29, 2139-10-06 11:40:29)    1.000000   \n",
       "         [2139-10-06 11:40:29, 2139-10-06 12:40:29)    1.000000   \n",
       "         [2139-10-06 12:40:29, 2139-10-06 13:40:29)    1.193439   \n",
       "         [2139-10-06 13:40:29, 2139-10-06 14:40:29)    1.000000   \n",
       "         [2139-10-06 14:40:29, 2139-10-06 15:40:29)    1.000000   \n",
       "\n",
       "                                                     fraction_inspired_oxygen  \\\n",
       "stay_id  time                                                                   \n",
       "30004811 [2139-10-06 10:40:29, 2139-10-06 11:40:29)                      0.21   \n",
       "         [2139-10-06 11:40:29, 2139-10-06 12:40:29)                      0.21   \n",
       "         [2139-10-06 12:40:29, 2139-10-06 13:40:29)                      0.21   \n",
       "         [2139-10-06 13:40:29, 2139-10-06 14:40:29)                      0.21   \n",
       "         [2139-10-06 14:40:29, 2139-10-06 15:40:29)                      0.21   \n",
       "\n",
       "                                                     lactate  urine_output  \\\n",
       "stay_id  time                                                                \n",
       "30004811 [2139-10-06 10:40:29, 2139-10-06 11:40:29)      1.8     80.000000   \n",
       "         [2139-10-06 11:40:29, 2139-10-06 12:40:29)      1.8     80.000000   \n",
       "         [2139-10-06 12:40:29, 2139-10-06 13:40:29)      3.0     80.000000   \n",
       "         [2139-10-06 13:40:29, 2139-10-06 14:40:29)      3.0     80.000000   \n",
       "         [2139-10-06 14:40:29, 2139-10-06 15:40:29)      3.0     65.627978   \n",
       "\n",
       "                                                     alanine_aminotransferase  \\\n",
       "stay_id  time                                                                   \n",
       "30004811 [2139-10-06 10:40:29, 2139-10-06 11:40:29)                 40.145887   \n",
       "         [2139-10-06 11:40:29, 2139-10-06 12:40:29)                 34.000000   \n",
       "         [2139-10-06 12:40:29, 2139-10-06 13:40:29)                 30.342561   \n",
       "         [2139-10-06 13:40:29, 2139-10-06 14:40:29)                 34.000000   \n",
       "         [2139-10-06 14:40:29, 2139-10-06 15:40:29)                 34.000000   \n",
       "\n",
       "                                                     asparate_aminotransferase  \\\n",
       "stay_id  time                                                                    \n",
       "30004811 [2139-10-06 10:40:29, 2139-10-06 11:40:29)                       40.0   \n",
       "         [2139-10-06 11:40:29, 2139-10-06 12:40:29)                       40.0   \n",
       "         [2139-10-06 12:40:29, 2139-10-06 13:40:29)                       40.0   \n",
       "         [2139-10-06 13:40:29, 2139-10-06 14:40:29)                       40.0   \n",
       "         [2139-10-06 14:40:29, 2139-10-06 15:40:29)                       40.0   \n",
       "\n",
       "                                                     mean_blood_pressure  \\\n",
       "stay_id  time                                                              \n",
       "30004811 [2139-10-06 10:40:29, 2139-10-06 11:40:29)                 77.0   \n",
       "         [2139-10-06 11:40:29, 2139-10-06 12:40:29)                 77.0   \n",
       "         [2139-10-06 12:40:29, 2139-10-06 13:40:29)                 77.0   \n",
       "         [2139-10-06 13:40:29, 2139-10-06 14:40:29)                 77.0   \n",
       "         [2139-10-06 14:40:29, 2139-10-06 15:40:29)                 77.0   \n",
       "\n",
       "                                                     diastolic_blood_pressure  \\\n",
       "stay_id  time                                                                   \n",
       "30004811 [2139-10-06 10:40:29, 2139-10-06 11:40:29)                 59.000000   \n",
       "         [2139-10-06 11:40:29, 2139-10-06 12:40:29)                 59.000000   \n",
       "         [2139-10-06 12:40:29, 2139-10-06 13:40:29)                 59.000000   \n",
       "         [2139-10-06 13:40:29, 2139-10-06 14:40:29)                 59.000000   \n",
       "         [2139-10-06 14:40:29, 2139-10-06 15:40:29)                 58.057545   \n",
       "\n",
       "                                                     systolic_blood_pressure  \\\n",
       "stay_id  time                                                                  \n",
       "30004811 [2139-10-06 10:40:29, 2139-10-06 11:40:29)               118.000000   \n",
       "         [2139-10-06 11:40:29, 2139-10-06 12:40:29)               118.000000   \n",
       "         [2139-10-06 12:40:29, 2139-10-06 13:40:29)               118.323949   \n",
       "         [2139-10-06 13:40:29, 2139-10-06 14:40:29)               119.505200   \n",
       "         [2139-10-06 14:40:29, 2139-10-06 15:40:29)               116.263640   \n",
       "\n",
       "                                                           gcs  \\\n",
       "stay_id  time                                                    \n",
       "30004811 [2139-10-06 10:40:29, 2139-10-06 11:40:29)  11.000000   \n",
       "         [2139-10-06 11:40:29, 2139-10-06 12:40:29)  10.710809   \n",
       "         [2139-10-06 12:40:29, 2139-10-06 13:40:29)  11.000000   \n",
       "         [2139-10-06 13:40:29, 2139-10-06 14:40:29)  11.000000   \n",
       "         [2139-10-06 14:40:29, 2139-10-06 15:40:29)  11.000000   \n",
       "\n",
       "                                                     partial_pressure_of_oxygen  \\\n",
       "stay_id  time                                                                     \n",
       "30004811 [2139-10-06 10:40:29, 2139-10-06 11:40:29)                  112.000000   \n",
       "         [2139-10-06 11:40:29, 2139-10-06 12:40:29)                  112.000000   \n",
       "         [2139-10-06 12:40:29, 2139-10-06 13:40:29)                  270.271757   \n",
       "         [2139-10-06 13:40:29, 2139-10-06 14:40:29)                  272.000000   \n",
       "         [2139-10-06 14:40:29, 2139-10-06 15:40:29)                  272.000000   \n",
       "\n",
       "                                                     heart_rate  temperature  \\\n",
       "stay_id  time                                                                  \n",
       "30004811 [2139-10-06 10:40:29, 2139-10-06 11:40:29)   86.000000    36.959364   \n",
       "         [2139-10-06 11:40:29, 2139-10-06 12:40:29)   84.927928    36.998415   \n",
       "         [2139-10-06 12:40:29, 2139-10-06 13:40:29)   86.000000    37.000000   \n",
       "         [2139-10-06 13:40:29, 2139-10-06 14:40:29)   86.000000    36.978516   \n",
       "         [2139-10-06 14:40:29, 2139-10-06 15:40:29)   80.811907    37.053451   \n",
       "\n",
       "                                                     respiratory_rate  action  \\\n",
       "stay_id  time                                                                   \n",
       "30004811 [2139-10-06 10:40:29, 2139-10-06 11:40:29)              19.0     0.0   \n",
       "         [2139-10-06 11:40:29, 2139-10-06 12:40:29)              19.0     0.0   \n",
       "         [2139-10-06 12:40:29, 2139-10-06 13:40:29)              19.0     0.0   \n",
       "         [2139-10-06 13:40:29, 2139-10-06 14:40:29)              19.0     0.0   \n",
       "         [2139-10-06 14:40:29, 2139-10-06 15:40:29)              19.0     0.0   \n",
       "\n",
       "                                                     cluster  \n",
       "stay_id  time                                                 \n",
       "30004811 [2139-10-06 10:40:29, 2139-10-06 11:40:29)       83  \n",
       "         [2139-10-06 11:40:29, 2139-10-06 12:40:29)       15  \n",
       "         [2139-10-06 12:40:29, 2139-10-06 13:40:29)       83  \n",
       "         [2139-10-06 13:40:29, 2139-10-06 14:40:29)       83  \n",
       "         [2139-10-06 14:40:29, 2139-10-06 15:40:29)       91  "
      ]
     },
     "execution_count": 22,
     "metadata": {},
     "output_type": "execute_result"
    }
   ],
   "source": [
    "data_non_normalized_df.head()"
   ]
  },
  {
   "cell_type": "markdown",
   "metadata": {},
   "source": [
    "## Add Static and Dynamic Occlusion"
   ]
  },
  {
   "cell_type": "markdown",
   "metadata": {},
   "source": [
    "## UNCOMMENT TO ADD STATIC OCCLUSION"
   ]
  },
  {
   "cell_type": "code",
   "execution_count": 29,
   "metadata": {},
   "outputs": [],
   "source": [
    "# excluded_states = [2, 89, 98, 54, 71, 49, 3, 97, 10, 74, 52, 58, 99, 6, 69,\n",
    "#                    9, 94, 83, 85, 47, 20, 27, 64, 19, 22, 81, 92, 5, 35, 16]\n",
    "# data_df = SO.static_occlusion(data_df, excluded_states)"
   ]
  },
  {
   "cell_type": "markdown",
   "metadata": {},
   "source": [
    "## UNCOMMENT TO ADD DYNAMIC OCCLUSION"
   ]
  },
  {
   "cell_type": "code",
   "execution_count": 48,
   "metadata": {},
   "outputs": [],
   "source": [
    "# data_df = SO.dynamic_occlusion(data_df, 0.3) "
   ]
  },
  {
   "cell_type": "code",
   "execution_count": 23,
   "metadata": {},
   "outputs": [
    {
     "name": "stdout",
     "output_type": "stream",
     "text": [
      "355504\n"
     ]
    }
   ],
   "source": [
    "# This should be roughly 248852\n",
    "print(len(data_df))"
   ]
  },
  {
   "cell_type": "code",
   "execution_count": 24,
   "metadata": {},
   "outputs": [
    {
     "name": "stdout",
     "output_type": "stream",
     "text": [
      "100\n"
     ]
    }
   ],
   "source": [
    "# Should be 70 for Static occlusion and ~100 for Dynamic occlusion unless some clusters are completely taken out\n",
    "print(len(data_df['cluster'].unique()))"
   ]
  },
  {
   "cell_type": "markdown",
   "metadata": {
    "id": "Rhol7shFy4uA"
   },
   "source": [
    "# Converting the data into trajectories to input to an IRL algorithm Note this is the same format of trajectories we used for HW1 and HW2."
   ]
  },
  {
   "cell_type": "code",
   "execution_count": 33,
   "metadata": {
    "id": "_orzJHTGmyur"
   },
   "outputs": [],
   "source": [
    "unique_stay_ids = data_df.index.get_level_values('stay_id').unique()\n",
    "\n",
    "trajectories = []\n",
    "\n",
    "\n",
    "for stay_id in unique_stay_ids:\n",
    "\n",
    "\n",
    "  states, actions = data_df.loc[stay_id]['cluster'], data_df.loc[stay_id]['action']\n",
    "\n",
    "  trajectory = []\n",
    "  for i in range(len(states) - 1):\n",
    "    trajectory.append((states[i], int(actions[i]), states[i+1] ))\n",
    "\n",
    "  trajectories.append(T.Trajectory(trajectory))"
   ]
  },
  {
   "cell_type": "markdown",
   "metadata": {
    "id": "cSrWgKqX1eLl"
   },
   "source": [
    "We need to store all possible terminal states from the trajectories list. (Needed to calculate the normalizing constant in MaxEnt)"
   ]
  },
  {
   "cell_type": "code",
   "execution_count": 34,
   "metadata": {
    "id": "9CsdWcAlEiYH"
   },
   "outputs": [],
   "source": [
    "terminal_states = []\n",
    "\n",
    "for traj in trajectories:\n",
    "  terminal_states.append(traj._t[-1][-1])\n",
    "\n",
    "terminal_states = list(set(terminal_states))"
   ]
  },
  {
   "cell_type": "markdown",
   "metadata": {
    "id": "aKkw5PAlBeo9"
   },
   "source": [
    "# Distribution of the treatments given in our data. (Most of the time no treatment is given, might vary on depending on how you cluster the data)"
   ]
  },
  {
   "cell_type": "code",
   "execution_count": 35,
   "metadata": {
    "colab": {
     "base_uri": "https://localhost:8080/"
    },
    "id": "1AYFFwuT-hsP",
    "outputId": "185b10e5-68fa-4f63-873e-f7c4091240db"
   },
   "outputs": [
    {
     "data": {
      "text/plain": [
       "0.0    163520\n",
       "1.0    121557\n",
       "3.0     38031\n",
       "2.0     32396\n",
       "Name: action, dtype: int64"
      ]
     },
     "execution_count": 35,
     "metadata": {},
     "output_type": "execute_result"
    }
   ],
   "source": [
    "y_df.value_counts()"
   ]
  },
  {
   "cell_type": "markdown",
   "metadata": {
    "id": "VLji3EUoB8fn"
   },
   "source": [
    "# BC Policy example"
   ]
  },
  {
   "cell_type": "code",
   "execution_count": 36,
   "metadata": {
    "colab": {
     "base_uri": "https://localhost:8080/"
    },
    "id": "kUHEt5uZmyoq",
    "outputId": "56f9d47d-feaf-4e27-ad05-f173b8e80f2e"
   },
   "outputs": [
    {
     "name": "stdout",
     "output_type": "stream",
     "text": [
      "Epoch 1/5\n",
      "2778/2778 [==============================] - 8s 2ms/step - loss: 1.1777 - accuracy: 0.4674\n",
      "Epoch 2/5\n",
      "2778/2778 [==============================] - 6s 2ms/step - loss: 1.1750 - accuracy: 0.4706\n",
      "Epoch 3/5\n",
      "2778/2778 [==============================] - 6s 2ms/step - loss: 1.1747 - accuracy: 0.4706\n",
      "Epoch 4/5\n",
      "2778/2778 [==============================] - 6s 2ms/step - loss: 1.1744 - accuracy: 0.4703\n",
      "Epoch 5/5\n",
      "2778/2778 [==============================] - 6s 2ms/step - loss: 1.1743 - accuracy: 0.4707\n",
      "11110/11110 [==============================] - 16s 1ms/step - loss: 1.1734 - accuracy: 0.4710\n",
      "Test Loss: [1.1734468936920166, 0.47096797823905945]\n"
     ]
    }
   ],
   "source": [
    "# Convert states and actions to one-hot encoding\n",
    "state_encoder = OneHotEncoder(sparse=False, categories= [np.arange(num_clusters)])\n",
    "action_encoder = OneHotEncoder(sparse=False, categories= [np.arange(4)])\n",
    "\n",
    "\n",
    "states_onehot = state_encoder.fit_transform(X_df['cluster'].to_numpy().reshape(-1, 1))\n",
    "actions_onehot = action_encoder.fit_transform(y_df.to_numpy().reshape(-1, 1))\n",
    "\n",
    "\n",
    "# # Define neural network architecture\n",
    "model = tf.keras.Sequential([\n",
    "    tf.keras.layers.Dense(32, activation='relu', input_shape=(states_onehot.shape[1],)),\n",
    "    tf.keras.layers.Dense(64, activation='relu'),\n",
    "    tf.keras.layers.Dense(128, activation='relu'),\n",
    "    tf.keras.layers.Dense(64, activation='relu'),\n",
    "    tf.keras.layers.Dense(32, activation='relu'),\n",
    "    tf.keras.layers.Dense(actions_onehot.shape[1], activation='softmax')  # Output layer with softmax for discrete actions\n",
    "])\n",
    "\n",
    "# # Compile the model\n",
    "model.compile(optimizer='adam', loss='categorical_crossentropy', metrics= ['accuracy'])\n",
    "\n",
    "# # Train the model\n",
    "model.fit(states_onehot, actions_onehot,  epochs=5, batch_size=128)\n",
    "\n",
    "# # Evaluate the model\n",
    "test_loss = model.evaluate(states_onehot, actions_onehot)\n",
    "print(\"Test Loss:\", test_loss)\n"
   ]
  },
  {
   "cell_type": "code",
   "execution_count": 37,
   "metadata": {
    "colab": {
     "base_uri": "https://localhost:8080/"
    },
    "id": "iWv5yk6y-Htt",
    "outputId": "9c8fc1da-95d0-4ada-ab72-8d198b0718bd"
   },
   "outputs": [
    {
     "name": "stdout",
     "output_type": "stream",
     "text": [
      "4/4 [==============================] - 0s 2ms/step\n"
     ]
    },
    {
     "data": {
      "text/plain": [
       "array([1, 0, 0, 0, 1, 0, 1, 0, 0, 1, 0, 1, 0, 1, 0, 1, 0, 0, 0, 0, 0, 0,\n",
       "       0, 1, 0, 1, 1, 1, 0, 0, 0, 1, 0, 0, 0, 1, 0, 0, 0, 0, 0, 0, 1, 1,\n",
       "       0, 1, 0, 0, 1, 0, 0, 1, 0, 0, 0, 0, 1, 0, 1, 0, 0, 1, 0, 0, 1, 0,\n",
       "       1, 0, 1, 0, 0, 1, 1, 0, 1, 1, 1, 0, 0, 1, 0, 0, 0, 1, 0, 0, 0, 0,\n",
       "       1, 0, 1, 0, 1, 0, 0, 1, 1, 0, 0, 0])"
      ]
     },
     "execution_count": 37,
     "metadata": {},
     "output_type": "execute_result"
    }
   ],
   "source": [
    "bc_policy = np.argmax(model.predict(state_encoder.transform(np.arange(num_clusters).reshape(-1, 1))), axis =1)\n",
    "bc_policy"
   ]
  },
  {
   "cell_type": "code",
   "execution_count": null,
   "metadata": {
    "colab": {
     "base_uri": "https://localhost:8080/",
     "height": 1000
    },
    "id": "zY03ukQ05T8_",
    "outputId": "7ff4ccc8-e3a7-4c34-e65d-c0d880ece76c"
   },
   "outputs": [],
   "source": [
    "# Default plot code\n",
    "\n",
    "# fig, axes = plt.subplots(nrows=2, ncols=5, figsize=(32, 16))\n",
    "\n",
    "# for i, ax in enumerate(axes.flatten()):\n",
    "#     data_df[data_df['cluster'] == i]['action'].value_counts().plot(kind = 'bar', ax = ax, title = 'Cluster: ' + str(i+ 1))\n",
    "#     ax.set_ylabel('Counts')\n",
    "    \n",
    "fig, axes = plt.subplots(nrows=2, ncols=5, figsize=(32, 16))\n",
    "\n",
    "labels = ['No action', 'Vaso', 'Bolus', 'Vaso + Bolus']\n",
    "\n",
    "for i, ax in enumerate(axes.flatten()):\n",
    "    print(data_df[data_df['cluster'] == i]['action'].value_counts().tolist())\n",
    "\n",
    "for i, ax in enumerate(axes.flatten()):\n",
    "    policy = data_df[data_df['cluster'] == i]['action'].value_counts().tolist()\n",
    "    while len(policy) < 4:\n",
    "        policy.append(0)\n",
    "    ax.pie(policy, labels=labels, autopct='%1.1f%%', textprops={'fontsize': 17})\n",
    "    ax.set_title('Cluster ' + str(i+ 1), fontsize=25)\n",
    "\n",
    "fig.suptitle(\"BC Policy\", fontsize=50)"
   ]
  },
  {
   "cell_type": "markdown",
   "metadata": {
    "id": "QOKcfQRcJPRA"
   },
   "source": [
    "# Estimating the Transition Dynamics using the MLE (feel free to play around with the smoothing_value)"
   ]
  },
  {
   "cell_type": "code",
   "execution_count": null,
   "metadata": {
    "id": "-IV4o95nRlJz"
   },
   "outputs": [],
   "source": [
    "smoothing_value = 1\n",
    "\n",
    "p_transition = np.zeros((num_clusters, num_clusters, 4)) + smoothing_value\n",
    "\n",
    "\n",
    "for traj in trajectories:\n",
    "\n",
    "  for tran in traj._t:\n",
    "\n",
    "    p_transition[tran[0], tran[2], tran[1]] +=1\n",
    "\n",
    "p_transition = p_transition/ p_transition.sum(axis = 1)[:, np.newaxis, :]"
   ]
  },
  {
   "cell_type": "code",
   "execution_count": null,
   "metadata": {
    "colab": {
     "base_uri": "https://localhost:8080/"
    },
    "id": "MhzuEkc8RlFG",
    "outputId": "b5e0de03-a9b3-49a9-9a3c-2bf9880248d8"
   },
   "outputs": [],
   "source": [
    "p_transition"
   ]
  },
  {
   "cell_type": "markdown",
   "metadata": {
    "id": "n6WOgG24KKQr"
   },
   "source": [
    "# Max Causal Entropy"
   ]
  },
  {
   "cell_type": "markdown",
   "metadata": {
    "id": "VFrongPAiw2K"
   },
   "source": [
    "# Feel free to play with the discount factor"
   ]
  },
  {
   "cell_type": "code",
   "execution_count": null,
   "metadata": {
    "id": "hGTy7XNmi0dl"
   },
   "outputs": [],
   "source": [
    "discount = 0.9"
   ]
  },
  {
   "cell_type": "code",
   "execution_count": null,
   "metadata": {
    "id": "uqqQ4cpQFsG_"
   },
   "outputs": [],
   "source": [
    "from maxent import irl, irl_causal"
   ]
  },
  {
   "cell_type": "code",
   "execution_count": null,
   "metadata": {
    "id": "5fJeGRYbPKRv"
   },
   "outputs": [],
   "source": [
    "# set up features: we use one feature vector per state (1 hot encoding for each cluster/state)\n",
    "features = state_encoder.transform(np.arange(num_clusters).reshape(-1, 1))\n",
    "\n",
    "# choose our parameter initialization strategy:\n",
    "#   initialize parameters with constant\n",
    "init = O.Constant(1.0)\n",
    "\n",
    "# choose our optimization strategy:\n",
    "#   we select exponentiated stochastic gradient descent with linear learning-rate decay\n",
    "optim = O.ExpSga(lr=O.linear_decay(lr0=0.2))\n",
    "\n",
    "# actually do some inverse reinforcement learning\n",
    "# reward_maxent = maxent_irl(p_transition, features, terminal_states, trajectories, optim, init, eps= 1e-3)\n",
    "\n",
    "reward_maxent_causal = irl_causal(p_transition, features, terminal_states, trajectories, optim, init, discount,\n",
    "               eps=1e-3, eps_svf=1e-4, eps_lap=1e-4)"
   ]
  },
  {
   "cell_type": "code",
   "execution_count": null,
   "metadata": {
    "colab": {
     "base_uri": "https://localhost:8080/"
    },
    "id": "RyZxOX9HGiTc",
    "outputId": "ad9b7357-adca-4b0d-fc08-39935534c6ae"
   },
   "outputs": [],
   "source": [
    "reward_maxent_causal"
   ]
  },
  {
   "cell_type": "code",
   "execution_count": null,
   "metadata": {},
   "outputs": [],
   "source": [
    "v = reward_maxent_causal\n",
    "normalized_reward_maxent_causal = (v - v.min()) / (v.max() - v.min())\n",
    "print(normalized_reward_maxent_causal)"
   ]
  },
  {
   "cell_type": "code",
   "execution_count": null,
   "metadata": {},
   "outputs": [],
   "source": [
    "reshaped_rewards = normalized_reward_maxent_causal.reshape((10, 10))\n",
    "\n",
    "fig, ax = plt.subplots(figsize=(8,8))\n",
    "im = ax.imshow(reshaped_rewards, cmap='inferno')\n",
    "ax.set_title(\"MaxEnt Causal Reward Heatmap\", fontsize = 20)\n",
    "colorbar = fig.colorbar(im, fraction=0.046, pad=0.04)\n",
    "colorbar.set_label(label = \"Normalized Values\", fontsize = 15)"
   ]
  },
  {
   "cell_type": "code",
   "execution_count": null,
   "metadata": {},
   "outputs": [],
   "source": [
    "cluster_sizes = np.zeros(100)\n",
    "\n",
    "for i in range(num_clusters):\n",
    "    cluster_sizes[i] = (len(X_df.loc[X_df['cluster'] == i]))"
   ]
  },
  {
   "cell_type": "code",
   "execution_count": null,
   "metadata": {},
   "outputs": [],
   "source": [
    "fig, ax = plt.subplots(figsize=(10, 10))\n",
    "ax.scatter(cluster_sizes, normalized_reward_maxent_causal)\n",
    "ax.set_title(\"Reward Value vs. Number of Data Points per Cluster\", fontsize=18)\n",
    "ax.set_xlabel(\"Number of Data Points\", fontsize = 15)\n",
    "ax.set_ylabel(\"Normalized Reward Values\", fontsize = 15)\n",
    "\n",
    "\n",
    "current_values = plt.gca().get_xticks()\n",
    "plt.gca().set_xticklabels(['{:,.0f}'.format(x) for x in current_values])"
   ]
  },
  {
   "cell_type": "markdown",
   "metadata": {},
   "source": [
    "# GAIL CODE\n",
    "\n",
    "-need to add mimic.py and transition_mat to gymnasium local installation to run this env\n",
    "\n",
    "-assumes that trajectories are saved in variable 'trajectories' (I used the same format as above)"
   ]
  },
  {
   "cell_type": "code",
   "execution_count": null,
   "metadata": {},
   "outputs": [],
   "source": [
    "# from imitation.policies.serialize import load_policy\n",
    "# from imitation.util.util import make_vec_env\n",
    "# from imitation.data.wrappers import RolloutInfoWrapper\n",
    "\n",
    "# #SEED = 42\n",
    "\n",
    "# #need to add mimic.py and transition_mat to gymnasium local installation to use this env!!!\n",
    "# env = make_vec_env(\n",
    "#     \"mimic-v0\",\n",
    "#     rng=np.random.default_rng(SEED),\n",
    "#     n_envs=8,\n",
    "#     post_wrappers=[\n",
    "#         lambda env, _: RolloutInfoWrapper(env)\n",
    "#     ],\n",
    "# )\n",
    "\n",
    "# from imitation.data.types import Trajectory\n",
    "# import pickle\n",
    "\n",
    "# #with open(\"mimic-trajectories\",\"rb\") as f:\n",
    "# #    trajectories = pickle.load(f)\n",
    "\n",
    "# rollouts = []\n",
    "# #turn trajectories into (state,action) pairs\n",
    "# for gail_trajectory in trajectories:\n",
    "#     obs = np.array(list(gail_trajectory.states()))\n",
    "#     acts = np.array([i for (_,i,_) in gail_trajectory.transitions()])\n",
    "#     rollouts.append(Trajectory(obs=obs, acts=acts, infos=None, terminal=True))\n",
    "\n",
    "# from imitation.algorithms.adversarial.gail import GAIL\n",
    "# from imitation.rewards.reward_nets import BasicRewardNet\n",
    "# from imitation.util.networks import RunningNorm\n",
    "# from stable_baselines3 import PPO\n",
    "# from stable_baselines3.ppo import MlpPolicy\n",
    "# from stable_baselines3.common.evaluation import evaluate_policy\n",
    "\n",
    "# # This is a learner that uses the proximal policy optimization algorithm and we will it use to compute the policy update steps of the GAIL algorithm\n",
    "# learner = PPO(\n",
    "#     env=env,\n",
    "#     policy=MlpPolicy,\n",
    "#     batch_size=64,\n",
    "#     ent_coef=0.0,\n",
    "#     learning_rate=0.0004,\n",
    "#     gamma=0.95,\n",
    "#     n_epochs=5,\n",
    "#     seed=SEED,\n",
    "# )\n",
    "\n",
    "# # This is a neural network that takes a batch of (state, action, next_state) triples and calculates the associated rewards and we will use it to compute the discriminator update steps of the GAIL algorithm\n",
    "# reward_net = BasicRewardNet(\n",
    "#     observation_space=env.observation_space,\n",
    "#     action_space=env.action_space,\n",
    "#     normalize_input_layer=RunningNorm,\n",
    "# )\n",
    "\n",
    "# # imitation implementation of GAIL \n",
    "# gail_trainer = GAIL(\n",
    "#     demonstrations=rollouts,\n",
    "#     demo_batch_size=1024,\n",
    "#     gen_replay_buffer_capacity=512,\n",
    "#     n_disc_updates_per_round=8,\n",
    "#     venv=env,\n",
    "#     gen_algo=learner,\n",
    "#     reward_net=reward_net,\n",
    "# )\n",
    "\n",
    "# #this takes a while, can run it for fewer iterations\n",
    "# gail_trainer.train(800_000)\n",
    "\n",
    "# #extract policy\n",
    "# GAIL_policy = [learner.predict(i,deterministic=True)[0].item() for i in range(100)]"
   ]
  },
  {
   "cell_type": "markdown",
   "metadata": {},
   "source": [
    "## Gail Policies"
   ]
  },
  {
   "cell_type": "code",
   "execution_count": 32,
   "metadata": {},
   "outputs": [],
   "source": [
    "# baseline policy = [0, 3, 1, 0, 1, 0, 0, 0, 1, 1, 0, 0, 2, 1, 1, 0, 1, 1, 1, 1, 0, 1, 0, 0, 0, 2, 0, 0, 0, 1, 0, 3, 1, 1, 0, 0, 0, 2, 0, 1, 0, 0, 0, 1, 2, 0, 0, 1, 0, 0, 3, 2, 1, 0, 0, 0, 3, 1, 0, 0, 0, 1, 0, 0, 0, 1, 1, 0, 3, 0, 0, 1, 1, 2, 0, 0, 0, 1, 1, 1, 1, 1, 1, 1, 0, 2, 0, 1, 2, 0, 0, 0, 0, 1, 0, 0, 1, 1, 2, 0]\n",
    "\n",
    "# static policy = [0, 3, 0, 1, 1, 2, 0, 1, 0, 2, 1, 0, 2, 1, 1, 1, 1, 0, 0, 0, 3, 0, 2, 0, 0, 2, 0, 0, 0, 1, 0, 2, 1, 1, 0, 2, 0, 3, 1, 0, 1, 1, 0, 1, 2, 1, 0, 0, 1, 2, 2, 0, 2, 0, 0, 2, 2, 1, 2, 0, 0, 1, 0, 3, 3, 0, 0, 0, 2, 2, 1, 0, 1, 2, 0, 0, 0, 0, 0, 0, 0, 0, 0, 2, 0, 2, 0, 0, 0, 2, 1, 0, 0, 1, 0, 1, 0, 2, 3, 3]\n",
    "\n",
    "# dynamic policy = [0, 3, 1, 0, 1, 0, 0, 0, 3, 1, 0, 0, 2, 1, 0, 0, 0, 1, 0, 1, 1, 1, 0, 0, 0, 2, 0, 0, 1, 1, 0, 2, 1, 1, 0, 0, 0, 2, 0, 0, 0, 0, 0, 1, 2, 3, 0, 0, 0, 1, 2, 3, 0, 1, 0, 2, 3, 0, 0, 0, 0, 0, 0, 0, 0, 1, 0, 0, 2, 0, 1, 0, 1, 2, 3, 0, 0, 0, 1, 0, 0, 0, 1, 0, 0, 2, 0, 1, 0, 0, 1, 0, 0, 0, 0, 0, 0, 1, 3, 0]\n",
    "\n",
    "observation_policy = [0, 1, 1, 0, 0, 0, 0, 1, 0, 1, 2, 1, 0, 1, 0, 0, 1, 1, 0, 0, 1, 1, 1, 0, 0, \n",
    "                      0, 0, 0, 0, 0, 0, 1, 1, 1, 0, 1, 2, 0, 0, 0, 1, 0, 1, 0, 0, 0, 1, 1, 1, 0, \n",
    "                      1, 0, 2, 0, 0, 1, 0, 0, 0, 0, 1, 1, 0, 0, 3, 1, 1, 1, 0, 1, 0, 0, 0, 0, 2, \n",
    "                      0, 0, 0, 0, 0, 1, 0, 1, 2, 1, 1, 2, 1, 0, 0, 0, 0, 1, 1, 0, 2, 0, 1, 1, 0]\n",
    "\n",
    "action_policy = [3, 0, 1, 1, 1, 0, 0, 1, 0, 1, 1, 2, 3, 1, 0, 1, 1, 3, 3, 1, 0, 0, 1, 1, 0, 2, 0, \n",
    "                 1, 0, 1, 0, 2, 1, 1, 0, 1, 0, 3, 0, 1, 0, 3, 3, 0, 2, 1, 0, 1, 1, 1, 2, 0, 2, 0, \n",
    "                 3, 3, 3, 1, 2, 0, 0, 1, 0, 3, 0, 0, 1, 0, 2, 0, 3, 1, 3, 3, 3, 3, 0, 3, 1, 1, 1, \n",
    "                 1, 0, 1, 1, 2, 0, 1, 0, 0, 1, 0, 0, 1, 1, 0, 0, 1, 2, 0]"
   ]
  },
  {
   "cell_type": "markdown",
   "metadata": {
    "id": "vctnXPxKXIXz"
   },
   "source": [
    "# Computing the policy induced by your learnt reward"
   ]
  },
  {
   "cell_type": "code",
   "execution_count": null,
   "metadata": {
    "id": "vq42uJp-PKIX"
   },
   "outputs": [],
   "source": [
    "V, Q = S.value_iteration(p_transition, reward_maxent_causal, discount)"
   ]
  },
  {
   "cell_type": "code",
   "execution_count": null,
   "metadata": {
    "id": "nmnoI9RqZcF6"
   },
   "outputs": [],
   "source": [
    "Q = Q.reshape((4, num_clusters))"
   ]
  },
  {
   "cell_type": "code",
   "execution_count": null,
   "metadata": {
    "id": "Of8MwWRxZWrl"
   },
   "outputs": [],
   "source": [
    "soft_pi_mce = (np.exp(Q)/ np.sum(np.exp(Q), axis = 0)).T"
   ]
  },
  {
   "cell_type": "code",
   "execution_count": null,
   "metadata": {
    "colab": {
     "base_uri": "https://localhost:8080/"
    },
    "id": "_XfRDCpzaC3e",
    "outputId": "a12c8e30-81f4-4788-d746-7cc2359931b4"
   },
   "outputs": [],
   "source": [
    "soft_pi_mce"
   ]
  },
  {
   "cell_type": "code",
   "execution_count": null,
   "metadata": {},
   "outputs": [],
   "source": [
    "fig, axes = plt.subplots(nrows=2, ncols=5, figsize=(32, 16))\n",
    "\n",
    "labels = ['No action', 'Vaso', 'Bolus', 'Vaso + Bolus']\n",
    "\n",
    "for i, ax in enumerate(axes.flatten()):\n",
    "    ax.pie(soft_pi_mce[i], labels=labels, autopct='%1.1f%%', textprops={'fontsize': 17})\n",
    "    ax.set_title('Cluster ' + str(i+ 1), fontsize=25)\n",
    "\n",
    "fig.suptitle(\"MCE Policy\", fontsize=50)"
   ]
  },
  {
   "cell_type": "code",
   "execution_count": null,
   "metadata": {
    "id": "qAPqpvDlPKFk"
   },
   "outputs": [],
   "source": [
    "policy_mce = np.argmax(Q, axis = 0).reshape(-1, )"
   ]
  },
  {
   "cell_type": "code",
   "execution_count": null,
   "metadata": {
    "colab": {
     "base_uri": "https://localhost:8080/"
    },
    "id": "2kEhFD2VW_0n",
    "outputId": "33418b19-fe59-4961-829b-3ea0e5e1833b"
   },
   "outputs": [],
   "source": [
    "policy_mce"
   ]
  },
  {
   "cell_type": "markdown",
   "metadata": {},
   "source": [
    "# Identify top and bottom 5 reward clusters"
   ]
  },
  {
   "cell_type": "code",
   "execution_count": null,
   "metadata": {},
   "outputs": [],
   "source": [
    "k = 5\n",
    "\n",
    "min_sorted = np.sort(reward_maxent_causal)\n",
    "min_five = min_sorted[:k]\n",
    "min_five_indices = []\n",
    "\n",
    "for j in range(len(min_five)):\n",
    "    for i in range(len(reward_maxent_causal)):\n",
    "        if min_five[j] == reward_maxent_causal[i]:\n",
    "            min_five_indices.append(i)\n",
    "\n",
    "print(min_five)\n",
    "print(min_five_indices)"
   ]
  },
  {
   "cell_type": "code",
   "execution_count": null,
   "metadata": {},
   "outputs": [],
   "source": [
    "max_sorted = np.sort(reward_maxent_causal)\n",
    "max_five = max_sorted[-k:]\n",
    "max_five_indices = []\n",
    "\n",
    "for j in range(len(max_five)):\n",
    "    for i in range(len(reward_maxent_causal)):\n",
    "        if max_five[j] == reward_maxent_causal[i]:\n",
    "            max_five_indices.append(i)\n",
    "\n",
    "print(max_five)\n",
    "print(max_five_indices)"
   ]
  },
  {
   "cell_type": "code",
   "execution_count": null,
   "metadata": {},
   "outputs": [],
   "source": [
    "min_five_indices = np.flip(min_five_indices)\n",
    "max_five_indices = np.flip(max_five_indices)\n",
    "print(max_five_indices)\n",
    "print(min_five_indices)"
   ]
  },
  {
   "cell_type": "markdown",
   "metadata": {},
   "source": [
    "# Average values for heat map"
   ]
  },
  {
   "cell_type": "code",
   "execution_count": 26,
   "metadata": {},
   "outputs": [
    {
     "name": "stdout",
     "output_type": "stream",
     "text": [
      "['creatinine', 'fraction_inspired_oxygen', 'lactate', 'urine_output', 'alanine_aminotransferase', 'asparate_aminotransferase', 'mean_blood_pressure', 'diastolic_blood_pressure', 'systolic_blood_pressure', 'gcs', 'partial_pressure_of_oxygen', 'heart_rate', 'temperature', 'respiratory_rate']\n",
      "[78, 12, 67, 95, 35, 57, 62, 21, 49, 70]\n"
     ]
    },
    {
     "data": {
      "text/plain": [
       "array([[1.83992912e+00, 1.59633494e+00, 1.99720344e+00, 1.91133315e+00,\n",
       "        1.76186627e+00, 2.05897309e+00, 1.66627369e+00, 1.90004969e+00,\n",
       "        1.66597312e+00, 1.58459589e+00],\n",
       "       [5.15267395e-01, 4.82870371e-01, 6.16067080e-01, 5.10207607e-01,\n",
       "        5.13107293e-01, 6.03728550e-01, 4.98981078e-01, 5.82637480e-01,\n",
       "        5.04785799e-01, 4.76527201e-01],\n",
       "       [4.02340041e+00, 1.99196554e+00, 4.56018155e+00, 2.27148391e+00,\n",
       "        2.29493331e+00, 4.34831639e+00, 2.48469403e+00, 3.38648759e+00,\n",
       "        2.20589840e+00, 1.83212563e+00],\n",
       "       [8.57138678e+01, 1.01193718e+02, 1.02811904e+02, 8.55470565e+01,\n",
       "        9.58326405e+01, 8.32417708e+01, 1.17835912e+02, 9.16637919e+01,\n",
       "        1.07279577e+02, 1.09844655e+02],\n",
       "       [2.87166335e+02, 1.58640234e+02, 3.81552495e+02, 2.10676618e+02,\n",
       "        1.71072042e+02, 3.14408767e+02, 2.09161126e+02, 1.79224321e+02,\n",
       "        1.72816796e+02, 1.75885704e+02],\n",
       "       [5.46833435e+02, 2.96873622e+02, 7.40919580e+02, 4.10293639e+02,\n",
       "        3.44488253e+02, 6.70106365e+02, 3.49563505e+02, 3.80262373e+02,\n",
       "        2.90992125e+02, 3.20699683e+02],\n",
       "       [6.95859340e+01, 7.13846174e+01, 7.22345181e+01, 7.07135917e+01,\n",
       "        7.02263029e+01, 7.25869878e+01, 7.45247320e+01, 7.29472931e+01,\n",
       "        7.20584736e+01, 6.98883047e+01],\n",
       "       [5.37164027e+01, 5.44960456e+01, 5.97720109e+01, 5.23872052e+01,\n",
       "        5.34747229e+01, 5.74663534e+01, 5.95047159e+01, 5.62482159e+01,\n",
       "        5.50528294e+01, 5.13803995e+01],\n",
       "       [9.93546111e+01, 1.08727635e+02, 1.03483468e+02, 1.13182655e+02,\n",
       "        1.08197213e+02, 1.06993310e+02, 1.08104588e+02, 1.10395587e+02,\n",
       "        1.12106769e+02, 1.13144978e+02],\n",
       "       [1.46738155e+01, 1.47256366e+01, 1.47495174e+01, 1.46009437e+01,\n",
       "        1.45970952e+01, 1.45568453e+01, 1.46184025e+01, 1.46473278e+01,\n",
       "        1.46204705e+01, 1.46874593e+01],\n",
       "       [1.29654657e+02, 1.35270882e+02, 1.01091163e+02, 1.12753071e+02,\n",
       "        1.44543029e+02, 1.09116680e+02, 1.18393158e+02, 1.04426949e+02,\n",
       "        1.16858993e+02, 1.32412182e+02],\n",
       "       [1.01774020e+02, 8.56410561e+01, 1.44983129e+02, 6.52280257e+01,\n",
       "        7.52341950e+01, 1.14257186e+02, 1.21345397e+02, 9.86592952e+01,\n",
       "        8.72145052e+01, 6.03343165e+01],\n",
       "       [3.68990308e+01, 3.68873657e+01, 3.74485815e+01, 3.68115464e+01,\n",
       "        3.68496371e+01, 3.72170487e+01, 3.71540806e+01, 3.70203605e+01,\n",
       "        3.69853621e+01, 3.67454263e+01],\n",
       "       [8.10468448e-01, 1.02241781e+01, 3.10336929e+01, 2.81148919e+01,\n",
       "        1.29316124e+00, 3.13842926e+01, 1.91741965e+01, 3.47737230e+01,\n",
       "        2.49462771e+01, 1.71826191e+01]])"
      ]
     },
     "execution_count": 26,
     "metadata": {},
     "output_type": "execute_result"
    }
   ],
   "source": [
    "viz_df = data_non_normalized_df\n",
    "viz_df = viz_df.drop(['action'], axis=1)\n",
    "\n",
    "color_matrix_y_labels = viz_df.drop(['cluster'], axis=1).columns.tolist()\n",
    "# color_matrix_x_labels = max_five_indices.tolist()\n",
    "# for i in min_five_indices :\n",
    "#     color_matrix_x_labels.append(i)\n",
    "color_matrix_x_labels = [78, 12, 67, 95, 35, 57, 62, 21, 49, 70]\n",
    "print(color_matrix_y_labels)\n",
    "print(color_matrix_x_labels)\n",
    "\n",
    "\n",
    "color_matrix = []\n",
    "\n",
    "# for i in max_five_indices:\n",
    "#     df = viz_df[viz_df['cluster'] == i].mean()\n",
    "#     lst = df.drop(['cluster']).tolist()\n",
    "#     color_matrix.append(lst)    \n",
    "    \n",
    "# for i in min_five_indices:\n",
    "#     df = viz_df[viz_df['cluster'] == i].mean()\n",
    "#     lst = df.drop(['cluster']).tolist()\n",
    "#     color_matrix.append(lst)\n",
    "    \n",
    "for i in color_matrix_x_labels:\n",
    "    df = viz_df[viz_df['cluster'] == i].mean()\n",
    "    lst = df.drop(['cluster']).tolist()\n",
    "    color_matrix.append(lst)\n",
    "    \n",
    "color_matrix = np.transpose(color_matrix)\n",
    "\n",
    "color_matrix"
   ]
  },
  {
   "cell_type": "markdown",
   "metadata": {},
   "source": [
    "# Adding policy actions to heat map"
   ]
  },
  {
   "cell_type": "code",
   "execution_count": 33,
   "metadata": {},
   "outputs": [
    {
     "name": "stdout",
     "output_type": "stream",
     "text": [
      "[0, 0, 0, 0, 0, 0, 0, 1, 0, 1]\n",
      "[1, 0, 0, 1, 0, 0, 2, 2, 1, 0]\n",
      "[0, 0, 1, 2, 1, 0, 0, 1, 0, 0]\n"
     ]
    }
   ],
   "source": [
    "bc_action = [0, 0, 0, 0, 0, 0, 0, 1, 0, 1]\n",
    "# for i in color_matrix_x_labels:\n",
    "#     bc_action.append(bc_policy[i])\n",
    "\n",
    "print(bc_action)\n",
    "\n",
    "mce_action = [1, 0, 0, 1, 0, 0, 2, 2, 1, 0]\n",
    "# for i in color_matrix_x_labels:\n",
    "#     mce_action.append(policy_mce[i])\n",
    "\n",
    "print(mce_action)\n",
    "\n",
    "gail_action = []\n",
    "for i in color_matrix_x_labels:\n",
    "    gail_action.append(observation_policy[i])\n",
    "\n",
    "print(gail_action)"
   ]
  },
  {
   "cell_type": "code",
   "execution_count": 34,
   "metadata": {},
   "outputs": [],
   "source": [
    "color_matrix = color_matrix.tolist()"
   ]
  },
  {
   "cell_type": "code",
   "execution_count": 35,
   "metadata": {},
   "outputs": [],
   "source": [
    "color_matrix.append(bc_action)\n",
    "color_matrix.append(mce_action)\n",
    "color_matrix.append(gail_action)"
   ]
  },
  {
   "cell_type": "code",
   "execution_count": 36,
   "metadata": {},
   "outputs": [
    {
     "data": {
      "text/plain": [
       "17"
      ]
     },
     "execution_count": 36,
     "metadata": {},
     "output_type": "execute_result"
    }
   ],
   "source": [
    "len(color_matrix)"
   ]
  },
  {
   "cell_type": "code",
   "execution_count": 37,
   "metadata": {},
   "outputs": [],
   "source": [
    "color_matrix_y_labels.append('bc_action')\n",
    "color_matrix_y_labels.append('mce_action')\n",
    "color_matrix_y_labels.append('gail_action')"
   ]
  },
  {
   "cell_type": "code",
   "execution_count": 38,
   "metadata": {},
   "outputs": [
    {
     "data": {
      "text/plain": [
       "['creatinine',\n",
       " 'fraction_inspired_oxygen',\n",
       " 'lactate',\n",
       " 'urine_output',\n",
       " 'alanine_aminotransferase',\n",
       " 'asparate_aminotransferase',\n",
       " 'mean_blood_pressure',\n",
       " 'diastolic_blood_pressure',\n",
       " 'systolic_blood_pressure',\n",
       " 'gcs',\n",
       " 'partial_pressure_of_oxygen',\n",
       " 'heart_rate',\n",
       " 'temperature',\n",
       " 'respiratory_rate',\n",
       " 'bc_action',\n",
       " 'mce_action',\n",
       " 'gail_action']"
      ]
     },
     "execution_count": 38,
     "metadata": {},
     "output_type": "execute_result"
    }
   ],
   "source": [
    "color_matrix_y_labels"
   ]
  },
  {
   "cell_type": "code",
   "execution_count": 39,
   "metadata": {},
   "outputs": [
    {
     "name": "stdout",
     "output_type": "stream",
     "text": [
      "['creatinine', 'fraction_inspired_oxygen', 'lactate', 'urine_output', 'alanine_aminotransferase', 'asparate_aminotransferase', 'mean_blood_pressure', 'diastolic_blood_pressure', 'systolic_blood_pressure', 'gcs', 'partial_pressure_of_oxygen', 'heart_rate', 'temperature', 'respiratory_rate', 'bc_action', 'mce_action', 'gail_action']\n"
     ]
    }
   ],
   "source": [
    "len(color_matrix_y_labels)\n",
    "print(color_matrix_y_labels)"
   ]
  },
  {
   "cell_type": "code",
   "execution_count": 40,
   "metadata": {},
   "outputs": [],
   "source": [
    "normalized_color_matrix = color_matrix\n",
    "\n",
    "for i in range(len(normalized_color_matrix)):\n",
    "    lst = normalized_color_matrix[i]\n",
    "    max_val = max(lst)\n",
    "    min_val = min(lst)\n",
    "    if color_matrix_y_labels[i] == 'bc_action' or color_matrix_y_labels[i] == 'mce_action' or color_matrix_y_labels[i] == 'gail_action':\n",
    "        max_val = 3\n",
    "        min_val = 0\n",
    "    dif = max_val - min_val\n",
    "    for j in range(len(lst)):\n",
    "        normalized_color_matrix[i][j] = normalized_color_matrix[i][j]-min_val\n",
    "        normalized_color_matrix[i][j] = normalized_color_matrix[i][j]/dif        "
   ]
  },
  {
   "cell_type": "code",
   "execution_count": 41,
   "metadata": {},
   "outputs": [
    {
     "data": {
      "text/plain": [
       "[[0.5382493804769438,\n",
       "  0.024746234768472535,\n",
       "  0.8697879088395982,\n",
       "  0.6887710125012935,\n",
       "  0.37369076836179643,\n",
       "  1.0,\n",
       "  0.1721790236001855,\n",
       "  0.6649851675075028,\n",
       "  0.17154540464316148,\n",
       "  0.0],\n",
       " [0.2776281163106402,\n",
       "  0.045457757533502806,\n",
       "  1.0,\n",
       "  0.24136760342787864,\n",
       "  0.2621479445895969,\n",
       "  0.9115770348701758,\n",
       "  0.16091369326862157,\n",
       "  0.7604297810326115,\n",
       "  0.20251270408466218,\n",
       "  0.0],\n",
       " [0.8032367533355278,\n",
       "  0.05859114353691562,\n",
       "  1.0,\n",
       "  0.16105178828345595,\n",
       "  0.16964743071889812,\n",
       "  0.9223384070053507,\n",
       "  0.23920638943345307,\n",
       "  0.5697690957078756,\n",
       "  0.13701067046231188,\n",
       "  0.0],\n",
       " [0.07145998883815409,\n",
       "  0.5189302683262395,\n",
       "  0.5657065942850731,\n",
       "  0.06663803794944721,\n",
       "  0.3639595998833367,\n",
       "  0.0,\n",
       "  1.0,\n",
       "  0.24345223904895005,\n",
       "  0.6948519448232466,\n",
       "  0.7689997024921629],\n",
       " [0.5765770804016153,\n",
       "  0.0,\n",
       "  1.0,\n",
       "  0.2334388601122709,\n",
       "  0.05576995834273783,\n",
       "  0.6987885376770014,\n",
       "  0.22664025331458187,\n",
       "  0.09234165204497032,\n",
       "  0.06359704974634169,\n",
       "  0.07736438234256388],\n",
       " [0.5686279133257411,\n",
       "  0.013072102447148924,\n",
       "  1.0,\n",
       "  0.26515722241932443,\n",
       "  0.11889945295788176,\n",
       "  0.8426119281683515,\n",
       "  0.13017960836890252,\n",
       "  0.1984103161905634,\n",
       "  0.0,\n",
       "  0.06602744069015007],\n",
       " [0.0,\n",
       "  0.3641945687246209,\n",
       "  0.5362811086164198,\n",
       "  0.22832634833774715,\n",
       "  0.12966086641521007,\n",
       "  0.6076486301638507,\n",
       "  1.0,\n",
       "  0.6806026663840757,\n",
       "  0.5006359099772744,\n",
       "  0.0612235249741011],\n",
       " [0.2783736117978486,\n",
       "  0.37128103420577424,\n",
       "  1.0,\n",
       "  0.11997764307321028,\n",
       "  0.24957345636632858,\n",
       "  0.7252425852795219,\n",
       "  0.9681473565944893,\n",
       "  0.5800812510487435,\n",
       "  0.43763106979283817,\n",
       "  0.0],\n",
       " [0.0,\n",
       "  0.6778271418925292,\n",
       "  0.29858574308597285,\n",
       "  1.0,\n",
       "  0.6394686947762295,\n",
       "  0.5524063396560279,\n",
       "  0.6327703609387918,\n",
       "  0.7984481370817055,\n",
       "  0.9221953525245794,\n",
       "  0.9972753230214965],\n",
       " [0.6070946377386771,\n",
       "  0.8760545327640881,\n",
       "  1.0,\n",
       "  0.22887788061565617,\n",
       "  0.20890371120750237,\n",
       "  0.0,\n",
       "  0.3194920962018035,\n",
       "  0.4696190834948924,\n",
       "  0.33022550917760274,\n",
       "  0.6779084029144142],\n",
       " [0.657359426455176,\n",
       "  0.786611065613752,\n",
       "  0.0,\n",
       "  0.2683868075992226,\n",
       "  1.0,\n",
       "  0.18469900618976093,\n",
       "  0.3981876085600347,\n",
       "  0.07676967834202893,\n",
       "  0.3628803858792648,\n",
       "  0.7208210201171231],\n",
       " [0.4895485512667937,\n",
       "  0.29896154120541296,\n",
       "  1.0,\n",
       "  0.05781190483954517,\n",
       "  0.17601993462029875,\n",
       "  0.6370186136502572,\n",
       "  0.720755300248577,\n",
       "  0.45275270147612356,\n",
       "  0.3175495052948076,\n",
       "  0.0],\n",
       " [0.21845028099912137,\n",
       "  0.20186072387777443,\n",
       "  1.0,\n",
       "  0.09403341769812364,\n",
       "  0.14820445247530867,\n",
       "  0.6707230814652305,\n",
       "  0.5811722062744341,\n",
       "  0.3910007316481196,\n",
       "  0.3412273550052155,\n",
       "  0.0],\n",
       " [0.0,\n",
       "  0.2771733677588306,\n",
       "  0.8898801020919102,\n",
       "  0.8039401346964552,\n",
       "  0.014212206611377018,\n",
       "  0.9002030140015996,\n",
       "  0.5406940017839401,\n",
       "  1.0,\n",
       "  0.7106447530901677,\n",
       "  0.4820548215336029],\n",
       " [0.0,\n",
       "  0.0,\n",
       "  0.0,\n",
       "  0.0,\n",
       "  0.0,\n",
       "  0.0,\n",
       "  0.0,\n",
       "  0.3333333333333333,\n",
       "  0.0,\n",
       "  0.3333333333333333],\n",
       " [0.3333333333333333,\n",
       "  0.0,\n",
       "  0.0,\n",
       "  0.3333333333333333,\n",
       "  0.0,\n",
       "  0.0,\n",
       "  0.6666666666666666,\n",
       "  0.6666666666666666,\n",
       "  0.3333333333333333,\n",
       "  0.0],\n",
       " [0.0,\n",
       "  0.0,\n",
       "  0.3333333333333333,\n",
       "  0.6666666666666666,\n",
       "  0.3333333333333333,\n",
       "  0.0,\n",
       "  0.0,\n",
       "  0.3333333333333333,\n",
       "  0.0,\n",
       "  0.0]]"
      ]
     },
     "execution_count": 41,
     "metadata": {},
     "output_type": "execute_result"
    }
   ],
   "source": [
    "normalized_color_matrix"
   ]
  },
  {
   "cell_type": "code",
   "execution_count": 43,
   "metadata": {
    "id": "CVJDuv8RIMqh"
   },
   "outputs": [
    {
     "data": {
      "image/png": "[encoded data removed]",
      "text/plain": [
       "<Figure size 2304x1440 with 2 Axes>"
      ]
     },
     "metadata": {
      "needs_background": "light"
     },
     "output_type": "display_data"
    }
   ],
   "source": [
    "fig, ax = plt.subplots(figsize=(32,20))\n",
    "im = ax.imshow(color_matrix, cmap='inferno')\n",
    "ax.set_title(\"Observational Ambiguity\", fontsize = 28)\n",
    "ax.set_yticks(np.arange(0, 17, 1))\n",
    "ax.set_yticklabels(color_matrix_y_labels, fontsize = 15)\n",
    "ax.set_xticks(np.arange(0, 10, 1))\n",
    "ax.set_xticklabels(color_matrix_x_labels, fontsize = 15)\n",
    "ax.set_ylabel('Features', fontsize = 20)\n",
    "ax.set_xlabel('Clusters', fontsize = 20)\n",
    "colorbar = fig.colorbar(im, fraction=0.046, pad=0.04)\n",
    "colorbar.set_label(label = \"Normalized Values\", fontsize = 15)"
   ]
  },
  {
   "cell_type": "code",
   "execution_count": null,
   "metadata": {},
   "outputs": [],
   "source": []
  }
 ],
 "metadata": {
  "colab": {
   "provenance": []
  },
  "kernelspec": {
   "display_name": "Python 3 (ipykernel)",
   "language": "python",
   "name": "python3"
  },
  "language_info": {
   "codemirror_mode": {
    "name": "ipython",
    "version": 3
   },
   "file_extension": ".py",
   "mimetype": "text/x-python",
   "name": "python",
   "nbconvert_exporter": "python",
   "pygments_lexer": "ipython3",
   "version": "3.9.7"
  }
 },
 "nbformat": 4,
 "nbformat_minor": 4
}
