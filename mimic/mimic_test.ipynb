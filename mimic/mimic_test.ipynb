{
 "cells": [
  {
   "cell_type": "code",
   "execution_count": 1,
   "metadata": {
    "colab": {
     "base_uri": "https://localhost:8080/"
    },
    "id": "cBmuqzqHfqT-",
    "outputId": "a20694af-495b-471a-9a6a-a5214274aeab"
   },
   "outputs": [
    {
     "name": "stderr",
     "output_type": "stream",
     "text": [
      "/Users/jamin/opt/anaconda3/lib/python3.9/site-packages/scipy/__init__.py:146: UserWarning: A NumPy version >=1.16.5 and <1.23.0 is required for this version of SciPy (detected version 1.24.3\n",
      "  warnings.warn(f\"A NumPy version >={np_minversion} and <{np_maxversion}\"\n",
      "2023-09-27 22:01:05.573822: I tensorflow/core/platform/cpu_feature_guard.cc:182] This TensorFlow binary is optimized to use available CPU instructions in performance-critical operations.\n",
      "To enable the following instructions: AVX2 AVX512F AVX512_VNNI FMA, in other operations, rebuild TensorFlow with the appropriate compiler flags.\n"
     ]
    },
    {
     "name": "stdout",
     "output_type": "stream",
     "text": [
      "[0.4 0.6 1. ]\n"
     ]
    }
   ],
   "source": [
    "import pandas as pd\n",
    "import numpy as np\n",
    "from numpy.lib.stride_tricks import sliding_window_view\n",
    "import os, pickle\n",
    "import matplotlib.pyplot as plt\n",
    "\n",
    "from sklearn.cluster import KMeans\n",
    "\n",
    "from sklearn.preprocessing import OneHotEncoder\n",
    "\n",
    "from itertools import product\n",
    "\n",
    "import sys, os\n",
    "\n",
    "import trajectory as T                      # trajectory generation\n",
    "import optimizer as O                       # stochastic gradient descent optimizer\n",
    "import solver as S                          # MDP solver (value-iteration)\n",
    "import plot as P\n",
    "\n",
    "\n",
    "num_data = 355504\n",
    "\n",
    "\n",
    "np.random.seed(66)\n",
    "\n",
    "def to_interval(istr):\n",
    "    c_left = istr[0]=='['\n",
    "    c_right = istr[-1]==']'\n",
    "    closed = {(True, False): 'left',\n",
    "              (False, True): 'right',\n",
    "              (True, True): 'both',\n",
    "              (False, False): 'neither'\n",
    "              }[c_left, c_right]\n",
    "    left, right = map(pd.to_datetime, istr[1:-1].split(','))\n",
    "    return pd.Interval(left, right, closed)\n",
    "\n",
    "re_split = False\n",
    "frac = [0.4,0.2,0.4]\n",
    "assert np.sum(frac) == 1\n",
    "frac = np.cumsum(frac)\n",
    "print (frac)\n",
    "data_save_path= 'data/'\n",
    "\n",
    "def sliding(gs, window_size = 6):\n",
    "    npr_l = []\n",
    "    for g in gs:\n",
    "        npr = np.concatenate([np.zeros([window_size-1, g.shape[1]]),g])\n",
    "        npr_l.append(sliding_window_view(npr, (window_size, g.shape[1])).squeeze(1))\n",
    "    return np.vstack(npr_l)"
   ]
  },
  {
   "cell_type": "markdown",
   "metadata": {
    "id": "hxJYvR8zr1MV"
   },
   "source": [
    "# LOADING THE DATA"
   ]
  },
  {
   "cell_type": "code",
   "execution_count": 2,
   "metadata": {
    "id": "zSoMb1qcfsQn"
   },
   "outputs": [],
   "source": [
    "# if re_split:\n",
    "\n",
    "\n",
    "aggr_df = pd.read_csv('mimic_iv_hypotensive_cut2.csv',sep = ',', header = 0,converters={1:to_interval}).set_index(['stay_id','time']).sort_index()\n",
    "# create action bins (four actions in total)\n",
    "aggr_df['action'] = aggr_df['bolus(binary)']*2 + aggr_df['vaso(binary)']\n",
    "all_idx = np.random.permutation(aggr_df.index.get_level_values(0).unique())\n",
    "train_df = aggr_df.loc[all_idx[:int(len(all_idx)*frac[0])]].sort_index()\n",
    "test_df = aggr_df.loc[all_idx[int(len(all_idx)*frac[0]):int(len(all_idx)*frac[1])]].sort_index()\n",
    "valid_df = aggr_df.loc[all_idx[int(len(all_idx)*frac[1]):]].sort_index()\n",
    "# print (np.unique(train_df['action'],return_counts=True)[1]*1./len(train_df))\n",
    "# pickle.dump([train_df, test_df, valid_df], open(data_save_path+'processed_mimic_hyp_2.pkl','wb'))\n",
    "drop_columns = ['vaso(amount)','bolus(amount)',\\\n",
    "            'any_treatment(binary)','vaso(binary)','bolus(binary)']\n",
    "\n",
    "\n"
   ]
  },
  {
   "cell_type": "markdown",
   "metadata": {
    "id": "YRc9IHC10f8N"
   },
   "source": [
    "# LOOKING AT THE DATA"
   ]
  },
  {
   "cell_type": "markdown",
   "metadata": {
    "colab": {
     "base_uri": "https://localhost:8080/",
     "height": 697
    },
    "id": "OsBQJGZfltoR",
    "outputId": "8782d7c4-4177-4e07-c559-6c785d288e0b"
   },
   "source": [
    "## print(len(aggr_df))\n",
    "aggr_df.head()"
   ]
  },
  {
   "cell_type": "markdown",
   "metadata": {
    "id": "yp1hmcRNmA2t"
   },
   "source": [
    "# Data for patient with hypotension, two treatment vasopressors and a bolus dose of epinephrine depending on certain features of the patient. In order to do IRL we need to discretize the action space:\n",
    "* Action 0 = No treatment\n",
    "* Action 1 = Vaso\n",
    "* Action 2 = Bolus\n",
    "* Action 3 = Vaso + Bolus\n",
    "\n"
   ]
  },
  {
   "cell_type": "markdown",
   "metadata": {
    "id": "2QRz2-UrbHH2"
   },
   "source": [
    "# We also need to do a bit of data cleaning such as taking care of missing values before running our algorithms on it"
   ]
  },
  {
   "cell_type": "code",
   "execution_count": 4,
   "metadata": {
    "colab": {
     "base_uri": "https://localhost:8080/",
     "height": 385
    },
    "id": "KgC11LtffsOB",
    "outputId": "4cd54f28-d9df-4ee4-e7d6-fc564417e258"
   },
   "outputs": [],
   "source": [
    "# for now drop indicators about bolus and vaso\n",
    "train_df = train_df.drop(columns=drop_columns)\n",
    "test_df = test_df.drop(columns=drop_columns)\n",
    "valid_df = valid_df.drop(columns=drop_columns)\n",
    "\n",
    "#### imputation\n",
    "impute_table = pd.read_csv('mimic_iv_hypotensive_cut2_impute_table.csv',sep=',',header=0).set_index(['feature'])\n",
    "train_df = train_df.fillna(method='ffill')\n",
    "test_df = test_df.fillna(method='ffill')\n",
    "valid_df = valid_df.fillna(method='ffill')\n",
    "\n",
    "\n",
    "\n",
    "\n",
    "for f in impute_table.index:\n",
    "    train_df[f] = train_df[f].fillna(value = impute_table.loc[f].values[0])\n",
    "    test_df[f] = test_df[f].fillna(value = impute_table.loc[f].values[0])\n",
    "    valid_df[f] = valid_df[f].fillna(value = impute_table.loc[f].values[0])\n",
    "\n",
    "\n",
    "data_non_normalized_df = pd.concat([train_df, valid_df, test_df], axis=0, ignore_index=False).head(num_data).copy()\n",
    "\n",
    "\n",
    "#### standard normalization ####\n",
    "normalize_features = ['creatinine', 'fraction_inspired_oxygen', 'lactate', 'urine_output',\n",
    "                  'alanine_aminotransferase', 'asparate_aminotransferase',\n",
    "                  'mean_blood_pressure', 'diastolic_blood_pressure',\n",
    "                  'systolic_blood_pressure', 'gcs', 'partial_pressure_of_oxygen']\n",
    "mu, std = (train_df[normalize_features]).mean().values,(train_df[normalize_features]).std().values\n",
    "train_df[normalize_features] = (train_df[normalize_features] - mu)/std\n",
    "test_df[normalize_features] = (test_df[normalize_features] - mu)/std\n",
    "valid_df[normalize_features] = (valid_df[normalize_features] - mu)/std\n",
    "\n",
    "\n",
    "\n",
    "\n",
    "### create data matrix ####\n",
    "X_train = train_df.loc[:,train_df.columns!='action']\n",
    "y_train = train_df['action']\n",
    "\n",
    "X_test = test_df.loc[:,test_df.columns!='action']\n",
    "y_test = test_df['action']\n",
    "\n",
    "X_valid = valid_df.loc[:, valid_df.columns!='action']\n",
    "y_valid = valid_df['action']"
   ]
  },
  {
   "cell_type": "code",
   "execution_count": 5,
   "metadata": {
    "id": "3ymWlYhEfsLb"
   },
   "outputs": [],
   "source": [
    "X_df = pd.concat([X_train, X_valid, X_test], axis=0, ignore_index=True).copy()\n",
    "y_df = pd.concat([y_train, y_valid, y_test], axis=0, ignore_index=True).copy()\n"
   ]
  },
  {
   "cell_type": "code",
   "execution_count": 6,
   "metadata": {
    "id": "dFvAPob9fD5V"
   },
   "outputs": [],
   "source": [
    "data_df = pd.concat([train_df, valid_df, test_df], axis=0, ignore_index=False).copy()\n",
    "# data_df = data_df.head(num_data).copy()\n",
    "# X_df = X_df.head(num_data).copy()\n",
    "# y_df = y_df.head(num_data).copy()\n"
   ]
  },
  {
   "cell_type": "code",
   "execution_count": 7,
   "metadata": {
    "colab": {
     "base_uri": "https://localhost:8080/"
    },
    "id": "j58_Sw7pwjBN",
    "outputId": "beddbdb8-fe6a-4bb0-8d5d-76ea20a11a82"
   },
   "outputs": [
    {
     "name": "stdout",
     "output_type": "stream",
     "text": [
      "355504\n",
      "355504\n",
      "355504\n",
      "355504\n"
     ]
    }
   ],
   "source": [
    "print(len(data_df))\n",
    "print(len(X_df))\n",
    "print(len(y_df))\n",
    "print(len(data_non_normalized_df))"
   ]
  },
  {
   "cell_type": "markdown",
   "metadata": {
    "id": "Paxeonaiu3rB"
   },
   "source": [
    "# Normalized version of the data"
   ]
  },
  {
   "cell_type": "code",
   "execution_count": 8,
   "metadata": {
    "colab": {
     "base_uri": "https://localhost:8080/",
     "height": 680
    },
    "id": "xY_zub8TlRVm",
    "outputId": "894609fd-b98a-4274-932c-f0635d576eb3"
   },
   "outputs": [
    {
     "data": {
      "text/html": [
       "<div>\n",
       "<style scoped>\n",
       "    .dataframe tbody tr th:only-of-type {\n",
       "        vertical-align: middle;\n",
       "    }\n",
       "\n",
       "    .dataframe tbody tr th {\n",
       "        vertical-align: top;\n",
       "    }\n",
       "\n",
       "    .dataframe thead th {\n",
       "        text-align: right;\n",
       "    }\n",
       "</style>\n",
       "<table border=\"1\" class=\"dataframe\">\n",
       "  <thead>\n",
       "    <tr style=\"text-align: right;\">\n",
       "      <th></th>\n",
       "      <th></th>\n",
       "      <th>creatinine</th>\n",
       "      <th>fraction_inspired_oxygen</th>\n",
       "      <th>lactate</th>\n",
       "      <th>urine_output</th>\n",
       "      <th>alanine_aminotransferase</th>\n",
       "      <th>asparate_aminotransferase</th>\n",
       "      <th>mean_blood_pressure</th>\n",
       "      <th>diastolic_blood_pressure</th>\n",
       "      <th>systolic_blood_pressure</th>\n",
       "      <th>gcs</th>\n",
       "      <th>partial_pressure_of_oxygen</th>\n",
       "      <th>heart_rate</th>\n",
       "      <th>temperature</th>\n",
       "      <th>respiratory_rate</th>\n",
       "      <th>action</th>\n",
       "    </tr>\n",
       "    <tr>\n",
       "      <th>stay_id</th>\n",
       "      <th>time</th>\n",
       "      <th></th>\n",
       "      <th></th>\n",
       "      <th></th>\n",
       "      <th></th>\n",
       "      <th></th>\n",
       "      <th></th>\n",
       "      <th></th>\n",
       "      <th></th>\n",
       "      <th></th>\n",
       "      <th></th>\n",
       "      <th></th>\n",
       "      <th></th>\n",
       "      <th></th>\n",
       "      <th></th>\n",
       "      <th></th>\n",
       "    </tr>\n",
       "  </thead>\n",
       "  <tbody>\n",
       "    <tr>\n",
       "      <th rowspan=\"5\" valign=\"top\">30004811</th>\n",
       "      <th>[2139-10-06 10:40:29, 2139-10-06 11:40:29)</th>\n",
       "      <td>-0.422008</td>\n",
       "      <td>-1.760743</td>\n",
       "      <td>-0.182521</td>\n",
       "      <td>-0.225783</td>\n",
       "      <td>-0.288689</td>\n",
       "      <td>-0.265706</td>\n",
       "      <td>0.404836</td>\n",
       "      <td>0.391566</td>\n",
       "      <td>0.36885</td>\n",
       "      <td>-2.479374</td>\n",
       "      <td>-0.186486</td>\n",
       "      <td>86.0</td>\n",
       "      <td>37.0</td>\n",
       "      <td>19.0</td>\n",
       "      <td>0.0</td>\n",
       "    </tr>\n",
       "    <tr>\n",
       "      <th>[2139-10-06 11:40:29, 2139-10-06 12:40:29)</th>\n",
       "      <td>-0.422008</td>\n",
       "      <td>-1.760743</td>\n",
       "      <td>-0.182521</td>\n",
       "      <td>-0.225783</td>\n",
       "      <td>-0.288689</td>\n",
       "      <td>-0.265706</td>\n",
       "      <td>0.404836</td>\n",
       "      <td>0.391566</td>\n",
       "      <td>0.36885</td>\n",
       "      <td>-2.479374</td>\n",
       "      <td>-0.186486</td>\n",
       "      <td>86.0</td>\n",
       "      <td>37.0</td>\n",
       "      <td>19.0</td>\n",
       "      <td>0.0</td>\n",
       "    </tr>\n",
       "    <tr>\n",
       "      <th>[2139-10-06 12:40:29, 2139-10-06 13:40:29)</th>\n",
       "      <td>-0.422008</td>\n",
       "      <td>-1.760743</td>\n",
       "      <td>0.360532</td>\n",
       "      <td>-0.225783</td>\n",
       "      <td>-0.288689</td>\n",
       "      <td>-0.265706</td>\n",
       "      <td>0.404836</td>\n",
       "      <td>0.391566</td>\n",
       "      <td>0.36885</td>\n",
       "      <td>-2.479374</td>\n",
       "      <td>2.356989</td>\n",
       "      <td>86.0</td>\n",
       "      <td>37.0</td>\n",
       "      <td>19.0</td>\n",
       "      <td>0.0</td>\n",
       "    </tr>\n",
       "    <tr>\n",
       "      <th>[2139-10-06 13:40:29, 2139-10-06 14:40:29)</th>\n",
       "      <td>-0.422008</td>\n",
       "      <td>-1.760743</td>\n",
       "      <td>0.360532</td>\n",
       "      <td>-0.225783</td>\n",
       "      <td>-0.288689</td>\n",
       "      <td>-0.265706</td>\n",
       "      <td>0.404836</td>\n",
       "      <td>0.391566</td>\n",
       "      <td>0.36885</td>\n",
       "      <td>-2.479374</td>\n",
       "      <td>2.356989</td>\n",
       "      <td>86.0</td>\n",
       "      <td>37.0</td>\n",
       "      <td>19.0</td>\n",
       "      <td>0.0</td>\n",
       "    </tr>\n",
       "    <tr>\n",
       "      <th>[2139-10-06 14:40:29, 2139-10-06 15:40:29)</th>\n",
       "      <td>-0.422008</td>\n",
       "      <td>-1.760743</td>\n",
       "      <td>0.360532</td>\n",
       "      <td>-0.225783</td>\n",
       "      <td>-0.288689</td>\n",
       "      <td>-0.265706</td>\n",
       "      <td>0.404836</td>\n",
       "      <td>0.391566</td>\n",
       "      <td>0.36885</td>\n",
       "      <td>-2.479374</td>\n",
       "      <td>2.356989</td>\n",
       "      <td>86.0</td>\n",
       "      <td>37.0</td>\n",
       "      <td>19.0</td>\n",
       "      <td>0.0</td>\n",
       "    </tr>\n",
       "  </tbody>\n",
       "</table>\n",
       "</div>"
      ],
      "text/plain": [
       "                                                     creatinine  \\\n",
       "stay_id  time                                                     \n",
       "30004811 [2139-10-06 10:40:29, 2139-10-06 11:40:29)   -0.422008   \n",
       "         [2139-10-06 11:40:29, 2139-10-06 12:40:29)   -0.422008   \n",
       "         [2139-10-06 12:40:29, 2139-10-06 13:40:29)   -0.422008   \n",
       "         [2139-10-06 13:40:29, 2139-10-06 14:40:29)   -0.422008   \n",
       "         [2139-10-06 14:40:29, 2139-10-06 15:40:29)   -0.422008   \n",
       "\n",
       "                                                     fraction_inspired_oxygen  \\\n",
       "stay_id  time                                                                   \n",
       "30004811 [2139-10-06 10:40:29, 2139-10-06 11:40:29)                 -1.760743   \n",
       "         [2139-10-06 11:40:29, 2139-10-06 12:40:29)                 -1.760743   \n",
       "         [2139-10-06 12:40:29, 2139-10-06 13:40:29)                 -1.760743   \n",
       "         [2139-10-06 13:40:29, 2139-10-06 14:40:29)                 -1.760743   \n",
       "         [2139-10-06 14:40:29, 2139-10-06 15:40:29)                 -1.760743   \n",
       "\n",
       "                                                      lactate  urine_output  \\\n",
       "stay_id  time                                                                 \n",
       "30004811 [2139-10-06 10:40:29, 2139-10-06 11:40:29) -0.182521     -0.225783   \n",
       "         [2139-10-06 11:40:29, 2139-10-06 12:40:29) -0.182521     -0.225783   \n",
       "         [2139-10-06 12:40:29, 2139-10-06 13:40:29)  0.360532     -0.225783   \n",
       "         [2139-10-06 13:40:29, 2139-10-06 14:40:29)  0.360532     -0.225783   \n",
       "         [2139-10-06 14:40:29, 2139-10-06 15:40:29)  0.360532     -0.225783   \n",
       "\n",
       "                                                     alanine_aminotransferase  \\\n",
       "stay_id  time                                                                   \n",
       "30004811 [2139-10-06 10:40:29, 2139-10-06 11:40:29)                 -0.288689   \n",
       "         [2139-10-06 11:40:29, 2139-10-06 12:40:29)                 -0.288689   \n",
       "         [2139-10-06 12:40:29, 2139-10-06 13:40:29)                 -0.288689   \n",
       "         [2139-10-06 13:40:29, 2139-10-06 14:40:29)                 -0.288689   \n",
       "         [2139-10-06 14:40:29, 2139-10-06 15:40:29)                 -0.288689   \n",
       "\n",
       "                                                     asparate_aminotransferase  \\\n",
       "stay_id  time                                                                    \n",
       "30004811 [2139-10-06 10:40:29, 2139-10-06 11:40:29)                  -0.265706   \n",
       "         [2139-10-06 11:40:29, 2139-10-06 12:40:29)                  -0.265706   \n",
       "         [2139-10-06 12:40:29, 2139-10-06 13:40:29)                  -0.265706   \n",
       "         [2139-10-06 13:40:29, 2139-10-06 14:40:29)                  -0.265706   \n",
       "         [2139-10-06 14:40:29, 2139-10-06 15:40:29)                  -0.265706   \n",
       "\n",
       "                                                     mean_blood_pressure  \\\n",
       "stay_id  time                                                              \n",
       "30004811 [2139-10-06 10:40:29, 2139-10-06 11:40:29)             0.404836   \n",
       "         [2139-10-06 11:40:29, 2139-10-06 12:40:29)             0.404836   \n",
       "         [2139-10-06 12:40:29, 2139-10-06 13:40:29)             0.404836   \n",
       "         [2139-10-06 13:40:29, 2139-10-06 14:40:29)             0.404836   \n",
       "         [2139-10-06 14:40:29, 2139-10-06 15:40:29)             0.404836   \n",
       "\n",
       "                                                     diastolic_blood_pressure  \\\n",
       "stay_id  time                                                                   \n",
       "30004811 [2139-10-06 10:40:29, 2139-10-06 11:40:29)                  0.391566   \n",
       "         [2139-10-06 11:40:29, 2139-10-06 12:40:29)                  0.391566   \n",
       "         [2139-10-06 12:40:29, 2139-10-06 13:40:29)                  0.391566   \n",
       "         [2139-10-06 13:40:29, 2139-10-06 14:40:29)                  0.391566   \n",
       "         [2139-10-06 14:40:29, 2139-10-06 15:40:29)                  0.391566   \n",
       "\n",
       "                                                     systolic_blood_pressure  \\\n",
       "stay_id  time                                                                  \n",
       "30004811 [2139-10-06 10:40:29, 2139-10-06 11:40:29)                  0.36885   \n",
       "         [2139-10-06 11:40:29, 2139-10-06 12:40:29)                  0.36885   \n",
       "         [2139-10-06 12:40:29, 2139-10-06 13:40:29)                  0.36885   \n",
       "         [2139-10-06 13:40:29, 2139-10-06 14:40:29)                  0.36885   \n",
       "         [2139-10-06 14:40:29, 2139-10-06 15:40:29)                  0.36885   \n",
       "\n",
       "                                                          gcs  \\\n",
       "stay_id  time                                                   \n",
       "30004811 [2139-10-06 10:40:29, 2139-10-06 11:40:29) -2.479374   \n",
       "         [2139-10-06 11:40:29, 2139-10-06 12:40:29) -2.479374   \n",
       "         [2139-10-06 12:40:29, 2139-10-06 13:40:29) -2.479374   \n",
       "         [2139-10-06 13:40:29, 2139-10-06 14:40:29) -2.479374   \n",
       "         [2139-10-06 14:40:29, 2139-10-06 15:40:29) -2.479374   \n",
       "\n",
       "                                                     partial_pressure_of_oxygen  \\\n",
       "stay_id  time                                                                     \n",
       "30004811 [2139-10-06 10:40:29, 2139-10-06 11:40:29)                   -0.186486   \n",
       "         [2139-10-06 11:40:29, 2139-10-06 12:40:29)                   -0.186486   \n",
       "         [2139-10-06 12:40:29, 2139-10-06 13:40:29)                    2.356989   \n",
       "         [2139-10-06 13:40:29, 2139-10-06 14:40:29)                    2.356989   \n",
       "         [2139-10-06 14:40:29, 2139-10-06 15:40:29)                    2.356989   \n",
       "\n",
       "                                                     heart_rate  temperature  \\\n",
       "stay_id  time                                                                  \n",
       "30004811 [2139-10-06 10:40:29, 2139-10-06 11:40:29)        86.0         37.0   \n",
       "         [2139-10-06 11:40:29, 2139-10-06 12:40:29)        86.0         37.0   \n",
       "         [2139-10-06 12:40:29, 2139-10-06 13:40:29)        86.0         37.0   \n",
       "         [2139-10-06 13:40:29, 2139-10-06 14:40:29)        86.0         37.0   \n",
       "         [2139-10-06 14:40:29, 2139-10-06 15:40:29)        86.0         37.0   \n",
       "\n",
       "                                                     respiratory_rate  action  \n",
       "stay_id  time                                                                  \n",
       "30004811 [2139-10-06 10:40:29, 2139-10-06 11:40:29)              19.0     0.0  \n",
       "         [2139-10-06 11:40:29, 2139-10-06 12:40:29)              19.0     0.0  \n",
       "         [2139-10-06 12:40:29, 2139-10-06 13:40:29)              19.0     0.0  \n",
       "         [2139-10-06 13:40:29, 2139-10-06 14:40:29)              19.0     0.0  \n",
       "         [2139-10-06 14:40:29, 2139-10-06 15:40:29)              19.0     0.0  "
      ]
     },
     "execution_count": 8,
     "metadata": {},
     "output_type": "execute_result"
    }
   ],
   "source": [
    "data_df.head()"
   ]
  },
  {
   "cell_type": "markdown",
   "metadata": {
    "id": "9iCHh7KLu_Al"
   },
   "source": [
    "# Unormalized version of the data"
   ]
  },
  {
   "cell_type": "code",
   "execution_count": 9,
   "metadata": {
    "colab": {
     "base_uri": "https://localhost:8080/",
     "height": 680
    },
    "id": "34Vff---u-Er",
    "outputId": "218f9ba5-c5ec-4eda-adec-c610f15acc75"
   },
   "outputs": [
    {
     "data": {
      "text/html": [
       "<div>\n",
       "<style scoped>\n",
       "    .dataframe tbody tr th:only-of-type {\n",
       "        vertical-align: middle;\n",
       "    }\n",
       "\n",
       "    .dataframe tbody tr th {\n",
       "        vertical-align: top;\n",
       "    }\n",
       "\n",
       "    .dataframe thead th {\n",
       "        text-align: right;\n",
       "    }\n",
       "</style>\n",
       "<table border=\"1\" class=\"dataframe\">\n",
       "  <thead>\n",
       "    <tr style=\"text-align: right;\">\n",
       "      <th></th>\n",
       "      <th></th>\n",
       "      <th>creatinine</th>\n",
       "      <th>fraction_inspired_oxygen</th>\n",
       "      <th>lactate</th>\n",
       "      <th>urine_output</th>\n",
       "      <th>alanine_aminotransferase</th>\n",
       "      <th>asparate_aminotransferase</th>\n",
       "      <th>mean_blood_pressure</th>\n",
       "      <th>diastolic_blood_pressure</th>\n",
       "      <th>systolic_blood_pressure</th>\n",
       "      <th>gcs</th>\n",
       "      <th>partial_pressure_of_oxygen</th>\n",
       "      <th>heart_rate</th>\n",
       "      <th>temperature</th>\n",
       "      <th>respiratory_rate</th>\n",
       "      <th>action</th>\n",
       "    </tr>\n",
       "    <tr>\n",
       "      <th>stay_id</th>\n",
       "      <th>time</th>\n",
       "      <th></th>\n",
       "      <th></th>\n",
       "      <th></th>\n",
       "      <th></th>\n",
       "      <th></th>\n",
       "      <th></th>\n",
       "      <th></th>\n",
       "      <th></th>\n",
       "      <th></th>\n",
       "      <th></th>\n",
       "      <th></th>\n",
       "      <th></th>\n",
       "      <th></th>\n",
       "      <th></th>\n",
       "      <th></th>\n",
       "    </tr>\n",
       "  </thead>\n",
       "  <tbody>\n",
       "    <tr>\n",
       "      <th rowspan=\"5\" valign=\"top\">30004811</th>\n",
       "      <th>[2139-10-06 10:40:29, 2139-10-06 11:40:29)</th>\n",
       "      <td>1.0</td>\n",
       "      <td>0.21</td>\n",
       "      <td>1.8</td>\n",
       "      <td>80.0</td>\n",
       "      <td>34.0</td>\n",
       "      <td>40.0</td>\n",
       "      <td>77.0</td>\n",
       "      <td>59.0</td>\n",
       "      <td>118.0</td>\n",
       "      <td>11.0</td>\n",
       "      <td>112.0</td>\n",
       "      <td>86.0</td>\n",
       "      <td>37.0</td>\n",
       "      <td>19.0</td>\n",
       "      <td>0.0</td>\n",
       "    </tr>\n",
       "    <tr>\n",
       "      <th>[2139-10-06 11:40:29, 2139-10-06 12:40:29)</th>\n",
       "      <td>1.0</td>\n",
       "      <td>0.21</td>\n",
       "      <td>1.8</td>\n",
       "      <td>80.0</td>\n",
       "      <td>34.0</td>\n",
       "      <td>40.0</td>\n",
       "      <td>77.0</td>\n",
       "      <td>59.0</td>\n",
       "      <td>118.0</td>\n",
       "      <td>11.0</td>\n",
       "      <td>112.0</td>\n",
       "      <td>86.0</td>\n",
       "      <td>37.0</td>\n",
       "      <td>19.0</td>\n",
       "      <td>0.0</td>\n",
       "    </tr>\n",
       "    <tr>\n",
       "      <th>[2139-10-06 12:40:29, 2139-10-06 13:40:29)</th>\n",
       "      <td>1.0</td>\n",
       "      <td>0.21</td>\n",
       "      <td>3.0</td>\n",
       "      <td>80.0</td>\n",
       "      <td>34.0</td>\n",
       "      <td>40.0</td>\n",
       "      <td>77.0</td>\n",
       "      <td>59.0</td>\n",
       "      <td>118.0</td>\n",
       "      <td>11.0</td>\n",
       "      <td>272.0</td>\n",
       "      <td>86.0</td>\n",
       "      <td>37.0</td>\n",
       "      <td>19.0</td>\n",
       "      <td>0.0</td>\n",
       "    </tr>\n",
       "    <tr>\n",
       "      <th>[2139-10-06 13:40:29, 2139-10-06 14:40:29)</th>\n",
       "      <td>1.0</td>\n",
       "      <td>0.21</td>\n",
       "      <td>3.0</td>\n",
       "      <td>80.0</td>\n",
       "      <td>34.0</td>\n",
       "      <td>40.0</td>\n",
       "      <td>77.0</td>\n",
       "      <td>59.0</td>\n",
       "      <td>118.0</td>\n",
       "      <td>11.0</td>\n",
       "      <td>272.0</td>\n",
       "      <td>86.0</td>\n",
       "      <td>37.0</td>\n",
       "      <td>19.0</td>\n",
       "      <td>0.0</td>\n",
       "    </tr>\n",
       "    <tr>\n",
       "      <th>[2139-10-06 14:40:29, 2139-10-06 15:40:29)</th>\n",
       "      <td>1.0</td>\n",
       "      <td>0.21</td>\n",
       "      <td>3.0</td>\n",
       "      <td>80.0</td>\n",
       "      <td>34.0</td>\n",
       "      <td>40.0</td>\n",
       "      <td>77.0</td>\n",
       "      <td>59.0</td>\n",
       "      <td>118.0</td>\n",
       "      <td>11.0</td>\n",
       "      <td>272.0</td>\n",
       "      <td>86.0</td>\n",
       "      <td>37.0</td>\n",
       "      <td>19.0</td>\n",
       "      <td>0.0</td>\n",
       "    </tr>\n",
       "  </tbody>\n",
       "</table>\n",
       "</div>"
      ],
      "text/plain": [
       "                                                     creatinine  \\\n",
       "stay_id  time                                                     \n",
       "30004811 [2139-10-06 10:40:29, 2139-10-06 11:40:29)         1.0   \n",
       "         [2139-10-06 11:40:29, 2139-10-06 12:40:29)         1.0   \n",
       "         [2139-10-06 12:40:29, 2139-10-06 13:40:29)         1.0   \n",
       "         [2139-10-06 13:40:29, 2139-10-06 14:40:29)         1.0   \n",
       "         [2139-10-06 14:40:29, 2139-10-06 15:40:29)         1.0   \n",
       "\n",
       "                                                     fraction_inspired_oxygen  \\\n",
       "stay_id  time                                                                   \n",
       "30004811 [2139-10-06 10:40:29, 2139-10-06 11:40:29)                      0.21   \n",
       "         [2139-10-06 11:40:29, 2139-10-06 12:40:29)                      0.21   \n",
       "         [2139-10-06 12:40:29, 2139-10-06 13:40:29)                      0.21   \n",
       "         [2139-10-06 13:40:29, 2139-10-06 14:40:29)                      0.21   \n",
       "         [2139-10-06 14:40:29, 2139-10-06 15:40:29)                      0.21   \n",
       "\n",
       "                                                     lactate  urine_output  \\\n",
       "stay_id  time                                                                \n",
       "30004811 [2139-10-06 10:40:29, 2139-10-06 11:40:29)      1.8          80.0   \n",
       "         [2139-10-06 11:40:29, 2139-10-06 12:40:29)      1.8          80.0   \n",
       "         [2139-10-06 12:40:29, 2139-10-06 13:40:29)      3.0          80.0   \n",
       "         [2139-10-06 13:40:29, 2139-10-06 14:40:29)      3.0          80.0   \n",
       "         [2139-10-06 14:40:29, 2139-10-06 15:40:29)      3.0          80.0   \n",
       "\n",
       "                                                     alanine_aminotransferase  \\\n",
       "stay_id  time                                                                   \n",
       "30004811 [2139-10-06 10:40:29, 2139-10-06 11:40:29)                      34.0   \n",
       "         [2139-10-06 11:40:29, 2139-10-06 12:40:29)                      34.0   \n",
       "         [2139-10-06 12:40:29, 2139-10-06 13:40:29)                      34.0   \n",
       "         [2139-10-06 13:40:29, 2139-10-06 14:40:29)                      34.0   \n",
       "         [2139-10-06 14:40:29, 2139-10-06 15:40:29)                      34.0   \n",
       "\n",
       "                                                     asparate_aminotransferase  \\\n",
       "stay_id  time                                                                    \n",
       "30004811 [2139-10-06 10:40:29, 2139-10-06 11:40:29)                       40.0   \n",
       "         [2139-10-06 11:40:29, 2139-10-06 12:40:29)                       40.0   \n",
       "         [2139-10-06 12:40:29, 2139-10-06 13:40:29)                       40.0   \n",
       "         [2139-10-06 13:40:29, 2139-10-06 14:40:29)                       40.0   \n",
       "         [2139-10-06 14:40:29, 2139-10-06 15:40:29)                       40.0   \n",
       "\n",
       "                                                     mean_blood_pressure  \\\n",
       "stay_id  time                                                              \n",
       "30004811 [2139-10-06 10:40:29, 2139-10-06 11:40:29)                 77.0   \n",
       "         [2139-10-06 11:40:29, 2139-10-06 12:40:29)                 77.0   \n",
       "         [2139-10-06 12:40:29, 2139-10-06 13:40:29)                 77.0   \n",
       "         [2139-10-06 13:40:29, 2139-10-06 14:40:29)                 77.0   \n",
       "         [2139-10-06 14:40:29, 2139-10-06 15:40:29)                 77.0   \n",
       "\n",
       "                                                     diastolic_blood_pressure  \\\n",
       "stay_id  time                                                                   \n",
       "30004811 [2139-10-06 10:40:29, 2139-10-06 11:40:29)                      59.0   \n",
       "         [2139-10-06 11:40:29, 2139-10-06 12:40:29)                      59.0   \n",
       "         [2139-10-06 12:40:29, 2139-10-06 13:40:29)                      59.0   \n",
       "         [2139-10-06 13:40:29, 2139-10-06 14:40:29)                      59.0   \n",
       "         [2139-10-06 14:40:29, 2139-10-06 15:40:29)                      59.0   \n",
       "\n",
       "                                                     systolic_blood_pressure  \\\n",
       "stay_id  time                                                                  \n",
       "30004811 [2139-10-06 10:40:29, 2139-10-06 11:40:29)                    118.0   \n",
       "         [2139-10-06 11:40:29, 2139-10-06 12:40:29)                    118.0   \n",
       "         [2139-10-06 12:40:29, 2139-10-06 13:40:29)                    118.0   \n",
       "         [2139-10-06 13:40:29, 2139-10-06 14:40:29)                    118.0   \n",
       "         [2139-10-06 14:40:29, 2139-10-06 15:40:29)                    118.0   \n",
       "\n",
       "                                                      gcs  \\\n",
       "stay_id  time                                               \n",
       "30004811 [2139-10-06 10:40:29, 2139-10-06 11:40:29)  11.0   \n",
       "         [2139-10-06 11:40:29, 2139-10-06 12:40:29)  11.0   \n",
       "         [2139-10-06 12:40:29, 2139-10-06 13:40:29)  11.0   \n",
       "         [2139-10-06 13:40:29, 2139-10-06 14:40:29)  11.0   \n",
       "         [2139-10-06 14:40:29, 2139-10-06 15:40:29)  11.0   \n",
       "\n",
       "                                                     partial_pressure_of_oxygen  \\\n",
       "stay_id  time                                                                     \n",
       "30004811 [2139-10-06 10:40:29, 2139-10-06 11:40:29)                       112.0   \n",
       "         [2139-10-06 11:40:29, 2139-10-06 12:40:29)                       112.0   \n",
       "         [2139-10-06 12:40:29, 2139-10-06 13:40:29)                       272.0   \n",
       "         [2139-10-06 13:40:29, 2139-10-06 14:40:29)                       272.0   \n",
       "         [2139-10-06 14:40:29, 2139-10-06 15:40:29)                       272.0   \n",
       "\n",
       "                                                     heart_rate  temperature  \\\n",
       "stay_id  time                                                                  \n",
       "30004811 [2139-10-06 10:40:29, 2139-10-06 11:40:29)        86.0         37.0   \n",
       "         [2139-10-06 11:40:29, 2139-10-06 12:40:29)        86.0         37.0   \n",
       "         [2139-10-06 12:40:29, 2139-10-06 13:40:29)        86.0         37.0   \n",
       "         [2139-10-06 13:40:29, 2139-10-06 14:40:29)        86.0         37.0   \n",
       "         [2139-10-06 14:40:29, 2139-10-06 15:40:29)        86.0         37.0   \n",
       "\n",
       "                                                     respiratory_rate  action  \n",
       "stay_id  time                                                                  \n",
       "30004811 [2139-10-06 10:40:29, 2139-10-06 11:40:29)              19.0     0.0  \n",
       "         [2139-10-06 11:40:29, 2139-10-06 12:40:29)              19.0     0.0  \n",
       "         [2139-10-06 12:40:29, 2139-10-06 13:40:29)              19.0     0.0  \n",
       "         [2139-10-06 13:40:29, 2139-10-06 14:40:29)              19.0     0.0  \n",
       "         [2139-10-06 14:40:29, 2139-10-06 15:40:29)              19.0     0.0  "
      ]
     },
     "execution_count": 9,
     "metadata": {},
     "output_type": "execute_result"
    }
   ],
   "source": [
    "data_non_normalized_df.head()"
   ]
  },
  {
   "cell_type": "markdown",
   "metadata": {
    "id": "DTriDVvYm2in"
   },
   "source": [
    "# Matrix form of the data (Normalized and features only)"
   ]
  },
  {
   "cell_type": "code",
   "execution_count": 10,
   "metadata": {
    "colab": {
     "base_uri": "https://localhost:8080/",
     "height": 224
    },
    "id": "vY1Vz0YZm1Pj",
    "outputId": "8f772a9d-08b0-4e69-ac53-d00dc1772225"
   },
   "outputs": [
    {
     "data": {
      "text/html": [
       "<div>\n",
       "<style scoped>\n",
       "    .dataframe tbody tr th:only-of-type {\n",
       "        vertical-align: middle;\n",
       "    }\n",
       "\n",
       "    .dataframe tbody tr th {\n",
       "        vertical-align: top;\n",
       "    }\n",
       "\n",
       "    .dataframe thead th {\n",
       "        text-align: right;\n",
       "    }\n",
       "</style>\n",
       "<table border=\"1\" class=\"dataframe\">\n",
       "  <thead>\n",
       "    <tr style=\"text-align: right;\">\n",
       "      <th></th>\n",
       "      <th>creatinine</th>\n",
       "      <th>fraction_inspired_oxygen</th>\n",
       "      <th>lactate</th>\n",
       "      <th>urine_output</th>\n",
       "      <th>alanine_aminotransferase</th>\n",
       "      <th>asparate_aminotransferase</th>\n",
       "      <th>mean_blood_pressure</th>\n",
       "      <th>diastolic_blood_pressure</th>\n",
       "      <th>systolic_blood_pressure</th>\n",
       "      <th>gcs</th>\n",
       "      <th>partial_pressure_of_oxygen</th>\n",
       "      <th>heart_rate</th>\n",
       "      <th>temperature</th>\n",
       "      <th>respiratory_rate</th>\n",
       "    </tr>\n",
       "  </thead>\n",
       "  <tbody>\n",
       "    <tr>\n",
       "      <th>0</th>\n",
       "      <td>-0.422008</td>\n",
       "      <td>-1.760743</td>\n",
       "      <td>-0.182521</td>\n",
       "      <td>-0.225783</td>\n",
       "      <td>-0.288689</td>\n",
       "      <td>-0.265706</td>\n",
       "      <td>0.404836</td>\n",
       "      <td>0.391566</td>\n",
       "      <td>0.36885</td>\n",
       "      <td>-2.479374</td>\n",
       "      <td>-0.186486</td>\n",
       "      <td>86.0</td>\n",
       "      <td>37.0</td>\n",
       "      <td>19.0</td>\n",
       "    </tr>\n",
       "    <tr>\n",
       "      <th>1</th>\n",
       "      <td>-0.422008</td>\n",
       "      <td>-1.760743</td>\n",
       "      <td>-0.182521</td>\n",
       "      <td>-0.225783</td>\n",
       "      <td>-0.288689</td>\n",
       "      <td>-0.265706</td>\n",
       "      <td>0.404836</td>\n",
       "      <td>0.391566</td>\n",
       "      <td>0.36885</td>\n",
       "      <td>-2.479374</td>\n",
       "      <td>-0.186486</td>\n",
       "      <td>86.0</td>\n",
       "      <td>37.0</td>\n",
       "      <td>19.0</td>\n",
       "    </tr>\n",
       "    <tr>\n",
       "      <th>2</th>\n",
       "      <td>-0.422008</td>\n",
       "      <td>-1.760743</td>\n",
       "      <td>0.360532</td>\n",
       "      <td>-0.225783</td>\n",
       "      <td>-0.288689</td>\n",
       "      <td>-0.265706</td>\n",
       "      <td>0.404836</td>\n",
       "      <td>0.391566</td>\n",
       "      <td>0.36885</td>\n",
       "      <td>-2.479374</td>\n",
       "      <td>2.356989</td>\n",
       "      <td>86.0</td>\n",
       "      <td>37.0</td>\n",
       "      <td>19.0</td>\n",
       "    </tr>\n",
       "    <tr>\n",
       "      <th>3</th>\n",
       "      <td>-0.422008</td>\n",
       "      <td>-1.760743</td>\n",
       "      <td>0.360532</td>\n",
       "      <td>-0.225783</td>\n",
       "      <td>-0.288689</td>\n",
       "      <td>-0.265706</td>\n",
       "      <td>0.404836</td>\n",
       "      <td>0.391566</td>\n",
       "      <td>0.36885</td>\n",
       "      <td>-2.479374</td>\n",
       "      <td>2.356989</td>\n",
       "      <td>86.0</td>\n",
       "      <td>37.0</td>\n",
       "      <td>19.0</td>\n",
       "    </tr>\n",
       "    <tr>\n",
       "      <th>4</th>\n",
       "      <td>-0.422008</td>\n",
       "      <td>-1.760743</td>\n",
       "      <td>0.360532</td>\n",
       "      <td>-0.225783</td>\n",
       "      <td>-0.288689</td>\n",
       "      <td>-0.265706</td>\n",
       "      <td>0.404836</td>\n",
       "      <td>0.391566</td>\n",
       "      <td>0.36885</td>\n",
       "      <td>-2.479374</td>\n",
       "      <td>2.356989</td>\n",
       "      <td>86.0</td>\n",
       "      <td>37.0</td>\n",
       "      <td>19.0</td>\n",
       "    </tr>\n",
       "  </tbody>\n",
       "</table>\n",
       "</div>"
      ],
      "text/plain": [
       "   creatinine  fraction_inspired_oxygen   lactate  urine_output  \\\n",
       "0   -0.422008                 -1.760743 -0.182521     -0.225783   \n",
       "1   -0.422008                 -1.760743 -0.182521     -0.225783   \n",
       "2   -0.422008                 -1.760743  0.360532     -0.225783   \n",
       "3   -0.422008                 -1.760743  0.360532     -0.225783   \n",
       "4   -0.422008                 -1.760743  0.360532     -0.225783   \n",
       "\n",
       "   alanine_aminotransferase  asparate_aminotransferase  mean_blood_pressure  \\\n",
       "0                 -0.288689                  -0.265706             0.404836   \n",
       "1                 -0.288689                  -0.265706             0.404836   \n",
       "2                 -0.288689                  -0.265706             0.404836   \n",
       "3                 -0.288689                  -0.265706             0.404836   \n",
       "4                 -0.288689                  -0.265706             0.404836   \n",
       "\n",
       "   diastolic_blood_pressure  systolic_blood_pressure       gcs  \\\n",
       "0                  0.391566                  0.36885 -2.479374   \n",
       "1                  0.391566                  0.36885 -2.479374   \n",
       "2                  0.391566                  0.36885 -2.479374   \n",
       "3                  0.391566                  0.36885 -2.479374   \n",
       "4                  0.391566                  0.36885 -2.479374   \n",
       "\n",
       "   partial_pressure_of_oxygen  heart_rate  temperature  respiratory_rate  \n",
       "0                   -0.186486        86.0         37.0              19.0  \n",
       "1                   -0.186486        86.0         37.0              19.0  \n",
       "2                    2.356989        86.0         37.0              19.0  \n",
       "3                    2.356989        86.0         37.0              19.0  \n",
       "4                    2.356989        86.0         37.0              19.0  "
      ]
     },
     "execution_count": 10,
     "metadata": {},
     "output_type": "execute_result"
    }
   ],
   "source": [
    "X_df.head()"
   ]
  },
  {
   "cell_type": "markdown",
   "metadata": {
    "id": "ty_UG34Um94a"
   },
   "source": [
    "# Corresponding output data for training BC (corresponding treatments for each data point in X_df)"
   ]
  },
  {
   "cell_type": "code",
   "execution_count": 11,
   "metadata": {
    "colab": {
     "base_uri": "https://localhost:8080/"
    },
    "id": "Gjw_qsM9m08j",
    "outputId": "ec463ca2-211b-4aee-bce9-8e81270fe984"
   },
   "outputs": [
    {
     "data": {
      "text/plain": [
       "0    0.0\n",
       "1    0.0\n",
       "2    0.0\n",
       "3    0.0\n",
       "4    0.0\n",
       "Name: action, dtype: float64"
      ]
     },
     "execution_count": 11,
     "metadata": {},
     "output_type": "execute_result"
    }
   ],
   "source": [
    "y_df.head()"
   ]
  },
  {
   "cell_type": "markdown",
   "metadata": {
    "id": "QrHtsSjsbdfX"
   },
   "source": [
    "# Clustering the feature space to extract a discrete state space form the clusters"
   ]
  },
  {
   "cell_type": "code",
   "execution_count": 12,
   "metadata": {
    "colab": {
     "base_uri": "https://localhost:8080/",
     "height": 128
    },
    "id": "tZvwIakA2XyB",
    "outputId": "29462c95-f6e0-4d68-f9af-75650d58286c"
   },
   "outputs": [
    {
     "data": {
      "text/plain": [
       "KMeans(n_clusters=100, random_state=0)"
      ]
     },
     "execution_count": 12,
     "metadata": {},
     "output_type": "execute_result"
    }
   ],
   "source": [
    "num_clusters = 100\n",
    "kmeans = KMeans(n_clusters= num_clusters , random_state=0)\n",
    "kmeans.fit(X_df)"
   ]
  },
  {
   "cell_type": "code",
   "execution_count": 13,
   "metadata": {
    "colab": {
     "base_uri": "https://localhost:8080/"
    },
    "id": "2M06PxkEyHyE",
    "outputId": "1f51a026-60ae-419a-f265-51fc0c34b5eb"
   },
   "outputs": [
    {
     "data": {
      "text/plain": [
       "array([1573, 5201, 4839, 6302,  755, 2624, 4282, 1152,  206, 2074, 5666,\n",
       "       2005, 6163, 1005, 3104,  859, 5044, 3901, 1961, 7998, 5495, 3806,\n",
       "       4191, 3170, 2419,  573, 1358,  721, 8024, 6950, 4028,  423, 7428,\n",
       "       5084, 6395, 2433,  235, 4324, 7887, 2404, 4686, 8928, 1132,  100,\n",
       "       3347,  608, 4564, 7711, 1162,  120,   18, 2624, 5086, 3867, 6196,\n",
       "       1095,  955,  198,  917, 3480, 7076, 2589, 4021, 8352, 1976, 7861,\n",
       "       1557, 5527, 1369, 4511, 2516, 1746,  560, 6902, 2894,  676, 1189,\n",
       "       6226, 5385, 1181, 8436, 7384, 5240,  702, 4064, 3613, 1590, 6754,\n",
       "       2498, 3158,    2, 2687,  283, 4901, 6062, 3146,  678, 3040, 8417,\n",
       "       7879])"
      ]
     },
     "execution_count": 13,
     "metadata": {},
     "output_type": "execute_result"
    }
   ],
   "source": [
    "# Looking at the values counts for each cluster\n",
    "\n",
    "np.unique(kmeans.labels_, return_counts = True)[1]"
   ]
  },
  {
   "cell_type": "code",
   "execution_count": 14,
   "metadata": {
    "id": "THctDvfNfDzO"
   },
   "outputs": [],
   "source": [
    "# Assigning each data point to a cluster\n",
    "\n",
    "X_df['cluster'] = kmeans.labels_.copy()\n",
    "data_df['cluster'] = kmeans.labels_.copy()\n",
    "data_non_normalized_df['cluster'] = kmeans.labels_.copy()"
   ]
  },
  {
   "cell_type": "code",
   "execution_count": 15,
   "metadata": {},
   "outputs": [
    {
     "name": "stdout",
     "output_type": "stream",
     "text": [
      "[38 77 29 87 12 19 63 99 83 73 65 85 93 98  3 40 30 41 89 20 82 10 78 44\n",
      " 69 64 94 36 60 32 23  5 46 84 17 45 52 59 86  1 18 51 74 22 16 11 15 61\n",
      "  9 88 48 26 70 33 80 67 24 14 27 62 66 95 35 37 91 81 34  2  4 47  6 72\n",
      " 25 42 71 13 97 75 28 54 68 21 92 58 76 31 53 79 55 39  8 49 56 43  0 96\n",
      " 57 50  7 90]\n"
     ]
    }
   ],
   "source": [
    "print(X_df['cluster'].unique())"
   ]
  },
  {
   "cell_type": "code",
   "execution_count": 16,
   "metadata": {
    "colab": {
     "base_uri": "https://localhost:8080/",
     "height": 680
    },
    "id": "fyLrxt0PfDwy",
    "outputId": "8b428504-8d84-40a8-fe4d-c8e581dc42e9",
    "scrolled": false
   },
   "outputs": [
    {
     "data": {
      "text/html": [
       "<div>\n",
       "<style scoped>\n",
       "    .dataframe tbody tr th:only-of-type {\n",
       "        vertical-align: middle;\n",
       "    }\n",
       "\n",
       "    .dataframe tbody tr th {\n",
       "        vertical-align: top;\n",
       "    }\n",
       "\n",
       "    .dataframe thead th {\n",
       "        text-align: right;\n",
       "    }\n",
       "</style>\n",
       "<table border=\"1\" class=\"dataframe\">\n",
       "  <thead>\n",
       "    <tr style=\"text-align: right;\">\n",
       "      <th></th>\n",
       "      <th></th>\n",
       "      <th>creatinine</th>\n",
       "      <th>fraction_inspired_oxygen</th>\n",
       "      <th>lactate</th>\n",
       "      <th>urine_output</th>\n",
       "      <th>alanine_aminotransferase</th>\n",
       "      <th>asparate_aminotransferase</th>\n",
       "      <th>mean_blood_pressure</th>\n",
       "      <th>diastolic_blood_pressure</th>\n",
       "      <th>systolic_blood_pressure</th>\n",
       "      <th>gcs</th>\n",
       "      <th>partial_pressure_of_oxygen</th>\n",
       "      <th>heart_rate</th>\n",
       "      <th>temperature</th>\n",
       "      <th>respiratory_rate</th>\n",
       "      <th>action</th>\n",
       "      <th>cluster</th>\n",
       "    </tr>\n",
       "    <tr>\n",
       "      <th>stay_id</th>\n",
       "      <th>time</th>\n",
       "      <th></th>\n",
       "      <th></th>\n",
       "      <th></th>\n",
       "      <th></th>\n",
       "      <th></th>\n",
       "      <th></th>\n",
       "      <th></th>\n",
       "      <th></th>\n",
       "      <th></th>\n",
       "      <th></th>\n",
       "      <th></th>\n",
       "      <th></th>\n",
       "      <th></th>\n",
       "      <th></th>\n",
       "      <th></th>\n",
       "      <th></th>\n",
       "    </tr>\n",
       "  </thead>\n",
       "  <tbody>\n",
       "    <tr>\n",
       "      <th rowspan=\"5\" valign=\"top\">30004811</th>\n",
       "      <th>[2139-10-06 10:40:29, 2139-10-06 11:40:29)</th>\n",
       "      <td>-0.422008</td>\n",
       "      <td>-1.760743</td>\n",
       "      <td>-0.182521</td>\n",
       "      <td>-0.225783</td>\n",
       "      <td>-0.288689</td>\n",
       "      <td>-0.265706</td>\n",
       "      <td>0.404836</td>\n",
       "      <td>0.391566</td>\n",
       "      <td>0.36885</td>\n",
       "      <td>-2.479374</td>\n",
       "      <td>-0.186486</td>\n",
       "      <td>86.0</td>\n",
       "      <td>37.0</td>\n",
       "      <td>19.0</td>\n",
       "      <td>0.0</td>\n",
       "      <td>38</td>\n",
       "    </tr>\n",
       "    <tr>\n",
       "      <th>[2139-10-06 11:40:29, 2139-10-06 12:40:29)</th>\n",
       "      <td>-0.422008</td>\n",
       "      <td>-1.760743</td>\n",
       "      <td>-0.182521</td>\n",
       "      <td>-0.225783</td>\n",
       "      <td>-0.288689</td>\n",
       "      <td>-0.265706</td>\n",
       "      <td>0.404836</td>\n",
       "      <td>0.391566</td>\n",
       "      <td>0.36885</td>\n",
       "      <td>-2.479374</td>\n",
       "      <td>-0.186486</td>\n",
       "      <td>86.0</td>\n",
       "      <td>37.0</td>\n",
       "      <td>19.0</td>\n",
       "      <td>0.0</td>\n",
       "      <td>38</td>\n",
       "    </tr>\n",
       "    <tr>\n",
       "      <th>[2139-10-06 12:40:29, 2139-10-06 13:40:29)</th>\n",
       "      <td>-0.422008</td>\n",
       "      <td>-1.760743</td>\n",
       "      <td>0.360532</td>\n",
       "      <td>-0.225783</td>\n",
       "      <td>-0.288689</td>\n",
       "      <td>-0.265706</td>\n",
       "      <td>0.404836</td>\n",
       "      <td>0.391566</td>\n",
       "      <td>0.36885</td>\n",
       "      <td>-2.479374</td>\n",
       "      <td>2.356989</td>\n",
       "      <td>86.0</td>\n",
       "      <td>37.0</td>\n",
       "      <td>19.0</td>\n",
       "      <td>0.0</td>\n",
       "      <td>38</td>\n",
       "    </tr>\n",
       "    <tr>\n",
       "      <th>[2139-10-06 13:40:29, 2139-10-06 14:40:29)</th>\n",
       "      <td>-0.422008</td>\n",
       "      <td>-1.760743</td>\n",
       "      <td>0.360532</td>\n",
       "      <td>-0.225783</td>\n",
       "      <td>-0.288689</td>\n",
       "      <td>-0.265706</td>\n",
       "      <td>0.404836</td>\n",
       "      <td>0.391566</td>\n",
       "      <td>0.36885</td>\n",
       "      <td>-2.479374</td>\n",
       "      <td>2.356989</td>\n",
       "      <td>86.0</td>\n",
       "      <td>37.0</td>\n",
       "      <td>19.0</td>\n",
       "      <td>0.0</td>\n",
       "      <td>38</td>\n",
       "    </tr>\n",
       "    <tr>\n",
       "      <th>[2139-10-06 14:40:29, 2139-10-06 15:40:29)</th>\n",
       "      <td>-0.422008</td>\n",
       "      <td>-1.760743</td>\n",
       "      <td>0.360532</td>\n",
       "      <td>-0.225783</td>\n",
       "      <td>-0.288689</td>\n",
       "      <td>-0.265706</td>\n",
       "      <td>0.404836</td>\n",
       "      <td>0.391566</td>\n",
       "      <td>0.36885</td>\n",
       "      <td>-2.479374</td>\n",
       "      <td>2.356989</td>\n",
       "      <td>86.0</td>\n",
       "      <td>37.0</td>\n",
       "      <td>19.0</td>\n",
       "      <td>0.0</td>\n",
       "      <td>38</td>\n",
       "    </tr>\n",
       "  </tbody>\n",
       "</table>\n",
       "</div>"
      ],
      "text/plain": [
       "                                                     creatinine  \\\n",
       "stay_id  time                                                     \n",
       "30004811 [2139-10-06 10:40:29, 2139-10-06 11:40:29)   -0.422008   \n",
       "         [2139-10-06 11:40:29, 2139-10-06 12:40:29)   -0.422008   \n",
       "         [2139-10-06 12:40:29, 2139-10-06 13:40:29)   -0.422008   \n",
       "         [2139-10-06 13:40:29, 2139-10-06 14:40:29)   -0.422008   \n",
       "         [2139-10-06 14:40:29, 2139-10-06 15:40:29)   -0.422008   \n",
       "\n",
       "                                                     fraction_inspired_oxygen  \\\n",
       "stay_id  time                                                                   \n",
       "30004811 [2139-10-06 10:40:29, 2139-10-06 11:40:29)                 -1.760743   \n",
       "         [2139-10-06 11:40:29, 2139-10-06 12:40:29)                 -1.760743   \n",
       "         [2139-10-06 12:40:29, 2139-10-06 13:40:29)                 -1.760743   \n",
       "         [2139-10-06 13:40:29, 2139-10-06 14:40:29)                 -1.760743   \n",
       "         [2139-10-06 14:40:29, 2139-10-06 15:40:29)                 -1.760743   \n",
       "\n",
       "                                                      lactate  urine_output  \\\n",
       "stay_id  time                                                                 \n",
       "30004811 [2139-10-06 10:40:29, 2139-10-06 11:40:29) -0.182521     -0.225783   \n",
       "         [2139-10-06 11:40:29, 2139-10-06 12:40:29) -0.182521     -0.225783   \n",
       "         [2139-10-06 12:40:29, 2139-10-06 13:40:29)  0.360532     -0.225783   \n",
       "         [2139-10-06 13:40:29, 2139-10-06 14:40:29)  0.360532     -0.225783   \n",
       "         [2139-10-06 14:40:29, 2139-10-06 15:40:29)  0.360532     -0.225783   \n",
       "\n",
       "                                                     alanine_aminotransferase  \\\n",
       "stay_id  time                                                                   \n",
       "30004811 [2139-10-06 10:40:29, 2139-10-06 11:40:29)                 -0.288689   \n",
       "         [2139-10-06 11:40:29, 2139-10-06 12:40:29)                 -0.288689   \n",
       "         [2139-10-06 12:40:29, 2139-10-06 13:40:29)                 -0.288689   \n",
       "         [2139-10-06 13:40:29, 2139-10-06 14:40:29)                 -0.288689   \n",
       "         [2139-10-06 14:40:29, 2139-10-06 15:40:29)                 -0.288689   \n",
       "\n",
       "                                                     asparate_aminotransferase  \\\n",
       "stay_id  time                                                                    \n",
       "30004811 [2139-10-06 10:40:29, 2139-10-06 11:40:29)                  -0.265706   \n",
       "         [2139-10-06 11:40:29, 2139-10-06 12:40:29)                  -0.265706   \n",
       "         [2139-10-06 12:40:29, 2139-10-06 13:40:29)                  -0.265706   \n",
       "         [2139-10-06 13:40:29, 2139-10-06 14:40:29)                  -0.265706   \n",
       "         [2139-10-06 14:40:29, 2139-10-06 15:40:29)                  -0.265706   \n",
       "\n",
       "                                                     mean_blood_pressure  \\\n",
       "stay_id  time                                                              \n",
       "30004811 [2139-10-06 10:40:29, 2139-10-06 11:40:29)             0.404836   \n",
       "         [2139-10-06 11:40:29, 2139-10-06 12:40:29)             0.404836   \n",
       "         [2139-10-06 12:40:29, 2139-10-06 13:40:29)             0.404836   \n",
       "         [2139-10-06 13:40:29, 2139-10-06 14:40:29)             0.404836   \n",
       "         [2139-10-06 14:40:29, 2139-10-06 15:40:29)             0.404836   \n",
       "\n",
       "                                                     diastolic_blood_pressure  \\\n",
       "stay_id  time                                                                   \n",
       "30004811 [2139-10-06 10:40:29, 2139-10-06 11:40:29)                  0.391566   \n",
       "         [2139-10-06 11:40:29, 2139-10-06 12:40:29)                  0.391566   \n",
       "         [2139-10-06 12:40:29, 2139-10-06 13:40:29)                  0.391566   \n",
       "         [2139-10-06 13:40:29, 2139-10-06 14:40:29)                  0.391566   \n",
       "         [2139-10-06 14:40:29, 2139-10-06 15:40:29)                  0.391566   \n",
       "\n",
       "                                                     systolic_blood_pressure  \\\n",
       "stay_id  time                                                                  \n",
       "30004811 [2139-10-06 10:40:29, 2139-10-06 11:40:29)                  0.36885   \n",
       "         [2139-10-06 11:40:29, 2139-10-06 12:40:29)                  0.36885   \n",
       "         [2139-10-06 12:40:29, 2139-10-06 13:40:29)                  0.36885   \n",
       "         [2139-10-06 13:40:29, 2139-10-06 14:40:29)                  0.36885   \n",
       "         [2139-10-06 14:40:29, 2139-10-06 15:40:29)                  0.36885   \n",
       "\n",
       "                                                          gcs  \\\n",
       "stay_id  time                                                   \n",
       "30004811 [2139-10-06 10:40:29, 2139-10-06 11:40:29) -2.479374   \n",
       "         [2139-10-06 11:40:29, 2139-10-06 12:40:29) -2.479374   \n",
       "         [2139-10-06 12:40:29, 2139-10-06 13:40:29) -2.479374   \n",
       "         [2139-10-06 13:40:29, 2139-10-06 14:40:29) -2.479374   \n",
       "         [2139-10-06 14:40:29, 2139-10-06 15:40:29) -2.479374   \n",
       "\n",
       "                                                     partial_pressure_of_oxygen  \\\n",
       "stay_id  time                                                                     \n",
       "30004811 [2139-10-06 10:40:29, 2139-10-06 11:40:29)                   -0.186486   \n",
       "         [2139-10-06 11:40:29, 2139-10-06 12:40:29)                   -0.186486   \n",
       "         [2139-10-06 12:40:29, 2139-10-06 13:40:29)                    2.356989   \n",
       "         [2139-10-06 13:40:29, 2139-10-06 14:40:29)                    2.356989   \n",
       "         [2139-10-06 14:40:29, 2139-10-06 15:40:29)                    2.356989   \n",
       "\n",
       "                                                     heart_rate  temperature  \\\n",
       "stay_id  time                                                                  \n",
       "30004811 [2139-10-06 10:40:29, 2139-10-06 11:40:29)        86.0         37.0   \n",
       "         [2139-10-06 11:40:29, 2139-10-06 12:40:29)        86.0         37.0   \n",
       "         [2139-10-06 12:40:29, 2139-10-06 13:40:29)        86.0         37.0   \n",
       "         [2139-10-06 13:40:29, 2139-10-06 14:40:29)        86.0         37.0   \n",
       "         [2139-10-06 14:40:29, 2139-10-06 15:40:29)        86.0         37.0   \n",
       "\n",
       "                                                     respiratory_rate  action  \\\n",
       "stay_id  time                                                                   \n",
       "30004811 [2139-10-06 10:40:29, 2139-10-06 11:40:29)              19.0     0.0   \n",
       "         [2139-10-06 11:40:29, 2139-10-06 12:40:29)              19.0     0.0   \n",
       "         [2139-10-06 12:40:29, 2139-10-06 13:40:29)              19.0     0.0   \n",
       "         [2139-10-06 13:40:29, 2139-10-06 14:40:29)              19.0     0.0   \n",
       "         [2139-10-06 14:40:29, 2139-10-06 15:40:29)              19.0     0.0   \n",
       "\n",
       "                                                     cluster  \n",
       "stay_id  time                                                 \n",
       "30004811 [2139-10-06 10:40:29, 2139-10-06 11:40:29)       38  \n",
       "         [2139-10-06 11:40:29, 2139-10-06 12:40:29)       38  \n",
       "         [2139-10-06 12:40:29, 2139-10-06 13:40:29)       38  \n",
       "         [2139-10-06 13:40:29, 2139-10-06 14:40:29)       38  \n",
       "         [2139-10-06 14:40:29, 2139-10-06 15:40:29)       38  "
      ]
     },
     "execution_count": 16,
     "metadata": {},
     "output_type": "execute_result"
    }
   ],
   "source": [
    "data_df.head()"
   ]
  },
  {
   "cell_type": "code",
   "execution_count": 17,
   "metadata": {
    "colab": {
     "base_uri": "https://localhost:8080/",
     "height": 224
    },
    "id": "Wldxy5LkYd3V",
    "outputId": "8d195544-19c5-4b43-aaea-2fea9216e2cb",
    "scrolled": true
   },
   "outputs": [
    {
     "data": {
      "text/html": [
       "<div>\n",
       "<style scoped>\n",
       "    .dataframe tbody tr th:only-of-type {\n",
       "        vertical-align: middle;\n",
       "    }\n",
       "\n",
       "    .dataframe tbody tr th {\n",
       "        vertical-align: top;\n",
       "    }\n",
       "\n",
       "    .dataframe thead th {\n",
       "        text-align: right;\n",
       "    }\n",
       "</style>\n",
       "<table border=\"1\" class=\"dataframe\">\n",
       "  <thead>\n",
       "    <tr style=\"text-align: right;\">\n",
       "      <th></th>\n",
       "      <th>creatinine</th>\n",
       "      <th>fraction_inspired_oxygen</th>\n",
       "      <th>lactate</th>\n",
       "      <th>urine_output</th>\n",
       "      <th>alanine_aminotransferase</th>\n",
       "      <th>asparate_aminotransferase</th>\n",
       "      <th>mean_blood_pressure</th>\n",
       "      <th>diastolic_blood_pressure</th>\n",
       "      <th>systolic_blood_pressure</th>\n",
       "      <th>gcs</th>\n",
       "      <th>partial_pressure_of_oxygen</th>\n",
       "      <th>heart_rate</th>\n",
       "      <th>temperature</th>\n",
       "      <th>respiratory_rate</th>\n",
       "      <th>cluster</th>\n",
       "    </tr>\n",
       "  </thead>\n",
       "  <tbody>\n",
       "    <tr>\n",
       "      <th>0</th>\n",
       "      <td>-0.422008</td>\n",
       "      <td>-1.760743</td>\n",
       "      <td>-0.182521</td>\n",
       "      <td>-0.225783</td>\n",
       "      <td>-0.288689</td>\n",
       "      <td>-0.265706</td>\n",
       "      <td>0.404836</td>\n",
       "      <td>0.391566</td>\n",
       "      <td>0.36885</td>\n",
       "      <td>-2.479374</td>\n",
       "      <td>-0.186486</td>\n",
       "      <td>86.0</td>\n",
       "      <td>37.0</td>\n",
       "      <td>19.0</td>\n",
       "      <td>38</td>\n",
       "    </tr>\n",
       "    <tr>\n",
       "      <th>1</th>\n",
       "      <td>-0.422008</td>\n",
       "      <td>-1.760743</td>\n",
       "      <td>-0.182521</td>\n",
       "      <td>-0.225783</td>\n",
       "      <td>-0.288689</td>\n",
       "      <td>-0.265706</td>\n",
       "      <td>0.404836</td>\n",
       "      <td>0.391566</td>\n",
       "      <td>0.36885</td>\n",
       "      <td>-2.479374</td>\n",
       "      <td>-0.186486</td>\n",
       "      <td>86.0</td>\n",
       "      <td>37.0</td>\n",
       "      <td>19.0</td>\n",
       "      <td>38</td>\n",
       "    </tr>\n",
       "    <tr>\n",
       "      <th>2</th>\n",
       "      <td>-0.422008</td>\n",
       "      <td>-1.760743</td>\n",
       "      <td>0.360532</td>\n",
       "      <td>-0.225783</td>\n",
       "      <td>-0.288689</td>\n",
       "      <td>-0.265706</td>\n",
       "      <td>0.404836</td>\n",
       "      <td>0.391566</td>\n",
       "      <td>0.36885</td>\n",
       "      <td>-2.479374</td>\n",
       "      <td>2.356989</td>\n",
       "      <td>86.0</td>\n",
       "      <td>37.0</td>\n",
       "      <td>19.0</td>\n",
       "      <td>38</td>\n",
       "    </tr>\n",
       "    <tr>\n",
       "      <th>3</th>\n",
       "      <td>-0.422008</td>\n",
       "      <td>-1.760743</td>\n",
       "      <td>0.360532</td>\n",
       "      <td>-0.225783</td>\n",
       "      <td>-0.288689</td>\n",
       "      <td>-0.265706</td>\n",
       "      <td>0.404836</td>\n",
       "      <td>0.391566</td>\n",
       "      <td>0.36885</td>\n",
       "      <td>-2.479374</td>\n",
       "      <td>2.356989</td>\n",
       "      <td>86.0</td>\n",
       "      <td>37.0</td>\n",
       "      <td>19.0</td>\n",
       "      <td>38</td>\n",
       "    </tr>\n",
       "    <tr>\n",
       "      <th>4</th>\n",
       "      <td>-0.422008</td>\n",
       "      <td>-1.760743</td>\n",
       "      <td>0.360532</td>\n",
       "      <td>-0.225783</td>\n",
       "      <td>-0.288689</td>\n",
       "      <td>-0.265706</td>\n",
       "      <td>0.404836</td>\n",
       "      <td>0.391566</td>\n",
       "      <td>0.36885</td>\n",
       "      <td>-2.479374</td>\n",
       "      <td>2.356989</td>\n",
       "      <td>86.0</td>\n",
       "      <td>37.0</td>\n",
       "      <td>19.0</td>\n",
       "      <td>38</td>\n",
       "    </tr>\n",
       "  </tbody>\n",
       "</table>\n",
       "</div>"
      ],
      "text/plain": [
       "   creatinine  fraction_inspired_oxygen   lactate  urine_output  \\\n",
       "0   -0.422008                 -1.760743 -0.182521     -0.225783   \n",
       "1   -0.422008                 -1.760743 -0.182521     -0.225783   \n",
       "2   -0.422008                 -1.760743  0.360532     -0.225783   \n",
       "3   -0.422008                 -1.760743  0.360532     -0.225783   \n",
       "4   -0.422008                 -1.760743  0.360532     -0.225783   \n",
       "\n",
       "   alanine_aminotransferase  asparate_aminotransferase  mean_blood_pressure  \\\n",
       "0                 -0.288689                  -0.265706             0.404836   \n",
       "1                 -0.288689                  -0.265706             0.404836   \n",
       "2                 -0.288689                  -0.265706             0.404836   \n",
       "3                 -0.288689                  -0.265706             0.404836   \n",
       "4                 -0.288689                  -0.265706             0.404836   \n",
       "\n",
       "   diastolic_blood_pressure  systolic_blood_pressure       gcs  \\\n",
       "0                  0.391566                  0.36885 -2.479374   \n",
       "1                  0.391566                  0.36885 -2.479374   \n",
       "2                  0.391566                  0.36885 -2.479374   \n",
       "3                  0.391566                  0.36885 -2.479374   \n",
       "4                  0.391566                  0.36885 -2.479374   \n",
       "\n",
       "   partial_pressure_of_oxygen  heart_rate  temperature  respiratory_rate  \\\n",
       "0                   -0.186486        86.0         37.0              19.0   \n",
       "1                   -0.186486        86.0         37.0              19.0   \n",
       "2                    2.356989        86.0         37.0              19.0   \n",
       "3                    2.356989        86.0         37.0              19.0   \n",
       "4                    2.356989        86.0         37.0              19.0   \n",
       "\n",
       "   cluster  \n",
       "0       38  \n",
       "1       38  \n",
       "2       38  \n",
       "3       38  \n",
       "4       38  "
      ]
     },
     "execution_count": 17,
     "metadata": {},
     "output_type": "execute_result"
    }
   ],
   "source": [
    "X_df.head()"
   ]
  },
  {
   "cell_type": "code",
   "execution_count": 18,
   "metadata": {
    "colab": {
     "base_uri": "https://localhost:8080/",
     "height": 680
    },
    "id": "2dlixxBjSk5D",
    "outputId": "f5b87d4f-a314-4673-ece1-0ec8b10e3311"
   },
   "outputs": [
    {
     "data": {
      "text/html": [
       "<div>\n",
       "<style scoped>\n",
       "    .dataframe tbody tr th:only-of-type {\n",
       "        vertical-align: middle;\n",
       "    }\n",
       "\n",
       "    .dataframe tbody tr th {\n",
       "        vertical-align: top;\n",
       "    }\n",
       "\n",
       "    .dataframe thead th {\n",
       "        text-align: right;\n",
       "    }\n",
       "</style>\n",
       "<table border=\"1\" class=\"dataframe\">\n",
       "  <thead>\n",
       "    <tr style=\"text-align: right;\">\n",
       "      <th></th>\n",
       "      <th></th>\n",
       "      <th>creatinine</th>\n",
       "      <th>fraction_inspired_oxygen</th>\n",
       "      <th>lactate</th>\n",
       "      <th>urine_output</th>\n",
       "      <th>alanine_aminotransferase</th>\n",
       "      <th>asparate_aminotransferase</th>\n",
       "      <th>mean_blood_pressure</th>\n",
       "      <th>diastolic_blood_pressure</th>\n",
       "      <th>systolic_blood_pressure</th>\n",
       "      <th>gcs</th>\n",
       "      <th>partial_pressure_of_oxygen</th>\n",
       "      <th>heart_rate</th>\n",
       "      <th>temperature</th>\n",
       "      <th>respiratory_rate</th>\n",
       "      <th>action</th>\n",
       "      <th>cluster</th>\n",
       "    </tr>\n",
       "    <tr>\n",
       "      <th>stay_id</th>\n",
       "      <th>time</th>\n",
       "      <th></th>\n",
       "      <th></th>\n",
       "      <th></th>\n",
       "      <th></th>\n",
       "      <th></th>\n",
       "      <th></th>\n",
       "      <th></th>\n",
       "      <th></th>\n",
       "      <th></th>\n",
       "      <th></th>\n",
       "      <th></th>\n",
       "      <th></th>\n",
       "      <th></th>\n",
       "      <th></th>\n",
       "      <th></th>\n",
       "      <th></th>\n",
       "    </tr>\n",
       "  </thead>\n",
       "  <tbody>\n",
       "    <tr>\n",
       "      <th rowspan=\"5\" valign=\"top\">30004811</th>\n",
       "      <th>[2139-10-06 10:40:29, 2139-10-06 11:40:29)</th>\n",
       "      <td>1.0</td>\n",
       "      <td>0.21</td>\n",
       "      <td>1.8</td>\n",
       "      <td>80.0</td>\n",
       "      <td>34.0</td>\n",
       "      <td>40.0</td>\n",
       "      <td>77.0</td>\n",
       "      <td>59.0</td>\n",
       "      <td>118.0</td>\n",
       "      <td>11.0</td>\n",
       "      <td>112.0</td>\n",
       "      <td>86.0</td>\n",
       "      <td>37.0</td>\n",
       "      <td>19.0</td>\n",
       "      <td>0.0</td>\n",
       "      <td>38</td>\n",
       "    </tr>\n",
       "    <tr>\n",
       "      <th>[2139-10-06 11:40:29, 2139-10-06 12:40:29)</th>\n",
       "      <td>1.0</td>\n",
       "      <td>0.21</td>\n",
       "      <td>1.8</td>\n",
       "      <td>80.0</td>\n",
       "      <td>34.0</td>\n",
       "      <td>40.0</td>\n",
       "      <td>77.0</td>\n",
       "      <td>59.0</td>\n",
       "      <td>118.0</td>\n",
       "      <td>11.0</td>\n",
       "      <td>112.0</td>\n",
       "      <td>86.0</td>\n",
       "      <td>37.0</td>\n",
       "      <td>19.0</td>\n",
       "      <td>0.0</td>\n",
       "      <td>38</td>\n",
       "    </tr>\n",
       "    <tr>\n",
       "      <th>[2139-10-06 12:40:29, 2139-10-06 13:40:29)</th>\n",
       "      <td>1.0</td>\n",
       "      <td>0.21</td>\n",
       "      <td>3.0</td>\n",
       "      <td>80.0</td>\n",
       "      <td>34.0</td>\n",
       "      <td>40.0</td>\n",
       "      <td>77.0</td>\n",
       "      <td>59.0</td>\n",
       "      <td>118.0</td>\n",
       "      <td>11.0</td>\n",
       "      <td>272.0</td>\n",
       "      <td>86.0</td>\n",
       "      <td>37.0</td>\n",
       "      <td>19.0</td>\n",
       "      <td>0.0</td>\n",
       "      <td>38</td>\n",
       "    </tr>\n",
       "    <tr>\n",
       "      <th>[2139-10-06 13:40:29, 2139-10-06 14:40:29)</th>\n",
       "      <td>1.0</td>\n",
       "      <td>0.21</td>\n",
       "      <td>3.0</td>\n",
       "      <td>80.0</td>\n",
       "      <td>34.0</td>\n",
       "      <td>40.0</td>\n",
       "      <td>77.0</td>\n",
       "      <td>59.0</td>\n",
       "      <td>118.0</td>\n",
       "      <td>11.0</td>\n",
       "      <td>272.0</td>\n",
       "      <td>86.0</td>\n",
       "      <td>37.0</td>\n",
       "      <td>19.0</td>\n",
       "      <td>0.0</td>\n",
       "      <td>38</td>\n",
       "    </tr>\n",
       "    <tr>\n",
       "      <th>[2139-10-06 14:40:29, 2139-10-06 15:40:29)</th>\n",
       "      <td>1.0</td>\n",
       "      <td>0.21</td>\n",
       "      <td>3.0</td>\n",
       "      <td>80.0</td>\n",
       "      <td>34.0</td>\n",
       "      <td>40.0</td>\n",
       "      <td>77.0</td>\n",
       "      <td>59.0</td>\n",
       "      <td>118.0</td>\n",
       "      <td>11.0</td>\n",
       "      <td>272.0</td>\n",
       "      <td>86.0</td>\n",
       "      <td>37.0</td>\n",
       "      <td>19.0</td>\n",
       "      <td>0.0</td>\n",
       "      <td>38</td>\n",
       "    </tr>\n",
       "  </tbody>\n",
       "</table>\n",
       "</div>"
      ],
      "text/plain": [
       "                                                     creatinine  \\\n",
       "stay_id  time                                                     \n",
       "30004811 [2139-10-06 10:40:29, 2139-10-06 11:40:29)         1.0   \n",
       "         [2139-10-06 11:40:29, 2139-10-06 12:40:29)         1.0   \n",
       "         [2139-10-06 12:40:29, 2139-10-06 13:40:29)         1.0   \n",
       "         [2139-10-06 13:40:29, 2139-10-06 14:40:29)         1.0   \n",
       "         [2139-10-06 14:40:29, 2139-10-06 15:40:29)         1.0   \n",
       "\n",
       "                                                     fraction_inspired_oxygen  \\\n",
       "stay_id  time                                                                   \n",
       "30004811 [2139-10-06 10:40:29, 2139-10-06 11:40:29)                      0.21   \n",
       "         [2139-10-06 11:40:29, 2139-10-06 12:40:29)                      0.21   \n",
       "         [2139-10-06 12:40:29, 2139-10-06 13:40:29)                      0.21   \n",
       "         [2139-10-06 13:40:29, 2139-10-06 14:40:29)                      0.21   \n",
       "         [2139-10-06 14:40:29, 2139-10-06 15:40:29)                      0.21   \n",
       "\n",
       "                                                     lactate  urine_output  \\\n",
       "stay_id  time                                                                \n",
       "30004811 [2139-10-06 10:40:29, 2139-10-06 11:40:29)      1.8          80.0   \n",
       "         [2139-10-06 11:40:29, 2139-10-06 12:40:29)      1.8          80.0   \n",
       "         [2139-10-06 12:40:29, 2139-10-06 13:40:29)      3.0          80.0   \n",
       "         [2139-10-06 13:40:29, 2139-10-06 14:40:29)      3.0          80.0   \n",
       "         [2139-10-06 14:40:29, 2139-10-06 15:40:29)      3.0          80.0   \n",
       "\n",
       "                                                     alanine_aminotransferase  \\\n",
       "stay_id  time                                                                   \n",
       "30004811 [2139-10-06 10:40:29, 2139-10-06 11:40:29)                      34.0   \n",
       "         [2139-10-06 11:40:29, 2139-10-06 12:40:29)                      34.0   \n",
       "         [2139-10-06 12:40:29, 2139-10-06 13:40:29)                      34.0   \n",
       "         [2139-10-06 13:40:29, 2139-10-06 14:40:29)                      34.0   \n",
       "         [2139-10-06 14:40:29, 2139-10-06 15:40:29)                      34.0   \n",
       "\n",
       "                                                     asparate_aminotransferase  \\\n",
       "stay_id  time                                                                    \n",
       "30004811 [2139-10-06 10:40:29, 2139-10-06 11:40:29)                       40.0   \n",
       "         [2139-10-06 11:40:29, 2139-10-06 12:40:29)                       40.0   \n",
       "         [2139-10-06 12:40:29, 2139-10-06 13:40:29)                       40.0   \n",
       "         [2139-10-06 13:40:29, 2139-10-06 14:40:29)                       40.0   \n",
       "         [2139-10-06 14:40:29, 2139-10-06 15:40:29)                       40.0   \n",
       "\n",
       "                                                     mean_blood_pressure  \\\n",
       "stay_id  time                                                              \n",
       "30004811 [2139-10-06 10:40:29, 2139-10-06 11:40:29)                 77.0   \n",
       "         [2139-10-06 11:40:29, 2139-10-06 12:40:29)                 77.0   \n",
       "         [2139-10-06 12:40:29, 2139-10-06 13:40:29)                 77.0   \n",
       "         [2139-10-06 13:40:29, 2139-10-06 14:40:29)                 77.0   \n",
       "         [2139-10-06 14:40:29, 2139-10-06 15:40:29)                 77.0   \n",
       "\n",
       "                                                     diastolic_blood_pressure  \\\n",
       "stay_id  time                                                                   \n",
       "30004811 [2139-10-06 10:40:29, 2139-10-06 11:40:29)                      59.0   \n",
       "         [2139-10-06 11:40:29, 2139-10-06 12:40:29)                      59.0   \n",
       "         [2139-10-06 12:40:29, 2139-10-06 13:40:29)                      59.0   \n",
       "         [2139-10-06 13:40:29, 2139-10-06 14:40:29)                      59.0   \n",
       "         [2139-10-06 14:40:29, 2139-10-06 15:40:29)                      59.0   \n",
       "\n",
       "                                                     systolic_blood_pressure  \\\n",
       "stay_id  time                                                                  \n",
       "30004811 [2139-10-06 10:40:29, 2139-10-06 11:40:29)                    118.0   \n",
       "         [2139-10-06 11:40:29, 2139-10-06 12:40:29)                    118.0   \n",
       "         [2139-10-06 12:40:29, 2139-10-06 13:40:29)                    118.0   \n",
       "         [2139-10-06 13:40:29, 2139-10-06 14:40:29)                    118.0   \n",
       "         [2139-10-06 14:40:29, 2139-10-06 15:40:29)                    118.0   \n",
       "\n",
       "                                                      gcs  \\\n",
       "stay_id  time                                               \n",
       "30004811 [2139-10-06 10:40:29, 2139-10-06 11:40:29)  11.0   \n",
       "         [2139-10-06 11:40:29, 2139-10-06 12:40:29)  11.0   \n",
       "         [2139-10-06 12:40:29, 2139-10-06 13:40:29)  11.0   \n",
       "         [2139-10-06 13:40:29, 2139-10-06 14:40:29)  11.0   \n",
       "         [2139-10-06 14:40:29, 2139-10-06 15:40:29)  11.0   \n",
       "\n",
       "                                                     partial_pressure_of_oxygen  \\\n",
       "stay_id  time                                                                     \n",
       "30004811 [2139-10-06 10:40:29, 2139-10-06 11:40:29)                       112.0   \n",
       "         [2139-10-06 11:40:29, 2139-10-06 12:40:29)                       112.0   \n",
       "         [2139-10-06 12:40:29, 2139-10-06 13:40:29)                       272.0   \n",
       "         [2139-10-06 13:40:29, 2139-10-06 14:40:29)                       272.0   \n",
       "         [2139-10-06 14:40:29, 2139-10-06 15:40:29)                       272.0   \n",
       "\n",
       "                                                     heart_rate  temperature  \\\n",
       "stay_id  time                                                                  \n",
       "30004811 [2139-10-06 10:40:29, 2139-10-06 11:40:29)        86.0         37.0   \n",
       "         [2139-10-06 11:40:29, 2139-10-06 12:40:29)        86.0         37.0   \n",
       "         [2139-10-06 12:40:29, 2139-10-06 13:40:29)        86.0         37.0   \n",
       "         [2139-10-06 13:40:29, 2139-10-06 14:40:29)        86.0         37.0   \n",
       "         [2139-10-06 14:40:29, 2139-10-06 15:40:29)        86.0         37.0   \n",
       "\n",
       "                                                     respiratory_rate  action  \\\n",
       "stay_id  time                                                                   \n",
       "30004811 [2139-10-06 10:40:29, 2139-10-06 11:40:29)              19.0     0.0   \n",
       "         [2139-10-06 11:40:29, 2139-10-06 12:40:29)              19.0     0.0   \n",
       "         [2139-10-06 12:40:29, 2139-10-06 13:40:29)              19.0     0.0   \n",
       "         [2139-10-06 13:40:29, 2139-10-06 14:40:29)              19.0     0.0   \n",
       "         [2139-10-06 14:40:29, 2139-10-06 15:40:29)              19.0     0.0   \n",
       "\n",
       "                                                     cluster  \n",
       "stay_id  time                                                 \n",
       "30004811 [2139-10-06 10:40:29, 2139-10-06 11:40:29)       38  \n",
       "         [2139-10-06 11:40:29, 2139-10-06 12:40:29)       38  \n",
       "         [2139-10-06 12:40:29, 2139-10-06 13:40:29)       38  \n",
       "         [2139-10-06 13:40:29, 2139-10-06 14:40:29)       38  \n",
       "         [2139-10-06 14:40:29, 2139-10-06 15:40:29)       38  "
      ]
     },
     "execution_count": 18,
     "metadata": {},
     "output_type": "execute_result"
    }
   ],
   "source": [
    "data_non_normalized_df.head()"
   ]
  },
  {
   "cell_type": "markdown",
   "metadata": {
    "id": "Rhol7shFy4uA"
   },
   "source": [
    "# Converting the data into trajectories to input to an IRL algorithm Note this is the same format of trajectories we used for HW1 and HW2."
   ]
  },
  {
   "cell_type": "code",
   "execution_count": 19,
   "metadata": {
    "id": "_orzJHTGmyur"
   },
   "outputs": [],
   "source": [
    "unique_stay_ids = data_df.index.get_level_values('stay_id').unique()\n",
    "\n",
    "trajectories = []\n",
    "\n",
    "\n",
    "for stay_id in unique_stay_ids:\n",
    "\n",
    "\n",
    "  states, actions = data_df.loc[stay_id]['cluster'], data_df.loc[stay_id]['action']\n",
    "\n",
    "  trajectory = []\n",
    "  for i in range(len(states) - 1):\n",
    "    trajectory.append((states[i], int(actions[i]), states[i+1] ))\n",
    "\n",
    "  trajectories.append(T.Trajectory(trajectory))"
   ]
  },
  {
   "cell_type": "markdown",
   "metadata": {
    "id": "cSrWgKqX1eLl"
   },
   "source": [
    "We need to store all possible terminal states from the trajectories list. (Needed to calculate the normalizing constant in MaxEnt)"
   ]
  },
  {
   "cell_type": "code",
   "execution_count": 20,
   "metadata": {
    "id": "9CsdWcAlEiYH"
   },
   "outputs": [],
   "source": [
    "terminal_states = []\n",
    "\n",
    "for traj in trajectories:\n",
    "  terminal_states.append(traj._t[-1][-1])\n",
    "\n",
    "terminal_states = list(set(terminal_states))"
   ]
  },
  {
   "cell_type": "code",
   "execution_count": 21,
   "metadata": {
    "colab": {
     "base_uri": "https://localhost:8080/"
    },
    "id": "3TN_1XNJEiV2",
    "outputId": "02880517-035b-4742-b458-db3941ffb1bd"
   },
   "outputs": [
    {
     "data": {
      "text/plain": [
       "[0,\n",
       " 1,\n",
       " 2,\n",
       " 3,\n",
       " 4,\n",
       " 5,\n",
       " 6,\n",
       " 7,\n",
       " 8,\n",
       " 9,\n",
       " 10,\n",
       " 11,\n",
       " 12,\n",
       " 13,\n",
       " 14,\n",
       " 15,\n",
       " 16,\n",
       " 17,\n",
       " 18,\n",
       " 19,\n",
       " 20,\n",
       " 21,\n",
       " 22,\n",
       " 23,\n",
       " 24,\n",
       " 25,\n",
       " 26,\n",
       " 27,\n",
       " 28,\n",
       " 29,\n",
       " 30,\n",
       " 31,\n",
       " 32,\n",
       " 33,\n",
       " 34,\n",
       " 35,\n",
       " 36,\n",
       " 37,\n",
       " 38,\n",
       " 39,\n",
       " 40,\n",
       " 41,\n",
       " 42,\n",
       " 44,\n",
       " 45,\n",
       " 46,\n",
       " 47,\n",
       " 48,\n",
       " 49,\n",
       " 50,\n",
       " 51,\n",
       " 52,\n",
       " 53,\n",
       " 54,\n",
       " 55,\n",
       " 56,\n",
       " 57,\n",
       " 58,\n",
       " 59,\n",
       " 60,\n",
       " 61,\n",
       " 62,\n",
       " 63,\n",
       " 64,\n",
       " 65,\n",
       " 66,\n",
       " 67,\n",
       " 68,\n",
       " 69,\n",
       " 70,\n",
       " 71,\n",
       " 72,\n",
       " 73,\n",
       " 74,\n",
       " 75,\n",
       " 76,\n",
       " 77,\n",
       " 78,\n",
       " 79,\n",
       " 80,\n",
       " 81,\n",
       " 82,\n",
       " 83,\n",
       " 84,\n",
       " 85,\n",
       " 86,\n",
       " 87,\n",
       " 88,\n",
       " 89,\n",
       " 91,\n",
       " 92,\n",
       " 93,\n",
       " 94,\n",
       " 95,\n",
       " 96,\n",
       " 97,\n",
       " 98,\n",
       " 99]"
      ]
     },
     "execution_count": 21,
     "metadata": {},
     "output_type": "execute_result"
    }
   ],
   "source": [
    "terminal_states"
   ]
  },
  {
   "cell_type": "markdown",
   "metadata": {
    "id": "aKkw5PAlBeo9"
   },
   "source": [
    "# Distribution of the treatments given in our data. (Most of the time no treatment is given, might vary on depending on how you cluster the data)"
   ]
  },
  {
   "cell_type": "code",
   "execution_count": 22,
   "metadata": {
    "colab": {
     "base_uri": "https://localhost:8080/"
    },
    "id": "1AYFFwuT-hsP",
    "outputId": "185b10e5-68fa-4f63-873e-f7c4091240db"
   },
   "outputs": [
    {
     "data": {
      "text/plain": [
       "0.0    195786\n",
       "1.0    135305\n",
       "3.0     15978\n",
       "2.0      8435\n",
       "Name: action, dtype: int64"
      ]
     },
     "execution_count": 22,
     "metadata": {},
     "output_type": "execute_result"
    }
   ],
   "source": [
    "y_df.value_counts()"
   ]
  },
  {
   "cell_type": "markdown",
   "metadata": {
    "id": "VLji3EUoB8fn"
   },
   "source": [
    "# BC Policy example"
   ]
  },
  {
   "cell_type": "code",
   "execution_count": 23,
   "metadata": {
    "colab": {
     "base_uri": "https://localhost:8080/"
    },
    "id": "kUHEt5uZmyoq",
    "outputId": "56f9d47d-feaf-4e27-ad05-f173b8e80f2e"
   },
   "outputs": [
    {
     "name": "stdout",
     "output_type": "stream",
     "text": [
      "Epoch 1/5\n",
      "2778/2778 [==============================] - 7s 2ms/step - loss: 0.9160 - accuracy: 0.5621\n",
      "Epoch 2/5\n",
      "2778/2778 [==============================] - 6s 2ms/step - loss: 0.9101 - accuracy: 0.5653\n",
      "Epoch 3/5\n",
      "2778/2778 [==============================] - 6s 2ms/step - loss: 0.9095 - accuracy: 0.5656\n",
      "Epoch 4/5\n",
      "2778/2778 [==============================] - 6s 2ms/step - loss: 0.9091 - accuracy: 0.5656\n",
      "Epoch 5/5\n",
      "2778/2778 [==============================] - 6s 2ms/step - loss: 0.9088 - accuracy: 0.5660\n",
      "11110/11110 [==============================] - 16s 1ms/step - loss: 0.9079 - accuracy: 0.5654\n",
      "Test Loss: [0.9078671336174011, 0.5653522610664368]\n"
     ]
    }
   ],
   "source": [
    "# Convert states and actions to one-hot encoding\n",
    "state_encoder = OneHotEncoder(sparse=False, categories= [np.arange(num_clusters)])\n",
    "action_encoder = OneHotEncoder(sparse=False, categories= [np.arange(4)])\n",
    "\n",
    "\n",
    "states_onehot = state_encoder.fit_transform(X_df['cluster'].to_numpy().reshape(-1, 1))\n",
    "actions_onehot = action_encoder.fit_transform(y_df.to_numpy().reshape(-1, 1))\n",
    "\n",
    "\n",
    "# # Define neural network architecture\n",
    "model = tf.keras.Sequential([\n",
    "    tf.keras.layers.Dense(32, activation='relu', input_shape=(states_onehot.shape[1],)),\n",
    "    tf.keras.layers.Dense(64, activation='relu'),\n",
    "    tf.keras.layers.Dense(128, activation='relu'),\n",
    "    tf.keras.layers.Dense(64, activation='relu'),\n",
    "    tf.keras.layers.Dense(32, activation='relu'),\n",
    "    tf.keras.layers.Dense(actions_onehot.shape[1], activation='softmax')  # Output layer with softmax for discrete actions\n",
    "])\n",
    "\n",
    "# # Compile the model\n",
    "model.compile(optimizer='adam', loss='categorical_crossentropy', metrics= ['accuracy'])\n",
    "\n",
    "# # Train the model\n",
    "model.fit(states_onehot, actions_onehot,  epochs=5, batch_size=128)\n",
    "\n",
    "# # Evaluate the model\n",
    "test_loss = model.evaluate(states_onehot, actions_onehot)\n",
    "print(\"Test Loss:\", test_loss)\n"
   ]
  },
  {
   "cell_type": "code",
   "execution_count": 24,
   "metadata": {
    "colab": {
     "base_uri": "https://localhost:8080/"
    },
    "id": "iWv5yk6y-Htt",
    "outputId": "9c8fc1da-95d0-4ada-ab72-8d198b0718bd"
   },
   "outputs": [
    {
     "name": "stdout",
     "output_type": "stream",
     "text": [
      "4/4 [==============================] - 0s 2ms/step\n"
     ]
    },
    {
     "data": {
      "text/plain": [
       "array([0, 0, 0, 0, 1, 0, 1, 0, 0, 1, 0, 1, 0, 1, 0, 1, 0, 0, 0, 0, 0, 0,\n",
       "       0, 1, 0, 1, 1, 1, 0, 0, 0, 0, 0, 0, 0, 1, 0, 0, 0, 0, 0, 0, 1, 1,\n",
       "       0, 1, 0, 0, 1, 0, 0, 1, 0, 0, 0, 0, 0, 0, 1, 1, 0, 1, 0, 0, 1, 0,\n",
       "       1, 0, 1, 0, 0, 1, 1, 0, 1, 0, 1, 0, 0, 1, 0, 0, 0, 1, 0, 0, 1, 0,\n",
       "       0, 0, 1, 0, 1, 0, 0, 0, 1, 0, 0, 0])"
      ]
     },
     "execution_count": 24,
     "metadata": {},
     "output_type": "execute_result"
    }
   ],
   "source": [
    "bc_policy = np.argmax(model.predict(state_encoder.transform(np.arange(num_clusters).reshape(-1, 1))), axis =1)\n",
    "bc_policy"
   ]
  },
  {
   "cell_type": "code",
   "execution_count": 223,
   "metadata": {
    "colab": {
     "base_uri": "https://localhost:8080/",
     "height": 1000
    },
    "id": "zY03ukQ05T8_",
    "outputId": "7ff4ccc8-e3a7-4c34-e65d-c0d880ece76c"
   },
   "outputs": [
    {
     "name": "stdout",
     "output_type": "stream",
     "text": [
      "[755, 683, 106, 29]\n",
      "[2825, 1990, 251, 135]\n",
      "[2859, 1711, 156, 113]\n",
      "[3728, 2229, 221, 124]\n",
      "[363, 265, 77, 50]\n",
      "[2084, 441, 66, 33]\n",
      "[2149, 1915, 160, 58]\n",
      "[613, 467, 43, 29]\n",
      "[180, 22, 4]\n",
      "[1106, 752, 155, 61]\n"
     ]
    },
    {
     "data": {
      "text/plain": [
       "Text(0.5, 0.98, 'BC Policy')"
      ]
     },
     "execution_count": 223,
     "metadata": {},
     "output_type": "execute_result"
    },
    {
     "data": {
      "image/png": "[encoded data removed]",
      "text/plain": [
       "<Figure size 2304x1152 with 10 Axes>"
      ]
     },
     "metadata": {},
     "output_type": "display_data"
    }
   ],
   "source": [
    "# Old Bar plot code\n",
    "\n",
    "# fig, axes = plt.subplots(nrows=2, ncols=5, figsize=(32, 16))\n",
    "\n",
    "# for i, ax in enumerate(axes.flatten()):\n",
    "#     data_df[data_df['cluster'] == i]['action'].value_counts().plot(kind = 'bar', ax = ax, title = 'Cluster: ' + str(i+ 1))\n",
    "#     ax.set_ylabel('Counts')\n",
    "    \n",
    "fig, axes = plt.subplots(nrows=2, ncols=5, figsize=(32, 16))\n",
    "\n",
    "labels = ['No action', 'Vaso', 'Bolus', 'Vaso + Bolus']\n",
    "\n",
    "for i, ax in enumerate(axes.flatten()):\n",
    "    print(data_df[data_df['cluster'] == i]['action'].value_counts().tolist())\n",
    "\n",
    "for i, ax in enumerate(axes.flatten()):\n",
    "    policy = data_df[data_df['cluster'] == i]['action'].value_counts().tolist()\n",
    "    ax.pie(policy, labels=labels, autopct='%1.1f%%', textprops={'fontsize': 17})\n",
    "    ax.set_title('Cluster ' + str(i+ 1), fontsize=25)\n",
    "\n",
    "fig.suptitle(\"BC Policy\", fontsize=50)"
   ]
  },
  {
   "cell_type": "markdown",
   "metadata": {
    "id": "QOKcfQRcJPRA"
   },
   "source": [
    "# Estimating the Transition Dynamics using the MLE (feel free to play around with the smoothing_value)"
   ]
  },
  {
   "cell_type": "code",
   "execution_count": 26,
   "metadata": {
    "id": "-IV4o95nRlJz"
   },
   "outputs": [],
   "source": [
    "smoothing_value = 1\n",
    "\n",
    "p_transition = np.zeros((num_clusters, num_clusters, 4)) + smoothing_value\n",
    "\n",
    "\n",
    "for traj in trajectories:\n",
    "\n",
    "  for tran in traj._t:\n",
    "\n",
    "    p_transition[tran[0], tran[2], tran[1]] +=1\n",
    "\n",
    "p_transition = p_transition/ p_transition.sum(axis = 1)[:, np.newaxis, :]"
   ]
  },
  {
   "cell_type": "code",
   "execution_count": 27,
   "metadata": {
    "colab": {
     "base_uri": "https://localhost:8080/"
    },
    "id": "MhzuEkc8RlFG",
    "outputId": "b5e0de03-a9b3-49a9-9a3c-2bf9880248d8"
   },
   "outputs": [
    {
     "data": {
      "text/plain": [
       "array([[[4.56599287e-01, 5.47314578e-01, 1.01562500e-01, 3.05825243e-01],\n",
       "        [1.18906064e-03, 3.83631714e-03, 7.81250000e-03, 4.85436893e-03],\n",
       "        [1.18906064e-03, 1.27877238e-03, 7.81250000e-03, 4.85436893e-03],\n",
       "        ...,\n",
       "        [1.18906064e-03, 2.55754476e-03, 7.81250000e-03, 4.85436893e-03],\n",
       "        [4.75624257e-03, 3.83631714e-03, 7.81250000e-03, 1.94174757e-02],\n",
       "        [7.13436385e-03, 1.27877238e-02, 7.81250000e-03, 9.70873786e-03]],\n",
       "\n",
       "       [[3.50262697e-04, 4.82858522e-04, 4.27350427e-03, 2.84900285e-03],\n",
       "        [2.35376532e-01, 2.28874940e-01, 7.69230769e-02, 1.70940171e-01],\n",
       "        [1.05078809e-03, 4.82858522e-04, 4.27350427e-03, 2.84900285e-03],\n",
       "        ...,\n",
       "        [3.50262697e-04, 4.82858522e-04, 4.27350427e-03, 2.84900285e-03],\n",
       "        [9.45709282e-03, 3.38000966e-03, 4.27350427e-03, 2.84900285e-03],\n",
       "        [3.85288967e-03, 4.34572670e-03, 4.27350427e-03, 2.84900285e-03]],\n",
       "\n",
       "       [[6.90369348e-04, 5.56173526e-04, 4.69483568e-03, 3.90625000e-03],\n",
       "        [3.45184674e-04, 5.56173526e-04, 4.69483568e-03, 3.90625000e-03],\n",
       "        [3.12737314e-01, 3.14794216e-01, 1.83098592e-01, 1.87500000e-01],\n",
       "        ...,\n",
       "        [1.51881256e-02, 1.11234705e-02, 1.87793427e-02, 3.90625000e-03],\n",
       "        [1.03555402e-03, 1.66852058e-03, 4.69483568e-03, 7.81250000e-03],\n",
       "        [1.38073870e-03, 2.22469410e-03, 4.69483568e-03, 7.81250000e-03]],\n",
       "\n",
       "       ...,\n",
       "\n",
       "       [[5.44365814e-04, 2.43902439e-03, 6.09756098e-03, 6.02409639e-03],\n",
       "        [1.08873163e-03, 8.13008130e-04, 6.09756098e-03, 6.02409639e-03],\n",
       "        [2.34077300e-02, 2.52032520e-02, 1.82926829e-02, 1.80722892e-02],\n",
       "        ...,\n",
       "        [4.80675014e-01, 4.50406504e-01, 1.76829268e-01, 1.68674699e-01],\n",
       "        [5.44365814e-04, 1.62601626e-03, 6.09756098e-03, 6.02409639e-03],\n",
       "        [1.63309744e-03, 2.43902439e-03, 6.09756098e-03, 6.02409639e-03]],\n",
       "\n",
       "       [[1.13584734e-03, 3.30926594e-03, 5.91715976e-03, 4.46428571e-03],\n",
       "        [5.22489777e-03, 3.30926594e-03, 1.77514793e-02, 7.44047619e-03],\n",
       "        [4.54338937e-04, 6.01684717e-04, 2.95857988e-03, 2.97619048e-03],\n",
       "        ...,\n",
       "        [4.54338937e-04, 6.01684717e-04, 2.95857988e-03, 1.48809524e-03],\n",
       "        [2.13084961e-01, 2.68050542e-01, 1.47928994e-01, 2.99107143e-01],\n",
       "        [6.13357565e-02, 5.11432010e-02, 5.02958580e-02, 4.76190476e-02]],\n",
       "\n",
       "       [[3.38337915e-03, 2.27014756e-03, 3.81679389e-03, 1.96078431e-03],\n",
       "        [2.11461197e-03, 2.27014756e-03, 3.81679389e-03, 1.96078431e-03],\n",
       "        [1.26876718e-03, 7.56715853e-04, 7.63358779e-03, 1.96078431e-03],\n",
       "        ...,\n",
       "        [4.22922394e-04, 1.13507378e-03, 3.81679389e-03, 1.96078431e-03],\n",
       "        [5.05392261e-02, 5.82671207e-02, 5.34351145e-02, 5.88235294e-02],\n",
       "        [1.89046310e-01, 1.96367764e-01, 9.92366412e-02, 1.37254902e-01]]])"
      ]
     },
     "execution_count": 27,
     "metadata": {},
     "output_type": "execute_result"
    }
   ],
   "source": [
    "p_transition"
   ]
  },
  {
   "cell_type": "markdown",
   "metadata": {
    "id": "n6WOgG24KKQr"
   },
   "source": [
    "# Max Causal Entropy"
   ]
  },
  {
   "cell_type": "markdown",
   "metadata": {
    "id": "VFrongPAiw2K"
   },
   "source": [
    "# Feel free to play with the discount factor"
   ]
  },
  {
   "cell_type": "code",
   "execution_count": 28,
   "metadata": {
    "id": "hGTy7XNmi0dl"
   },
   "outputs": [],
   "source": [
    "discount = 0.9"
   ]
  },
  {
   "cell_type": "code",
   "execution_count": 29,
   "metadata": {
    "id": "uqqQ4cpQFsG_"
   },
   "outputs": [],
   "source": [
    "from maxent import irl, irl_causal"
   ]
  },
  {
   "cell_type": "code",
   "execution_count": 30,
   "metadata": {
    "id": "5fJeGRYbPKRv"
   },
   "outputs": [],
   "source": [
    "# set up features: we use one feature vector per state (1 hot encoding for each cluster/state)\n",
    "features = state_encoder.transform(np.arange(num_clusters).reshape(-1, 1))\n",
    "\n",
    "# choose our parameter initialization strategy:\n",
    "#   initialize parameters with constant\n",
    "init = O.Constant(1.0)\n",
    "\n",
    "# choose our optimization strategy:\n",
    "#   we select exponentiated stochastic gradient descent with linear learning-rate decay\n",
    "optim = O.ExpSga(lr=O.linear_decay(lr0=0.2))\n",
    "\n",
    "# actually do some inverse reinforcement learning\n",
    "# reward_maxent = maxent_irl(p_transition, features, terminal_states, trajectories, optim, init, eps= 1e-3)\n",
    "\n",
    "reward_maxent_causal = irl_causal(p_transition, features, terminal_states, trajectories, optim, init, discount,\n",
    "               eps=1e-3, eps_svf=1e-4, eps_lap=1e-4)"
   ]
  },
  {
   "cell_type": "code",
   "execution_count": 31,
   "metadata": {
    "colab": {
     "base_uri": "https://localhost:8080/"
    },
    "id": "RyZxOX9HGiTc",
    "outputId": "ad9b7357-adca-4b0d-fc08-39935534c6ae"
   },
   "outputs": [
    {
     "data": {
      "text/plain": [
       "array([ 1.59203704,  4.61389421,  4.16548542,  6.40112187,  1.24727198,\n",
       "        2.13771048,  3.53965901,  1.40704097,  1.05639468,  1.82856364,\n",
       "        5.30573292,  1.80892933,  6.15090189,  1.34355187,  2.49164726,\n",
       "        1.28562291,  4.39119801,  3.16419164,  1.78522639, 10.70450158,\n",
       "        5.07088439,  3.076267  ,  3.46095909,  2.53839712,  2.01752481,\n",
       "        1.17997368,  1.48550538,  1.23647783, 10.69808468,  7.74354634,\n",
       "        3.28700516,  1.13181241,  8.87268648,  4.49644818,  6.5722664 ,\n",
       "        2.05045485,  1.07138624,  3.58774558, 10.30456849,  2.03575344,\n",
       "        3.97514573, 13.94895507,  1.38776421,  1.02977889,  2.69284211,\n",
       "        1.1981586 ,  3.83927345,  9.78077595,  1.4045121 ,  1.03290522,\n",
       "        1.00510489,  2.15508513,  4.45485005,  3.10778638,  6.21019894,\n",
       "        1.3790585 ,  1.32475199,  1.05576142,  1.30935195,  2.78229562,\n",
       "        8.09974538,  2.14348899,  3.28503474, 11.92454912,  1.79381089,\n",
       "       10.18172632,  1.58299368,  5.11976966,  1.49713225,  3.79464248,\n",
       "        2.08642308,  1.6637715 ,  1.17323995,  7.6535288 ,  2.3367946 ,\n",
       "        1.22173761,  1.42444388,  6.33050876,  4.85806938,  1.4121078 ,\n",
       "       12.04672784,  8.85673963,  4.67096092,  1.23129863,  3.29193639,\n",
       "        2.91727183,  1.59921004,  7.33232529,  2.07643671,  2.54373013,\n",
       "        1.00059479,  2.21336838,  1.08691557,  4.26405172,  5.95670416,\n",
       "        2.53991969,  1.22320369,  2.44869331, 12.10828585, 10.26140605])"
      ]
     },
     "execution_count": 31,
     "metadata": {},
     "output_type": "execute_result"
    }
   ],
   "source": [
    "reward_maxent_causal"
   ]
  },
  {
   "cell_type": "code",
   "execution_count": 224,
   "metadata": {},
   "outputs": [
    {
     "name": "stdout",
     "output_type": "stream",
     "text": [
      "100\n"
     ]
    }
   ],
   "source": [
    "print(len(reward_maxent_causal))"
   ]
  },
  {
   "cell_type": "markdown",
   "metadata": {},
   "source": [
    "# Finding top and bottom 5 reward clusters"
   ]
  },
  {
   "cell_type": "code",
   "execution_count": 404,
   "metadata": {},
   "outputs": [
    {
     "name": "stdout",
     "output_type": "stream",
     "text": [
      "[1.00059479 1.00510489 1.02977889 1.03290522 1.05576142]\n",
      "[90, 50, 43, 49, 57]\n"
     ]
    }
   ],
   "source": [
    "k = 5\n",
    "\n",
    "min_sorted = np.sort(reward_maxent_causal)\n",
    "min_five = min_sorted[:k]\n",
    "min_five_indices = []\n",
    "\n",
    "for j in range(len(min_five)):\n",
    "    for i in range(len(reward_maxent_causal)):\n",
    "        if min_five[j] == reward_maxent_causal[i]:\n",
    "            min_five_indices.append(i)\n",
    "\n",
    "print(min_five)\n",
    "print(min_five_indices)"
   ]
  },
  {
   "cell_type": "code",
   "execution_count": 405,
   "metadata": {},
   "outputs": [
    {
     "name": "stdout",
     "output_type": "stream",
     "text": [
      "[10.70450158 11.92454912 12.04672784 12.10828585 13.94895507]\n",
      "[19, 63, 80, 98, 41]\n"
     ]
    }
   ],
   "source": [
    "max_sorted = np.sort(reward_maxent_causal)\n",
    "max_five = max_sorted[-k:]\n",
    "max_five_indices = []\n",
    "\n",
    "for j in range(len(max_five)):\n",
    "    for i in range(len(reward_maxent_causal)):\n",
    "        if max_five[j] == reward_maxent_causal[i]:\n",
    "            max_five_indices.append(i)\n",
    "\n",
    "print(max_five)\n",
    "print(max_five_indices)"
   ]
  },
  {
   "cell_type": "code",
   "execution_count": 406,
   "metadata": {},
   "outputs": [
    {
     "name": "stdout",
     "output_type": "stream",
     "text": [
      "[41 98 80 63 19]\n",
      "[57 49 43 50 90]\n"
     ]
    }
   ],
   "source": [
    "min_five_indices = np.flip(min_five_indices)\n",
    "max_five_indices = np.flip(max_five_indices)\n",
    "print(max_five_indices)\n",
    "print(min_five_indices)"
   ]
  },
  {
   "cell_type": "markdown",
   "metadata": {},
   "source": [
    "# average values for bigass plot"
   ]
  },
  {
   "cell_type": "code",
   "execution_count": 407,
   "metadata": {},
   "outputs": [
    {
     "name": "stdout",
     "output_type": "stream",
     "text": [
      "['creatinine', 'fraction_inspired_oxygen', 'lactate', 'urine_output', 'alanine_aminotransferase', 'asparate_aminotransferase', 'mean_blood_pressure', 'diastolic_blood_pressure', 'systolic_blood_pressure', 'gcs', 'partial_pressure_of_oxygen', 'heart_rate', 'temperature', 'respiratory_rate']\n",
      "[41, 98, 80, 63, 19, 57, 49, 43, 50, 90]\n"
     ]
    },
    {
     "data": {
      "text/plain": [
       "array([[1.44830869e+00, 1.55752049e+00, 1.55266714e+00, 1.46869612e+00,\n",
       "        1.54586147e+00, 2.33232323e+00, 2.23166667e+00, 1.70250000e+00,\n",
       "        1.61111111e+00, 3.40000000e+00],\n",
       "       [4.86748059e-01, 4.90741357e-01, 4.92311917e-01, 4.98975295e-01,\n",
       "        4.88842627e-01, 6.17222222e-01, 6.96666667e-01, 5.29000000e-01,\n",
       "        4.80555556e-01, 3.75000000e-01],\n",
       "       [1.87891577e+00, 2.05072908e+00, 1.84419354e+00, 1.95910560e+00,\n",
       "        2.03134534e+00, 8.22786195e+00, 7.86791667e+00, 3.19000000e+00,\n",
       "        2.28888889e+00, 5.30000000e+00],\n",
       "       [1.11101058e+02, 1.03910637e+02, 1.11110400e+02, 1.08104286e+02,\n",
       "        1.00218930e+02, 4.63484848e+01, 3.14333333e+01, 1.06720000e+02,\n",
       "        6.64444444e+01, 3.75000000e+01],\n",
       "       [1.55241375e+02, 1.37730664e+02, 1.56477003e+02, 1.15467313e+02,\n",
       "        1.07772568e+02, 7.67883838e+02, 3.76108333e+02, 4.43860000e+02,\n",
       "        6.77222222e+02, 1.05500000e+02],\n",
       "       [2.66469982e+02, 2.56192171e+02, 2.77457978e+02, 1.82777718e+02,\n",
       "        1.77871343e+02, 1.97284848e+03, 9.76808333e+02, 8.45220000e+02,\n",
       "        1.35572222e+03, 1.40500000e+02],\n",
       "       [7.06778682e+01, 6.94627557e+01, 7.04754936e+01, 6.88644940e+01,\n",
       "        6.85054295e+01, 4.06267307e+01, 4.00090278e+01, 7.77711555e+01,\n",
       "        7.96250000e+01, 8.40000000e+01],\n",
       "       [5.29766179e+01, 5.30996425e+01, 5.31920836e+01, 5.20225622e+01,\n",
       "        5.18980943e+01, 3.54665541e+01, 3.58604167e+01, 6.55742201e+01,\n",
       "        6.23194444e+01, 7.15000000e+01],\n",
       "       [1.11796905e+02, 1.07226915e+02, 1.12067637e+02, 1.08164704e+02,\n",
       "        1.07647958e+02, 6.08723560e+01, 6.90506944e+01, 1.07051545e+02,\n",
       "        1.23152778e+02, 1.14000000e+02],\n",
       "       [1.48385977e+01, 1.48024237e+01, 1.48204520e+01, 1.48612308e+01,\n",
       "        1.48484621e+01, 1.24545455e+01, 1.41833333e+01, 1.45500000e+01,\n",
       "        1.43333333e+01, 1.50000000e+01],\n",
       "       [1.33693212e+02, 1.31106055e+02, 1.23894164e+02, 1.35804877e+02,\n",
       "        1.27100859e+02, 1.54505892e+02, 1.27800000e+02, 1.05463333e+02,\n",
       "        1.45611111e+02, 2.65000000e+02],\n",
       "       [7.54410698e+01, 8.88605767e+01, 7.44282484e+01, 7.98652721e+01,\n",
       "        8.09449479e+01, 2.55083454e+01, 1.45972222e+00, 1.79827602e+02,\n",
       "        8.70694444e+01, 1.15000000e+02],\n",
       "       [3.68440981e+01, 3.69131252e+01, 3.68884089e+01, 3.68545607e+01,\n",
       "        3.69021738e+01, 3.60075758e+01, 3.62800926e+01, 3.72912222e+01,\n",
       "        3.68358025e+01, 3.83500000e+01],\n",
       "       [1.51083693e+01, 1.52309726e+01, 1.91196518e+01, 1.59366300e+01,\n",
       "        1.89972023e+01, 1.23663778e+01, 2.48714646e+01, 2.40181760e+01,\n",
       "        1.07777778e+02, 2.61000000e+02]])"
      ]
     },
     "execution_count": 407,
     "metadata": {},
     "output_type": "execute_result"
    }
   ],
   "source": [
    "viz_df = data_non_normalized_df\n",
    "viz_df = viz_df.drop(['action'], axis=1)\n",
    "\n",
    "color_matrix_y_labels = viz_df.drop(['cluster'], axis=1).columns.tolist()\n",
    "color_matrix_x_labels = max_five_indices.tolist()\n",
    "for i in min_five_indices :\n",
    "    color_matrix_x_labels.append(i)\n",
    "print(color_matrix_y_labels)\n",
    "print(color_matrix_x_labels)\n",
    "\n",
    "\n",
    "color_matrix = []\n",
    "\n",
    "for i in max_five_indices:\n",
    "    df = viz_df[viz_df['cluster'] == i].mean()\n",
    "    lst = df.drop(['cluster']).tolist()\n",
    "    color_matrix.append(lst)    \n",
    "\n",
    "    \n",
    "for i in min_five_indices:\n",
    "    df = viz_df[viz_df['cluster'] == i].mean()\n",
    "    lst = df.drop(['cluster']).tolist()\n",
    "    color_matrix.append(lst)\n",
    "    \n",
    "color_matrix = np.transpose(color_matrix)\n",
    "\n",
    "color_matrix"
   ]
  },
  {
   "cell_type": "code",
   "execution_count": 408,
   "metadata": {},
   "outputs": [
    {
     "name": "stdout",
     "output_type": "stream",
     "text": [
      "[4.56769997e-02 2.79054594e-01 2.44424048e-01 4.17081929e-01\n",
      " 1.90508438e-02 8.78192809e-02 1.96091564e-01 3.13897799e-02\n",
      " 4.30941742e-03 6.39439151e-02 3.32485198e-01 6.24275604e-02\n",
      " 3.97757476e-01 2.64865262e-02 1.15153768e-01 2.20126807e-02\n",
      " 2.61855799e-01 1.67094274e-01 6.05969856e-02 7.49431324e-01\n",
      " 3.14347880e-01 1.60303866e-01 1.90013581e-01 1.18764252e-01\n",
      " 7.85373589e-02 1.38534058e-02 3.74495748e-02 1.82172131e-02\n",
      " 7.48935748e-01 5.20757177e-01 1.76579144e-01 1.01339179e-02\n",
      " 6.07960508e-01 2.69984254e-01 4.30299396e-01 8.10805415e-02\n",
      " 5.46721347e-03 1.99805283e-01 7.18544549e-01 7.99451533e-02\n",
      " 2.29724141e-01 1.00000000e+00 2.99010388e-02 2.25388375e-03\n",
      " 1.30692017e-01 1.52578242e-02 2.19230744e-01 6.78092127e-01\n",
      " 3.11944756e-02 2.49532993e-03 3.48313986e-04 8.91611223e-02\n",
      " 2.66771636e-01 1.62738103e-01 4.02336978e-01 2.92286976e-02\n",
      " 2.50346137e-02 4.26051048e-03 2.38452709e-02 1.37600498e-01\n",
      " 5.48266378e-01 8.82655544e-02 1.76426968e-01 8.43655420e-01\n",
      " 6.12599648e-02 7.09057466e-01 4.49785826e-02 3.18123282e-01\n",
      " 3.83475164e-02 2.15783901e-01 8.38583623e-02 5.12170415e-02\n",
      " 1.33333607e-02 5.13805135e-01 1.03194519e-01 1.70788280e-02\n",
      " 3.27338042e-02 4.11628488e-01 2.97912207e-01 3.17810901e-02\n",
      " 8.53091265e-01 6.06728935e-01 2.83461847e-01 1.78172244e-02\n",
      " 1.76959982e-01 1.48024692e-01 4.62309695e-02 4.88998635e-01\n",
      " 8.30871164e-02 1.19176120e-01 0.00000000e+00 9.36623300e-02\n",
      " 6.66654131e-03 2.52036309e-01 3.82759613e-01 1.18881841e-01\n",
      " 1.71920531e-02 1.11836440e-01 8.57845381e-01 7.15211120e-01]\n"
     ]
    }
   ],
   "source": [
    "v = reward_maxent_causal\n",
    "normalized_reward_maxent_causal = (v - v.min()) / (v.max() - v.min())\n",
    "print(normalized_reward_maxent_causal)"
   ]
  },
  {
   "cell_type": "code",
   "execution_count": 409,
   "metadata": {},
   "outputs": [
    {
     "data": {
      "image/png": "[encoded data removed]",
      "text/plain": [
       "<Figure size 576x576 with 2 Axes>"
      ]
     },
     "metadata": {
      "needs_background": "light"
     },
     "output_type": "display_data"
    }
   ],
   "source": [
    "reshaped_rewards = normalized_reward_maxent_causal.reshape((10, 10))\n",
    "\n",
    "fig, ax = plt.subplots(figsize=(8,8))\n",
    "im = ax.imshow(reshaped_rewards, cmap='inferno')\n",
    "ax.set_title(\"MaxEnt Causal Reward Heatmap\", fontsize = 20)\n",
    "colorbar = fig.colorbar(im, fraction=0.046, pad=0.04)\n",
    "colorbar.set_label(label = \"Normalized Values\", fontsize = 15)"
   ]
  },
  {
   "cell_type": "code",
   "execution_count": 410,
   "metadata": {},
   "outputs": [
    {
     "name": "stdout",
     "output_type": "stream",
     "text": [
      "355504\n",
      "355504.0\n"
     ]
    }
   ],
   "source": [
    "cluster_sizes = np.zeros(100)\n",
    "\n",
    "for i in range(num_clusters):\n",
    "    cluster_sizes[i] = (len(X_df.loc[X_df['cluster'] == i]))\n",
    "    \n",
    "sum_points = 0\n",
    "\n",
    "print(len(X_df))\n",
    "\n",
    "for i in range(num_clusters):    \n",
    "#     print(cluster_sizes[i])\n",
    "    sum_points += cluster_sizes[i]\n",
    "\n",
    "print(sum_points)"
   ]
  },
  {
   "cell_type": "code",
   "execution_count": 411,
   "metadata": {},
   "outputs": [
    {
     "name": "stderr",
     "output_type": "stream",
     "text": [
      "/var/folders/14/zdcxt99s1kv_hw67vpgm8f640000gn/T/ipykernel_56385/415261642.py:9: UserWarning: FixedFormatter should only be used together with FixedLocator\n",
      "  plt.gca().set_xticklabels(['{:,.0f}'.format(x) for x in current_values])\n"
     ]
    },
    {
     "data": {
      "text/plain": [
       "[Text(-2000.0, 0, '-2,000'),\n",
       " Text(0.0, 0, '0'),\n",
       " Text(2000.0, 0, '2,000'),\n",
       " Text(4000.0, 0, '4,000'),\n",
       " Text(6000.0, 0, '6,000'),\n",
       " Text(8000.0, 0, '8,000'),\n",
       " Text(10000.0, 0, '10,000')]"
      ]
     },
     "execution_count": 411,
     "metadata": {},
     "output_type": "execute_result"
    },
    {
     "data": {
      "image/png": "[encoded data removed]",
      "text/plain": [
       "<Figure size 720x720 with 1 Axes>"
      ]
     },
     "metadata": {
      "needs_background": "light"
     },
     "output_type": "display_data"
    }
   ],
   "source": [
    "fig, ax = plt.subplots(figsize=(10, 10))\n",
    "ax.scatter(cluster_sizes, normalized_reward_maxent_causal)\n",
    "ax.set_title(\"Reward Value vs. Number of Data Points per Cluster\", fontsize=18)\n",
    "ax.set_xlabel(\"Number of Data Points\", fontsize = 15)\n",
    "ax.set_ylabel(\"Normalized Reward Values\", fontsize = 15)\n",
    "\n",
    "\n",
    "current_values = plt.gca().get_xticks()\n",
    "plt.gca().set_xticklabels(['{:,.0f}'.format(x) for x in current_values])"
   ]
  },
  {
   "cell_type": "markdown",
   "metadata": {
    "id": "vctnXPxKXIXz"
   },
   "source": [
    "# Computing the policy induced by your learnt reward"
   ]
  },
  {
   "cell_type": "code",
   "execution_count": 412,
   "metadata": {
    "id": "vq42uJp-PKIX"
   },
   "outputs": [],
   "source": [
    "V, Q = S.value_iteration(p_transition, reward_maxent_causal, discount)"
   ]
  },
  {
   "cell_type": "code",
   "execution_count": 33,
   "metadata": {
    "id": "nmnoI9RqZcF6"
   },
   "outputs": [],
   "source": [
    "Q = Q.reshape((4, num_clusters))"
   ]
  },
  {
   "cell_type": "code",
   "execution_count": 34,
   "metadata": {
    "id": "Of8MwWRxZWrl"
   },
   "outputs": [],
   "source": [
    "soft_pi_mce = (np.exp(Q)/ np.sum(np.exp(Q), axis = 0)).T"
   ]
  },
  {
   "cell_type": "code",
   "execution_count": 35,
   "metadata": {
    "colab": {
     "base_uri": "https://localhost:8080/"
    },
    "id": "_XfRDCpzaC3e",
    "outputId": "a12c8e30-81f4-4788-d746-7cc2359931b4"
   },
   "outputs": [
    {
     "data": {
      "text/plain": [
       "array([[0.25915716, 0.09616153, 0.42627804, 0.21840327],\n",
       "       [0.23267453, 0.18581447, 0.32974777, 0.25176322],\n",
       "       [0.2048565 , 0.25981003, 0.17993809, 0.35539537],\n",
       "       [0.46562245, 0.30461175, 0.10967118, 0.12009461],\n",
       "       [0.11813898, 0.0619814 , 0.49935001, 0.32052961],\n",
       "       [0.37660329, 0.52323665, 0.02617474, 0.07398532],\n",
       "       [0.57367943, 0.17448047, 0.10310351, 0.14873659],\n",
       "       [0.11439677, 0.11933313, 0.44840874, 0.31786135],\n",
       "       [0.05717088, 0.2205141 , 0.39166958, 0.33064543],\n",
       "       [0.09431144, 0.04897025, 0.64860529, 0.20811303],\n",
       "       [0.64053625, 0.29284316, 0.02689954, 0.03972106],\n",
       "       [0.23027129, 0.05574018, 0.49511213, 0.2188764 ],\n",
       "       [0.35996658, 0.29743227, 0.1230119 , 0.21958924],\n",
       "       [0.04408678, 0.0362375 , 0.51841735, 0.40125837],\n",
       "       [0.20433667, 0.20124478, 0.36142002, 0.23299853],\n",
       "       [0.07172022, 0.03607155, 0.67233318, 0.21987505],\n",
       "       [0.31340397, 0.22451299, 0.27107324, 0.19100979],\n",
       "       [0.1715711 , 0.13226192, 0.33945364, 0.35671334],\n",
       "       [0.08804066, 0.07328849, 0.50671364, 0.33195722],\n",
       "       [0.35376188, 0.520316  , 0.02213917, 0.10378295],\n",
       "       [0.54081423, 0.30458265, 0.03988082, 0.1147223 ],\n",
       "       [0.23832995, 0.13450762, 0.31011421, 0.31704822],\n",
       "       [0.32403643, 0.40536801, 0.04534258, 0.22525298],\n",
       "       [0.38978225, 0.09852532, 0.3471304 , 0.16456204],\n",
       "       [0.43624907, 0.49157219, 0.04176657, 0.03041217],\n",
       "       [0.164042  , 0.04568164, 0.44429255, 0.34598382],\n",
       "       [0.08496857, 0.06211449, 0.51338122, 0.33953573],\n",
       "       [0.52349418, 0.37463245, 0.02761374, 0.07425962],\n",
       "       [0.45356185, 0.42967727, 0.04372393, 0.07303696],\n",
       "       [0.41123332, 0.36595818, 0.04235928, 0.18044921],\n",
       "       [0.66010162, 0.23335277, 0.03929823, 0.06724738],\n",
       "       [0.2466499 , 0.17257004, 0.26176522, 0.31901484],\n",
       "       [0.33905797, 0.25946182, 0.17259839, 0.22888182],\n",
       "       [0.51010418, 0.37364966, 0.0618512 , 0.05439496],\n",
       "       [0.26309494, 0.27552765, 0.20077789, 0.26059952],\n",
       "       [0.70764963, 0.1030831 , 0.10637999, 0.08288728],\n",
       "       [0.31822319, 0.36962841, 0.13765356, 0.17449483],\n",
       "       [0.52606029, 0.25705995, 0.10061836, 0.1162614 ],\n",
       "       [0.34524376, 0.44608069, 0.03474203, 0.17393352],\n",
       "       [0.10565627, 0.07246837, 0.48525299, 0.33662236],\n",
       "       [0.52040457, 0.17293992, 0.19239676, 0.11425875],\n",
       "       [0.46754426, 0.39859991, 0.04655683, 0.087299  ],\n",
       "       [0.10644938, 0.0525896 , 0.66608643, 0.17487459],\n",
       "       [0.18811152, 0.10120863, 0.42869012, 0.28198972],\n",
       "       [0.37022052, 0.34179178, 0.12678438, 0.16120333],\n",
       "       [0.10885794, 0.10892466, 0.45736436, 0.32485304],\n",
       "       [0.23486972, 0.12162079, 0.38827226, 0.25523724],\n",
       "       [0.44371878, 0.44433454, 0.04292811, 0.06901857],\n",
       "       [0.07447088, 0.03692868, 0.73402334, 0.1545771 ],\n",
       "       [0.12645591, 0.16244675, 0.35554867, 0.35554867],\n",
       "       [0.25122265, 0.25659953, 0.24608891, 0.24608891],\n",
       "       [0.1358123 , 0.0567727 , 0.64843909, 0.15897592],\n",
       "       [0.24184288, 0.14314008, 0.3733168 , 0.24170024],\n",
       "       [0.13653784, 0.13438503, 0.26210331, 0.46697382],\n",
       "       [0.36651879, 0.39669865, 0.08410715, 0.15267541],\n",
       "       [0.03976856, 0.06673835, 0.46437631, 0.42911677],\n",
       "       [0.08256984, 0.06375506, 0.43932356, 0.41435154],\n",
       "       [0.06387658, 0.15232008, 0.43881042, 0.34499292],\n",
       "       [0.29367185, 0.15032562, 0.40900693, 0.1469956 ],\n",
       "       [0.14536501, 0.11533553, 0.33118935, 0.40811011],\n",
       "       [0.37137205, 0.41263079, 0.07439842, 0.14159873],\n",
       "       [0.17478121, 0.0562701 , 0.57454665, 0.19440205],\n",
       "       [0.38902685, 0.38682531, 0.10433641, 0.11981143],\n",
       "       [0.34573942, 0.46983264, 0.02769167, 0.15673628],\n",
       "       [0.37991041, 0.08996449, 0.31673009, 0.213395  ],\n",
       "       [0.44066194, 0.46868701, 0.02018812, 0.07046293],\n",
       "       [0.65829404, 0.12057439, 0.12827723, 0.09285433],\n",
       "       [0.64719566, 0.25879188, 0.03684314, 0.05716933],\n",
       "       [0.10490992, 0.05046747, 0.54897107, 0.29565153],\n",
       "       [0.32621848, 0.19482516, 0.22098486, 0.2579715 ],\n",
       "       [0.38915168, 0.55105889, 0.01304146, 0.04674797],\n",
       "       [0.08496751, 0.06013096, 0.64731313, 0.2075884 ],\n",
       "       [0.09155237, 0.06303017, 0.48316555, 0.36225191],\n",
       "       [0.4588378 , 0.46934886, 0.02220011, 0.04961322],\n",
       "       [0.1495962 , 0.08483539, 0.52461049, 0.24095791],\n",
       "       [0.31208298, 0.10942021, 0.27458049, 0.30391633],\n",
       "       [0.42523692, 0.19471233, 0.23517989, 0.14487085],\n",
       "       [0.38777993, 0.43037316, 0.0465691 , 0.13527781],\n",
       "       [0.26375184, 0.25751952, 0.24512031, 0.23360833],\n",
       "       [0.09440995, 0.03516589, 0.72794595, 0.14247821],\n",
       "       [0.46682047, 0.42800294, 0.02814515, 0.07703144],\n",
       "       [0.37926324, 0.43669522, 0.07425526, 0.10978628],\n",
       "       [0.46288406, 0.20070275, 0.20060959, 0.1358036 ],\n",
       "       [0.24525752, 0.53286774, 0.10531905, 0.11655568],\n",
       "       [0.16845929, 0.11925929, 0.39673173, 0.31554969],\n",
       "       [0.62449853, 0.28003042, 0.04165663, 0.05381442],\n",
       "       [0.06347537, 0.05710756, 0.52762627, 0.3517908 ],\n",
       "       [0.44143065, 0.45324409, 0.02450306, 0.0808222 ],\n",
       "       [0.12550746, 0.08720199, 0.48887911, 0.29841144],\n",
       "       [0.46048152, 0.31663666, 0.06502648, 0.15785534],\n",
       "       [0.25443912, 0.23668263, 0.25443912, 0.25443912],\n",
       "       [0.31217035, 0.1192627 , 0.35462257, 0.21394437],\n",
       "       [0.08758253, 0.06184875, 0.56563708, 0.28493164],\n",
       "       [0.63124329, 0.24839251, 0.02880347, 0.09156072],\n",
       "       [0.54022816, 0.27954937, 0.07182883, 0.10839364],\n",
       "       [0.62317223, 0.1740008 , 0.09756668, 0.10526028],\n",
       "       [0.03688506, 0.02966746, 0.38478684, 0.54866065],\n",
       "       [0.08579744, 0.07753622, 0.26788504, 0.56878129],\n",
       "       [0.25748142, 0.3618931 , 0.0531338 , 0.32749167],\n",
       "       [0.38779489, 0.46003545, 0.02350654, 0.12866311]])"
      ]
     },
     "execution_count": 35,
     "metadata": {},
     "output_type": "execute_result"
    }
   ],
   "source": [
    "soft_pi_mce"
   ]
  },
  {
   "cell_type": "code",
   "execution_count": 200,
   "metadata": {},
   "outputs": [
    {
     "name": "stderr",
     "output_type": "stream",
     "text": [
      "/var/folders/14/zdcxt99s1kv_hw67vpgm8f640000gn/T/ipykernel_56385/2891833500.py:6: MatplotlibDeprecationWarning: normalize=None does not normalize if the sum is less than 1 but this behavior is deprecated since 3.3 until two minor releases later. After the deprecation period the default value will be normalize=True. To prevent normalization pass normalize=False \n",
      "  ax.pie(soft_pi_mce[i], labels=labels, autopct='%1.1f%%', textprops={'fontsize': 17})\n"
     ]
    },
    {
     "data": {
      "text/plain": [
       "Text(0.5, 0.98, 'MCE Policy')"
      ]
     },
     "execution_count": 200,
     "metadata": {},
     "output_type": "execute_result"
    },
    {
     "data": {
      "image/png": "[encoded data removed]",
      "text/plain": [
       "<Figure size 2304x1152 with 10 Axes>"
      ]
     },
     "metadata": {},
     "output_type": "display_data"
    }
   ],
   "source": [
    "fig, axes = plt.subplots(nrows=2, ncols=5, figsize=(32, 16))\n",
    "\n",
    "labels = ['No action', 'Vaso', 'Bolus', 'Vaso + Bolus']\n",
    "\n",
    "for i, ax in enumerate(axes.flatten()):\n",
    "    ax.pie(soft_pi_mce[i], labels=labels, autopct='%1.1f%%', textprops={'fontsize': 17})\n",
    "    ax.set_title('Cluster ' + str(i+ 1), fontsize=25)\n",
    "\n",
    "fig.suptitle(\"MCE Policy\", fontsize=50)"
   ]
  },
  {
   "cell_type": "code",
   "execution_count": 413,
   "metadata": {
    "id": "qAPqpvDlPKFk"
   },
   "outputs": [],
   "source": [
    "policy_mce = np.argmax(Q, axis = 0).reshape(-1, )"
   ]
  },
  {
   "cell_type": "code",
   "execution_count": 414,
   "metadata": {
    "colab": {
     "base_uri": "https://localhost:8080/"
    },
    "id": "2kEhFD2VW_0n",
    "outputId": "33418b19-fe59-4961-829b-3ea0e5e1833b"
   },
   "outputs": [
    {
     "data": {
      "text/plain": [
       "array([2, 2, 3, 0, 2, 1, 0, 2, 2, 2, 0, 2, 0, 2, 2, 2, 0, 3, 2, 1, 0, 3,\n",
       "       1, 0, 1, 2, 2, 0, 0, 0, 0, 3, 0, 0, 1, 0, 1, 0, 1, 2, 0, 0, 2, 2,\n",
       "       0, 2, 2, 1, 2, 2, 1, 2, 2, 3, 1, 2, 2, 2, 2, 3, 1, 2, 0, 1, 0, 1,\n",
       "       0, 0, 2, 0, 1, 2, 2, 1, 2, 0, 0, 1, 0, 2, 0, 1, 0, 1, 2, 0, 2, 1,\n",
       "       2, 0, 0, 2, 2, 0, 0, 0, 3, 3, 1, 1])"
      ]
     },
     "execution_count": 414,
     "metadata": {},
     "output_type": "execute_result"
    }
   ],
   "source": [
    "policy_mce"
   ]
  },
  {
   "cell_type": "markdown",
   "metadata": {},
   "source": [
    "# adding policy actions to bigass plot"
   ]
  },
  {
   "cell_type": "code",
   "execution_count": 415,
   "metadata": {},
   "outputs": [
    {
     "name": "stdout",
     "output_type": "stream",
     "text": [
      "[0, 0, 0, 0, 0, 0, 0, 1, 0, 1]\n",
      "[0, 1, 0, 1, 1, 2, 2, 2, 1, 0]\n"
     ]
    }
   ],
   "source": [
    "bc_action = []\n",
    "for i in color_matrix_x_labels:\n",
    "    bc_action.append(bc_policy[i])\n",
    "\n",
    "print(bc_action)\n",
    "\n",
    "mce_action = []\n",
    "for i in color_matrix_x_labels:\n",
    "    mce_action.append(policy_mce[i])\n",
    "\n",
    "print(mce_action)"
   ]
  },
  {
   "cell_type": "code",
   "execution_count": 420,
   "metadata": {},
   "outputs": [],
   "source": [
    "color_matrix = color_matrix.tolist()"
   ]
  },
  {
   "cell_type": "code",
   "execution_count": 421,
   "metadata": {},
   "outputs": [],
   "source": [
    "color_matrix.append(bc_action)\n",
    "color_matrix.append(mce_action)"
   ]
  },
  {
   "cell_type": "code",
   "execution_count": 422,
   "metadata": {},
   "outputs": [
    {
     "data": {
      "text/plain": [
       "16"
      ]
     },
     "execution_count": 422,
     "metadata": {},
     "output_type": "execute_result"
    }
   ],
   "source": [
    "len(color_matrix)"
   ]
  },
  {
   "cell_type": "code",
   "execution_count": 423,
   "metadata": {},
   "outputs": [],
   "source": [
    "color_matrix_y_labels.append('bc_action')\n",
    "color_matrix_y_labels.append('mce_action')"
   ]
  },
  {
   "cell_type": "code",
   "execution_count": 424,
   "metadata": {},
   "outputs": [
    {
     "data": {
      "text/plain": [
       "['creatinine',\n",
       " 'fraction_inspired_oxygen',\n",
       " 'lactate',\n",
       " 'urine_output',\n",
       " 'alanine_aminotransferase',\n",
       " 'asparate_aminotransferase',\n",
       " 'mean_blood_pressure',\n",
       " 'diastolic_blood_pressure',\n",
       " 'systolic_blood_pressure',\n",
       " 'gcs',\n",
       " 'partial_pressure_of_oxygen',\n",
       " 'heart_rate',\n",
       " 'temperature',\n",
       " 'respiratory_rate',\n",
       " 'bc_action',\n",
       " 'mce_action']"
      ]
     },
     "execution_count": 424,
     "metadata": {},
     "output_type": "execute_result"
    }
   ],
   "source": [
    "color_matrix_y_labels"
   ]
  },
  {
   "cell_type": "code",
   "execution_count": 425,
   "metadata": {},
   "outputs": [
    {
     "name": "stdout",
     "output_type": "stream",
     "text": [
      "['creatinine', 'fraction_inspired_oxygen', 'lactate', 'urine_output', 'alanine_aminotransferase', 'asparate_aminotransferase', 'mean_blood_pressure', 'diastolic_blood_pressure', 'systolic_blood_pressure', 'gcs', 'partial_pressure_of_oxygen', 'heart_rate', 'temperature', 'respiratory_rate', 'bc_action', 'mce_action']\n"
     ]
    }
   ],
   "source": [
    "len(color_matrix_y_labels)\n",
    "print(color_matrix_y_labels)"
   ]
  },
  {
   "cell_type": "code",
   "execution_count": 426,
   "metadata": {},
   "outputs": [
    {
     "data": {
      "text/plain": [
       "[[1.4483086917562698,\n",
       "  1.5575204942378529,\n",
       "  1.5526671408250399,\n",
       "  1.4686961206896556,\n",
       "  1.5458614653663452,\n",
       "  2.3323232323232324,\n",
       "  2.231666666666666,\n",
       "  1.7024999999999997,\n",
       "  1.6111111111111116,\n",
       "  3.4],\n",
       " [0.4867480585424222,\n",
       "  0.4907413567779646,\n",
       "  0.49231191718035333,\n",
       "  0.49897529533845264,\n",
       "  0.4888426273235139,\n",
       "  0.6172222222222219,\n",
       "  0.6966666666666665,\n",
       "  0.5289999999999996,\n",
       "  0.48055555555555557,\n",
       "  0.375],\n",
       " [1.878915770609301,\n",
       "  2.050729080036423,\n",
       "  1.8441935356408885,\n",
       "  1.9591056034482628,\n",
       "  2.0313453363340903,\n",
       "  8.227861952861955,\n",
       "  7.867916666666672,\n",
       "  3.190000000000003,\n",
       "  2.288888888888889,\n",
       "  5.300000000000001],\n",
       " [111.10105846774194,\n",
       "  103.91063720248704,\n",
       "  111.11039987355777,\n",
       "  108.10428639846745,\n",
       "  100.21892973243312,\n",
       "  46.34848484848485,\n",
       "  31.433333333333334,\n",
       "  106.72,\n",
       "  66.44444444444444,\n",
       "  37.5],\n",
       " [155.24137544802866,\n",
       "  137.7306641321136,\n",
       "  156.47700331910858,\n",
       "  115.4673132183908,\n",
       "  107.77256814203551,\n",
       "  767.8838383838383,\n",
       "  376.10833333333335,\n",
       "  443.86,\n",
       "  677.2222222222222,\n",
       "  105.5],\n",
       " [266.46998207885304,\n",
       "  256.1921706071047,\n",
       "  277.45797771455665,\n",
       "  182.7777179118774,\n",
       "  177.87134283570893,\n",
       "  1972.8484848484848,\n",
       "  976.8083333333333,\n",
       "  845.22,\n",
       "  1355.7222222222222,\n",
       "  140.5],\n",
       " [70.67786818328946,\n",
       "  69.46275568854787,\n",
       "  70.47549358865145,\n",
       "  68.86449400481787,\n",
       "  68.50542952886353,\n",
       "  40.626730676730695,\n",
       "  40.009027777777774,\n",
       "  77.771155484866,\n",
       "  79.625,\n",
       "  84.0],\n",
       " [52.9766179233899,\n",
       "  53.0996425400843,\n",
       "  53.19208360708779,\n",
       "  52.02256222120453,\n",
       "  51.89809428991727,\n",
       "  35.46655406882681,\n",
       "  35.860416666666666,\n",
       "  65.57422008547009,\n",
       "  62.31944444444444,\n",
       "  71.5],\n",
       " [111.79690507791655,\n",
       "  107.22691515796798,\n",
       "  112.06763710040453,\n",
       "  108.16470432986519,\n",
       "  107.6479578335449,\n",
       "  60.87235595493169,\n",
       "  69.05069444444443,\n",
       "  107.05154487179485,\n",
       "  123.15277777777777,\n",
       "  114.0],\n",
       " [14.838597670250897,\n",
       "  14.80242366638945,\n",
       "  14.820452030978347,\n",
       "  14.861230842911878,\n",
       "  14.848462115528882,\n",
       "  12.454545454545455,\n",
       "  14.183333333333334,\n",
       "  14.55,\n",
       "  14.333333333333334,\n",
       "  15.0],\n",
       " [133.6932123655914,\n",
       "  131.1060552057344,\n",
       "  123.89416390074285,\n",
       "  135.80487707535124,\n",
       "  127.10085854797033,\n",
       "  154.50589225589226,\n",
       "  127.8,\n",
       "  105.46333333333332,\n",
       "  145.61111111111111,\n",
       "  265.0],\n",
       " [75.4410697700736,\n",
       "  88.86057666747476,\n",
       "  74.42824840733137,\n",
       "  79.86527205899296,\n",
       "  80.94494792959941,\n",
       "  25.508345358345352,\n",
       "  1.4597222222222221,\n",
       "  179.82760164835162,\n",
       "  87.06944444444444,\n",
       "  115.0],\n",
       " [36.84409806335324,\n",
       "  36.91312516461683,\n",
       "  36.8884089023231,\n",
       "  36.854560669309755,\n",
       "  36.90217379471122,\n",
       "  36.00757575757574,\n",
       "  36.28009259259258,\n",
       "  37.29122222222222,\n",
       "  36.835802469135814,\n",
       "  38.349999999999994],\n",
       " [15.108369256865558,\n",
       "  15.230972583504336,\n",
       "  19.11965178363543,\n",
       "  15.93662998273323,\n",
       "  18.997202284739807,\n",
       "  12.366377830593514,\n",
       "  24.871464646464645,\n",
       "  24.018175990675992,\n",
       "  107.77777777777777,\n",
       "  261.0],\n",
       " [0, 0, 0, 0, 0, 0, 0, 1, 0, 1],\n",
       " [0, 1, 0, 1, 1, 2, 2, 2, 1, 0]]"
      ]
     },
     "execution_count": 426,
     "metadata": {},
     "output_type": "execute_result"
    }
   ],
   "source": [
    "normalized_color_matrix = color_matrix\n",
    "normalized_color_matrix"
   ]
  },
  {
   "cell_type": "code",
   "execution_count": 427,
   "metadata": {},
   "outputs": [],
   "source": [
    "for i in range(len(normalized_color_matrix)):\n",
    "    lst = normalized_color_matrix[i]\n",
    "    max_val = max(lst)\n",
    "    min_val = min(lst)\n",
    "    if color_matrix_y_labels[i] == 'bc_action' or color_matrix_y_labels[i] == 'mce_action':\n",
    "        max_val = 3\n",
    "        min_val = 0\n",
    "    dif = max_val - min_val\n",
    "    for j in range(len(lst)):\n",
    "        normalized_color_matrix[i][j] = normalized_color_matrix[i][j]-min_val\n",
    "        normalized_color_matrix[i][j] = normalized_color_matrix[i][j]/dif        "
   ]
  },
  {
   "cell_type": "code",
   "execution_count": 428,
   "metadata": {},
   "outputs": [
    {
     "data": {
      "text/plain": [
       "[[0.0,\n",
       "  0.05595751849705148,\n",
       "  0.053470776156030145,\n",
       "  0.01044603152520667,\n",
       "  0.049983710640111575,\n",
       "  0.4529479312804141,\n",
       "  0.4013739117459703,\n",
       "  0.13024155365659196,\n",
       "  0.08341607029102516,\n",
       "  1.0],\n",
       " [0.34740329080545773,\n",
       "  0.35981768946517506,\n",
       "  0.364700260664311,\n",
       "  0.3854154259226508,\n",
       "  0.3539149035964164,\n",
       "  0.7530224525043171,\n",
       "  1.0,\n",
       "  0.4787564766839367,\n",
       "  0.32815198618307445,\n",
       "  0.0],\n",
       " [0.005439229091965851,\n",
       "  0.03235373940137123,\n",
       "  0.0,\n",
       "  0.01800094558441958,\n",
       "  0.02931728098350581,\n",
       "  1.0,\n",
       "  0.943614664379455,\n",
       "  0.21082023319515864,\n",
       "  0.06966141161849147,\n",
       "  0.54135118532104],\n",
       " [0.999882759164946,\n",
       "  0.9096382060271261,\n",
       "  1.0,\n",
       "  0.9622712832484527,\n",
       "  0.8633048301844025,\n",
       "  0.18719503820615313,\n",
       "  0.0,\n",
       "  0.9448975713564793,\n",
       "  0.43941265198858676,\n",
       "  0.07614068803102773],\n",
       " [0.0750944883700567,\n",
       "  0.04865859078137193,\n",
       "  0.07695991412394397,\n",
       "  0.015047639511722112,\n",
       "  0.003430893102072641,\n",
       "  1.0,\n",
       "  0.4085370409906064,\n",
       "  0.5108216420641699,\n",
       "  0.8631282786385263,\n",
       "  0.0],\n",
       " [0.06874782996820028,\n",
       "  0.06313873783494364,\n",
       "  0.0747445034866725,\n",
       "  0.023072967976052496,\n",
       "  0.02039532498579228,\n",
       "  1.0,\n",
       "  0.4564133625501302,\n",
       "  0.38459933021871257,\n",
       "  0.663204751863949,\n",
       "  0.0],\n",
       " [0.6971621416000257,\n",
       "  0.6695402811736774,\n",
       "  0.6925617751062889,\n",
       "  0.6559406343937003,\n",
       "  0.6477784034218429,\n",
       "  0.014041583255595458,\n",
       "  0.0,\n",
       "  0.8584063001911225,\n",
       "  0.9005477765324325,\n",
       "  1.0],\n",
       " [0.4859391990432649,\n",
       "  0.4893533775520143,\n",
       "  0.49191880155226286,\n",
       "  0.4594622502660734,\n",
       "  0.4560080168984125,\n",
       "  0.0,\n",
       "  0.010930472722263804,\n",
       "  0.8355477873015911,\n",
       "  0.7452212710077419,\n",
       "  1.0],\n",
       " [0.8176654497915492,\n",
       "  0.7442878170428869,\n",
       "  0.82201243419795,\n",
       "  0.7593453446647247,\n",
       "  0.7510482509521907,\n",
       "  0.0,\n",
       "  0.13131475751361582,\n",
       "  0.7414719997918098,\n",
       "  1.0,\n",
       "  0.8530392455623945],\n",
       " [0.9365919418842807,\n",
       "  0.9223807260815694,\n",
       "  0.9294632978843504,\n",
       "  0.9454835454296664,\n",
       "  0.9404672596720608,\n",
       "  0.0,\n",
       "  0.6791666666666667,\n",
       "  0.823214285714286,\n",
       "  0.7380952380952382,\n",
       "  1.0],\n",
       " [0.17694915922520255,\n",
       "  0.16073246613569134,\n",
       "  0.11552723867497248,\n",
       "  0.19018539358988268,\n",
       "  0.13562728660895304,\n",
       "  0.30740619035890765,\n",
       "  0.14000961116566726,\n",
       "  0.0,\n",
       "  0.2516523543873579,\n",
       "  1.0],\n",
       " [0.41476833040721633,\n",
       "  0.4900033275410967,\n",
       "  0.4090900582541761,\n",
       "  0.4395721364688993,\n",
       "  0.4456252211054389,\n",
       "  0.13482597434860913,\n",
       "  0.0,\n",
       "  1.0,\n",
       "  0.4799615407082151,\n",
       "  0.6365511444273249],\n",
       " [0.3571181900473162,\n",
       "  0.38658642215208117,\n",
       "  0.37603484833975165,\n",
       "  0.36158476180106647,\n",
       "  0.38191119308500215,\n",
       "  0.0,\n",
       "  0.11633965789852277,\n",
       "  0.547999137559296,\n",
       "  0.35357673326626615,\n",
       "  1.0],\n",
       " [0.011028240679387232,\n",
       "  0.011521349075464262,\n",
       "  0.02716154755787845,\n",
       "  0.014359490566835425,\n",
       "  0.02666905785424459,\n",
       "  0.0,\n",
       "  0.05029523644775119,\n",
       "  0.04686332467192843,\n",
       "  0.3837429512335854,\n",
       "  1.0],\n",
       " [0.0,\n",
       "  0.0,\n",
       "  0.0,\n",
       "  0.0,\n",
       "  0.0,\n",
       "  0.0,\n",
       "  0.0,\n",
       "  0.3333333333333333,\n",
       "  0.0,\n",
       "  0.3333333333333333],\n",
       " [0.0,\n",
       "  0.3333333333333333,\n",
       "  0.0,\n",
       "  0.3333333333333333,\n",
       "  0.3333333333333333,\n",
       "  0.6666666666666666,\n",
       "  0.6666666666666666,\n",
       "  0.6666666666666666,\n",
       "  0.3333333333333333,\n",
       "  0.0]]"
      ]
     },
     "execution_count": 428,
     "metadata": {},
     "output_type": "execute_result"
    }
   ],
   "source": [
    "normalized_color_matrix"
   ]
  },
  {
   "cell_type": "code",
   "execution_count": 429,
   "metadata": {
    "id": "CVJDuv8RIMqh"
   },
   "outputs": [
    {
     "data": {
      "image/png": "[encoded data removed]",
      "text/plain": [
       "<Figure size 2304x1440 with 2 Axes>"
      ]
     },
     "metadata": {
      "needs_background": "light"
     },
     "output_type": "display_data"
    }
   ],
   "source": [
    "fig, ax = plt.subplots(figsize=(32,20))\n",
    "im = ax.imshow(color_matrix, cmap='inferno')\n",
    "ax.set_title(\"Top and Bottom 5 States\", fontsize = 28)\n",
    "ax.set_yticks(np.arange(0, 16, 1))\n",
    "ax.set_yticklabels(color_matrix_y_labels, fontsize = 15)\n",
    "ax.set_xticks(np.arange(0, 10, 1))\n",
    "ax.set_xticklabels(color_matrix_x_labels, fontsize = 15)\n",
    "ax.set_ylabel('Features', fontsize = 20)\n",
    "ax.set_xlabel('Clusters', fontsize = 20)\n",
    "colorbar = fig.colorbar(im, fraction=0.046, pad=0.04)\n",
    "colorbar.set_label(label = \"Normalized Values\", fontsize = 15)"
   ]
  },
  {
   "cell_type": "code",
   "execution_count": null,
   "metadata": {},
   "outputs": [],
   "source": []
  }
 ],
 "metadata": {
  "colab": {
   "provenance": []
  },
  "kernelspec": {
   "display_name": "Python 3 (ipykernel)",
   "language": "python",
   "name": "python3"
  },
  "language_info": {
   "codemirror_mode": {
    "name": "ipython",
    "version": 3
   },
   "file_extension": ".py",
   "mimetype": "text/x-python",
   "name": "python",
   "nbconvert_exporter": "python",
   "pygments_lexer": "ipython3",
   "version": "3.9.7"
  }
 },
 "nbformat": 4,
 "nbformat_minor": 1
}
